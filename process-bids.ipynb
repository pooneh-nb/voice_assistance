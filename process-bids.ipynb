{
 "cells": [
  {
   "cell_type": "code",
   "execution_count": 1,
   "id": "a0c91801",
   "metadata": {},
   "outputs": [],
   "source": [
    "import utilities\n",
    "import os\n",
    "import json\n",
    "import statistics\n",
    "from prettytable import PrettyTable\n",
    "from prettytable import ALL as ALL\n",
    "# from scipy.stats import ttest_ind as ttest"
   ]
  },
  {
   "cell_type": "code",
   "execution_count": 58,
   "id": "32a7bdb0",
   "metadata": {},
   "outputs": [],
   "source": [
    "DATA_DIR = '/Users/umariqbal/Documents/voice-assistant-central/data' \n",
    "\n",
    "# CONTROL_PATH = os.path.join(DATA_DIR, 'control_persona/website_bids/')\n",
    "# TEST_PATH = os.path.join(DATA_DIR, 'healthfitness_persona/website_bids/')\n",
    "\n",
    "CONTROL_PATH = os.path.join(DATA_DIR, 'no-amazon/')\n",
    "TEST_PATH = os.path.join(DATA_DIR, 'amazon-plain/')\n",
    "\n",
    "no_amazon = '/Users/umariqbal/Documents/voice-assistant-central/data/no-amazon/'\n",
    "amazon = '/Users/umariqbal/Documents/voice-assistant-central/data/amazon-plain/'\n",
    "CONTROL_PATH = '/Users/umariqbal/Documents/voice-assistant-central/data/amazon-echo/'\n",
    "CONTROL_PATH = '/Users/umariqbal/Documents/voice-assistant-central/data/health-fitness-new/'\n",
    "TEST_PATH = '/Users/umariqbal/Documents/voice-assistant-central/data/smart-home/'"
   ]
  },
  {
   "cell_type": "code",
   "execution_count": 27,
   "id": "c28c86ff",
   "metadata": {},
   "outputs": [],
   "source": [
    "common_websites = set(get_websites_with_bids(utilities.get_files_in_a_directory(no_amazon))).intersection(set(get_websites_with_bids(utilities.get_files_in_a_directory(amazon))))\\\n",
    ".intersection(set(get_websites_with_bids(utilities.get_files_in_a_directory(amazon_echo)))).intersection(set(get_websites_with_bids(utilities.get_files_in_a_directory(health_fitness))))\\\n",
    ".intersection(set(get_websites_with_bids(utilities.get_files_in_a_directory(smart_home))))"
   ]
  },
  {
   "cell_type": "code",
   "execution_count": 3,
   "id": "a3934943",
   "metadata": {},
   "outputs": [],
   "source": [
    "PERSONA = 'amazon-account'"
   ]
  },
  {
   "cell_type": "markdown",
   "id": "e7728bc5",
   "metadata": {},
   "source": [
    "### Reading bids for personas"
   ]
  },
  {
   "cell_type": "code",
   "execution_count": 59,
   "id": "dde0fb0b",
   "metadata": {},
   "outputs": [],
   "source": [
    "control_bid_files = utilities.get_files_in_a_directory(CONTROL_PATH)\n",
    "test_bid_files = utilities.get_files_in_a_directory(TEST_PATH)"
   ]
  },
  {
   "cell_type": "code",
   "execution_count": 5,
   "id": "91207adf",
   "metadata": {},
   "outputs": [],
   "source": [
    "def get_forced_noraml_websites_with_bids(bid_files):\n",
    "    forced_count = 0\n",
    "    normal_count = 0\n",
    "    for bid_file in bid_files:\n",
    "        if 'FORCED' in bid_file:\n",
    "            forced_count += 1\n",
    "        else:\n",
    "            normal_count += 1\n",
    "\n",
    "    return normal_count, forced_count\n",
    "\n",
    "\n",
    "def get_websites_with_bids(bid_files):\n",
    "    websites_with_bids = []\n",
    "    for bid_file in bid_files:\n",
    "        websites_with_bids.append(bid_file.rsplit('/', 1)[1].rsplit('_', 1)[1])\n",
    "\n",
    "    return websites_with_bids\n",
    "\n",
    "\n",
    "def return_bid_cpms(bid_files):\n",
    "    bid_cpms = []\n",
    "    for bid_file in bid_files:\n",
    "        all_bids = utilities.read_file(bid_file)\n",
    "\n",
    "        for bid in all_bids:\n",
    "            bid_json = json.loads(bid)\n",
    "            bid_cpms.append(bid_json['cpm'])\n",
    "    \n",
    "    return bid_cpms\n",
    "\n",
    "\n",
    "def return_bid_cpms_for_websites(bid_files, websites):\n",
    "    bid_cpms = []\n",
    "    for bid_file in bid_files:\n",
    "\n",
    "        bid_website = bid_file.rsplit('/', 1)[1].rsplit('_', 1)[1]\n",
    "        if bid_website not in websites:\n",
    "            continue\n",
    "            \n",
    "        all_bids = utilities.read_file(bid_file)\n",
    "\n",
    "        for bid in all_bids:\n",
    "            bid_json = json.loads(bid)\n",
    "            bid_cpms.append(bid_json['cpm'])\n",
    "    \n",
    "    return bid_cpms\n",
    "\n",
    "\n",
    "def return_median_cpms(bid_files):\n",
    "    bid_cpms = []\n",
    "    for bid_file in bid_files:\n",
    "        all_bids = utilities.read_file(bid_file)\n",
    "        \n",
    "        current_bid_cpms = []\n",
    "        for bid in all_bids:\n",
    "            bid_json = json.loads(bid)\n",
    "            current_bid_cpms.append(bid_json['cpm'])\n",
    "            \n",
    "        bid_cpms.append(statistics.median(current_bid_cpms))\n",
    "    \n",
    "    return bid_cpms\n",
    "\n",
    "\n",
    "def return_median_cpms_with_websites(bid_files, websites):\n",
    "    bid_cpms = []\n",
    "    for bid_file in bid_files:\n",
    "        all_bids = utilities.read_file(bid_file)\n",
    "        \n",
    "        bid_website = bid_file.rsplit('/', 1)[1].rsplit('_', 1)[1]\n",
    "        if bid_website not in websites:\n",
    "            continue\n",
    "            \n",
    "        current_bid_cpms = []\n",
    "        for bid in all_bids:\n",
    "            bid_json = json.loads(bid)\n",
    "            current_bid_cpms.append(bid_json['cpm'])\n",
    "            \n",
    "        bid_cpms.append(statistics.median(current_bid_cpms))\n",
    "    \n",
    "    return bid_cpms"
   ]
  },
  {
   "cell_type": "code",
   "execution_count": 6,
   "id": "1570b893",
   "metadata": {},
   "outputs": [],
   "source": [
    "def print_bid_statistics(control_cpms, test_cpms, persona, control_normal, control_forced,\n",
    "                         test_normal, test_forced, control_websites, test_websites, \n",
    "                         common_websites, count_limit = 20):\n",
    "    control_median = statistics.median(control_cpms)\n",
    "    test_median = statistics.median(test_cpms)\n",
    "    \n",
    "    control_mean = \"{0:0.3f}\".format(statistics.mean(control_cpms))\n",
    "    test_mean = \"{0:0.3f}\".format(statistics.mean(test_cpms))\n",
    "    \n",
    "    control_min = min(control_cpms)\n",
    "    control_max = \"{0:0.3f}\".format(max(control_cpms))\n",
    "    \n",
    "    test_min = min(test_cpms)\n",
    "    test_max = \"{0:0.3f}\".format(max(test_cpms))\n",
    "    \n",
    "    control_total_bids = len(control_cpms)\n",
    "    test_total_bids = len(test_cpms)\n",
    "    \n",
    "    control_total_websites = len(control_websites)\n",
    "    test_total_websites = len(test_websites)\n",
    "    \n",
    "    control_sd = \"{0:0.3f}\".format(statistics.stdev(control_cpms))\n",
    "    test_sd = \"{0:0.3f}\".format(statistics.stdev(test_cpms))\n",
    "    \n",
    "    common_websites_len = len(common_websites)\n",
    "    \n",
    "    table = PrettyTable(['Measure', 'Control', persona], hrules=ALL)\n",
    "    \n",
    "    \n",
    "    table.add_row(['# of websites', control_total_websites, test_total_websites])\n",
    "    table.add_row(['# of bids', control_total_bids, test_total_bids])\n",
    "    table.add_row(['Common websites', common_websites_len, common_websites_len])\n",
    "    table.add_row(['Normal/Forced', str(control_normal) + '/'+ str(control_forced), str(test_normal) + '/'+ str(test_forced)])\n",
    "    \n",
    "    table.add_row(['Median', control_median, test_median])\n",
    "    table.add_row(['Mean', control_mean, test_mean])\n",
    "    table.add_row(['SD', control_sd, test_sd])\n",
    "    table.add_row(['Min', control_min, test_min])\n",
    "    table.add_row(['Max', control_max, test_max])\n",
    "    \n",
    "    print(table)"
   ]
  },
  {
   "cell_type": "markdown",
   "id": "8fbc9ff2",
   "metadata": {},
   "source": [
    "### Get websites with bids"
   ]
  },
  {
   "cell_type": "code",
   "execution_count": 60,
   "id": "e8c36146",
   "metadata": {},
   "outputs": [],
   "source": [
    "control_websites = get_websites_with_bids(control_bid_files)\n",
    "test_websites = get_websites_with_bids(test_bid_files)"
   ]
  },
  {
   "cell_type": "code",
   "execution_count": 7,
   "id": "4adfaf4d",
   "metadata": {},
   "outputs": [],
   "source": [
    "common_websites = set(control_websites).intersection(set(test_websites))"
   ]
  },
  {
   "cell_type": "code",
   "execution_count": 61,
   "id": "66ab7923",
   "metadata": {},
   "outputs": [],
   "source": [
    "control_normal_count, control_forced_count = get_forced_noraml_websites_with_bids(control_bid_files)\n",
    "test_normal_count, test_forced_count = get_forced_noraml_websites_with_bids(test_bid_files)"
   ]
  },
  {
   "cell_type": "code",
   "execution_count": 62,
   "id": "f462417c",
   "metadata": {},
   "outputs": [
    {
     "data": {
      "text/plain": [
       "(26, 7, 23, 7)"
      ]
     },
     "execution_count": 62,
     "metadata": {},
     "output_type": "execute_result"
    }
   ],
   "source": [
    "control_normal_count, control_forced_count, test_normal_count, test_forced_count"
   ]
  },
  {
   "cell_type": "markdown",
   "id": "d822d43f",
   "metadata": {},
   "source": [
    "### Consider all websites and all bids"
   ]
  },
  {
   "cell_type": "code",
   "execution_count": 63,
   "id": "c5497474",
   "metadata": {},
   "outputs": [],
   "source": [
    "control_cpms = return_bid_cpms(control_bid_files)\n",
    "test_cpms = return_bid_cpms(test_bid_files)"
   ]
  },
  {
   "cell_type": "code",
   "execution_count": 64,
   "id": "a1fbc2f5",
   "metadata": {},
   "outputs": [
    {
     "name": "stdout",
     "output_type": "stream",
     "text": [
      "+-----------------+---------+----------------+\n",
      "|     Measure     | Control | amazon-account |\n",
      "+-----------------+---------+----------------+\n",
      "|  # of websites  |    33   |       30       |\n",
      "+-----------------+---------+----------------+\n",
      "|    # of bids    |   136   |      111       |\n",
      "+-----------------+---------+----------------+\n",
      "| Common websites |    14   |       14       |\n",
      "+-----------------+---------+----------------+\n",
      "|  Normal/Forced  |   26/7  |      23/7      |\n",
      "+-----------------+---------+----------------+\n",
      "|      Median     |  0.095  |      0.12      |\n",
      "+-----------------+---------+----------------+\n",
      "|       Mean      |  0.460  |     0.422      |\n",
      "+-----------------+---------+----------------+\n",
      "|        SD       |  1.004  |     0.942      |\n",
      "+-----------------+---------+----------------+\n",
      "|       Min       |    0    |       0        |\n",
      "+-----------------+---------+----------------+\n",
      "|       Max       |  5.480  |     5.480      |\n",
      "+-----------------+---------+----------------+\n"
     ]
    }
   ],
   "source": [
    "print_bid_statistics(control_cpms, test_cpms, PERSONA,\n",
    "                     control_normal_count, control_forced_count, test_normal_count, test_forced_count,\n",
    "                     control_websites, test_websites, common_websites)"
   ]
  },
  {
   "cell_type": "markdown",
   "id": "9c127f2b",
   "metadata": {},
   "source": [
    "### Consider bids on websites where bids returned for both personas"
   ]
  },
  {
   "cell_type": "code",
   "execution_count": 65,
   "id": "83fd012b",
   "metadata": {},
   "outputs": [],
   "source": [
    "common_control_cpms = return_bid_cpms_for_websites(control_bid_files, common_websites)\n",
    "common_test_cpms = return_bid_cpms_for_websites(test_bid_files, common_websites)"
   ]
  },
  {
   "cell_type": "code",
   "execution_count": null,
   "id": "34859a7c",
   "metadata": {},
   "outputs": [],
   "source": [
    "\n",
    "ttest(common_control_cpms, common_test_cpms)"
   ]
  },
  {
   "cell_type": "code",
   "execution_count": null,
   "id": "76f81da1",
   "metadata": {},
   "outputs": [],
   "source": [
    "# control_cpms, test_cpms"
   ]
  },
  {
   "cell_type": "code",
   "execution_count": 66,
   "id": "0763b8bf",
   "metadata": {
    "scrolled": false
   },
   "outputs": [
    {
     "name": "stdout",
     "output_type": "stream",
     "text": [
      "+-----------------+---------+----------------+\n",
      "|     Measure     | Control | amazon-account |\n",
      "+-----------------+---------+----------------+\n",
      "|  # of websites  |    33   |       30       |\n",
      "+-----------------+---------+----------------+\n",
      "|    # of bids    |    52   |       46       |\n",
      "+-----------------+---------+----------------+\n",
      "| Common websites |    14   |       14       |\n",
      "+-----------------+---------+----------------+\n",
      "|  Normal/Forced  |   26/7  |      23/7      |\n",
      "+-----------------+---------+----------------+\n",
      "|      Median     |   0.12  |   0.1738925    |\n",
      "+-----------------+---------+----------------+\n",
      "|       Mean      |  0.342  |     0.379      |\n",
      "+-----------------+---------+----------------+\n",
      "|        SD       |  0.527  |     0.473      |\n",
      "+-----------------+---------+----------------+\n",
      "|       Min       |   0.01  |      0.01      |\n",
      "+-----------------+---------+----------------+\n",
      "|       Max       |  2.710  |     2.240      |\n",
      "+-----------------+---------+----------------+\n"
     ]
    }
   ],
   "source": [
    "print_bid_statistics(common_control_cpms, common_test_cpms, PERSONA, \n",
    "                     control_normal_count, control_forced_count, test_normal_count, test_forced_count,\n",
    "                     control_websites, test_websites, common_websites)"
   ]
  },
  {
   "cell_type": "markdown",
   "id": "832b4909",
   "metadata": {},
   "source": [
    "### Consider medain bids on websites "
   ]
  },
  {
   "cell_type": "code",
   "execution_count": 67,
   "id": "4e58141f",
   "metadata": {},
   "outputs": [],
   "source": [
    "median_control_cpms = return_median_cpms(control_bid_files)\n",
    "median_test_cpms = return_median_cpms(test_bid_files)"
   ]
  },
  {
   "cell_type": "code",
   "execution_count": 68,
   "id": "0a14b8f5",
   "metadata": {},
   "outputs": [
    {
     "name": "stdout",
     "output_type": "stream",
     "text": [
      "+-----------------+---------+----------------+\n",
      "|     Measure     | Control | amazon-account |\n",
      "+-----------------+---------+----------------+\n",
      "|  # of websites  |    33   |       30       |\n",
      "+-----------------+---------+----------------+\n",
      "|    # of bids    |    33   |       30       |\n",
      "+-----------------+---------+----------------+\n",
      "| Common websites |    14   |       14       |\n",
      "+-----------------+---------+----------------+\n",
      "|  Normal/Forced  |   26/7  |      23/7      |\n",
      "+-----------------+---------+----------------+\n",
      "|      Median     |   0.11  |     0.1225     |\n",
      "+-----------------+---------+----------------+\n",
      "|       Mean      |  0.452  |     0.546      |\n",
      "+-----------------+---------+----------------+\n",
      "|        SD       |  1.021  |     1.099      |\n",
      "+-----------------+---------+----------------+\n",
      "|       Min       |   0.0   |       0        |\n",
      "+-----------------+---------+----------------+\n",
      "|       Max       |  5.480  |     5.480      |\n",
      "+-----------------+---------+----------------+\n"
     ]
    }
   ],
   "source": [
    "print_bid_statistics(median_control_cpms, median_test_cpms, PERSONA, \n",
    "                     control_normal_count, control_forced_count, test_normal_count, test_forced_count, \n",
    "                     control_websites, test_websites, common_websites)"
   ]
  },
  {
   "cell_type": "markdown",
   "id": "0a13e997",
   "metadata": {},
   "source": [
    "### Consider medain bids on websites where bids returned for both personas"
   ]
  },
  {
   "cell_type": "code",
   "execution_count": 69,
   "id": "c5adc579",
   "metadata": {},
   "outputs": [],
   "source": [
    "common_median_control_cpms = return_median_cpms_with_websites(control_bid_files, common_websites)\n",
    "common_median_test_cpms = return_median_cpms_with_websites(test_bid_files, common_websites)"
   ]
  },
  {
   "cell_type": "code",
   "execution_count": 70,
   "id": "d0da1e5e",
   "metadata": {},
   "outputs": [
    {
     "name": "stdout",
     "output_type": "stream",
     "text": [
      "+-----------------+---------+----------------+\n",
      "|     Measure     | Control | amazon-account |\n",
      "+-----------------+---------+----------------+\n",
      "|  # of websites  |    33   |       30       |\n",
      "+-----------------+---------+----------------+\n",
      "|    # of bids    |    14   |       14       |\n",
      "+-----------------+---------+----------------+\n",
      "| Common websites |    14   |       14       |\n",
      "+-----------------+---------+----------------+\n",
      "|  Normal/Forced  |   26/7  |      23/7      |\n",
      "+-----------------+---------+----------------+\n",
      "|      Median     |  0.195  |     0.184      |\n",
      "+-----------------+---------+----------------+\n",
      "|       Mean      |  0.335  |     0.514      |\n",
      "+-----------------+---------+----------------+\n",
      "|        SD       |  0.411  |     0.742      |\n",
      "+-----------------+---------+----------------+\n",
      "|       Min       |   0.04  |      0.01      |\n",
      "+-----------------+---------+----------------+\n",
      "|       Max       |  1.555  |     2.240      |\n",
      "+-----------------+---------+----------------+\n"
     ]
    }
   ],
   "source": [
    "print_bid_statistics(common_median_control_cpms, common_median_test_cpms, PERSONA, \n",
    "                     control_normal_count, control_forced_count, test_normal_count, test_forced_count,  \n",
    "                     control_websites, test_websites, common_websites)"
   ]
  },
  {
   "cell_type": "code",
   "execution_count": 28,
   "id": "fa89c554",
   "metadata": {},
   "outputs": [
    {
     "data": {
      "text/plain": [
       "{'accuweather.com',\n",
       " 'apnews.com',\n",
       " 'arstechnica.com',\n",
       " 'cnet.com',\n",
       " 'digg.com',\n",
       " 'espn.com',\n",
       " 'howstuffworks.com',\n",
       " 'investopedia.com',\n",
       " 'metropoles.com',\n",
       " 'theatlantic.com',\n",
       " 'theguardian.com',\n",
       " 'timeanddate.com',\n",
       " 'wired.com',\n",
       " 'zdnet.com'}"
      ]
     },
     "execution_count": 28,
     "metadata": {},
     "output_type": "execute_result"
    }
   ],
   "source": [
    "common_websites"
   ]
  },
  {
   "cell_type": "code",
   "execution_count": null,
   "id": "9b137ede",
   "metadata": {},
   "outputs": [],
   "source": [
    "for bid_file in test_bid_files:\n",
    "    all_bids = utilities.read_file(bid_file)\n",
    "\n",
    "    for bid in all_bids:\n",
    "        bid_json = json.loads(bid)\n",
    "        print(bid_json)\n",
    "        break\n",
    "    break"
   ]
  },
  {
   "cell_type": "code",
   "execution_count": null,
   "id": "ab9c0fb4",
   "metadata": {},
   "outputs": [],
   "source": []
  }
 ],
 "metadata": {
  "kernelspec": {
   "display_name": "Python 3 (ipykernel)",
   "language": "python",
   "name": "python3"
  },
  "language_info": {
   "codemirror_mode": {
    "name": "ipython",
    "version": 3
   },
   "file_extension": ".py",
   "mimetype": "text/x-python",
   "name": "python",
   "nbconvert_exporter": "python",
   "pygments_lexer": "ipython3",
   "version": "3.9.7"
  }
 },
 "nbformat": 4,
 "nbformat_minor": 5
}
