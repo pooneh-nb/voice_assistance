{
 "cells": [
  {
   "cell_type": "code",
   "execution_count": 1,
   "id": "aa78da0a",
   "metadata": {},
   "outputs": [],
   "source": [
    "import tarfile\n",
    "import utilities"
   ]
  },
  {
   "cell_type": "code",
   "execution_count": 2,
   "id": "6be98608",
   "metadata": {},
   "outputs": [],
   "source": [
    "PROFILES_DIR = '/Users/umariqbal/Documents/voice-assistant-central/data/nightly-profiles/'"
   ]
  },
  {
   "cell_type": "code",
   "execution_count": 3,
   "id": "9404c535",
   "metadata": {},
   "outputs": [],
   "source": [
    "profiles_raw = utilities.get_directories_in_a_directory(PROFILES_DIR)"
   ]
  },
  {
   "cell_type": "code",
   "execution_count": 4,
   "id": "5fd193fa",
   "metadata": {},
   "outputs": [],
   "source": [
    "profiles = []\n",
    "for profile in profiles_raw:\n",
    "    if '.' in profile:\n",
    "        profiles.append(profile)"
   ]
  },
  {
   "cell_type": "code",
   "execution_count": 5,
   "id": "8ac7e1f2",
   "metadata": {},
   "outputs": [],
   "source": [
    "for profile in profiles:\n",
    "    tar = tarfile.open(PROFILES_DIR + '/' + profile.split('.')[-1] + '.tar.gz', 'w:gz', errorlevel=1)\n",
    "    tar.add(profile, arcname='')\n",
    "    tar.close()"
   ]
  },
  {
   "cell_type": "code",
   "execution_count": null,
   "id": "99ac9fc2",
   "metadata": {},
   "outputs": [],
   "source": [
    "# tar = tarfile.open('/Users/umariqbal/Documents/voice-assistant-central/data/nightly-profiles/Programmed-Amazon-Only', \"w:gz\", errorlevel=1)\n",
    "# tar.add('/Users/umariqbal/Documents/voice-assistant-central/data/nightly-profiles/1rn6fx8r.Amazon-Only', arcname=\"\")    \n",
    "# tar.close()"
   ]
  }
 ],
 "metadata": {
  "kernelspec": {
   "display_name": "Python 3 (ipykernel)",
   "language": "python",
   "name": "python3"
  },
  "language_info": {
   "codemirror_mode": {
    "name": "ipython",
    "version": 3
   },
   "file_extension": ".py",
   "mimetype": "text/x-python",
   "name": "python",
   "nbconvert_exporter": "python",
   "pygments_lexer": "ipython3",
   "version": "3.9.9"
  }
 },
 "nbformat": 4,
 "nbformat_minor": 5
}
