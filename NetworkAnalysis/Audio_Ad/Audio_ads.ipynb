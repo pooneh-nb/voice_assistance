{
 "cells": [
  {
   "cell_type": "markdown",
   "id": "69d61688",
   "metadata": {},
   "source": [
    "# Audio Recorder"
   ]
  },
  {
   "cell_type": "code",
   "execution_count": 2,
   "id": "55d20278",
   "metadata": {},
   "outputs": [],
   "source": [
    "import pyaudio\n",
    "import math\n",
    "import struct\n",
    "import wave\n",
    "import time\n",
    "import os\n",
    "import subprocess"
   ]
  },
  {
   "cell_type": "markdown",
   "id": "d22086e8",
   "metadata": {},
   "source": [
    "## Select music app and persona"
   ]
  },
  {
   "cell_type": "code",
   "execution_count": 7,
   "id": "154fcecc",
   "metadata": {},
   "outputs": [],
   "source": [
    "# Personas = [\"ConnectedCar\", \"FashionStyle\", \"Plain\"]\n",
    "# musicApps = [\"Spotify\", \"Amazon\", \"Pandora\"]\n",
    "Persona = \"ConnectedCar\"\n",
    "music_app = \"Amazon\""
   ]
  },
  {
   "cell_type": "markdown",
   "id": "6a893f93",
   "metadata": {},
   "source": [
    "## Make directories"
   ]
  },
  {
   "cell_type": "code",
   "execution_count": 11,
   "id": "ed64e416",
   "metadata": {},
   "outputs": [],
   "source": [
    "base_dir = \"/home/c2/alexa/source/voice-assistant-central/NetworkAnalysis/data/Audio_ads_0326\"\n",
    "\n",
    "Traffic_dir = os.path.join(base_dir, \"Traffic\", Persona, music_app)\n",
    "if not os.path.exists(Traffic_dir):\n",
    "    os.makedirs(Traffic_dir)\n",
    "    \n",
    "Recording_dir = os.path.join(base_dir, \"Audio_Records\", Persona, music_app)\n",
    "if not os.path.exists(Recording_dir):\n",
    "    os.makedirs(Recording_dir)"
   ]
  },
  {
   "cell_type": "markdown",
   "id": "602a4a97",
   "metadata": {},
   "source": [
    "# Record Audio"
   ]
  },
  {
   "cell_type": "code",
   "execution_count": 12,
   "id": "d0027bd2",
   "metadata": {},
   "outputs": [],
   "source": [
    "Threshold = 10\n",
    "SHORT_NORMALIZE = (1.0/32768.0)\n",
    "chunk = 1024\n",
    "FORMAT = pyaudio.paInt16\n",
    "CHANNELS = 1\n",
    "RATE = 16000\n",
    "swidth = 2\n",
    "\n",
    "TIMEOUT_LENGTH = 20\n",
    "\n",
    "#f_name_directory = r'/home/c2/alexa/source/voice-assistant-central/NetworkAnalysis/data/Audio_ads/Audio_Records/ConnectedCar/Pandora//'\n",
    "f_name_directory = r\"{}\".format(Recording_dir)\n",
    "\n",
    "class Recorder:\n",
    "\n",
    "    @staticmethod\n",
    "    def rms(frame):\n",
    "        count = len(frame) / swidth\n",
    "        format = \"%dh\" % (count)\n",
    "        shorts = struct.unpack(format, frame)\n",
    "\n",
    "        sum_squares = 0.0\n",
    "        for sample in shorts:\n",
    "            n = sample * SHORT_NORMALIZE\n",
    "            sum_squares += n * n\n",
    "        rms = math.pow(sum_squares / count, 0.5)\n",
    "\n",
    "        return rms * 1000\n",
    "\n",
    "    def __init__(self):\n",
    "        self.p = pyaudio.PyAudio()\n",
    "        self.stream = self.p.open(format=FORMAT,\n",
    "                                  channels=CHANNELS,\n",
    "                                  rate=RATE,\n",
    "                                  input=True,\n",
    "                                  output=True,\n",
    "                                  frames_per_buffer=chunk)\n",
    "\n",
    "    def record(self):\n",
    "        print('Noise detected, recording beginning')\n",
    "        rec = []\n",
    "        current = time.time()\n",
    "        end = time.time() + TIMEOUT_LENGTH\n",
    "\n",
    "        while current <= end:\n",
    "\n",
    "            data = self.stream.read(chunk)\n",
    "            if self.rms(data) >= Threshold: end = time.time() + TIMEOUT_LENGTH\n",
    "\n",
    "            current = time.time()\n",
    "            rec.append(data)\n",
    "        self.write(b''.join(rec))\n",
    "\n",
    "    def write(self, recording):\n",
    "        n_files = len(os.listdir(f_name_directory))\n",
    "\n",
    "        filename = os.path.join(f_name_directory, '{}.wav'.format(n_files))\n",
    "\n",
    "        wf = wave.open(filename, 'wb')\n",
    "        wf.setnchannels(CHANNELS)\n",
    "        wf.setsampwidth(self.p.get_sample_size(FORMAT))\n",
    "        wf.setframerate(RATE)\n",
    "        wf.writeframes(recording)\n",
    "        wf.close()\n",
    "        #print('Written to file: {}'.format(filename))\n",
    "        print('Returning to listening')\n",
    "\n",
    "\n",
    "\n",
    "    def listen(self):\n",
    "        print('Listening beginning')\n",
    "        while True:\n",
    "            input = self.stream.read(chunk)\n",
    "            rms_val = self.rms(input)\n",
    "            if rms_val > Threshold:\n",
    "                self.record()"
   ]
  },
  {
   "cell_type": "markdown",
   "id": "828c6926",
   "metadata": {},
   "source": [
    "# Capture Traffic"
   ]
  },
  {
   "cell_type": "code",
   "execution_count": 18,
   "id": "7c3c9700",
   "metadata": {
    "scrolled": true
   },
   "outputs": [
    {
     "name": "stderr",
     "output_type": "stream",
     "text": [
      "tcpdump: listening on wlo1, link-type EN10MB (Ethernet), capture size 262144 bytes\n",
      "Got 0\r"
     ]
    }
   ],
   "source": [
    "out = os.path.join(Traffic_dir, music_app +\".pcap\")\n",
    "command = f\"tcpdump -i wlo1 -vvv -w {out}\"\n",
    "p = subprocess.Popen(command, shell=True)"
   ]
  },
  {
   "cell_type": "markdown",
   "id": "87bddd4e",
   "metadata": {},
   "source": [
    "# Call Skill"
   ]
  },
  {
   "cell_type": "code",
   "execution_count": 19,
   "id": "f7b35fc8",
   "metadata": {
    "scrolled": true
   },
   "outputs": [
    {
     "name": "stderr",
     "output_type": "stream",
     "text": [
      "ALSA lib pcm_dmix.c:1089:(snd_pcm_dmix_open) unable to open slave\n",
      "ALSA lib pcm.c:2642:(snd_pcm_open_noupdate) Unknown PCM cards.pcm.rear\n",
      "ALSA lib pcm.c:2642:(snd_pcm_open_noupdate) Unknown PCM cards.pcm.center_lfe\n",
      "ALSA lib pcm.c:2642:(snd_pcm_open_noupdate) Unknown PCM cards.pcm.side\n",
      "ALSA lib confmisc.c:1281:(snd_func_refer) Unable to find definition 'cards.USB-Audio.pcm.hdmi.0:CARD=0,AES0=4,AES1=130,AES2=0,AES3=2'\n",
      "ALSA lib conf.c:4732:(_snd_config_evaluate) function snd_func_refer returned error: No such file or directory\n",
      "ALSA lib conf.c:5220:(snd_config_expand) Evaluate error: No such file or directory\n",
      "ALSA lib pcm.c:2642:(snd_pcm_open_noupdate) Unknown PCM hdmi\n",
      "ALSA lib confmisc.c:1281:(snd_func_refer) Unable to find definition 'cards.USB-Audio.pcm.hdmi.0:CARD=0,AES0=4,AES1=130,AES2=0,AES3=2'\n",
      "ALSA lib conf.c:4732:(_snd_config_evaluate) function snd_func_refer returned error: No such file or directory\n",
      "ALSA lib conf.c:5220:(snd_config_expand) Evaluate error: No such file or directory\n",
      "ALSA lib pcm.c:2642:(snd_pcm_open_noupdate) Unknown PCM hdmi\n",
      "ALSA lib confmisc.c:1281:(snd_func_refer) Unable to find definition 'cards.USB-Audio.pcm.modem.0:CARD=0'\n",
      "ALSA lib conf.c:4732:(_snd_config_evaluate) function snd_func_refer returned error: No such file or directory\n",
      "ALSA lib conf.c:5220:(snd_config_expand) Evaluate error: No such file or directory\n",
      "ALSA lib pcm.c:2642:(snd_pcm_open_noupdate) Unknown PCM cards.pcm.phoneline:CARD=0,DEV=0\n",
      "ALSA lib confmisc.c:1281:(snd_func_refer) Unable to find definition 'cards.USB-Audio.pcm.modem.0:CARD=0'\n",
      "ALSA lib conf.c:4732:(_snd_config_evaluate) function snd_func_refer returned error: No such file or directory\n",
      "ALSA lib conf.c:5220:(snd_config_expand) Evaluate error: No such file or directory\n",
      "ALSA lib pcm.c:2642:(snd_pcm_open_noupdate) Unknown PCM cards.pcm.phoneline:CARD=0,DEV=0\n",
      "ALSA lib confmisc.c:1281:(snd_func_refer) Unable to find definition 'cards.USB-Audio.pcm.modem.0:CARD=0'\n",
      "ALSA lib conf.c:4732:(_snd_config_evaluate) function snd_func_refer returned error: No such file or directory\n",
      "ALSA lib conf.c:5220:(snd_config_expand) Evaluate error: No such file or directory\n",
      "ALSA lib pcm.c:2642:(snd_pcm_open_noupdate) Unknown PCM phoneline\n",
      "ALSA lib confmisc.c:1281:(snd_func_refer) Unable to find definition 'cards.USB-Audio.pcm.modem.0:CARD=0'\n",
      "ALSA lib conf.c:4732:(_snd_config_evaluate) function snd_func_refer returned error: No such file or directory\n",
      "ALSA lib conf.c:5220:(snd_config_expand) Evaluate error: No such file or directory\n",
      "ALSA lib pcm.c:2642:(snd_pcm_open_noupdate) Unknown PCM phoneline\n",
      "ALSA lib pcm_oss.c:377:(_snd_pcm_oss_open) Unknown field port\n",
      "ALSA lib pcm_oss.c:377:(_snd_pcm_oss_open) Unknown field port\n",
      "ALSA lib pcm_usb_stream.c:486:(_snd_pcm_usb_stream_open) Invalid type for card\n",
      "ALSA lib pcm_usb_stream.c:486:(_snd_pcm_usb_stream_open) Invalid type for card\n",
      "ALSA lib pcm_dmix.c:1089:(snd_pcm_dmix_open) unable to open slave\n",
      "Got 0\r"
     ]
    },
    {
     "name": "stdout",
     "output_type": "stream",
     "text": [
      "Listening beginning\n"
     ]
    },
    {
     "name": "stderr",
     "output_type": "stream",
     "text": [
      "Got 0\r"
     ]
    },
    {
     "name": "stdout",
     "output_type": "stream",
     "text": [
      "Noise detected, recording beginning\n"
     ]
    },
    {
     "name": "stderr",
     "output_type": "stream",
     "text": [
      "tcpdump: pcap_loop: The interface went down\n",
      "0 packets captured\n",
      "0 packets received by filter\n",
      "0 packets dropped by kernel\n"
     ]
    },
    {
     "name": "stdout",
     "output_type": "stream",
     "text": [
      "Returning to listening\n",
      "Noise detected, recording beginning\n"
     ]
    },
    {
     "ename": "KeyboardInterrupt",
     "evalue": "",
     "output_type": "error",
     "traceback": [
      "\u001b[0;31m---------------------------------------------------------------------------\u001b[0m",
      "\u001b[0;31mKeyboardInterrupt\u001b[0m                         Traceback (most recent call last)",
      "\u001b[0;32m/tmp/ipykernel_7578/2542608404.py\u001b[0m in \u001b[0;36m<module>\u001b[0;34m\u001b[0m\n\u001b[1;32m      1\u001b[0m \u001b[0mrecord\u001b[0m \u001b[0;34m=\u001b[0m \u001b[0mRecorder\u001b[0m\u001b[0;34m(\u001b[0m\u001b[0;34m)\u001b[0m\u001b[0;34m\u001b[0m\u001b[0;34m\u001b[0m\u001b[0m\n\u001b[0;32m----> 2\u001b[0;31m \u001b[0mrecord\u001b[0m\u001b[0;34m.\u001b[0m\u001b[0mlisten\u001b[0m\u001b[0;34m(\u001b[0m\u001b[0;34m)\u001b[0m\u001b[0;34m\u001b[0m\u001b[0;34m\u001b[0m\u001b[0m\n\u001b[0m",
      "\u001b[0;32m/tmp/ipykernel_7578/3011745955.py\u001b[0m in \u001b[0;36mlisten\u001b[0;34m(self)\u001b[0m\n\u001b[1;32m     74\u001b[0m             \u001b[0mrms_val\u001b[0m \u001b[0;34m=\u001b[0m \u001b[0mself\u001b[0m\u001b[0;34m.\u001b[0m\u001b[0mrms\u001b[0m\u001b[0;34m(\u001b[0m\u001b[0minput\u001b[0m\u001b[0;34m)\u001b[0m\u001b[0;34m\u001b[0m\u001b[0;34m\u001b[0m\u001b[0m\n\u001b[1;32m     75\u001b[0m             \u001b[0;32mif\u001b[0m \u001b[0mrms_val\u001b[0m \u001b[0;34m>\u001b[0m \u001b[0mThreshold\u001b[0m\u001b[0;34m:\u001b[0m\u001b[0;34m\u001b[0m\u001b[0;34m\u001b[0m\u001b[0m\n\u001b[0;32m---> 76\u001b[0;31m                 \u001b[0mself\u001b[0m\u001b[0;34m.\u001b[0m\u001b[0mrecord\u001b[0m\u001b[0;34m(\u001b[0m\u001b[0;34m)\u001b[0m\u001b[0;34m\u001b[0m\u001b[0;34m\u001b[0m\u001b[0m\n\u001b[0m",
      "\u001b[0;32m/tmp/ipykernel_7578/3011745955.py\u001b[0m in \u001b[0;36mrecord\u001b[0;34m(self)\u001b[0m\n\u001b[1;32m     45\u001b[0m         \u001b[0;32mwhile\u001b[0m \u001b[0mcurrent\u001b[0m \u001b[0;34m<=\u001b[0m \u001b[0mend\u001b[0m\u001b[0;34m:\u001b[0m\u001b[0;34m\u001b[0m\u001b[0;34m\u001b[0m\u001b[0m\n\u001b[1;32m     46\u001b[0m \u001b[0;34m\u001b[0m\u001b[0m\n\u001b[0;32m---> 47\u001b[0;31m             \u001b[0mdata\u001b[0m \u001b[0;34m=\u001b[0m \u001b[0mself\u001b[0m\u001b[0;34m.\u001b[0m\u001b[0mstream\u001b[0m\u001b[0;34m.\u001b[0m\u001b[0mread\u001b[0m\u001b[0;34m(\u001b[0m\u001b[0mchunk\u001b[0m\u001b[0;34m)\u001b[0m\u001b[0;34m\u001b[0m\u001b[0;34m\u001b[0m\u001b[0m\n\u001b[0m\u001b[1;32m     48\u001b[0m             \u001b[0;32mif\u001b[0m \u001b[0mself\u001b[0m\u001b[0;34m.\u001b[0m\u001b[0mrms\u001b[0m\u001b[0;34m(\u001b[0m\u001b[0mdata\u001b[0m\u001b[0;34m)\u001b[0m \u001b[0;34m>=\u001b[0m \u001b[0mThreshold\u001b[0m\u001b[0;34m:\u001b[0m \u001b[0mend\u001b[0m \u001b[0;34m=\u001b[0m \u001b[0mtime\u001b[0m\u001b[0;34m.\u001b[0m\u001b[0mtime\u001b[0m\u001b[0;34m(\u001b[0m\u001b[0;34m)\u001b[0m \u001b[0;34m+\u001b[0m \u001b[0mTIMEOUT_LENGTH\u001b[0m\u001b[0;34m\u001b[0m\u001b[0;34m\u001b[0m\u001b[0m\n\u001b[1;32m     49\u001b[0m \u001b[0;34m\u001b[0m\u001b[0m\n",
      "\u001b[0;32m~/anaconda3/lib/python3.9/site-packages/pyaudio.py\u001b[0m in \u001b[0;36mread\u001b[0;34m(self, num_frames, exception_on_overflow)\u001b[0m\n\u001b[1;32m    606\u001b[0m                           paCanNotReadFromAnOutputOnlyStream)\n\u001b[1;32m    607\u001b[0m \u001b[0;34m\u001b[0m\u001b[0m\n\u001b[0;32m--> 608\u001b[0;31m         \u001b[0;32mreturn\u001b[0m \u001b[0mpa\u001b[0m\u001b[0;34m.\u001b[0m\u001b[0mread_stream\u001b[0m\u001b[0;34m(\u001b[0m\u001b[0mself\u001b[0m\u001b[0;34m.\u001b[0m\u001b[0m_stream\u001b[0m\u001b[0;34m,\u001b[0m \u001b[0mnum_frames\u001b[0m\u001b[0;34m,\u001b[0m \u001b[0mexception_on_overflow\u001b[0m\u001b[0;34m)\u001b[0m\u001b[0;34m\u001b[0m\u001b[0;34m\u001b[0m\u001b[0m\n\u001b[0m\u001b[1;32m    609\u001b[0m \u001b[0;34m\u001b[0m\u001b[0m\n\u001b[1;32m    610\u001b[0m     \u001b[0;32mdef\u001b[0m \u001b[0mget_read_available\u001b[0m\u001b[0;34m(\u001b[0m\u001b[0mself\u001b[0m\u001b[0;34m)\u001b[0m\u001b[0;34m:\u001b[0m\u001b[0;34m\u001b[0m\u001b[0;34m\u001b[0m\u001b[0m\n",
      "\u001b[0;31mKeyboardInterrupt\u001b[0m: "
     ]
    }
   ],
   "source": [
    "record = Recorder()\n",
    "record.listen()"
   ]
  },
  {
   "cell_type": "code",
   "execution_count": 20,
   "id": "ab9c0c35",
   "metadata": {
    "scrolled": true
   },
   "outputs": [
    {
     "data": {
      "text/plain": [
       "<Popen: returncode: None args: 'pkill -f tcpdump'>"
      ]
     },
     "execution_count": 20,
     "metadata": {},
     "output_type": "execute_result"
    }
   ],
   "source": [
    "command = f\"pkill -f tcpdump\"\n",
    "subprocess.Popen(command, shell=True)"
   ]
  },
  {
   "cell_type": "markdown",
   "id": "e362a487",
   "metadata": {},
   "source": [
    "# Speech to Text"
   ]
  },
  {
   "cell_type": "code",
   "execution_count": 20,
   "id": "b0eccd29",
   "metadata": {},
   "outputs": [
    {
     "name": "stderr",
     "output_type": "stream",
     "text": [
      "/home/c2/anaconda3/lib/python3.9/site-packages/pydub/utils.py:170: RuntimeWarning: Couldn't find ffmpeg or avconv - defaulting to ffmpeg, but may not work\n",
      "  warn(\"Couldn't find ffmpeg or avconv - defaulting to ffmpeg, but may not work\", RuntimeWarning)\n"
     ]
    },
    {
     "name": "stdout",
     "output_type": "stream",
     "text": [
      "audio-chunks/chunk1.wav : From pandora. \n",
      "Error: \n",
      "Error: \n",
      "Error: \n",
      "audio-chunks/chunk5.wav : Broken heart. \n",
      "audio-chunks/chunk6.wav : I'm still fixing the crack. \n",
      "Error: \n",
      "audio-chunks/chunk8.wav : Generated. \n",
      "Error: \n",
      "Error: \n",
      "Error: \n",
      "audio-chunks/chunk12.wav : Please. \n",
      "Error: \n",
      "Error: \n",
      "Error: \n",
      "Error: \n",
      "Error: \n",
      "Error: \n",
      "Error: \n",
      "Error: \n",
      "Error: \n",
      "Error: \n",
      "Error: \n",
      "Error: \n",
      "Error: \n",
      "Error: \n",
      "Error: \n",
      "Error: \n",
      "audio-chunks/chunk29.wav : And the pills.. \n",
      "audio-chunks/chunk30.wav : Haven't caught up with. \n",
      "audio-chunks/chunk31.wav : Underworld. \n",
      "audio-chunks/chunk32.wav : Today's hits radio from pandora. \n",
      "Error: \n",
      "Error: \n",
      "Error: \n",
      "Error: \n",
      "audio-chunks/chunk37.wav : Nearby hookah. \n",
      "Error: \n",
      "audio-chunks/chunk39.wav : I want someone to love me i need someone. \n",
      "Error: \n",
      "Error: \n",
      "Error: \n",
      "audio-chunks/chunk43.wav : Uk. \n",
      "Error: \n",
      "Error: \n",
      "Error: \n",
      "Error: \n",
      "Error: \n",
      "Error: \n",
      "Error: \n",
      "Error: \n",
      "Error: \n",
      "Error: \n",
      "Error: \n",
      "audio-chunks/chunk55.wav : Love the mocha siri too bad my budget doesn't sarah don't give it up state farm as options to get you a surprise me break rate. \n",
      "audio-chunks/chunk56.wav : State farm is there statefarm.com for quote today. \n",
      "Error: \n",
      "audio-chunks/chunk58.wav : Call cancel them. \n",
      "Error: \n",
      "From pandora. Broken heart. I'm still fixing the crack. Generated. Please. And the pills.. Haven't caught up with. Underworld. Today's hits radio from pandora. Nearby hookah. I want someone to love me i need someone. Uk. Love the mocha siri too bad my budget doesn't sarah don't give it up state farm as options to get you a surprise me break rate. State farm is there statefarm.com for quote today. Call cancel them. \n"
     ]
    }
   ],
   "source": [
    "# importing libraries\n",
    "import speech_recognition as sr\n",
    "import os\n",
    "from pydub import AudioSegment\n",
    "from pydub.silence import split_on_silence\n",
    "\n",
    "# create a speech recognition object\n",
    "r = sr.Recognizer()\n",
    "\n",
    "# a function that splits the audio file into chunks\n",
    "# and applies speech recognition\n",
    "def get_large_audio_transcription(path):\n",
    "    \"\"\"\n",
    "    Splitting the large audio file into chunks\n",
    "    and apply speech recognition on each of these chunks\n",
    "    \"\"\"\n",
    "    # open the audio file using pydub\n",
    "    sound = AudioSegment.from_wav(path)\n",
    "    # split audio sound where silence is 700 miliseconds or more and get chunks\n",
    "    chunks = split_on_silence(sound,\n",
    "        # experiment with this value for your target audio file\n",
    "        min_silence_len = 500,\n",
    "        # adjust this per requirement\n",
    "        silence_thresh = sound.dBFS-14,\n",
    "        # keep the silence for 1 second, adjustable as well\n",
    "        keep_silence=500,\n",
    "    )\n",
    "    folder_name = \"audio-chunks\"\n",
    "    # create a directory to store the audio chunks\n",
    "    if not os.path.isdir(folder_name):\n",
    "        os.mkdir(folder_name)\n",
    "    whole_text = \"\"\n",
    "    # process each chunk\n",
    "    for i, audio_chunk in enumerate(chunks, start=1):\n",
    "        # export audio chunk and save it in\n",
    "        # the `folder_name` directory.\n",
    "        chunk_filename = os.path.join(folder_name, f\"chunk{i}.wav\")\n",
    "        audio_chunk.export(chunk_filename, format=\"wav\")\n",
    "        # recognize the chunk\n",
    "        with sr.AudioFile(chunk_filename) as source:\n",
    "            audio_listened = r.record(source)\n",
    "            # try converting it to text\n",
    "            try:\n",
    "                text = r.recognize_google(audio_listened)\n",
    "            except sr.UnknownValueError as e:\n",
    "                print(\"Error:\", str(e))\n",
    "            else:\n",
    "                text = f\"{text.capitalize()}. \"\n",
    "                print(chunk_filename, \":\", text)\n",
    "                whole_text += text\n",
    "    # return the text for all chunks detected\n",
    "    print(whole_text)\n",
    "\n",
    "file = \"/home/c2/alexa/source/voice-assistant-central/NetworkAnalysis/Audio_Ad/records/0.wav\"\n",
    "get_large_audio_transcription(file)"
   ]
  },
  {
   "cell_type": "code",
   "execution_count": 19,
   "id": "fea95f47",
   "metadata": {},
   "outputs": [
    {
     "name": "stdout",
     "output_type": "stream",
     "text": [
      "Collecting pydub\n",
      "  Using cached pydub-0.25.1-py2.py3-none-any.whl (32 kB)\n",
      "Installing collected packages: pydub\n",
      "Successfully installed pydub-0.25.1\n",
      "Note: you may need to restart the kernel to use updated packages.\n"
     ]
    }
   ],
   "source": [
    "pip install pydub"
   ]
  }
 ],
 "metadata": {
  "kernelspec": {
   "display_name": "Python 3 (ipykernel)",
   "language": "python",
   "name": "python3"
  },
  "language_info": {
   "codemirror_mode": {
    "name": "ipython",
    "version": 3
   },
   "file_extension": ".py",
   "mimetype": "text/x-python",
   "name": "python",
   "nbconvert_exporter": "python",
   "pygments_lexer": "ipython3",
   "version": "3.9.7"
  }
 },
 "nbformat": 4,
 "nbformat_minor": 5
}
