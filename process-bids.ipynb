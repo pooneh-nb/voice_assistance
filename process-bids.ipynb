{
 "cells": [
  {
   "cell_type": "code",
   "execution_count": 1,
   "id": "a0c91801",
   "metadata": {},
   "outputs": [],
   "source": [
    "import utilities\n",
    "import os\n",
    "import json\n",
    "import statistics\n",
    "from prettytable import PrettyTable\n",
    "from prettytable import ALL as ALL\n",
    "# from scipy.stats import ttest_ind as ttest"
   ]
  },
  {
   "cell_type": "code",
   "execution_count": 2,
   "id": "29126ece",
   "metadata": {},
   "outputs": [],
   "source": [
    "# !pip3 install prettytable"
   ]
  },
  {
   "cell_type": "code",
   "execution_count": 30,
   "id": "46f366e2",
   "metadata": {},
   "outputs": [],
   "source": [
    "DATA_DIR = '/media/umar/Data/work/voice-assistant-central/voice-assistants-openwpm/'\n",
    "RESULTS_DIR = '/media/umar/Data/work/voice-assistant-central/data/results/'"
   ]
  },
  {
   "cell_type": "markdown",
   "id": "20f36534",
   "metadata": {},
   "source": [
    "### Personas\n",
    "```\n",
    "Connected-Car\n",
    "Dating\n",
    "Fashion-Style\n",
    "Pets-Animals\n",
    "Religion-Spirituality\n",
    "SmartHome\n",
    "Wine-Beverages\n",
    "Health-Fitness\n",
    "Navigation-TripPlanners\n",
    "```"
   ]
  },
  {
   "cell_type": "code",
   "execution_count": 5,
   "id": "36da8ded",
   "metadata": {},
   "outputs": [],
   "source": [
    "control_list = ['Plain', 'Amazon-Only', 'No-Skill']\n",
    "test_list = ['Connected-Car', 'Dating', 'Fashion-Style', 'Pets-Animals', 'Religion-Spirituality', 'SmartHome', 'Wine-Beverages','Health-Fitness', 'Navigation-TripPlanners']"
   ]
  },
  {
   "cell_type": "code",
   "execution_count": 26,
   "id": "91207adf",
   "metadata": {},
   "outputs": [],
   "source": [
    "def get_forced_normal_websites_with_bids(bid_files):\n",
    "    forced_count = 0\n",
    "    normal_count = 0\n",
    "    for bid_file in bid_files:\n",
    "        if 'FORCED' in bid_file:\n",
    "            forced_count += 1\n",
    "        else:\n",
    "            normal_count += 1\n",
    "\n",
    "    return str(normal_count) + '/' + str(forced_count)\n",
    "\n",
    "\n",
    "def get_websites_with_bids(bid_files):\n",
    "    websites_with_bids = []\n",
    "    for bid_file in bid_files:\n",
    "        websites_with_bids.append(bid_file.rsplit('/', 1)[1].rsplit('_', 1)[1])\n",
    "\n",
    "    return websites_with_bids\n",
    "\n",
    "\n",
    "def return_bid_cpms(bid_files):\n",
    "    bid_cpms = []\n",
    "    for bid_file in bid_files:\n",
    "        all_bids = utilities.read_file(bid_file)\n",
    "\n",
    "        for bid in all_bids:\n",
    "            bid_json = json.loads(bid)\n",
    "            bid_cpms.append(bid_json['cpm'])\n",
    "    \n",
    "    return bid_cpms\n",
    "\n",
    "\n",
    "def return_bid_cpms(bid_files, websites = []):\n",
    "    bid_cpms = []\n",
    "    \n",
    "    for bid_file in bid_files:\n",
    "        bid_website = bid_file.rsplit('/', 1)[1].rsplit('_', 1)[1]\n",
    "        \n",
    "        if len(websites) > 0 and bid_website not in websites:\n",
    "            continue\n",
    "            \n",
    "        all_bids = utilities.read_file(bid_file)\n",
    "\n",
    "        for bid in all_bids:\n",
    "            bid_json = json.loads(bid)\n",
    "            bid_cpms.append(bid_json['cpm'])\n",
    "    \n",
    "    return bid_cpms\n",
    "\n",
    "\n",
    "def return_median_cpms(bid_files):\n",
    "    bid_cpms = []\n",
    "    for bid_file in bid_files:\n",
    "        all_bids = utilities.read_file(bid_file)\n",
    "        \n",
    "        current_bid_cpms = []\n",
    "        for bid in all_bids:\n",
    "            bid_json = json.loads(bid)\n",
    "            current_bid_cpms.append(bid_json['cpm'])\n",
    "            \n",
    "        bid_cpms.append(statistics.median(current_bid_cpms))\n",
    "    \n",
    "    return bid_cpms\n",
    "\n",
    "\n",
    "def return_median_cpms(bid_files, websites = []):\n",
    "    bid_cpms = []\n",
    "    for bid_file in bid_files:\n",
    "        all_bids = utilities.read_file(bid_file)\n",
    "        \n",
    "        bid_website = bid_file.rsplit('/', 1)[1].rsplit('_', 1)[1]\n",
    "        if len(websites) > 0 and bid_website not in websites:\n",
    "            continue\n",
    "            \n",
    "        current_bid_cpms = []\n",
    "        for bid in all_bids:\n",
    "            bid_json = json.loads(bid)\n",
    "            current_bid_cpms.append(bid_json['cpm'])\n",
    "            \n",
    "        bid_cpms.append(statistics.median(current_bid_cpms))\n",
    "    \n",
    "    return bid_cpms\n",
    "\n",
    "\n",
    "def return_common_websites(persona_list, data_dir):\n",
    "    persona_dir = os.path.join(data_dir, persona_list[0] + '/website_bids/')\n",
    "    common_websites = set(get_websites_with_bids(utilities.get_files_in_a_directory(persona_dir)))\n",
    "    \n",
    "    for persona in persona_list[1:]:\n",
    "        persona_dir = os.path.join(data_dir, persona + '/website_bids/')\n",
    "        candidates = get_websites_with_bids(utilities.get_files_in_a_directory(persona_dir))\n",
    "        common_websites = common_websites.intersection(candidates)\n",
    "        \n",
    "    return common_websites\n",
    "\n",
    "\n",
    "def ptable_to_csv(table, filename, headers=True):\n",
    "    \"\"\"Save PrettyTable results to a CSV file.\n",
    "\n",
    "    Adapted from @AdamSmith https://stackoverflow.com/questions/32128226\n",
    "\n",
    "    :param PrettyTable table: Table object to get data from.\n",
    "    :param str filename: Filepath for the output CSV.\n",
    "    :param bool headers: Whether to include the header row in the CSV.\n",
    "    :return: None\n",
    "    \"\"\"\n",
    "    raw = table.get_string()\n",
    "    data = [tuple(filter(None, map(str.strip, splitline)))\n",
    "            for line in raw.splitlines()\n",
    "            for splitline in [line.split('|')] if len(splitline) > 1]\n",
    "    if table.title is not None:\n",
    "        data = data[1:]\n",
    "    if not headers:\n",
    "        data = data[1:]\n",
    "    with open(filename, 'w') as f:\n",
    "        for d in data:\n",
    "            f.write('{}\\n'.format(','.join(d)))"
   ]
  },
  {
   "cell_type": "markdown",
   "id": "e7728bc5",
   "metadata": {},
   "source": [
    "### Reading bids for personas"
   ]
  },
  {
   "cell_type": "code",
   "execution_count": 16,
   "id": "42e9efc2",
   "metadata": {},
   "outputs": [],
   "source": [
    "def compute_bid_statistics(persona_list, data_dir, common_websites=[], get_median=False):\n",
    "    persona_stat_map = {}\n",
    "    \n",
    "    for persona in persona_list:\n",
    "        persona_stat_map[persona] = {}\n",
    "        \n",
    "        persona_dir = os.path.join(data_dir, persona + '/website_bids/')\n",
    "        \n",
    "        bid_files = utilities.get_files_in_a_directory(persona_dir)\n",
    "        persona_stat_map[persona]['normal-forced'] = get_forced_normal_websites_with_bids(bid_files)\n",
    "        \n",
    "        if get_median:\n",
    "            cpms = return_median_cpms(bid_files, common_websites)\n",
    "        else:\n",
    "            cpms = return_bid_cpms(bid_files, common_websites)\n",
    "\n",
    "        persona_stat_map[persona]['median'] = \"{0:0.3f}\".format(statistics.median(cpms))\n",
    "        persona_stat_map[persona]['mean'] = \"{0:0.3f}\".format(statistics.mean(cpms))\n",
    "        persona_stat_map[persona]['min'] = \"{0:0.3f}\".format(min(cpms))\n",
    "        persona_stat_map[persona]['max'] = \"{0:0.3f}\".format(max(cpms))\n",
    "        persona_stat_map[persona]['sd'] = \"{0:0.3f}\".format(statistics.stdev(cpms))\n",
    "\n",
    "        persona_stat_map[persona]['total_bids'] = len(cpms)\n",
    "        normal, forced = persona_stat_map[persona]['normal-forced'].split('/')\n",
    "        persona_stat_map[persona]['total_websites'] = int(normal) + int(forced)\n",
    "        \n",
    "        persona_stat_map[persona]['common_websites'] =  len(common_websites) if len(common_websites) > 0 else '-'\n",
    "\n",
    "    return persona_stat_map"
   ]
  },
  {
   "cell_type": "code",
   "execution_count": 22,
   "id": "19549b90",
   "metadata": {},
   "outputs": [],
   "source": [
    "def print_bid_statistics(persona_stat_map, persona_list):\n",
    "    \n",
    "    table = PrettyTable(['Measure'] + persona_list, hrules=ALL)\n",
    "    \n",
    "    \n",
    "    table.add_row(['# of websites'] + [persona_stat_map[persona]['total_websites'] for persona in persona_list])\n",
    "    table.add_row(['Common websites'] + [persona_stat_map[persona]['common_websites'] for persona in persona_list])\n",
    "    table.add_row(['Normal/Forced'] + [persona_stat_map[persona]['normal-forced'] for persona in persona_list])\n",
    "    table.add_row(['Median'] + [persona_stat_map[persona]['median'] for persona in persona_list])\n",
    "\n",
    "    table.add_row(['Mean'] + [persona_stat_map[persona]['mean'] for persona in persona_list])\n",
    "    table.add_row(['SD'] + [persona_stat_map[persona]['sd'] for persona in persona_list])\n",
    "    table.add_row(['Min'] + [persona_stat_map[persona]['min'] for persona in persona_list])\n",
    "    table.add_row(['Max'] + [persona_stat_map[persona]['max'] for persona in persona_list])\n",
    "    \n",
    "    print(table)\n",
    "    \n",
    "    return table"
   ]
  },
  {
   "cell_type": "markdown",
   "id": "b39bb043",
   "metadata": {},
   "source": [
    "## Consider all websites and all bids"
   ]
  },
  {
   "cell_type": "code",
   "execution_count": 29,
   "id": "1f0b3aba",
   "metadata": {
    "scrolled": false
   },
   "outputs": [
    {
     "name": "stdout",
     "output_type": "stream",
     "text": [
      "+-----------------+--------+-------------+----------+---------------+--------+---------------+--------------+-----------------------+-----------+----------------+----------------+-------------------------+\n",
      "|     Measure     | Plain  | Amazon-Only | No-Skill | Connected-Car | Dating | Fashion-Style | Pets-Animals | Religion-Spirituality | SmartHome | Wine-Beverages | Health-Fitness | Navigation-TripPlanners |\n",
      "+-----------------+--------+-------------+----------+---------------+--------+---------------+--------------+-----------------------+-----------+----------------+----------------+-------------------------+\n",
      "|  # of websites  |   28   |      31     |    32    |       30      |   28   |       28      |      27      |           32          |     25    |       24       |       28       |            25           |\n",
      "+-----------------+--------+-------------+----------+---------------+--------+---------------+--------------+-----------------------+-----------+----------------+----------------+-------------------------+\n",
      "| Common websites |   -    |      -      |    -     |       -       |   -    |       -       |      -       |           -           |     -     |       -        |       -        |            -            |\n",
      "+-----------------+--------+-------------+----------+---------------+--------+---------------+--------------+-----------------------+-----------+----------------+----------------+-------------------------+\n",
      "|  Normal/Forced  |  23/5  |     26/5    |   29/3   |      28/2     |  25/3  |      22/6     |     24/3     |          27/5         |    23/2   |      22/2      |      24/4      |           20/5          |\n",
      "+-----------------+--------+-------------+----------+---------------+--------+---------------+--------------+-----------------------+-----------+----------------+----------------+-------------------------+\n",
      "|      Median     | 0.221  |    0.150    |  0.141   |     0.133     | 0.140  |     0.110     |    0.140     |         0.163         |   0.333   |     0.134      |     0.207      |          0.193          |\n",
      "+-----------------+--------+-------------+----------+---------------+--------+---------------+--------------+-----------------------+-----------+----------------+----------------+-------------------------+\n",
      "|       Mean      | 0.859  |    0.594    |  0.593   |     0.680     | 0.491  |     0.469     |    0.436     |         0.489         |   1.121   |     0.617      |     0.767      |          0.458          |\n",
      "+-----------------+--------+-------------+----------+---------------+--------+---------------+--------------+-----------------------+-----------+----------------+----------------+-------------------------+\n",
      "|        SD       | 1.745  |    1.075    |  1.208   |     1.496     | 0.927  |     0.924     |    0.863     |         0.941         |   2.327   |     1.405      |     1.918      |          0.641          |\n",
      "+-----------------+--------+-------------+----------+---------------+--------+---------------+--------------+-----------------------+-----------+----------------+----------------+-------------------------+\n",
      "|       Min       | 0.000  |    0.000    |  0.000   |     0.000     | 0.000  |     0.000     |    0.000     |         0.000         |   0.000   |     0.000      |     0.000      |          0.000          |\n",
      "+-----------------+--------+-------------+----------+---------------+--------+---------------+--------------+-----------------------+-----------+----------------+----------------+-------------------------+\n",
      "|       Max       | 14.840 |    7.760    |  7.860   |     12.601    | 6.939  |     6.939     |    7.860     |         7.560         |   15.559  |     14.450     |     15.559     |          2.685          |\n",
      "+-----------------+--------+-------------+----------+---------------+--------+---------------+--------------+-----------------------+-----------+----------------+----------------+-------------------------+\n"
     ]
    }
   ],
   "source": [
    "persona_stat_map = compute_bid_statistics(control_list + test_list, DATA_DIR)\n",
    "table = print_bid_statistics(persona_stat_map, control_list + test_list)\n",
    "ptable_to_csv(table, RESULTS_DIR + 'all-bids.csv')"
   ]
  },
  {
   "cell_type": "markdown",
   "id": "9c127f2b",
   "metadata": {},
   "source": [
    "### Consider bids on websites where bids returned for all personas"
   ]
  },
  {
   "cell_type": "code",
   "execution_count": 38,
   "id": "83fd012b",
   "metadata": {},
   "outputs": [
    {
     "name": "stdout",
     "output_type": "stream",
     "text": [
      "+-----------------+-------+-------------+----------+---------------+--------+---------------+--------------+-----------------------+-----------+----------------+----------------+-------------------------+\n",
      "|     Measure     | Plain | Amazon-Only | No-Skill | Connected-Car | Dating | Fashion-Style | Pets-Animals | Religion-Spirituality | SmartHome | Wine-Beverages | Health-Fitness | Navigation-TripPlanners |\n",
      "+-----------------+-------+-------------+----------+---------------+--------+---------------+--------------+-----------------------+-----------+----------------+----------------+-------------------------+\n",
      "|  # of websites  |   28  |      31     |    32    |       30      |   28   |       28      |      27      |           32          |     25    |       24       |       28       |            25           |\n",
      "+-----------------+-------+-------------+----------+---------------+--------+---------------+--------------+-----------------------+-----------+----------------+----------------+-------------------------+\n",
      "| Common websites |   9   |      9      |    9     |       9       |   9    |       9       |      9       |           9           |     9     |       9        |       9        |            9            |\n",
      "+-----------------+-------+-------------+----------+---------------+--------+---------------+--------------+-----------------------+-----------+----------------+----------------+-------------------------+\n",
      "|  Normal/Forced  |  23/5 |     26/5    |   29/3   |      28/2     |  25/3  |      22/6     |     24/3     |          27/5         |    23/2   |      22/2      |      24/4      |           20/5          |\n",
      "+-----------------+-------+-------------+----------+---------------+--------+---------------+--------------+-----------------------+-----------+----------------+----------------+-------------------------+\n",
      "|      Median     | 0.741 |    0.351    |  0.230   |     0.287     | 0.349  |     0.244     |    0.351     |         0.362         |   0.413   |     0.191      |     0.402      |          0.391          |\n",
      "+-----------------+-------+-------------+----------+---------------+--------+---------------+--------------+-----------------------+-----------+----------------+----------------+-------------------------+\n",
      "|       Mean      | 0.755 |    0.687    |  0.639   |     0.714     | 0.503  |     0.627     |    0.759     |         0.522         |   0.717   |     0.963      |     0.522      |          0.759          |\n",
      "+-----------------+-------+-------------+----------+---------------+--------+---------------+--------------+-----------------------+-----------+----------------+----------------+-------------------------+\n",
      "|        SD       | 1.202 |    1.105    |  1.078   |     1.111     | 0.561  |     0.983     |    1.109     |         0.581         |   0.929   |     2.090      |     0.550      |          0.935          |\n",
      "+-----------------+-------+-------------+----------+---------------+--------+---------------+--------------+-----------------------+-----------+----------------+----------------+-------------------------+\n",
      "|       Min       | 0.000 |    0.008    |  0.000   |     0.000     | 0.000  |     0.000     |    0.000     |         0.003         |   0.000   |     0.002      |     0.000      |          0.008          |\n",
      "+-----------------+-------+-------------+----------+---------------+--------+---------------+--------------+-----------------------+-----------+----------------+----------------+-------------------------+\n",
      "|       Max       | 7.620 |    7.760    |  7.860   |     6.110     | 2.260  |     6.110     |    7.860     |         2.685         |   6.600   |     14.450     |     2.305      |          2.685          |\n",
      "+-----------------+-------+-------------+----------+---------------+--------+---------------+--------------+-----------------------+-----------+----------------+----------------+-------------------------+\n"
     ]
    }
   ],
   "source": [
    "common_websites = return_common_websites(control_list + test_list, DATA_DIR)\n",
    "\n",
    "persona_stat_map = compute_bid_statistics(control_list + test_list, DATA_DIR, common_websites)\n",
    "table = print_bid_statistics(persona_stat_map, control_list + test_list)\n",
    "\n",
    "ptable_to_csv(table, RESULTS_DIR + 'common-bids.csv')"
   ]
  },
  {
   "cell_type": "markdown",
   "id": "832b4909",
   "metadata": {},
   "source": [
    "### Consider medain bids on websites "
   ]
  },
  {
   "cell_type": "code",
   "execution_count": 32,
   "id": "4e58141f",
   "metadata": {},
   "outputs": [
    {
     "name": "stdout",
     "output_type": "stream",
     "text": [
      "+-----------------+-------+-------------+----------+---------------+--------+---------------+--------------+-----------------------+-----------+----------------+----------------+-------------------------+\n",
      "|     Measure     | Plain | Amazon-Only | No-Skill | Connected-Car | Dating | Fashion-Style | Pets-Animals | Religion-Spirituality | SmartHome | Wine-Beverages | Health-Fitness | Navigation-TripPlanners |\n",
      "+-----------------+-------+-------------+----------+---------------+--------+---------------+--------------+-----------------------+-----------+----------------+----------------+-------------------------+\n",
      "|  # of websites  |   28  |      31     |    32    |       30      |   28   |       28      |      27      |           32          |     25    |       24       |       28       |            25           |\n",
      "+-----------------+-------+-------------+----------+---------------+--------+---------------+--------------+-----------------------+-----------+----------------+----------------+-------------------------+\n",
      "| Common websites |   -   |      -      |    -     |       -       |   -    |       -       |      -       |           -           |     -     |       -        |       -        |            -            |\n",
      "+-----------------+-------+-------------+----------+---------------+--------+---------------+--------------+-----------------------+-----------+----------------+----------------+-------------------------+\n",
      "|  Normal/Forced  |  23/5 |     26/5    |   29/3   |      28/2     |  25/3  |      22/6     |     24/3     |          27/5         |    23/2   |      22/2      |      24/4      |           20/5          |\n",
      "+-----------------+-------+-------------+----------+---------------+--------+---------------+--------------+-----------------------+-----------+----------------+----------------+-------------------------+\n",
      "|      Median     | 0.314 |    0.419    |  0.292   |     0.205     | 0.293  |     0.203     |    0.190     |         0.347         |   0.322   |     0.222      |     0.299      |          0.263          |\n",
      "+-----------------+-------+-------------+----------+---------------+--------+---------------+--------------+-----------------------+-----------+----------------+----------------+-------------------------+\n",
      "|       Mean      | 0.653 |    0.582    |  0.724   |     0.593     | 0.505  |     0.428     |    0.460     |         0.621         |   0.829   |     0.519      |     0.651      |          0.472          |\n",
      "+-----------------+-------+-------------+----------+---------------+--------+---------------+--------------+-----------------------+-----------+----------------+----------------+-------------------------+\n",
      "|        SD       | 0.788 |    0.652    |  1.170   |     0.780     | 0.619  |     0.461     |    0.485     |         0.704         |   1.345   |     0.631      |     1.216      |          0.629          |\n",
      "+-----------------+-------+-------------+----------+---------------+--------+---------------+--------------+-----------------------+-----------+----------------+----------------+-------------------------+\n",
      "|       Min       | 0.000 |    0.000    |  0.015   |     0.009     | 0.010  |     0.001     |    0.048     |         0.018         |   0.018   |     0.000      |     0.000      |          0.000          |\n",
      "+-----------------+-------+-------------+----------+---------------+--------+---------------+--------------+-----------------------+-----------+----------------+----------------+-------------------------+\n",
      "|       Max       | 2.980 |    2.560    |  5.445   |     3.033     | 2.830  |     1.596     |    1.760     |         2.948         |   6.454   |     1.948      |     6.394      |          2.420          |\n",
      "+-----------------+-------+-------------+----------+---------------+--------+---------------+--------------+-----------------------+-----------+----------------+----------------+-------------------------+\n"
     ]
    }
   ],
   "source": [
    "persona_stat_map = compute_bid_statistics(control_list + test_list, DATA_DIR, get_median=True)\n",
    "table = print_bid_statistics(persona_stat_map, control_list + test_list)\n",
    "ptable_to_csv(table, RESULTS_DIR + 'all-median-bids.csv')"
   ]
  },
  {
   "cell_type": "markdown",
   "id": "0a13e997",
   "metadata": {},
   "source": [
    "### Consider medain bids on websites where bids returned for both personas"
   ]
  },
  {
   "cell_type": "code",
   "execution_count": 37,
   "id": "c5adc579",
   "metadata": {},
   "outputs": [
    {
     "name": "stdout",
     "output_type": "stream",
     "text": [
      "+-----------------+-------+-------------+----------+---------------+--------+---------------+--------------+-----------------------+-----------+----------------+----------------+-------------------------+\n",
      "|     Measure     | Plain | Amazon-Only | No-Skill | Connected-Car | Dating | Fashion-Style | Pets-Animals | Religion-Spirituality | SmartHome | Wine-Beverages | Health-Fitness | Navigation-TripPlanners |\n",
      "+-----------------+-------+-------------+----------+---------------+--------+---------------+--------------+-----------------------+-----------+----------------+----------------+-------------------------+\n",
      "|  # of websites  |   28  |      31     |    32    |       30      |   28   |       28      |      27      |           32          |     25    |       24       |       28       |            25           |\n",
      "+-----------------+-------+-------------+----------+---------------+--------+---------------+--------------+-----------------------+-----------+----------------+----------------+-------------------------+\n",
      "| Common websites |   9   |      9      |    9     |       9       |   9    |       9       |      9       |           9           |     9     |       9        |       9        |            9            |\n",
      "+-----------------+-------+-------------+----------+---------------+--------+---------------+--------------+-----------------------+-----------+----------------+----------------+-------------------------+\n",
      "|  Normal/Forced  |  23/5 |     26/5    |   29/3   |      28/2     |  25/3  |      22/6     |     24/3     |          27/5         |    23/2   |      22/2      |      24/4      |           20/5          |\n",
      "+-----------------+-------+-------------+----------+---------------+--------+---------------+--------------+-----------------------+-----------+----------------+----------------+-------------------------+\n",
      "|      Median     | 0.779 |    0.427    |  0.650   |     0.314     | 0.660  |     0.739     |    1.055     |         0.570         |   0.675   |     0.225      |     0.344      |          0.391          |\n",
      "+-----------------+-------+-------------+----------+---------------+--------+---------------+--------------+-----------------------+-----------+----------------+----------------+-------------------------+\n",
      "|       Mean      | 0.569 |    0.644    |  1.070   |     0.560     | 0.655  |     0.635     |    0.874     |         0.783         |   0.724   |     0.708      |     0.711      |          0.601          |\n",
      "+-----------------+-------+-------------+----------+---------------+--------+---------------+--------------+-----------------------+-----------+----------------+----------------+-------------------------+\n",
      "|        SD       | 0.430 |    0.565    |  1.233   |     0.537     | 0.431  |     0.515     |    0.595     |         0.572         |   0.503   |     0.816      |     0.576      |          0.707          |\n",
      "+-----------------+-------+-------------+----------+---------------+--------+---------------+--------------+-----------------------+-----------+----------------+----------------+-------------------------+\n",
      "|       Min       | 0.000 |    0.013    |  0.015   |     0.009     | 0.010  |     0.024     |    0.054     |         0.186         |   0.028   |     0.011      |     0.019      |          0.010          |\n",
      "+-----------------+-------+-------------+----------+---------------+--------+---------------+--------------+-----------------------+-----------+----------------+----------------+-------------------------+\n",
      "|       Max       | 1.135 |    1.760    |  3.940   |     1.300     | 1.334  |     1.336     |    1.760     |         1.631         |   1.421   |     1.948      |     1.508      |          2.311          |\n",
      "+-----------------+-------+-------------+----------+---------------+--------+---------------+--------------+-----------------------+-----------+----------------+----------------+-------------------------+\n"
     ]
    }
   ],
   "source": [
    "common_websites = return_common_websites(control_list + test_list, DATA_DIR)\n",
    "\n",
    "persona_stat_map = compute_bid_statistics(control_list + test_list, DATA_DIR, common_websites, get_median=True)\n",
    "table = print_bid_statistics(persona_stat_map, control_list + test_list)\n",
    "ptable_to_csv(table, RESULTS_DIR + 'common-median-bids.csv')"
   ]
  },
  {
   "cell_type": "code",
   "execution_count": null,
   "id": "fa89c554",
   "metadata": {},
   "outputs": [],
   "source": [
    "common_websites"
   ]
  },
  {
   "cell_type": "code",
   "execution_count": null,
   "id": "9b137ede",
   "metadata": {},
   "outputs": [],
   "source": [
    "for bid_file in test_bid_files:\n",
    "    all_bids = utilities.read_file(bid_file)\n",
    "\n",
    "    for bid in all_bids:\n",
    "        bid_json = json.loads(bid)\n",
    "        print(bid_json)\n",
    "        break\n",
    "    break"
   ]
  },
  {
   "cell_type": "code",
   "execution_count": null,
   "id": "ab9c0fb4",
   "metadata": {},
   "outputs": [],
   "source": []
  },
  {
   "cell_type": "code",
   "execution_count": null,
   "id": "34859a7c",
   "metadata": {},
   "outputs": [],
   "source": [
    "ttest(common_control_cpms, common_test_cpms)"
   ]
  }
 ],
 "metadata": {
  "kernelspec": {
   "display_name": "Python 3 (ipykernel)",
   "language": "python",
   "name": "python3"
  },
  "language_info": {
   "codemirror_mode": {
    "name": "ipython",
    "version": 3
   },
   "file_extension": ".py",
   "mimetype": "text/x-python",
   "name": "python",
   "nbconvert_exporter": "python",
   "pygments_lexer": "ipython3",
   "version": "3.8.10"
  }
 },
 "nbformat": 4,
 "nbformat_minor": 5
}
