{
 "cells": [
  {
   "cell_type": "code",
   "execution_count": 1,
   "id": "684f6e3c",
   "metadata": {},
   "outputs": [],
   "source": [
    "# !pip3 install prettytable"
   ]
  },
  {
   "cell_type": "code",
   "execution_count": 2,
   "id": "9242c4d6",
   "metadata": {},
   "outputs": [],
   "source": [
    "import utilities\n",
    "import os\n",
    "import json\n",
    "from collections import OrderedDict\n",
    "from prettytable import PrettyTable"
   ]
  },
  {
   "cell_type": "markdown",
   "id": "6556a4f1",
   "metadata": {},
   "source": [
    "### Directory/file addresses & file read/writes"
   ]
  },
  {
   "cell_type": "code",
   "execution_count": 3,
   "id": "6aeb1a10",
   "metadata": {},
   "outputs": [],
   "source": [
    "data_dir = 'data/'\n",
    "skills_addr = os.path.join(data_dir,'us_skills_raw.json')"
   ]
  },
  {
   "cell_type": "code",
   "execution_count": 4,
   "id": "9662ad41",
   "metadata": {},
   "outputs": [],
   "source": [
    "all_skills_raw = utilities.read_file(skills_addr)"
   ]
  },
  {
   "cell_type": "markdown",
   "id": "a11670bd",
   "metadata": {},
   "source": [
    "### Processing raw skills"
   ]
  },
  {
   "cell_type": "code",
   "execution_count": 5,
   "id": "6fe02387",
   "metadata": {},
   "outputs": [],
   "source": [
    "def process_skills(all_skills_raw):\n",
    "    all_skills = {}\n",
    "\n",
    "    for skill in all_skills_raw:\n",
    "        try:\n",
    "            skill_json = json.loads(skill)\n",
    "            skill_id = skill_json['Skill_link'].split('/')[-2]\n",
    "\n",
    "            all_skills[skill_id] = {}\n",
    "            all_skills[skill_id] = skill_json\n",
    "        except:\n",
    "            print('Encountered an error while processing:', skill)\n",
    "            break\n",
    "    return all_skills"
   ]
  },
  {
   "cell_type": "code",
   "execution_count": 6,
   "id": "010dda0c",
   "metadata": {},
   "outputs": [],
   "source": [
    "all_skills = process_skills(all_skills_raw)"
   ]
  },
  {
   "cell_type": "code",
   "execution_count": 7,
   "id": "c5afc4ee",
   "metadata": {},
   "outputs": [
    {
     "data": {
      "text/plain": [
       "61364"
      ]
     },
     "execution_count": 7,
     "metadata": {},
     "output_type": "execute_result"
    }
   ],
   "source": [
    "len(all_skills)"
   ]
  },
  {
   "cell_type": "markdown",
   "id": "5553e0f5",
   "metadata": {},
   "source": [
    "### Skill json structure\n",
    "\n",
    "    'Main Category': 'Business & Finance',\n",
    "    'SubCategory': 'Business & Finance',\n",
    "    'Sample_Invocation_Utterances': ['“Alexa, ask PayPal to check my balance”', ... ],\n",
    "    'Name': 'PayPal',\n",
    "    'Developer': 'by PayPal',\n",
    "    'Skill_permission': [],\n",
    "    'Account_linking': 'Account linking required',\n",
    "    'Review_Count': None,\n",
    "    'Rating': '4.4 out of 5 stars',\n",
    "    'Total_customer_that_rate_the_skill': '217',\n",
    "    'Total_Customers_Reviews': '',\n",
    "    'Cost': 'Free to Enable',\n",
    "    'In_skill_purchase': None,\n",
    "    'Skill_description': 'Description\\nWant to send or request m...',\n",
    "    'Skill_link': 'https://www.amazon.com/PayPal/dp/B075764QCX/ref=lp_14284819011_1_1?s=digital-skills&ie=UTF8&qid=1602769443&sr=1-1',\n",
    "    'privacy_policy': 'https://www.paypal.com/us/webapps/mpp/ua/privacy-full',\n",
    "    'Terms_of_use': 'https://www.paypal.com/us/webapps/mpp/ua/useragreement-full'}"
   ]
  },
  {
   "cell_type": "code",
   "execution_count": 8,
   "id": "1e563ed7",
   "metadata": {},
   "outputs": [],
   "source": [
    "def get_skill_categories(all_skills):\n",
    "    categories = {}\n",
    "    sub_categories = {}\n",
    "\n",
    "    for key in all_skills:\n",
    "        category = all_skills[key]['Main Category']\n",
    "        sub_category = all_skills[key]['SubCategory']\n",
    "\n",
    "        if category not in categories:\n",
    "            categories[category] = 0\n",
    "\n",
    "        if sub_category not in sub_categories:\n",
    "            sub_categories[sub_category] = 0\n",
    "\n",
    "        categories[category] += 1\n",
    "        sub_categories[sub_category] += 1\n",
    "    return categories, sub_categories"
   ]
  },
  {
   "cell_type": "code",
   "execution_count": 9,
   "id": "05aea353",
   "metadata": {},
   "outputs": [],
   "source": [
    "categories, sub_categories = get_skill_categories(all_skills)\n",
    "\n",
    "ordered_categories = OrderedDict(sorted(categories.items(), key=lambda k: k[1], reverse=True))\n",
    "ordered_sub_categories = OrderedDict(sorted(sub_categories.items(), key=lambda k: k[1], reverse=True))"
   ]
  },
  {
   "cell_type": "code",
   "execution_count": 10,
   "id": "fb69b726",
   "metadata": {},
   "outputs": [],
   "source": [
    "def print_table(ordered_dict, count_limit = 20):\n",
    "    count = 0\n",
    "    t = PrettyTable(['Skill category', '# of skills'])\n",
    "    for item in ordered_dict:\n",
    "        t.add_row([item, ordered_dict[item]])\n",
    "    print(t)"
   ]
  },
  {
   "cell_type": "code",
   "execution_count": 11,
   "id": "26124b3e",
   "metadata": {},
   "outputs": [
    {
     "name": "stdout",
     "output_type": "stream",
     "text": [
      "+-------------------------+-------------+\n",
      "|      Skill category     | # of skills |\n",
      "+-------------------------+-------------+\n",
      "|      Games & Trivia     |    12114    |\n",
      "|      Music & Audio      |     8328    |\n",
      "|        Lifestyle        |     7340    |\n",
      "|  Education & Reference  |     5115    |\n",
      "|           News          |     5025    |\n",
      "|    Business & Finance   |     3672    |\n",
      "|     Novelty & Humor     |     2920    |\n",
      "|        Smart Home       |     2417    |\n",
      "|           Kids          |     2270    |\n",
      "|     Health & Fitness    |     2166    |\n",
      "|          Social         |     1749    |\n",
      "|       Productivity      |     1362    |\n",
      "|       Food & Drink      |     1356    |\n",
      "|          Sports         |     1300    |\n",
      "|        Utilities        |     1226    |\n",
      "| Travel & Transportation |     1205    |\n",
      "|         Weather         |     715     |\n",
      "|         Shopping        |     390     |\n",
      "|       Movies & TV       |     381     |\n",
      "|          Local          |     181     |\n",
      "|      Connected Car      |     132     |\n",
      "+-------------------------+-------------+\n",
      "+--------------------------------------------+-------------+\n",
      "|               Skill category               | # of skills |\n",
      "+--------------------------------------------+-------------+\n",
      "|           Education & Reference            |     6673    |\n",
      "|             Knowledge & Trivia             |     6625    |\n",
      "|             Streaming Services             |     5901    |\n",
      "|                    News                    |     5859    |\n",
      "|                   Games                    |     4459    |\n",
      "|          Religion & Spirituality           |     4120    |\n",
      "|             Business & Finance             |     3672    |\n",
      "|              Novelty & Humor               |     3329    |\n",
      "|                 Smart Home                 |     2417    |\n",
      "|              Health & Fitness              |     2166    |\n",
      "|              Self Improvement              |     1846    |\n",
      "|                  Podcasts                  |     1483    |\n",
      "|          Organizers & Assistants           |     1162    |\n",
      "|          Game Info & Accessories           |     1042    |\n",
      "|              Friends & Family              |     954     |\n",
      "|         Navigation & Trip Planners         |     794     |\n",
      "|                  Weather                   |     715     |\n",
      "|             Cooking & Recipes              |     646     |\n",
      "|               Communication                |     551     |\n",
      "|              Alarms & Clocks               |     493     |\n",
      "|                Accessories                 |     486     |\n",
      "| Music Info, Reviews & Recognition Services |     457     |\n",
      "|           Calendars & Reminders            |     416     |\n",
      "|                  Shopping                  |     390     |\n",
      "|               Pets & Animals               |     346     |\n",
      "|               Home Services                |     325     |\n",
      "|               Event Finders                |     319     |\n",
      "|     Restaurant Booking, Info & Reviews     |     314     |\n",
      "|             Exercise & Workout             |     309     |\n",
      "|              Wine & Beverages              |     289     |\n",
      "|           Public Transportation            |     275     |\n",
      "|            Movie Info & Reviews            |     270     |\n",
      "|               Music & Audio                |     230     |\n",
      "|              Fashion & Style               |     230     |\n",
      "|            To-Do Lists & Notes             |     194     |\n",
      "|                  Schools                   |     171     |\n",
      "|                Calculators                 |     167     |\n",
      "|                 Astrology                  |     154     |\n",
      "|             Social Networking              |     149     |\n",
      "|               Score Keeping                |     137     |\n",
      "|               Connected Car                |     132     |\n",
      "|                   Dating                   |      92     |\n",
      "|             Delivery & Takeout             |      91     |\n",
      "|                 TV Guides                  |      79     |\n",
      "|              Unit Converters               |      54     |\n",
      "|              Device Tracking               |      52     |\n",
      "|               Flight Finders               |      39     |\n",
      "|              Movie Showtimes               |      29     |\n",
      "|        Currency Guides & Converters        |      28     |\n",
      "|                 Utilities                  |      28     |\n",
      "|                    Kids                    |      26     |\n",
      "|               Hotel Finders                |      23     |\n",
      "|             Taxi & Ridesharing             |      23     |\n",
      "|                  Stories                   |      22     |\n",
      "|                   Sports                   |      20     |\n",
      "|                Translators                 |      17     |\n",
      "|                Food & Drink                |      16     |\n",
      "|              Zip Code Lookup               |      16     |\n",
      "|                  Holidays                  |      11     |\n",
      "|                   Local                    |      10     |\n",
      "|                Productivity                |      6      |\n",
      "|          Travel & Transportation           |      6      |\n",
      "|                Movies & TV                 |      3      |\n",
      "|                   Social                   |      3      |\n",
      "|             Health & Wellness              |      2      |\n",
      "|               Games & Trivia               |      1      |\n",
      "+--------------------------------------------+-------------+\n"
     ]
    }
   ],
   "source": [
    "print_table(ordered_categories)\n",
    "print_table(ordered_sub_categories)"
   ]
  },
  {
   "cell_type": "code",
   "execution_count": null,
   "id": "b87457c1",
   "metadata": {},
   "outputs": [],
   "source": []
  }
 ],
 "metadata": {
  "kernelspec": {
   "display_name": "Python 3 (ipykernel)",
   "language": "python",
   "name": "python3"
  },
  "language_info": {
   "codemirror_mode": {
    "name": "ipython",
    "version": 3
   },
   "file_extension": ".py",
   "mimetype": "text/x-python",
   "name": "python",
   "nbconvert_exporter": "python",
   "pygments_lexer": "ipython3",
   "version": "3.9.5"
  }
 },
 "nbformat": 4,
 "nbformat_minor": 5
}
