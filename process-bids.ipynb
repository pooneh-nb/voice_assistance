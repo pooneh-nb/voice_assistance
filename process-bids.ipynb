{
 "cells": [
  {
   "cell_type": "code",
   "execution_count": 1,
   "id": "a0c91801",
   "metadata": {},
   "outputs": [],
   "source": [
    "import utilities\n",
    "import os\n",
    "import json\n",
    "import statistics\n",
    "from prettytable import PrettyTable\n",
    "from prettytable import ALL as ALL\n",
    "# from scipy.stats import ttest_ind as ttest"
   ]
  },
  {
   "cell_type": "code",
   "execution_count": 2,
   "id": "29126ece",
   "metadata": {},
   "outputs": [],
   "source": [
    "# !pip3 install prettytable"
   ]
  },
  {
   "cell_type": "code",
   "execution_count": 478,
   "id": "46f366e2",
   "metadata": {},
   "outputs": [],
   "source": [
    "DATA_DIR = '/media/umar/Data/work/voice-assistant-central/voice-assistants-openwpm/'\n",
    "# DATA_DIR = '/media/umar/Data/work/voice-assistant-central/data/crawled-data-first-interaction/'\n",
    "# DATA_DIR = '/media/umar/Data/work/voice-assistant-central/data/crawled-data-sixth-trained/'\n",
    "RESULTS_DIR = '/media/umar/Data/work/voice-assistant-central/data/results/'"
   ]
  },
  {
   "cell_type": "markdown",
   "id": "20f36534",
   "metadata": {},
   "source": [
    "### Personas\n",
    "```\n",
    "Connected-Car\n",
    "Dating\n",
    "Fashion-Style\n",
    "Pets-Animals\n",
    "Religion-Spirituality\n",
    "SmartHome\n",
    "Wine-Beverages\n",
    "Health-Fitness\n",
    "Navigation-TripPlanners\n",
    "```"
   ]
  },
  {
   "cell_type": "code",
   "execution_count": 358,
   "id": "36da8ded",
   "metadata": {},
   "outputs": [],
   "source": [
    "# control_list = ['Plain', 'Plain-One', 'Plain-Two','Plain-Save-Profile', 'Amazon-Only', 'No-Skill', 'Synthetic-Health', 'Synthetic-Science', 'Synthetic-Computers']\n",
    "control_list = ['Plain', 'Plain-One', 'Plain-Two', 'Amazon-Only', 'No-Skill', 'Synthetic-Health', 'Synthetic-Science', 'Synthetic-Computers']\n",
    "# control_list = ['Plain', 'Plain-One', 'Plain-Two', 'Amazon-Only', 'No-Skill']\n",
    "\n",
    "# \n",
    "# control_list = ['Plain', 'Amazon-Only', 'No-Skill']\n",
    "test_list = ['Connected-Car', 'Dating', 'Fashion-Style', 'Pets-Animals', 'Religion-Spirituality', 'SmartHome', 'Wine-Beverages','Health-Fitness', 'Navigation-TripPlanners']"
   ]
  },
  {
   "cell_type": "code",
   "execution_count": 521,
   "id": "91207adf",
   "metadata": {},
   "outputs": [],
   "source": [
    "def get_forced_normal_websites_with_bids(bid_files):\n",
    "    forced_count = 0\n",
    "    normal_count = 0\n",
    "    for bid_file in bid_files:\n",
    "        if 'FORCED' in bid_file:\n",
    "            forced_count += 1\n",
    "        else:\n",
    "            normal_count += 1\n",
    "\n",
    "    return str(normal_count) + '/' + str(forced_count)\n",
    "\n",
    "\n",
    "def get_websites_with_bids(bid_files):\n",
    "    websites_with_bids = []\n",
    "    for bid_file in bid_files:\n",
    "        websites_with_bids.append(bid_file.rsplit('/', 1)[1].rsplit('_', 1)[1])\n",
    "\n",
    "    return websites_with_bids\n",
    "\n",
    "\n",
    "def return_bid_cpms(bid_files):\n",
    "    bid_cpms = []\n",
    "    for bid_file in bid_files:\n",
    "        all_bids = utilities.read_file(bid_file)\n",
    "\n",
    "        for bid in all_bids:\n",
    "            bid_json = json.loads(bid)\n",
    "            bid_cpms.append(bid_json['cpm'])\n",
    "    \n",
    "    return bid_cpms\n",
    "\n",
    "\n",
    "def return_bid_cpms_websites(bid_files, websites = []):\n",
    "    bid_cpms = []\n",
    "    \n",
    "    for bid_file in bid_files:\n",
    "        bid_website = bid_file.rsplit('/', 1)[1].rsplit('_', 1)[1]\n",
    "        \n",
    "        if len(websites) > 0 and bid_website not in websites:\n",
    "            continue\n",
    "            \n",
    "        all_bids = utilities.read_file(bid_file)\n",
    "\n",
    "        for bid in all_bids:\n",
    "            bid_json = json.loads(bid)\n",
    "            bid_cpms.append(bid_json['cpm'])\n",
    "    \n",
    "    return bid_cpms\n",
    "\n",
    "\n",
    "def return_bid_cpms_advertisers(bid_files, advertisers, websites = []):\n",
    "    bid_cpms = {}\n",
    "    \n",
    "    for bid_file in bid_files:\n",
    "        bid_website = bid_file.rsplit('/', 1)[1].rsplit('_', 1)[1]\n",
    "        \n",
    "        if len(websites) > 0 and bid_website not in websites:\n",
    "            continue\n",
    "            \n",
    "        all_bids = utilities.read_file(bid_file)\n",
    "\n",
    "        for bid in all_bids:\n",
    "            bid_json = json.loads(bid)\n",
    "            \n",
    "            if bid_json['bidder'] not in advertisers:\n",
    "                continue\n",
    "            \n",
    "            if bid_json['bidder'] not in bid_cpms:\n",
    "                bid_cpms[bid_json['bidder']] = []\n",
    "            \n",
    "            bid_cpms[bid_json['bidder']].append(bid_json['cpm'])\n",
    "    \n",
    "    return bid_cpms\n",
    "\n",
    "\n",
    "def return_bid_cpms_debug(bid_files, advertisers, websites = []):\n",
    "    bid_cpms = {}\n",
    "    \n",
    "    for bid_file in bid_files:\n",
    "        bid_website = bid_file.rsplit('/', 1)[1].rsplit('_', 1)[1]\n",
    "        \n",
    "        if len(websites) > 0 and bid_website not in websites:\n",
    "            continue\n",
    "            \n",
    "        all_bids = utilities.read_file(bid_file)\n",
    "\n",
    "        for bid in all_bids:\n",
    "            bid_json = json.loads(bid)\n",
    "            \n",
    "            if bid_json['bidder'] not in advertisers:\n",
    "                continue\n",
    "            \n",
    "            if bid_json['bidder'] not in bid_cpms:\n",
    "                bid_cpms[bid_json['bidder']] = []\n",
    "            \n",
    "            bid_cpms[bid_json['bidder']].append((bid_json['cpm'], bid_file.rsplit('/')[-1]))\n",
    "    \n",
    "    return bid_cpms\n",
    "\n",
    "\n",
    "def return_median_cpms(bid_files):\n",
    "    bid_cpms = []\n",
    "    for bid_file in bid_files:\n",
    "        all_bids = utilities.read_file(bid_file)\n",
    "        \n",
    "        current_bid_cpms = []\n",
    "        for bid in all_bids:\n",
    "            bid_json = json.loads(bid)\n",
    "            current_bid_cpms.append(bid_json['cpm'])\n",
    "            \n",
    "        bid_cpms.append(statistics.median(current_bid_cpms))\n",
    "    \n",
    "    return bid_cpms\n",
    "\n",
    "\n",
    "def return_median_cpms_websites(bid_files, websites = []):\n",
    "    bid_cpms = []\n",
    "    for bid_file in bid_files:\n",
    "        all_bids = utilities.read_file(bid_file)\n",
    "        \n",
    "        bid_website = bid_file.rsplit('/', 1)[1].rsplit('_', 1)[1]\n",
    "        if len(websites) > 0 and bid_website not in websites:\n",
    "            continue\n",
    "            \n",
    "        current_bid_cpms = []\n",
    "        for bid in all_bids:\n",
    "            bid_json = json.loads(bid)\n",
    "            current_bid_cpms.append(bid_json['cpm'])\n",
    "            \n",
    "        bid_cpms.append(statistics.median(current_bid_cpms))\n",
    "    \n",
    "    return bid_cpms\n",
    "\n",
    "\n",
    "def return_median_cpms_advertisers(bid_files, advertisers, websites = []):\n",
    "    bid_cpms = {}\n",
    "    \n",
    "    for bid_file in bid_files:\n",
    "        all_bids = utilities.read_file(bid_file)\n",
    "        \n",
    "        bid_website = bid_file.rsplit('/', 1)[1].rsplit('_', 1)[1]\n",
    "        if len(websites) > 0 and bid_website not in websites:\n",
    "            continue\n",
    "            \n",
    "        current_bid_cpms = {}\n",
    "        for bid in all_bids:\n",
    "            bid_json = json.loads(bid)\n",
    "            \n",
    "            if bid_json['bidder'] not in advertisers:\n",
    "                continue\n",
    "            \n",
    "            if bid_json['bidder'] not in bid_cpms:\n",
    "                bid_cpms[bid_json['bidder']] = []\n",
    "            \n",
    "            if bid_json['bidder'] not in current_bid_cpms:\n",
    "                current_bid_cpms[bid_json['bidder']] = []\n",
    "            \n",
    "            current_bid_cpms[bid_json['bidder']].append(bid_json['cpm'])\n",
    "         \n",
    "        for bidder in current_bid_cpms:\n",
    "            bid_cpms[bidder].append(statistics.median(current_bid_cpms[bidder]))\n",
    "    \n",
    "    return bid_cpms\n",
    "\n",
    "\n",
    "def return_common_websites(persona_list, data_dir):\n",
    "    persona_dir = os.path.join(data_dir, persona_list[0] + '/website_bids/')\n",
    "    common_websites = set(get_websites_with_bids(utilities.get_files_in_a_directory(persona_dir)))\n",
    "    \n",
    "    for persona in persona_list[1:]:\n",
    "        persona_dir = os.path.join(data_dir, persona + '/website_bids/')\n",
    "        candidates = get_websites_with_bids(utilities.get_files_in_a_directory(persona_dir))\n",
    "        common_websites = common_websites.intersection(candidates)\n",
    "        \n",
    "    return common_websites\n",
    "\n",
    "\n",
    "def ptable_to_csv(table, filename, headers=True):\n",
    "    \"\"\"Save PrettyTable results to a CSV file.\n",
    "\n",
    "    Adapted from @AdamSmith https://stackoverflow.com/questions/32128226\n",
    "\n",
    "    :param PrettyTable table: Table object to get data from.\n",
    "    :param str filename: Filepath for the output CSV.\n",
    "    :param bool headers: Whether to include the header row in the CSV.\n",
    "    :return: None\n",
    "    \"\"\"\n",
    "    raw = table.get_string()\n",
    "    data = [tuple(filter(None, map(str.strip, splitline)))\n",
    "            for line in raw.splitlines()\n",
    "            for splitline in [line.split('|')] if len(splitline) > 1]\n",
    "    if table.title is not None:\n",
    "        data = data[1:]\n",
    "    if not headers:\n",
    "        data = data[1:]\n",
    "    with open(filename, 'w') as f:\n",
    "        for d in data:\n",
    "            f.write('{}\\n'.format(','.join(d)))"
   ]
  },
  {
   "cell_type": "markdown",
   "id": "e7728bc5",
   "metadata": {},
   "source": [
    "### Reading bids for personas"
   ]
  },
  {
   "cell_type": "code",
   "execution_count": 522,
   "id": "42e9efc2",
   "metadata": {},
   "outputs": [],
   "source": [
    "def compute_bid_statistics(persona_list, data_dir, common_websites=[], get_median=False):\n",
    "    persona_stat_map = {}\n",
    "    cpms_personas = {}\n",
    "    \n",
    "    for persona in persona_list:\n",
    "        persona_stat_map[persona] = {}\n",
    "        cpms_personas[persona] = set()\n",
    "        \n",
    "        persona_dir = os.path.join(data_dir, persona + '/website_bids/')\n",
    "        \n",
    "        bid_files_raw = utilities.get_files_in_a_directory(persona_dir)\n",
    "        bid_files = []\n",
    "        bid_files =  bid_files_raw\n",
    "        \n",
    "#         for item in bid_files_raw:\n",
    "#             if int(item.rsplit('_',3)[1]) < 840:\n",
    "#                 bid_files.append(item)\n",
    "            \n",
    "        \n",
    "        persona_stat_map[persona]['normal-forced'] = get_forced_normal_websites_with_bids(bid_files)\n",
    "        \n",
    "        if get_median:\n",
    "            cpms = return_median_cpms_websites(bid_files, common_websites)\n",
    "        else:\n",
    "            cpms = return_bid_cpms_websites(bid_files, common_websites)\n",
    "            \n",
    "        cpms_personas[persona] = cpms\n",
    "\n",
    "        persona_stat_map[persona]['median'] = \"{0:0.3f}\".format(statistics.median(cpms))\n",
    "        persona_stat_map[persona]['mean'] = \"{0:0.3f}\".format(statistics.mean(cpms))\n",
    "        persona_stat_map[persona]['min'] = \"{0:0.3f}\".format(min(cpms))\n",
    "        persona_stat_map[persona]['max'] = \"{0:0.3f}\".format(max(cpms))\n",
    "        persona_stat_map[persona]['sd'] = \"{0:0.3f}\".format(statistics.stdev(cpms))\n",
    "\n",
    "        persona_stat_map[persona]['total_bids'] = len(cpms)\n",
    "        normal, forced = persona_stat_map[persona]['normal-forced'].split('/')\n",
    "        persona_stat_map[persona]['total_websites'] = int(normal) + int(forced)\n",
    "        \n",
    "        persona_stat_map[persona]['common_websites'] = len(common_websites) if len(common_websites) > 0 else '-'\n",
    "\n",
    "    return persona_stat_map, cpms_personas"
   ]
  },
  {
   "cell_type": "code",
   "execution_count": 523,
   "id": "19549b90",
   "metadata": {},
   "outputs": [],
   "source": [
    "def print_bid_statistics(persona_stat_map, persona_list):\n",
    "    \n",
    "    table = PrettyTable(['Measure'] + persona_list, hrules=ALL)\n",
    "    \n",
    "    table.add_row(['# of websites'] + [persona_stat_map[persona]['total_websites'] for persona in persona_list])\n",
    "    table.add_row(['Common websites'] + [persona_stat_map[persona]['common_websites'] for persona in persona_list])\n",
    "    table.add_row(['Normal/Forced'] + [persona_stat_map[persona]['normal-forced'] for persona in persona_list])\n",
    "    table.add_row(['# of bids'] + [persona_stat_map[persona]['total_bids'] for persona in persona_list])\n",
    "        \n",
    "    table.add_row(['Median'] + [persona_stat_map[persona]['median'] for persona in persona_list])\n",
    "\n",
    "    table.add_row(['Mean'] + [persona_stat_map[persona]['mean'] for persona in persona_list])\n",
    "    table.add_row(['SD'] + [persona_stat_map[persona]['sd'] for persona in persona_list])\n",
    "    table.add_row(['Min'] + [persona_stat_map[persona]['min'] for persona in persona_list])\n",
    "    table.add_row(['Max'] + [persona_stat_map[persona]['max'] for persona in persona_list])\n",
    "    \n",
    "    print(table)\n",
    "    \n",
    "    return table"
   ]
  },
  {
   "cell_type": "markdown",
   "id": "36b0b967",
   "metadata": {},
   "source": [
    "## Consider all websites and all bids"
   ]
  },
  {
   "cell_type": "code",
   "execution_count": 524,
   "id": "1f0b3aba",
   "metadata": {
    "scrolled": false
   },
   "outputs": [
    {
     "name": "stdout",
     "output_type": "stream",
     "text": [
      "+-----------------+--------+-----------+-----------+-------------+----------+------------------+-------------------+---------------------+---------------+--------+---------------+--------------+-----------------------+-----------+----------------+----------------+-------------------------+\n",
      "|     Measure     | Plain  | Plain-One | Plain-Two | Amazon-Only | No-Skill | Synthetic-Health | Synthetic-Science | Synthetic-Computers | Connected-Car | Dating | Fashion-Style | Pets-Animals | Religion-Spirituality | SmartHome | Wine-Beverages | Health-Fitness | Navigation-TripPlanners |\n",
      "+-----------------+--------+-----------+-----------+-------------+----------+------------------+-------------------+---------------------+---------------+--------+---------------+--------------+-----------------------+-----------+----------------+----------------+-------------------------+\n",
      "|  # of websites  |   43   |     35    |     30    |      31     |    32    |        48        |         35        |          41         |       34      |   41   |       34      |      40      |           45          |     38    |       42       |       47       |            38           |\n",
      "+-----------------+--------+-----------+-----------+-------------+----------+------------------+-------------------+---------------------+---------------+--------+---------------+--------------+-----------------------+-----------+----------------+----------------+-------------------------+\n",
      "| Common websites |   -    |     -     |     -     |      -      |    -     |        -         |         -         |          -          |       -       |   -    |       -       |      -       |           -           |     -     |       -        |       -        |            -            |\n",
      "+-----------------+--------+-----------+-----------+-------------+----------+------------------+-------------------+---------------------+---------------+--------+---------------+--------------+-----------------------+-----------+----------------+----------------+-------------------------+\n",
      "|  Normal/Forced  | 30/13  |   25/10   |    24/6   |     26/5    |   25/7   |      37/11       |        30/5       |         34/7        |      25/9     |  34/7  |      26/8     |     32/8     |          39/6         |    31/7   |      34/8      |      42/5      |           29/9          |\n",
      "+-----------------+--------+-----------+-----------+-------------+----------+------------------+-------------------+---------------------+---------------+--------+---------------+--------------+-----------------------+-----------+----------------+----------------+-------------------------+\n",
      "|    # of bids    |  145   |     74    |     71    |      72     |    87    |       182        |        120        |         146         |       94      |  216   |       90      |      94      |          304          |    101    |       93       |      367       |            91           |\n",
      "+-----------------+--------+-----------+-----------+-------------+----------+------------------+-------------------+---------------------+---------------+--------+---------------+--------------+-----------------------+-----------+----------------+----------------+-------------------------+\n",
      "|      Median     | 0.161  |   0.052   |   0.040   |    0.110    |  0.124   |      0.089       |       0.097       |        0.117        |     0.092     | 0.080  |     0.081     |    0.176     |         0.120         |   0.083   |     0.077      |     0.135      |          0.095          |\n",
      "+-----------------+--------+-----------+-----------+-------------+----------+------------------+-------------------+---------------------+---------------+--------+---------------+--------------+-----------------------+-----------+----------------+----------------+-------------------------+\n",
      "|       Mean      | 2.066  |   0.260   |   0.352   |    0.482    |  0.234   |      0.413       |       0.584       |        0.446        |     0.345     | 0.214  |     0.306     |    0.500     |         0.457         |   0.557   |     0.216      |     0.451      |          0.275          |\n",
      "+-----------------+--------+-----------+-----------+-------------+----------+------------------+-------------------+---------------------+---------------+--------+---------------+--------------+-----------------------+-----------+----------------+----------------+-------------------------+\n",
      "|        SD       | 5.644  |   0.507   |   1.911   |    1.122    |  0.309   |      0.985       |       0.953       |        0.807        |     0.583     | 0.328  |     0.523     |    0.770     |         2.935         |   2.695   |     0.411      |     1.022      |          0.480          |\n",
      "+-----------------+--------+-----------+-----------+-------------+----------+------------------+-------------------+---------------------+---------------+--------+---------------+--------------+-----------------------+-----------+----------------+----------------+-------------------------+\n",
      "|       Min       | 0.000  |   0.000   |   0.000   |    0.000    |  0.000   |      0.000       |       0.000       |        0.000        |     0.000     | 0.000  |     0.000     |    0.000     |         0.000         |   0.000   |     0.000      |     0.000      |          0.000          |\n",
      "+-----------------+--------+-----------+-----------+-------------+----------+------------------+-------------------+---------------------+---------------+--------+---------------+--------------+-----------------------+-----------+----------------+----------------+-------------------------+\n",
      "|       Max       | 33.190 |   2.759   |   16.082  |    8.041    |  1.392   |      6.892       |       4.885       |        6.892        |     3.685     | 2.061  |     2.257     |    3.850     |         50.543        |   26.937  |     2.251      |     9.437      |          2.726          |\n",
      "+-----------------+--------+-----------+-----------+-------------+----------+------------------+-------------------+---------------------+---------------+--------+---------------+--------------+-----------------------+-----------+----------------+----------------+-------------------------+\n"
     ]
    }
   ],
   "source": [
    "persona_stat_map, cpms_personas = compute_bid_statistics(control_list + test_list, DATA_DIR)\n",
    "table = print_bid_statistics(persona_stat_map, control_list + test_list)\n",
    "ptable_to_csv(table, RESULTS_DIR + 'all-bids.csv')"
   ]
  },
  {
   "cell_type": "markdown",
   "id": "9c127f2b",
   "metadata": {},
   "source": [
    "### Consider bids on websites where bids returned for all personas"
   ]
  },
  {
   "cell_type": "code",
   "execution_count": 538,
   "id": "83fd012b",
   "metadata": {},
   "outputs": [
    {
     "name": "stdout",
     "output_type": "stream",
     "text": [
      "+-----------------+-------+-----------+-----------+-------------+----------+------------------+-------------------+---------------------+---------------+--------+---------------+--------------+-----------------------+-----------+----------------+----------------+-------------------------+\n",
      "|     Measure     | Plain | Plain-One | Plain-Two | Amazon-Only | No-Skill | Synthetic-Health | Synthetic-Science | Synthetic-Computers | Connected-Car | Dating | Fashion-Style | Pets-Animals | Religion-Spirituality | SmartHome | Wine-Beverages | Health-Fitness | Navigation-TripPlanners |\n",
      "+-----------------+-------+-----------+-----------+-------------+----------+------------------+-------------------+---------------------+---------------+--------+---------------+--------------+-----------------------+-----------+----------------+----------------+-------------------------+\n",
      "|  # of websites  |   43  |     35    |     30    |      31     |    32    |        48        |         35        |          41         |       34      |   41   |       34      |      40      |           45          |     38    |       42       |       47       |            38           |\n",
      "+-----------------+-------+-----------+-----------+-------------+----------+------------------+-------------------+---------------------+---------------+--------+---------------+--------------+-----------------------+-----------+----------------+----------------+-------------------------+\n",
      "| Common websites |   6   |     6     |     6     |      6      |    6     |        6         |         6         |          6          |       6       |   6    |       6       |      6       |           6           |     6     |       6        |       6        |            6            |\n",
      "+-----------------+-------+-----------+-----------+-------------+----------+------------------+-------------------+---------------------+---------------+--------+---------------+--------------+-----------------------+-----------+----------------+----------------+-------------------------+\n",
      "|  Normal/Forced  | 30/13 |   25/10   |    24/6   |     26/5    |   25/7   |      37/11       |        30/5       |         34/7        |      25/9     |  34/7  |      26/8     |     32/8     |          39/6         |    31/7   |      34/8      |      42/5      |           29/9          |\n",
      "+-----------------+-------+-----------+-----------+-------------+----------+------------------+-------------------+---------------------+---------------+--------+---------------+--------------+-----------------------+-----------+----------------+----------------+-------------------------+\n",
      "|    # of bids    |   13  |     10    |     8     |      14     |    17    |        17        |         15        |          10         |       17      |   29   |       10      |      14      |           26          |     11    |       9        |       29       |            18           |\n",
      "+-----------------+-------+-----------+-----------+-------------+----------+------------------+-------------------+---------------------+---------------+--------+---------------+--------------+-----------------------+-----------+----------------+----------------+-------------------------+\n",
      "|      Median     | 0.016 |   0.011   |   0.011   |    0.131    |  0.062   |      0.140       |       0.020       |        0.043        |     0.022     | 0.157  |     0.061     |    0.172     |         0.097         |   0.146   |     0.048      |     0.094      |          0.069          |\n",
      "+-----------------+-------+-----------+-----------+-------------+----------+------------------+-------------------+---------------------+---------------+--------+---------------+--------------+-----------------------+-----------+----------------+----------------+-------------------------+\n",
      "|       Mean      | 0.155 |   0.087   |   0.088   |    0.419    |  0.096   |      0.267       |       0.321       |        0.241        |     0.103     | 0.207  |     0.307     |    0.536     |         0.404         |   0.509   |     0.299      |     0.422      |          0.286          |\n",
      "+-----------------+-------+-----------+-----------+-------------+----------+------------------+-------------------+---------------------+---------------+--------+---------------+--------------+-----------------------+-----------+----------------+----------------+-------------------------+\n",
      "|        SD       | 0.388 |   0.178   |   0.189   |    0.666    |  0.128   |      0.436       |       0.646       |        0.470        |     0.142     | 0.230  |     0.575     |    0.734     |         0.802         |   0.698   |     0.712      |     0.643      |          0.648          |\n",
      "+-----------------+-------+-----------+-----------+-------------+----------+------------------+-------------------+---------------------+---------------+--------+---------------+--------------+-----------------------+-----------+----------------+----------------+-------------------------+\n",
      "|       Min       | 0.000 |   0.000   |   0.000   |    0.000    |  0.000   |      0.000       |       0.000       |        0.000        |     0.000     | 0.000  |     0.000     |    0.000     |         0.000         |   0.000   |     0.000      |     0.000      |          0.000          |\n",
      "+-----------------+-------+-----------+-----------+-------------+----------+------------------+-------------------+---------------------+---------------+--------+---------------+--------------+-----------------------+-----------+----------------+----------------+-------------------------+\n",
      "|       Max       | 1.430 |   0.550   |   0.550   |    2.276    |  0.530   |      1.750       |       2.070       |        1.480        |     0.500     | 0.870  |     1.890     |    2.138     |         3.740         |   1.766   |     2.190      |     2.530      |          2.523          |\n",
      "+-----------------+-------+-----------+-----------+-------------+----------+------------------+-------------------+---------------------+---------------+--------+---------------+--------------+-----------------------+-----------+----------------+----------------+-------------------------+\n"
     ]
    }
   ],
   "source": [
    "common_websites = return_common_websites(control_list + test_list, DATA_DIR)\n",
    "\n",
    "persona_stat_map, cpms_personas = compute_bid_statistics(control_list + test_list, DATA_DIR, common_websites)\n",
    "table = print_bid_statistics(persona_stat_map, control_list + test_list)\n",
    "\n",
    "ptable_to_csv(table, RESULTS_DIR + 'common-bids.csv')"
   ]
  },
  {
   "cell_type": "markdown",
   "id": "832b4909",
   "metadata": {},
   "source": [
    "### Consider medain bids on websites "
   ]
  },
  {
   "cell_type": "code",
   "execution_count": null,
   "id": "4e58141f",
   "metadata": {},
   "outputs": [],
   "source": [
    "persona_stat_map, cpms_personas = compute_bid_statistics(control_list + test_list, DATA_DIR, get_median=True)\n",
    "table = print_bid_statistics(persona_stat_map, control_list + test_list)\n",
    "ptable_to_csv(table, RESULTS_DIR + 'all-median-bids.csv')"
   ]
  },
  {
   "cell_type": "markdown",
   "id": "0a13e997",
   "metadata": {},
   "source": [
    "### Consider medain bids on websites where bids returned for all personas"
   ]
  },
  {
   "cell_type": "code",
   "execution_count": 492,
   "id": "92742a07",
   "metadata": {},
   "outputs": [],
   "source": [
    "common_websites = return_common_websites(control_list + test_list, DATA_DIR)"
   ]
  },
  {
   "cell_type": "code",
   "execution_count": null,
   "id": "c5adc579",
   "metadata": {},
   "outputs": [],
   "source": [
    "persona_stat_map, cpms_personas = compute_bid_statistics(control_list + test_list, DATA_DIR, common_websites, get_median=True)\n",
    "table = print_bid_statistics(persona_stat_map, control_list + test_list)\n",
    "ptable_to_csv(table, RESULTS_DIR + 'common-median-bids.csv')"
   ]
  },
  {
   "cell_type": "code",
   "execution_count": 493,
   "id": "fa89c554",
   "metadata": {},
   "outputs": [
    {
     "data": {
      "text/plain": [
       "{'gismeteo.ru',\n",
       " 'investopedia.com',\n",
       " 'mapquest.com',\n",
       " 'myanimelist.net',\n",
       " 'observer.com',\n",
       " 'thoughtco.com'}"
      ]
     },
     "execution_count": 493,
     "metadata": {},
     "output_type": "execute_result"
    }
   ],
   "source": [
    "common_websites"
   ]
  },
  {
   "cell_type": "markdown",
   "id": "99f0ed4c",
   "metadata": {},
   "source": [
    "### Get most prevalent bidders by persona"
   ]
  },
  {
   "cell_type": "code",
   "execution_count": 371,
   "id": "9b137ede",
   "metadata": {},
   "outputs": [],
   "source": [
    "def get_prevalent_advertisers(persona_list, data_dir):\n",
    "    advertisers = {}\n",
    "    \n",
    "    for persona in persona_list:\n",
    "        advertisers[persona] = {}\n",
    "        \n",
    "        persona_dir = os.path.join(data_dir, persona + '/website_bids/')\n",
    "        bid_files = utilities.get_files_in_a_directory(persona_dir)\n",
    "        \n",
    "        for bid_file in bid_files:\n",
    "            all_bids = utilities.read_file(bid_file)\n",
    "            local_advertisers = set()\n",
    "\n",
    "            for bid in all_bids:\n",
    "                bid_json = json.loads(bid)\n",
    "\n",
    "                if bid_json['bidder'] in local_advertisers:\n",
    "                    continue\n",
    "                else:\n",
    "                    local_advertisers.add(bid_json['bidder'])\n",
    "\n",
    "                if bid_json['bidder'] not in advertisers[persona]:\n",
    "                    advertisers[persona][bid_json['bidder']] = 0\n",
    "                \n",
    "                advertisers[persona][bid_json['bidder']] += 1\n",
    "                \n",
    "    return advertisers\n",
    "\n",
    "\n",
    "def get_prevalent_advertisers_all_bids(persona_list, data_dir):\n",
    "    advertisers = {}\n",
    "    \n",
    "    for persona in persona_list:\n",
    "        advertisers[persona] = {}\n",
    "        \n",
    "        persona_dir = os.path.join(data_dir, persona + '/website_bids/')\n",
    "        bid_files = utilities.get_files_in_a_directory(persona_dir)\n",
    "        \n",
    "        for bid_file in bid_files:\n",
    "            all_bids = utilities.read_file(bid_file)\n",
    "#             local_advertisers = set()\n",
    "\n",
    "            for bid in all_bids:\n",
    "                bid_json = json.loads(bid)\n",
    "\n",
    "#                 if bid_json['bidder'] in local_advertisers:\n",
    "#                     continue\n",
    "#                 else:\n",
    "#                     local_advertisers.add(bid_json['bidder'])\n",
    "\n",
    "                if bid_json['bidder'] not in advertisers[persona]:\n",
    "                    advertisers[persona][bid_json['bidder']] = 0\n",
    "                \n",
    "                advertisers[persona][bid_json['bidder']] += 1\n",
    "                \n",
    "    return advertisers\n",
    "\n",
    "\n",
    "def get_common_advertisers(advertisers):\n",
    "    common_advertisers = set()\n",
    "    \n",
    "    for persona in advertisers:\n",
    "        if len(common_advertisers) == 0:\n",
    "            common_advertisers = set(advertisers[persona].keys())\n",
    "            \n",
    "        common_advertisers = common_advertisers.intersection(advertisers[persona].keys())\n",
    "            \n",
    "    return common_advertisers\n",
    "\n",
    "\n",
    "def get_all_advertisers(advertisers):\n",
    "    all_advertisers = set()\n",
    "    for persona in advertisers:\n",
    "         all_advertisers |= set(advertisers[persona].keys())\n",
    "            \n",
    "    return all_advertisers\n",
    "\n",
    "\n",
    "# def get_top_n_advertiser_per_persona(advertisers):\n",
    "    \n",
    "\n",
    "def print_bidders(advertisers, common_advertisers):\n",
    "    \n",
    "    table = PrettyTable(['Advertiser'] + list(advertisers.keys()), hrules=ALL)\n",
    "    \n",
    "    for advertiser in common_advertisers:\n",
    "        table.add_row([advertiser] + [advertisers[persona][advertiser] if advertiser in advertisers[persona] else 0 for persona in advertisers.keys()])        \n",
    "    \n",
    "    print(table)\n",
    "    \n",
    "    return table"
   ]
  },
  {
   "cell_type": "code",
   "execution_count": 494,
   "id": "ab9c0fb4",
   "metadata": {
    "scrolled": true
   },
   "outputs": [
    {
     "name": "stdout",
     "output_type": "stream",
     "text": [
      "+-------------------+-------+-----------+-----------+-------------+----------+------------------+-------------------+---------------------+---------------+--------+---------------+--------------+-----------------------+-----------+----------------+----------------+-------------------------+\n",
      "|     Advertiser    | Plain | Plain-One | Plain-Two | Amazon-Only | No-Skill | Synthetic-Health | Synthetic-Science | Synthetic-Computers | Connected-Car | Dating | Fashion-Style | Pets-Animals | Religion-Spirituality | SmartHome | Wine-Beverages | Health-Fitness | Navigation-TripPlanners |\n",
      "+-------------------+-------+-----------+-----------+-------------+----------+------------------+-------------------+---------------------+---------------+--------+---------------+--------------+-----------------------+-----------+----------------+----------------+-------------------------+\n",
      "|     districtm     |   0   |     0     |     0     |      0      |    0     |        0         |         0         |          0          |       0       |   0    |       0       |      0       |           0           |     0     |       0        |       1        |            0            |\n",
      "+-------------------+-------+-----------+-----------+-------------+----------+------------------+-------------------+---------------------+---------------+--------+---------------+--------------+-----------------------+-----------+----------------+----------------+-------------------------+\n",
      "|       sonobi      |   0   |     0     |     0     |      0      |    0     |        1         |         0         |          0          |       0       |   0    |       0       |      0       |           0           |     0     |       0        |       0        |            0            |\n",
      "+-------------------+-------+-----------+-----------+-------------+----------+------------------+-------------------+---------------------+---------------+--------+---------------+--------------+-----------------------+-----------+----------------+----------------+-------------------------+\n",
      "|      verizon      |   0   |     0     |     0     |      0      |    0     |        1         |         0         |          0          |       0       |   1    |       1       |      1       |           1           |     0     |       1        |       0        |            0            |\n",
      "+-------------------+-------+-----------+-----------+-------------+----------+------------------+-------------------+---------------------+---------------+--------+---------------+--------------+-----------------------+-----------+----------------+----------------+-------------------------+\n",
      "|       trustx      |   0   |     0     |     0     |      1      |    0     |        0         |         0         |          0          |       0       |   0    |       0       |      0       |           0           |     0     |       0        |       0        |            0            |\n",
      "+-------------------+-------+-----------+-----------+-------------+----------+------------------+-------------------+---------------------+---------------+--------+---------------+--------------+-----------------------+-----------+----------------+----------------+-------------------------+\n",
      "|    emx_digital    |   5   |     4     |     5     |      4      |    3     |        5         |         0         |          1          |       0       |   4    |       0       |      4       |           5           |     4     |       0        |       0        |            0            |\n",
      "+-------------------+-------+-----------+-----------+-------------+----------+------------------+-------------------+---------------------+---------------+--------+---------------+--------------+-----------------------+-----------+----------------+----------------+-------------------------+\n",
      "|     triplelift    |   33  |     0     |     0     |      0      |    0     |        0         |         9         |          0          |       1       |   27   |       0       |      6       |           22          |     0     |       0        |       24       |            0            |\n",
      "+-------------------+-------+-----------+-----------+-------------+----------+------------------+-------------------+---------------------+---------------+--------+---------------+--------------+-----------------------+-----------+----------------+----------------+-------------------------+\n",
      "|     adyoulike     |   0   |     0     |     0     |      0      |    0     |        1         |         1         |          1          |       0       |   0    |       1       |      0       |           0           |     0     |       0        |       0        |            0            |\n",
      "+-------------------+-------+-----------+-----------+-------------+----------+------------------+-------------------+---------------------+---------------+--------+---------------+--------------+-----------------------+-----------+----------------+----------------+-------------------------+\n",
      "|       gumgum      |   0   |     0     |     0     |      0      |    0     |        0         |         0         |          0          |       0       |   0    |       0       |      0       |           1           |     0     |       0        |       0        |            0            |\n",
      "+-------------------+-------+-----------+-----------+-------------+----------+------------------+-------------------+---------------------+---------------+--------+---------------+--------------+-----------------------+-----------+----------------+----------------+-------------------------+\n",
      "|     onemobile     |   6   |     4     |     7     |      15     |    19    |        30        |         9         |          13         |       20      |   18   |       20      |      17      |           16          |     21    |       22       |       19       |            12           |\n",
      "+-------------------+-------+-----------+-----------+-------------+----------+------------------+-------------------+---------------------+---------------+--------+---------------+--------------+-----------------------+-----------+----------------+----------------+-------------------------+\n",
      "|      appnexus     |   6   |     0     |     0     |      0      |    4     |        1         |         2         |          1          |       0       |   2    |       1       |      0       |           39          |     0     |       0        |       58       |            3            |\n",
      "+-------------------+-------+-----------+-----------+-------------+----------+------------------+-------------------+---------------------+---------------+--------+---------------+--------------+-----------------------+-----------+----------------+----------------+-------------------------+\n",
      "|     eplanning     |   0   |     0     |     0     |      0      |    0     |        0         |         0         |          0          |       2       |   1    |       1       |      0       |           0           |     0     |       0        |       0        |            1            |\n",
      "+-------------------+-------+-----------+-----------+-------------+----------+------------------+-------------------+---------------------+---------------+--------+---------------+--------------+-----------------------+-----------+----------------+----------------+-------------------------+\n",
      "|      medianet     |   1   |     1     |     0     |      1      |    0     |        2         |         4         |          3          |       1       |   1    |       0       |      1       |           1           |     2     |       4        |       2        |            1            |\n",
      "+-------------------+-------+-----------+-----------+-------------+----------+------------------+-------------------+---------------------+---------------+--------+---------------+--------------+-----------------------+-----------+----------------+----------------+-------------------------+\n",
      "| interactiveOffers |   1   |     1     |     0     |      0      |    1     |        1         |         0         |          0          |       0       |   1    |       0       |      0       |           1           |     0     |       0        |       1        |            0            |\n",
      "+-------------------+-------+-----------+-----------+-------------+----------+------------------+-------------------+---------------------+---------------+--------+---------------+--------------+-----------------------+-----------+----------------+----------------+-------------------------+\n",
      "|       sovrn       |   1   |     0     |     0     |      0      |    0     |        0         |         0         |          0          |       0       |   0    |       0       |      0       |           2           |     0     |       0        |       1        |            0            |\n",
      "+-------------------+-------+-----------+-----------+-------------+----------+------------------+-------------------+---------------------+---------------+--------+---------------+--------------+-----------------------+-----------+----------------+----------------+-------------------------+\n",
      "|    sharethrough   |   0   |     0     |     0     |      0      |    0     |        1         |         0         |          0          |       0       |   0    |       0       |      0       |           0           |     0     |       0        |       0        |            0            |\n",
      "+-------------------+-------+-----------+-----------+-------------+----------+------------------+-------------------+---------------------+---------------+--------+---------------+--------------+-----------------------+-----------+----------------+----------------+-------------------------+\n",
      "|      rubicon      |   8   |     0     |     0     |      0      |    0     |        1         |         0         |          0          |       1       |   12   |       1       |      2       |           19          |     0     |       0        |       37       |            0            |\n",
      "+-------------------+-------+-----------+-----------+-------------+----------+------------------+-------------------+---------------------+---------------+--------+---------------+--------------+-----------------------+-----------+----------------+----------------+-------------------------+\n",
      "|      yahoossp     |   0   |     0     |     0     |      0      |    0     |        1         |         0         |          1          |       0       |   0    |       0       |      0       |           0           |     0     |       0        |       1        |            0            |\n",
      "+-------------------+-------+-----------+-----------+-------------+----------+------------------+-------------------+---------------------+---------------+--------+---------------+--------------+-----------------------+-----------+----------------+----------------+-------------------------+\n",
      "|      pubm_ss      |   0   |     1     |     0     |      0      |    0     |        0         |         0         |          0          |       1       |   0    |       1       |      0       |           0           |     0     |       0        |       0        |            1            |\n",
      "+-------------------+-------+-----------+-----------+-------------+----------+------------------+-------------------+---------------------+---------------+--------+---------------+--------------+-----------------------+-----------+----------------+----------------+-------------------------+\n",
      "|   indexExchange   |   0   |     0     |     0     |      0      |    0     |        0         |         0         |          0          |       0       |   0    |       0       |      0       |           1           |     0     |       0        |       0        |            1            |\n",
      "+-------------------+-------+-----------+-----------+-------------+----------+------------------+-------------------+---------------------+---------------+--------+---------------+--------------+-----------------------+-----------+----------------+----------------+-------------------------+\n",
      "|    richaudience   |   0   |     0     |     0     |      0      |    0     |        1         |         0         |          1          |       0       |   0    |       0       |      0       |           0           |     0     |       0        |       0        |            0            |\n",
      "+-------------------+-------+-----------+-----------+-------------+----------+------------------+-------------------+---------------------+---------------+--------+---------------+--------------+-----------------------+-----------+----------------+----------------+-------------------------+\n",
      "|   smartadserver   |   0   |     0     |     1     |      0      |    0     |        1         |         0         |          0          |       0       |   2    |       0       |      0       |           3           |     0     |       1        |       0        |            0            |\n",
      "+-------------------+-------+-----------+-----------+-------------+----------+------------------+-------------------+---------------------+---------------+--------+---------------+--------------+-----------------------+-----------+----------------+----------------+-------------------------+\n",
      "|       teads       |   2   |     6     |     6     |      2      |    8     |        9         |         4         |          2          |       2       |   1    |       1       |      4       |           2           |     8     |       6        |       9        |            2            |\n",
      "+-------------------+-------+-----------+-----------+-------------+----------+------------------+-------------------+---------------------+---------------+--------+---------------+--------------+-----------------------+-----------+----------------+----------------+-------------------------+\n",
      "|      oftmedia     |   0   |     0     |     0     |      0      |    0     |        0         |         0         |          0          |       0       |   0    |       0       |      0       |           4           |     0     |       0        |       4        |            0            |\n",
      "+-------------------+-------+-----------+-----------+-------------+----------+------------------+-------------------+---------------------+---------------+--------+---------------+--------------+-----------------------+-----------+----------------+----------------+-------------------------+\n",
      "|        aol        |   0   |     0     |     0     |      1      |    2     |        3         |         4         |          6          |       8       |   0    |       2       |      2       |           3           |     3     |       2        |       1        |            5            |\n",
      "+-------------------+-------+-----------+-----------+-------------+----------+------------------+-------------------+---------------------+---------------+--------+---------------+--------------+-----------------------+-----------+----------------+----------------+-------------------------+\n",
      "|       openx       |   10  |     1     |     1     |      15     |    10    |        29        |         13        |          27         |       12      |   8    |       8       |      18      |           9           |     15    |       9        |       19       |            17           |\n",
      "+-------------------+-------+-----------+-----------+-------------+----------+------------------+-------------------+---------------------+---------------+--------+---------------+--------------+-----------------------+-----------+----------------+----------------+-------------------------+\n",
      "|      criteorn     |   0   |     8     |     0     |      0      |    0     |        5         |         0         |          0          |       0       |   0    |       0       |      0       |           0           |     0     |       0        |       0        |            0            |\n",
      "+-------------------+-------+-----------+-----------+-------------+----------+------------------+-------------------+---------------------+---------------+--------+---------------+--------------+-----------------------+-----------+----------------+----------------+-------------------------+\n",
      "|      33across     |   1   |     1     |     0     |      0      |    0     |        1         |         0         |          0          |       0       |   0    |       0       |      0       |           1           |     0     |       0        |       0        |            0            |\n",
      "+-------------------+-------+-----------+-----------+-------------+----------+------------------+-------------------+---------------------+---------------+--------+---------------+--------------+-----------------------+-----------+----------------+----------------+-------------------------+\n",
      "|         ix        |   28  |     0     |     0     |      3      |    0     |        0         |         0         |          6          |       0       |   84   |       4       |      0       |          107          |     0     |       0        |      119       |            0            |\n",
      "+-------------------+-------+-----------+-----------+-------------+----------+------------------+-------------------+---------------------+---------------+--------+---------------+--------------+-----------------------+-----------+----------------+----------------+-------------------------+\n",
      "|     pulsepoint    |   1   |     0     |     0     |      0      |    1     |        0         |         0         |          0          |       0       |   0    |       0       |      0       |           0           |     0     |       0        |       0        |            0            |\n",
      "+-------------------+-------+-----------+-----------+-------------+----------+------------------+-------------------+---------------------+---------------+--------+---------------+--------------+-----------------------+-----------+----------------+----------------+-------------------------+\n",
      "|      between      |   0   |     0     |     0     |      0      |    0     |        0         |         0         |          4          |       0       |   0    |       0       |      0       |           4           |     0     |       0        |       0        |            0            |\n",
      "+-------------------+-------+-----------+-----------+-------------+----------+------------------+-------------------+---------------------+---------------+--------+---------------+--------------+-----------------------+-----------+----------------+----------------+-------------------------+\n",
      "|        ias        |   3   |     3     |     3     |      3      |    6     |        3         |         3         |          3          |       6       |   6    |       3       |      3       |           2           |     3     |       2        |       3        |            3            |\n",
      "+-------------------+-------+-----------+-----------+-------------+----------+------------------+-------------------+---------------------+---------------+--------+---------------+--------------+-----------------------+-----------+----------------+----------------+-------------------------+\n",
      "|       ozone       |   6   |     1     |     3     |      4      |    0     |        0         |         1         |          2          |       0       |   3    |       0       |      0       |           7           |     1     |       1        |       8        |            1            |\n",
      "+-------------------+-------+-----------+-----------+-------------+----------+------------------+-------------------+---------------------+---------------+--------+---------------+--------------+-----------------------+-----------+----------------+----------------+-------------------------+\n",
      "|        amx        |   0   |     0     |     0     |      0      |    0     |        2         |         0         |          0          |       0       |   5    |       0       |      0       |           1           |     0     |       0        |       0        |            0            |\n",
      "+-------------------+-------+-----------+-----------+-------------+----------+------------------+-------------------+---------------------+---------------+--------+---------------+--------------+-----------------------+-----------+----------------+----------------+-------------------------+\n",
      "|    criteoclient   |   0   |     0     |     0     |      0      |    0     |        0         |         0         |          0          |       1       |   0    |       0       |      1       |           0           |     0     |       0        |       0        |            0            |\n",
      "+-------------------+-------+-----------+-----------+-------------+----------+------------------+-------------------+---------------------+---------------+--------+---------------+--------------+-----------------------+-----------+----------------+----------------+-------------------------+\n",
      "|      optimera     |   6   |     6     |     6     |      6      |    6     |        6         |         0         |          0          |       0       |   6    |       6       |      6       |           6           |     6     |       6        |       6        |            6            |\n",
      "+-------------------+-------+-----------+-----------+-------------+----------+------------------+-------------------+---------------------+---------------+--------+---------------+--------------+-----------------------+-----------+----------------+----------------+-------------------------+\n",
      "|      pubmatic     |   9   |     18    |     22    |      11     |    10    |        42        |         24        |          41         |       26      |   23   |       22      |      15      |           23          |     24    |       25       |       25       |            14           |\n",
      "+-------------------+-------+-----------+-----------+-------------+----------+------------------+-------------------+---------------------+---------------+--------+---------------+--------------+-----------------------+-----------+----------------+----------------+-------------------------+\n",
      "|     brightroll    |   0   |     0     |     0     |      0      |    0     |        0         |         0         |          0          |       0       |   0    |       1       |      0       |           1           |     1     |       1        |       0        |            0            |\n",
      "+-------------------+-------+-----------+-----------+-------------+----------+------------------+-------------------+---------------------+---------------+--------+---------------+--------------+-----------------------+-----------+----------------+----------------+-------------------------+\n",
      "|       criteo      |   12  |     18    |     16    |      4      |    15    |        31        |         39        |          32         |       12      |   10   |       14      |      12      |           4           |     12    |       11       |       7        |            20           |\n",
      "+-------------------+-------+-----------+-----------+-------------+----------+------------------+-------------------+---------------------+---------------+--------+---------------+--------------+-----------------------+-----------+----------------+----------------+-------------------------+\n",
      "|     consumable    |   0   |     0     |     0     |      0      |    0     |        1         |         0         |          0          |       0       |   0    |       0       |      0       |           0           |     0     |       0        |       0        |            0            |\n",
      "+-------------------+-------+-----------+-----------+-------------+----------+------------------+-------------------+---------------------+---------------+--------+---------------+--------------+-----------------------+-----------+----------------+----------------+-------------------------+\n",
      "|       getapp      |   4   |     0     |     0     |      0      |    0     |        0         |         5         |          0          |       0       |   0    |       0       |      0       |           16          |     0     |       0        |       21       |            0            |\n",
      "+-------------------+-------+-----------+-----------+-------------+----------+------------------+-------------------+---------------------+---------------+--------+---------------+--------------+-----------------------+-----------+----------------+----------------+-------------------------+\n",
      "|    districtmDMX   |   0   |     0     |     0     |      0      |    0     |        1         |         0         |          0          |       0       |   0    |       0       |      0       |           0           |     0     |       0        |       0        |            0            |\n",
      "+-------------------+-------+-----------+-----------+-------------+----------+------------------+-------------------+---------------------+---------------+--------+---------------+--------------+-----------------------+-----------+----------------+----------------+-------------------------+\n",
      "|       kargo       |   0   |     0     |     0     |      0      |    0     |        0         |         0         |          0          |       0       |   0    |       1       |      0       |           1           |     0     |       0        |       0        |            1            |\n",
      "+-------------------+-------+-----------+-----------+-------------+----------+------------------+-------------------+---------------------+---------------+--------+---------------+--------------+-----------------------+-----------+----------------+----------------+-------------------------+\n",
      "|       adagio      |   0   |     0     |     0     |      0      |    0     |        0         |         0         |          0          |       0       |   0    |       0       |      0       |           0           |     0     |       0        |       0        |            1            |\n",
      "+-------------------+-------+-----------+-----------+-------------+----------+------------------+-------------------+---------------------+---------------+--------+---------------+--------------+-----------------------+-----------+----------------+----------------+-------------------------+\n",
      "|       nobid       |   1   |     0     |     0     |      1      |    1     |        1         |         1         |          1          |       0       |   0    |       1       |      1       |           1           |     0     |       1        |       0        |            1            |\n",
      "+-------------------+-------+-----------+-----------+-------------+----------+------------------+-------------------+---------------------+---------------+--------+---------------+--------------+-----------------------+-----------+----------------+----------------+-------------------------+\n",
      "|      adriver      |   1   |     1     |     1     |      1      |    1     |        1         |         1         |          1          |       1       |   1    |       1       |      1       |           1           |     1     |       1        |       1        |            1            |\n",
      "+-------------------+-------+-----------+-----------+-------------+----------+------------------+-------------------+---------------------+---------------+--------+---------------+--------------+-----------------------+-----------+----------------+----------------+-------------------------+\n"
     ]
    }
   ],
   "source": [
    "# advertisers = get_prevalent_advertisers(control_list + test_list, DATA_DIR)\n",
    "advertisers = get_prevalent_advertisers_all_bids(control_list + test_list, DATA_DIR)\n",
    "common_advertisers = get_common_advertisers(advertisers)\n",
    "all_advertisers = get_all_advertisers(advertisers)\n",
    "table = print_bidders(advertisers, all_advertisers)\n",
    "ptable_to_csv(table, RESULTS_DIR + 'all_advertisers.csv')"
   ]
  },
  {
   "cell_type": "code",
   "execution_count": 500,
   "id": "91832be4",
   "metadata": {},
   "outputs": [],
   "source": [
    "def compute_bid_statistics(persona_list, data_dir, common_advertisers, common_websites=[], get_median=False):\n",
    "    persona_stat_map = {}\n",
    "#     common_advertisers.remove('pubmatic')\n",
    "#     common_advertisers.remove('ix')\n",
    "#     common_advertisers.remove('rubicon')\n",
    "    cpms_personas = {}\n",
    "    \n",
    "    for persona in persona_list:\n",
    "        persona_stat_map[persona] = {}\n",
    "        cpms_personas[persona] = set()\n",
    "        \n",
    "        persona_dir = os.path.join(data_dir, persona + '/website_bids/')\n",
    "        \n",
    "        bid_files = utilities.get_files_in_a_directory(persona_dir)\n",
    "#         persona_stat_map[persona]['normal-forced'] = get_forced_normal_websites_with_bids(bid_files, common_advertisers)\n",
    "        \n",
    "        if get_median:\n",
    "            cpms = return_median_cpms_advertisers(bid_files, common_advertisers, common_websites)\n",
    "        else:\n",
    "            cpms = return_bid_cpms_advertisers(bid_files, common_advertisers, common_websites)\n",
    "        \n",
    "        cpms_personas[persona] = cpms\n",
    "        for advertiser in common_advertisers: \n",
    "            persona_stat_map[persona][advertiser] = {}\n",
    "         \n",
    "            persona_stat_map[persona][advertiser]['median'] = \"{0:0.3f}\".format(statistics.median(cpms[advertiser]) if advertiser in cpms else 0)\n",
    "            persona_stat_map[persona][advertiser]['mean'] = \"{0:0.3f}\".format(statistics.mean(cpms[advertiser]) if advertiser in cpms else 0)\n",
    "            persona_stat_map[persona][advertiser]['min'] = \"{0:0.3f}\".format(min(cpms[advertiser]) if advertiser in cpms else 0)\n",
    "            persona_stat_map[persona][advertiser]['max'] = \"{0:0.3f}\".format(max(cpms[advertiser]) if advertiser in cpms else 0)\n",
    "            persona_stat_map[persona][advertiser]['sd'] = \"{0:0.3f}\".format(statistics.stdev(cpms[advertiser]) if advertiser in cpms and len(cpms[advertiser]) > 1 else 0)\n",
    "\n",
    "            persona_stat_map[persona][advertiser]['total_bids'] = len(cpms[advertiser]) if advertiser in cpms else 0\n",
    "        \n",
    "#         normal, forced = persona_stat_map[persona]['normal-forced'].split('/')\n",
    "#         persona_stat_map[persona]['total_websites'] = int(normal) + int(forced)\n",
    "        \n",
    "#         persona_stat_map[persona]['common_websites'] =  len(common_websites) if len(common_websites) > 0 else '-'\n",
    "\n",
    "    return persona_stat_map, cpms_personas\n",
    "\n",
    "\n",
    "\n",
    "def print_common_bidders(persona_stat_map, common_advertisers):\n",
    "\n",
    "    table = PrettyTable(['Persona'] + list(common_advertisers), hrules=ALL)\n",
    "    \n",
    "    for persona in persona_stat_map:\n",
    "        table.add_row([persona] + [str(persona_stat_map[persona][advertiser]['mean']) + '/' + str(persona_stat_map[persona][advertiser]['sd'])  for advertiser in list(common_advertisers)])\n",
    "    \n",
    "    print(table)\n",
    "    return table"
   ]
  },
  {
   "cell_type": "code",
   "execution_count": 501,
   "id": "b1bcf678",
   "metadata": {},
   "outputs": [
    {
     "name": "stdout",
     "output_type": "stream",
     "text": [
      "+-------------------------+-------------+-------------+-------------+-------------+-------------+-------------+-------------+-------------+-------------+-------------+-------------+-------------+-------------------+-------------+--------------+-------------+-------------+-------------+---------------+--------------+---------------+-------------+-------------+-------------+-------------+-------------+-------------+-------------+-------------+-------------+-------------+-------------+-------------+--------------+-------------+--------------+-------------+-------------+-------------+-------------+--------------+-------------+-------------+-------------+-------------+\n",
      "|         Persona         |  districtm  |    sonobi   |   verizon   |    trustx   | emx_digital |  triplelift |  adyoulike  |    gumgum   |  onemobile  |   appnexus  |  eplanning  |   medianet  | interactiveOffers |    sovrn    | sharethrough |   rubicon   |   yahoossp  |   pubm_ss   | indexExchange | richaudience | smartadserver |    teads    |   oftmedia  |     aol     |    openx    |   criteorn  |   33across  |      ix     |  pulsepoint |   between   |     ias     |    ozone    |     amx     | criteoclient |   optimera  |   pubmatic   |  brightroll |    criteo   |  consumable |    getapp   | districtmDMX |    kargo    |    adagio   |    nobid    |   adriver   |\n",
      "+-------------------------+-------------+-------------+-------------+-------------+-------------+-------------+-------------+-------------+-------------+-------------+-------------+-------------+-------------------+-------------+--------------+-------------+-------------+-------------+---------------+--------------+---------------+-------------+-------------+-------------+-------------+-------------+-------------+-------------+-------------+-------------+-------------+-------------+-------------+--------------+-------------+--------------+-------------+-------------+-------------+-------------+--------------+-------------+-------------+-------------+-------------+\n",
      "|          Plain          | 0.000/0.000 | 0.000/0.000 | 0.000/0.000 | 0.000/0.000 | 0.104/0.057 | 1.701/4.733 | 0.000/0.000 | 0.000/0.000 | 0.180/0.200 | 0.820/0.895 | 0.000/0.000 | 0.130/0.000 |    0.050/0.000    | 0.088/0.000 | 0.000/0.000  | 7.093/9.185 | 0.000/0.000 | 0.000/0.000 |  0.000/0.000  | 0.000/0.000  |  0.000/0.000  | 0.765/0.940 | 0.000/0.000 | 0.000/0.000 | 0.493/0.541 | 0.000/0.000 | 0.330/0.000 | 3.443/8.133 | 0.700/0.000 | 0.000/0.000 | 0.010/0.000 | 0.599/1.134 | 0.000/0.000 | 0.000/0.000  | 0.010/0.000 | 7.043/9.972  | 0.000/0.000 | 0.336/0.806 | 0.000/0.000 | 1.210/0.777 | 0.000/0.000  | 0.000/0.000 | 0.000/0.000 | 0.020/0.000 | 0.000/0.000 |\n",
      "+-------------------------+-------------+-------------+-------------+-------------+-------------+-------------+-------------+-------------+-------------+-------------+-------------+-------------+-------------------+-------------+--------------+-------------+-------------+-------------+---------------+--------------+---------------+-------------+-------------+-------------+-------------+-------------+-------------+-------------+-------------+-------------+-------------+-------------+-------------+--------------+-------------+--------------+-------------+-------------+-------------+-------------+--------------+-------------+-------------+-------------+-------------+\n",
      "|        Plain-One        | 0.000/0.000 | 0.000/0.000 | 0.000/0.000 | 0.000/0.000 | 0.119/0.063 | 0.000/0.000 | 0.000/0.000 | 0.000/0.000 | 0.339/0.285 | 0.000/0.000 | 0.000/0.000 | 0.075/0.000 |    0.050/0.000    | 0.000/0.000 | 0.000/0.000  | 0.000/0.000 | 0.000/0.000 | 0.113/0.000 |  0.000/0.000  | 0.000/0.000  |  0.000/0.000  | 0.905/0.222 | 0.000/0.000 | 0.000/0.000 | 0.124/0.000 | 0.022/0.004 | 0.150/0.000 | 0.000/0.000 | 0.000/0.000 | 0.000/0.000 | 0.010/0.000 | 0.020/0.000 | 0.000/0.000 | 0.000/0.000  | 0.010/0.000 | 0.199/0.308  | 0.000/0.000 | 0.422/0.850 | 0.000/0.000 | 0.000/0.000 | 0.000/0.000  | 0.000/0.000 | 0.000/0.000 | 0.000/0.000 | 0.000/0.000 |\n",
      "+-------------------------+-------------+-------------+-------------+-------------+-------------+-------------+-------------+-------------+-------------+-------------+-------------+-------------+-------------------+-------------+--------------+-------------+-------------+-------------+---------------+--------------+---------------+-------------+-------------+-------------+-------------+-------------+-------------+-------------+-------------+-------------+-------------+-------------+-------------+--------------+-------------+--------------+-------------+-------------+-------------+-------------+--------------+-------------+-------------+-------------+-------------+\n",
      "|        Plain-Two        | 0.000/0.000 | 0.000/0.000 | 0.000/0.000 | 0.000/0.000 | 0.113/0.067 | 0.000/0.000 | 0.000/0.000 | 0.000/0.000 | 0.107/0.268 | 0.000/0.000 | 0.000/0.000 | 0.000/0.000 |    0.000/0.000    | 0.000/0.000 | 0.000/0.000  | 0.000/0.000 | 0.000/0.000 | 0.000/0.000 |  0.000/0.000  | 0.000/0.000  |  0.038/0.000  | 0.242/0.153 | 0.000/0.000 | 0.000/0.000 | 0.100/0.000 | 0.000/0.000 | 0.000/0.000 | 0.000/0.000 | 0.000/0.000 | 0.000/0.000 | 0.010/0.000 | 0.242/0.149 | 0.000/0.000 | 0.000/0.000  | 0.010/0.000 | 0.784/3.417  | 0.000/0.000 | 0.250/0.480 | 0.000/0.000 | 0.000/0.000 | 0.000/0.000  | 0.000/0.000 | 0.000/0.000 | 0.000/0.000 | 0.000/0.000 |\n",
      "+-------------------------+-------------+-------------+-------------+-------------+-------------+-------------+-------------+-------------+-------------+-------------+-------------+-------------+-------------------+-------------+--------------+-------------+-------------+-------------+---------------+--------------+---------------+-------------+-------------+-------------+-------------+-------------+-------------+-------------+-------------+-------------+-------------+-------------+-------------+--------------+-------------+--------------+-------------+-------------+-------------+-------------+--------------+-------------+-------------+-------------+-------------+\n",
      "|       Amazon-Only       | 0.000/0.000 | 0.000/0.000 | 0.000/0.000 | 0.476/0.000 | 0.137/0.060 | 0.000/0.000 | 0.000/0.000 | 0.000/0.000 | 0.325/0.564 | 0.000/0.000 | 0.000/0.000 | 0.009/0.000 |    0.000/0.000    | 0.000/0.000 | 0.000/0.000  | 0.000/0.000 | 0.000/0.000 | 0.000/0.000 |  0.000/0.000  | 0.000/0.000  |  0.000/0.000  | 2.645/1.605 | 0.000/0.000 | 1.837/0.000 | 0.485/0.577 | 0.000/0.000 | 0.000/0.000 | 0.197/0.280 | 0.000/0.000 | 0.000/0.000 | 0.010/0.000 | 0.667/0.752 | 0.000/0.000 | 0.000/0.000  | 0.010/0.000 | 0.905/2.403  | 0.000/0.000 | 0.276/0.536 | 0.000/0.000 | 0.000/0.000 | 0.000/0.000  | 0.000/0.000 | 0.000/0.000 | 0.020/0.000 | 0.000/0.000 |\n",
      "+-------------------------+-------------+-------------+-------------+-------------+-------------+-------------+-------------+-------------+-------------+-------------+-------------+-------------+-------------------+-------------+--------------+-------------+-------------+-------------+---------------+--------------+---------------+-------------+-------------+-------------+-------------+-------------+-------------+-------------+-------------+-------------+-------------+-------------+-------------+--------------+-------------+--------------+-------------+-------------+-------------+-------------+--------------+-------------+-------------+-------------+-------------+\n",
      "|         No-Skill        | 0.000/0.000 | 0.000/0.000 | 0.000/0.000 | 0.000/0.000 | 0.145/0.070 | 0.000/0.000 | 0.000/0.000 | 0.000/0.000 | 0.202/0.265 | 0.720/0.088 | 0.000/0.000 | 0.000/0.000 |    0.050/0.000    | 0.000/0.000 | 0.000/0.000  | 0.000/0.000 | 0.000/0.000 | 0.000/0.000 |  0.000/0.000  | 0.000/0.000  |  0.000/0.000  | 0.361/0.252 | 0.000/0.000 | 0.820/0.473 | 0.225/0.131 | 0.000/0.000 | 0.000/0.000 | 0.000/0.000 | 1.060/0.000 | 0.000/0.000 | 0.010/0.000 | 0.000/0.000 | 0.000/0.000 | 0.000/0.000  | 0.010/0.000 | 0.241/0.357  | 0.000/0.000 | 0.182/0.349 | 0.000/0.000 | 0.000/0.000 | 0.000/0.000  | 0.000/0.000 | 0.000/0.000 | 0.070/0.000 | 0.000/0.000 |\n",
      "+-------------------------+-------------+-------------+-------------+-------------+-------------+-------------+-------------+-------------+-------------+-------------+-------------+-------------+-------------------+-------------+--------------+-------------+-------------+-------------+---------------+--------------+---------------+-------------+-------------+-------------+-------------+-------------+-------------+-------------+-------------+-------------+-------------+-------------+-------------+--------------+-------------+--------------+-------------+-------------+-------------+-------------+--------------+-------------+-------------+-------------+-------------+\n",
      "|     Synthetic-Health    | 0.000/0.000 | 0.760/0.000 | 0.198/0.000 | 0.000/0.000 | 0.302/0.375 | 0.000/0.000 | 4.848/0.000 | 0.000/0.000 | 0.163/0.184 | 0.066/0.000 | 0.000/0.000 | 0.046/0.054 |    0.050/0.000    | 0.000/0.000 | 0.266/0.000  | 0.660/0.000 | 0.800/0.000 | 0.000/0.000 |  0.000/0.000  | 0.353/0.000  |  0.140/0.000  | 0.597/0.609 | 0.000/0.000 | 0.414/0.313 | 0.763/0.920 | 0.024/0.002 | 0.840/0.000 | 0.000/0.000 | 0.000/0.000 | 0.000/0.000 | 0.010/0.000 | 0.000/0.000 | 0.058/0.033 | 0.000/0.000  | 0.010/0.000 | 0.611/1.638  | 0.000/0.000 | 0.141/0.347 | 0.052/0.000 | 0.000/0.000 | 0.600/0.000  | 0.000/0.000 | 0.000/0.000 | 0.020/0.000 | 0.000/0.000 |\n",
      "+-------------------------+-------------+-------------+-------------+-------------+-------------+-------------+-------------+-------------+-------------+-------------+-------------+-------------+-------------------+-------------+--------------+-------------+-------------+-------------+---------------+--------------+---------------+-------------+-------------+-------------+-------------+-------------+-------------+-------------+-------------+-------------+-------------+-------------+-------------+--------------+-------------+--------------+-------------+-------------+-------------+-------------+--------------+-------------+-------------+-------------+-------------+\n",
      "|    Synthetic-Science    | 0.000/0.000 | 0.000/0.000 | 0.000/0.000 | 0.000/0.000 | 0.000/0.000 | 1.540/0.428 | 4.885/0.000 | 0.000/0.000 | 0.304/0.512 | 0.021/0.029 | 0.000/0.000 | 0.195/0.173 |    0.000/0.000    | 0.000/0.000 | 0.000/0.000  | 0.000/0.000 | 0.000/0.000 | 0.000/0.000 |  0.000/0.000  | 0.000/0.000  |  0.000/0.000  | 1.545/0.713 | 0.000/0.000 | 2.004/0.000 | 0.718/0.610 | 0.000/0.000 | 0.000/0.000 | 0.000/0.000 | 0.000/0.000 | 0.000/0.000 | 0.010/0.000 | 0.530/0.000 | 0.000/0.000 | 0.000/0.000  | 0.000/0.000 | 0.780/1.371  | 0.000/0.000 | 0.124/0.242 | 0.000/0.000 | 0.025/0.034 | 0.000/0.000  | 0.000/0.000 | 0.000/0.000 | 0.020/0.000 | 0.000/0.000 |\n",
      "+-------------------------+-------------+-------------+-------------+-------------+-------------+-------------+-------------+-------------+-------------+-------------+-------------+-------------+-------------------+-------------+--------------+-------------+-------------+-------------+---------------+--------------+---------------+-------------+-------------+-------------+-------------+-------------+-------------+-------------+-------------+-------------+-------------+-------------+-------------+--------------+-------------+--------------+-------------+-------------+-------------+-------------+--------------+-------------+-------------+-------------+-------------+\n",
      "|   Synthetic-Computers   | 0.000/0.000 | 0.000/0.000 | 0.000/0.000 | 0.000/0.000 | 0.041/0.000 | 0.000/0.000 | 3.987/0.000 | 0.000/0.000 | 0.467/0.554 | 2.070/0.000 | 0.000/0.000 | 0.144/0.095 |    0.000/0.000    | 0.000/0.000 | 0.000/0.000  | 0.000/0.000 | 1.250/0.000 | 0.000/0.000 |  0.000/0.000  | 0.261/0.000  |  0.000/0.000  | 1.165/1.492 | 0.000/0.000 | 1.144/0.683 | 0.559/0.501 | 0.000/0.000 | 0.000/0.000 | 0.923/0.542 | 0.000/0.000 | 0.021/0.007 | 0.010/0.000 | 0.069/0.055 | 0.000/0.000 | 0.000/0.000  | 0.000/0.000 | 0.400/1.105  | 0.000/0.000 | 0.119/0.253 | 0.000/0.000 | 0.000/0.000 | 0.000/0.000  | 0.000/0.000 | 0.000/0.000 | 0.790/0.000 | 0.000/0.000 |\n",
      "+-------------------------+-------------+-------------+-------------+-------------+-------------+-------------+-------------+-------------+-------------+-------------+-------------+-------------+-------------------+-------------+--------------+-------------+-------------+-------------+---------------+--------------+---------------+-------------+-------------+-------------+-------------+-------------+-------------+-------------+-------------+-------------+-------------+-------------+-------------+--------------+-------------+--------------+-------------+-------------+-------------+-------------+--------------+-------------+-------------+-------------+-------------+\n",
      "|      Connected-Car      | 0.000/0.000 | 0.000/0.000 | 0.000/0.000 | 0.000/0.000 | 0.000/0.000 | 1.504/0.000 | 0.000/0.000 | 0.000/0.000 | 0.389/0.629 | 0.000/0.000 | 1.290/0.000 | 0.009/0.000 |    0.000/0.000    | 0.000/0.000 | 0.000/0.000  | 0.780/0.000 | 0.000/0.000 | 0.088/0.000 |  0.000/0.000  | 0.000/0.000  |  0.000/0.000  | 0.910/0.580 | 0.000/0.000 | 0.578/0.547 | 0.293/0.279 | 0.000/0.000 | 0.000/0.000 | 0.000/0.000 | 0.000/0.000 | 0.000/0.000 | 0.010/0.000 | 0.000/0.000 | 0.000/0.000 | 0.273/0.000  | 0.000/0.000 | 0.161/0.294  | 0.000/0.000 | 0.430/1.053 | 0.000/0.000 | 0.000/0.000 | 0.000/0.000  | 0.000/0.000 | 0.000/0.000 | 0.000/0.000 | 0.000/0.000 |\n",
      "+-------------------------+-------------+-------------+-------------+-------------+-------------+-------------+-------------+-------------+-------------+-------------+-------------+-------------+-------------------+-------------+--------------+-------------+-------------+-------------+---------------+--------------+---------------+-------------+-------------+-------------+-------------+-------------+-------------+-------------+-------------+-------------+-------------+-------------+-------------+--------------+-------------+--------------+-------------+-------------+-------------+-------------+--------------+-------------+-------------+-------------+-------------+\n",
      "|          Dating         | 0.000/0.000 | 0.000/0.000 | 0.198/0.000 | 0.000/0.000 | 0.120/0.056 | 0.342/0.438 | 0.000/0.000 | 0.000/0.000 | 0.143/0.149 | 0.184/0.038 | 1.290/0.000 | 0.045/0.000 |    0.050/0.000    | 0.000/0.000 | 0.000/0.000  | 0.559/0.350 | 0.000/0.000 | 0.000/0.000 |  0.000/0.000  | 0.000/0.000  |  0.075/0.000  | 0.200/0.000 | 0.000/0.000 | 0.000/0.000 | 0.195/0.041 | 0.000/0.000 | 0.000/0.000 | 0.195/0.273 | 0.000/0.000 | 0.000/0.000 | 0.010/0.000 | 0.368/0.240 | 0.021/0.004 | 0.000/0.000  | 0.010/0.000 | 0.068/0.072  | 0.000/0.000 | 0.406/0.746 | 0.000/0.000 | 0.000/0.000 | 0.000/0.000  | 0.000/0.000 | 0.000/0.000 | 0.000/0.000 | 0.000/0.000 |\n",
      "+-------------------------+-------------+-------------+-------------+-------------+-------------+-------------+-------------+-------------+-------------+-------------+-------------+-------------+-------------------+-------------+--------------+-------------+-------------+-------------+---------------+--------------+---------------+-------------+-------------+-------------+-------------+-------------+-------------+-------------+-------------+-------------+-------------+-------------+-------------+--------------+-------------+--------------+-------------+-------------+-------------+-------------+--------------+-------------+-------------+-------------+-------------+\n",
      "|      Fashion-Style      | 0.000/0.000 | 0.000/0.000 | 0.198/0.000 | 0.000/0.000 | 0.000/0.000 | 0.000/0.000 | 0.368/0.000 | 0.000/0.000 | 0.219/0.333 | 0.007/0.000 | 1.290/0.000 | 0.000/0.000 |    0.000/0.000    | 0.000/0.000 | 0.000/0.000  | 0.820/0.000 | 0.000/0.000 | 0.669/0.000 |  0.000/0.000  | 0.000/0.000  |  0.000/0.000  | 1.890/0.000 | 0.000/0.000 | 1.170/1.528 | 0.187/0.100 | 0.000/0.000 | 0.000/0.000 | 1.540/0.000 | 0.000/0.000 | 0.000/0.000 | 0.010/0.000 | 0.000/0.000 | 0.000/0.000 | 0.000/0.000  | 0.010/0.000 | 0.150/0.256  | 0.160/0.000 | 0.232/0.586 | 0.000/0.000 | 0.000/0.000 | 0.000/0.000  | 1.070/0.000 | 0.000/0.000 | 0.020/0.000 | 0.000/0.000 |\n",
      "+-------------------------+-------------+-------------+-------------+-------------+-------------+-------------+-------------+-------------+-------------+-------------+-------------+-------------+-------------------+-------------+--------------+-------------+-------------+-------------+---------------+--------------+---------------+-------------+-------------+-------------+-------------+-------------+-------------+-------------+-------------+-------------+-------------+-------------+-------------+--------------+-------------+--------------+-------------+-------------+-------------+-------------+--------------+-------------+-------------+-------------+-------------+\n",
      "|       Pets-Animals      | 0.000/0.000 | 0.000/0.000 | 0.216/0.000 | 0.000/0.000 | 0.137/0.060 | 0.288/0.598 | 0.000/0.000 | 0.000/0.000 | 0.808/1.076 | 0.000/0.000 | 0.000/0.000 | 0.041/0.000 |    0.000/0.000    | 0.000/0.000 | 0.000/0.000  | 0.587/0.598 | 0.000/0.000 | 0.000/0.000 |  0.000/0.000  | 0.000/0.000  |  0.000/0.000  | 0.948/0.864 | 0.000/0.000 | 0.394/0.176 | 0.319/0.347 | 0.000/0.000 | 0.000/0.000 | 0.000/0.000 | 0.000/0.000 | 0.000/0.000 | 0.010/0.000 | 0.000/0.000 | 0.000/0.000 | 0.244/0.000  | 0.010/0.000 | 0.777/1.029  | 0.000/0.000 | 0.598/0.811 | 0.000/0.000 | 0.000/0.000 | 0.000/0.000  | 0.000/0.000 | 0.000/0.000 | 0.020/0.000 | 0.000/0.000 |\n",
      "+-------------------------+-------------+-------------+-------------+-------------+-------------+-------------+-------------+-------------+-------------+-------------+-------------+-------------+-------------------+-------------+--------------+-------------+-------------+-------------+---------------+--------------+---------------+-------------+-------------+-------------+-------------+-------------+-------------+-------------+-------------+-------------+-------------+-------------+-------------+--------------+-------------+--------------+-------------+-------------+-------------+-------------+--------------+-------------+-------------+-------------+-------------+\n",
      "|  Religion-Spirituality  | 0.000/0.000 | 0.000/0.000 | 0.338/0.000 | 0.000/0.000 | 0.118/0.055 | 0.387/0.536 | 0.000/0.000 | 5.365/0.000 | 0.304/0.435 | 0.421/0.497 | 0.000/0.000 | 0.047/0.000 |    0.050/0.000    | 0.081/0.000 | 0.000/0.000  | 0.273/0.437 | 0.000/0.000 | 0.000/0.000 |  0.000/0.000  | 0.000/0.000  |  1.038/1.624  | 0.174/0.107 | 0.021/0.012 | 0.580/0.748 | 0.168/0.117 | 0.000/0.000 | 0.160/0.000 | 0.204/0.409 | 0.000/0.000 | 0.253/0.017 | 0.010/0.000 | 1.049/0.978 | 0.350/0.000 | 0.000/0.000  | 0.010/0.000 | 2.449/10.494 | 0.110/0.000 | 0.093/0.091 | 0.000/0.000 | 0.104/0.213 | 0.000/0.000  | 1.070/0.000 | 0.000/0.000 | 0.070/0.000 | 0.000/0.000 |\n",
      "+-------------------------+-------------+-------------+-------------+-------------+-------------+-------------+-------------+-------------+-------------+-------------+-------------+-------------+-------------------+-------------+--------------+-------------+-------------+-------------+---------------+--------------+---------------+-------------+-------------+-------------+-------------+-------------+-------------+-------------+-------------+-------------+-------------+-------------+-------------+--------------+-------------+--------------+-------------+-------------+-------------+-------------+--------------+-------------+-------------+-------------+-------------+\n",
      "|        SmartHome        | 0.000/0.000 | 0.000/0.000 | 0.000/0.000 | 0.000/0.000 | 0.119/0.063 | 0.000/0.000 | 0.000/0.000 | 0.000/0.000 | 0.489/0.566 | 0.000/0.000 | 0.000/0.000 | 0.028/0.026 |    0.000/0.000    | 0.000/0.000 | 0.000/0.000  | 0.000/0.000 | 0.000/0.000 | 0.000/0.000 |  0.000/0.000  | 0.000/0.000  |  0.000/0.000  | 0.451/0.475 | 0.000/0.000 | 0.808/0.635 | 2.071/6.891 | 0.000/0.000 | 0.000/0.000 | 0.000/0.000 | 0.000/0.000 | 0.000/0.000 | 0.010/0.000 | 0.350/0.000 | 0.000/0.000 | 0.000/0.000  | 0.010/0.000 | 0.127/0.419  | 0.198/0.000 | 0.393/0.658 | 0.000/0.000 | 0.000/0.000 | 0.000/0.000  | 0.000/0.000 | 0.000/0.000 | 0.000/0.000 | 0.000/0.000 |\n",
      "+-------------------------+-------------+-------------+-------------+-------------+-------------+-------------+-------------+-------------+-------------+-------------+-------------+-------------+-------------------+-------------+--------------+-------------+-------------+-------------+---------------+--------------+---------------+-------------+-------------+-------------+-------------+-------------+-------------+-------------+-------------+-------------+-------------+-------------+-------------+--------------+-------------+--------------+-------------+-------------+-------------+-------------+--------------+-------------+-------------+-------------+-------------+\n",
      "|      Wine-Beverages     | 0.000/0.000 | 0.000/0.000 | 0.198/0.000 | 0.000/0.000 | 0.000/0.000 | 0.000/0.000 | 0.000/0.000 | 0.000/0.000 | 0.212/0.449 | 0.000/0.000 | 0.000/0.000 | 0.075/0.080 |    0.000/0.000    | 0.000/0.000 | 0.000/0.000  | 0.000/0.000 | 0.000/0.000 | 0.000/0.000 |  0.000/0.000  | 0.000/0.000  |  0.140/0.000  | 0.376/0.514 | 0.000/0.000 | 1.310/1.332 | 0.351/0.276 | 0.000/0.000 | 0.000/0.000 | 0.000/0.000 | 0.000/0.000 | 0.000/0.000 | 0.010/0.000 | 0.221/0.000 | 0.000/0.000 | 0.000/0.000  | 0.010/0.000 | 0.134/0.228  | 0.266/0.000 | 0.260/0.539 | 0.000/0.000 | 0.000/0.000 | 0.000/0.000  | 0.000/0.000 | 0.000/0.000 | 0.020/0.000 | 0.000/0.000 |\n",
      "+-------------------------+-------------+-------------+-------------+-------------+-------------+-------------+-------------+-------------+-------------+-------------+-------------+-------------+-------------------+-------------+--------------+-------------+-------------+-------------+---------------+--------------+---------------+-------------+-------------+-------------+-------------+-------------+-------------+-------------+-------------+-------------+-------------+-------------+-------------+--------------+-------------+--------------+-------------+-------------+-------------+-------------+--------------+-------------+-------------+-------------+-------------+\n",
      "|      Health-Fitness     | 1.934/0.000 | 0.000/0.000 | 0.000/0.000 | 0.000/0.000 | 0.000/0.000 | 0.271/0.253 | 0.000/0.000 | 0.000/0.000 | 0.502/0.572 | 1.111/1.892 | 0.000/0.000 | 0.113/0.025 |    0.050/0.000    | 0.081/0.000 | 0.000/0.000  | 0.495/0.791 | 0.549/0.000 | 0.000/0.000 |  0.000/0.000  | 0.000/0.000  |  0.000/0.000  | 0.808/0.988 | 0.053/0.069 | 0.534/0.000 | 0.325/0.400 | 0.000/0.000 | 0.000/0.000 | 0.184/0.319 | 0.000/0.000 | 0.000/0.000 | 0.010/0.000 | 1.333/0.638 | 0.000/0.000 | 0.000/0.000  | 0.010/0.000 | 0.471/1.599  | 0.000/0.000 | 0.088/0.122 | 0.000/0.000 | 0.213/0.745 | 0.000/0.000  | 0.000/0.000 | 0.000/0.000 | 0.000/0.000 | 0.000/0.000 |\n",
      "+-------------------------+-------------+-------------+-------------+-------------+-------------+-------------+-------------+-------------+-------------+-------------+-------------+-------------+-------------------+-------------+--------------+-------------+-------------+-------------+---------------+--------------+---------------+-------------+-------------+-------------+-------------+-------------+-------------+-------------+-------------+-------------+-------------+-------------+-------------+--------------+-------------+--------------+-------------+-------------+-------------+-------------+--------------+-------------+-------------+-------------+-------------+\n",
      "| Navigation-TripPlanners | 0.000/0.000 | 0.000/0.000 | 0.000/0.000 | 0.000/0.000 | 0.000/0.000 | 0.000/0.000 | 0.000/0.000 | 0.000/0.000 | 0.455/0.693 | 0.505/0.264 | 1.290/0.000 | 0.042/0.000 |    0.000/0.000    | 0.000/0.000 | 0.000/0.000  | 0.000/0.000 | 0.000/0.000 | 0.112/0.000 |  0.040/0.000  | 0.000/0.000  |  0.000/0.000  | 0.310/0.269 | 0.000/0.000 | 0.657/0.500 | 0.253/0.272 | 0.000/0.000 | 0.000/0.000 | 0.000/0.000 | 0.000/0.000 | 0.000/0.000 | 0.010/0.000 | 1.278/0.000 | 0.000/0.000 | 0.000/0.000  | 0.010/0.000 | 0.059/0.060  | 0.000/0.000 | 0.228/0.594 | 0.000/0.000 | 0.000/0.000 | 0.000/0.000  | 1.450/0.000 | 0.136/0.000 | 0.020/0.000 | 0.000/0.000 |\n",
      "+-------------------------+-------------+-------------+-------------+-------------+-------------+-------------+-------------+-------------+-------------+-------------+-------------+-------------+-------------------+-------------+--------------+-------------+-------------+-------------+---------------+--------------+---------------+-------------+-------------+-------------+-------------+-------------+-------------+-------------+-------------+-------------+-------------+-------------+-------------+--------------+-------------+--------------+-------------+-------------+-------------+-------------+--------------+-------------+-------------+-------------+-------------+\n"
     ]
    }
   ],
   "source": [
    "persona_stat_map, cpms_personas = compute_bid_statistics(control_list + test_list, DATA_DIR, all_advertisers, [], get_median = False)\n",
    "table = print_common_bidders(persona_stat_map, all_advertisers)\n",
    "ptable_to_csv(table, RESULTS_DIR + 'all_advertisers_mean_sd_bids.csv')"
   ]
  },
  {
   "cell_type": "code",
   "execution_count": 496,
   "id": "5cd86c23",
   "metadata": {},
   "outputs": [
    {
     "name": "stdout",
     "output_type": "stream",
     "text": [
      "+-------------------------+-------------+-------------+-------------+-------------+-------------+-------------+-------------+-------------+-------------+-------------+-------------+-------------+-------------------+-------------+--------------+-------------+-------------+-------------+---------------+--------------+---------------+-------------+-------------+-------------+-------------+-------------+-------------+-------------+-------------+-------------+-------------+-------------+-------------+--------------+-------------+-------------+-------------+-------------+-------------+-------------+--------------+-------------+-------------+-------------+-------------+\n",
      "|         Persona         |  districtm  |    sonobi   |   verizon   |    trustx   | emx_digital |  triplelift |  adyoulike  |    gumgum   |  onemobile  |   appnexus  |  eplanning  |   medianet  | interactiveOffers |    sovrn    | sharethrough |   rubicon   |   yahoossp  |   pubm_ss   | indexExchange | richaudience | smartadserver |    teads    |   oftmedia  |     aol     |    openx    |   criteorn  |   33across  |      ix     |  pulsepoint |   between   |     ias     |    ozone    |     amx     | criteoclient |   optimera  |   pubmatic  |  brightroll |    criteo   |  consumable |    getapp   | districtmDMX |    kargo    |    adagio   |    nobid    |   adriver   |\n",
      "+-------------------------+-------------+-------------+-------------+-------------+-------------+-------------+-------------+-------------+-------------+-------------+-------------+-------------+-------------------+-------------+--------------+-------------+-------------+-------------+---------------+--------------+---------------+-------------+-------------+-------------+-------------+-------------+-------------+-------------+-------------+-------------+-------------+-------------+-------------+--------------+-------------+-------------+-------------+-------------+-------------+-------------+--------------+-------------+-------------+-------------+-------------+\n",
      "|          Plain          | 0.000/0.000 | 0.000/0.000 | 0.000/0.000 | 0.000/0.000 | 0.000/0.000 | 0.015/0.003 | 0.000/0.000 | 0.000/0.000 | 0.000/0.000 | 0.000/0.000 | 0.000/0.000 | 0.000/0.000 |    0.000/0.000    | 0.000/0.000 | 0.000/0.000  | 0.000/0.000 | 0.000/0.000 | 0.000/0.000 |  0.000/0.000  | 0.000/0.000  |  0.000/0.000  | 1.430/0.000 | 0.000/0.000 | 0.000/0.000 | 0.124/0.056 | 0.000/0.000 | 0.000/0.000 | 0.000/0.000 | 0.000/0.000 | 0.000/0.000 | 0.010/0.000 | 0.000/0.000 | 0.000/0.000 | 0.000/0.000  | 0.000/0.000 | 0.000/0.000 | 0.000/0.000 | 0.000/0.000 | 0.000/0.000 | 0.000/0.000 | 0.000/0.000  | 0.000/0.000 | 0.000/0.000 | 0.000/0.000 | 0.000/0.000 |\n",
      "+-------------------------+-------------+-------------+-------------+-------------+-------------+-------------+-------------+-------------+-------------+-------------+-------------+-------------+-------------------+-------------+--------------+-------------+-------------+-------------+---------------+--------------+---------------+-------------+-------------+-------------+-------------+-------------+-------------+-------------+-------------+-------------+-------------+-------------+-------------+--------------+-------------+-------------+-------------+-------------+-------------+-------------+--------------+-------------+-------------+-------------+-------------+\n",
      "|        Plain-One        | 0.000/0.000 | 0.000/0.000 | 0.000/0.000 | 0.000/0.000 | 0.000/0.000 | 0.000/0.000 | 0.000/0.000 | 0.000/0.000 | 0.000/0.000 | 0.000/0.000 | 0.000/0.000 | 0.000/0.000 |    0.000/0.000    | 0.000/0.000 | 0.000/0.000  | 0.000/0.000 | 0.000/0.000 | 0.000/0.000 |  0.000/0.000  | 0.000/0.000  |  0.000/0.000  | 0.550/0.000 | 0.000/0.000 | 0.000/0.000 | 0.000/0.000 | 0.000/0.000 | 0.000/0.000 | 0.000/0.000 | 0.000/0.000 | 0.000/0.000 | 0.010/0.000 | 0.000/0.000 | 0.000/0.000 | 0.000/0.000  | 0.000/0.000 | 0.000/0.000 | 0.000/0.000 | 0.049/0.093 | 0.000/0.000 | 0.000/0.000 | 0.000/0.000  | 0.000/0.000 | 0.000/0.000 | 0.000/0.000 | 0.000/0.000 |\n",
      "+-------------------------+-------------+-------------+-------------+-------------+-------------+-------------+-------------+-------------+-------------+-------------+-------------+-------------+-------------------+-------------+--------------+-------------+-------------+-------------+---------------+--------------+---------------+-------------+-------------+-------------+-------------+-------------+-------------+-------------+-------------+-------------+-------------+-------------+-------------+--------------+-------------+-------------+-------------+-------------+-------------+-------------+--------------+-------------+-------------+-------------+-------------+\n",
      "|        Plain-Two        | 0.000/0.000 | 0.000/0.000 | 0.000/0.000 | 0.000/0.000 | 0.000/0.000 | 0.000/0.000 | 0.000/0.000 | 0.000/0.000 | 0.000/0.000 | 0.000/0.000 | 0.000/0.000 | 0.000/0.000 |    0.000/0.000    | 0.000/0.000 | 0.000/0.000  | 0.000/0.000 | 0.000/0.000 | 0.000/0.000 |  0.000/0.000  | 0.000/0.000  |  0.000/0.000  | 0.550/0.000 | 0.000/0.000 | 0.000/0.000 | 0.100/0.000 | 0.000/0.000 | 0.000/0.000 | 0.000/0.000 | 0.000/0.000 | 0.000/0.000 | 0.010/0.000 | 0.000/0.000 | 0.000/0.000 | 0.000/0.000  | 0.000/0.000 | 0.000/0.000 | 0.000/0.000 | 0.012/0.001 | 0.000/0.000 | 0.000/0.000 | 0.000/0.000  | 0.000/0.000 | 0.000/0.000 | 0.000/0.000 | 0.000/0.000 |\n",
      "+-------------------------+-------------+-------------+-------------+-------------+-------------+-------------+-------------+-------------+-------------+-------------+-------------+-------------+-------------------+-------------+--------------+-------------+-------------+-------------+---------------+--------------+---------------+-------------+-------------+-------------+-------------+-------------+-------------+-------------+-------------+-------------+-------------+-------------+-------------+--------------+-------------+-------------+-------------+-------------+-------------+-------------+--------------+-------------+-------------+-------------+-------------+\n",
      "|       Amazon-Only       | 0.000/0.000 | 0.000/0.000 | 0.000/0.000 | 0.000/0.000 | 0.000/0.000 | 0.000/0.000 | 0.000/0.000 | 0.000/0.000 | 0.853/0.951 | 0.000/0.000 | 0.000/0.000 | 0.000/0.000 |    0.000/0.000    | 0.000/0.000 | 0.000/0.000  | 0.000/0.000 | 0.000/0.000 | 0.000/0.000 |  0.000/0.000  | 0.000/0.000  |  0.000/0.000  | 1.510/0.000 | 0.000/0.000 | 0.000/0.000 | 0.111/0.064 | 0.000/0.000 | 0.000/0.000 | 0.197/0.280 | 0.000/0.000 | 0.000/0.000 | 0.010/0.000 | 0.000/0.000 | 0.000/0.000 | 0.000/0.000  | 0.000/0.000 | 0.000/0.000 | 0.000/0.000 | 0.000/0.000 | 0.000/0.000 | 0.000/0.000 | 0.000/0.000  | 0.000/0.000 | 0.000/0.000 | 0.000/0.000 | 0.000/0.000 |\n",
      "+-------------------------+-------------+-------------+-------------+-------------+-------------+-------------+-------------+-------------+-------------+-------------+-------------+-------------+-------------------+-------------+--------------+-------------+-------------+-------------+---------------+--------------+---------------+-------------+-------------+-------------+-------------+-------------+-------------+-------------+-------------+-------------+-------------+-------------+-------------+--------------+-------------+-------------+-------------+-------------+-------------+-------------+--------------+-------------+-------------+-------------+-------------+\n",
      "|         No-Skill        | 0.000/0.000 | 0.000/0.000 | 0.000/0.000 | 0.000/0.000 | 0.000/0.000 | 0.000/0.000 | 0.000/0.000 | 0.000/0.000 | 0.108/0.071 | 0.000/0.000 | 0.000/0.000 | 0.000/0.000 |    0.000/0.000    | 0.000/0.000 | 0.000/0.000  | 0.000/0.000 | 0.000/0.000 | 0.000/0.000 |  0.000/0.000  | 0.000/0.000  |  0.000/0.000  | 0.530/0.000 | 0.000/0.000 | 0.000/0.000 | 0.123/0.089 | 0.000/0.000 | 0.000/0.000 | 0.000/0.000 | 0.000/0.000 | 0.000/0.000 | 0.010/0.000 | 0.000/0.000 | 0.000/0.000 | 0.000/0.000  | 0.000/0.000 | 0.000/0.000 | 0.000/0.000 | 0.048/0.018 | 0.000/0.000 | 0.000/0.000 | 0.000/0.000  | 0.000/0.000 | 0.000/0.000 | 0.000/0.000 | 0.000/0.000 |\n",
      "+-------------------------+-------------+-------------+-------------+-------------+-------------+-------------+-------------+-------------+-------------+-------------+-------------+-------------+-------------------+-------------+--------------+-------------+-------------+-------------+---------------+--------------+---------------+-------------+-------------+-------------+-------------+-------------+-------------+-------------+-------------+-------------+-------------+-------------+-------------+--------------+-------------+-------------+-------------+-------------+-------------+-------------+--------------+-------------+-------------+-------------+-------------+\n",
      "|     Synthetic-Health    | 0.000/0.000 | 0.000/0.000 | 0.000/0.000 | 0.000/0.000 | 0.000/0.000 | 0.000/0.000 | 0.000/0.000 | 0.000/0.000 | 0.188/0.195 | 0.000/0.000 | 0.000/0.000 | 0.000/0.000 |    0.000/0.000    | 0.000/0.000 | 0.266/0.000  | 0.000/0.000 | 0.000/0.000 | 0.000/0.000 |  0.000/0.000  | 0.000/0.000  |  0.000/0.000  | 1.750/0.000 | 0.000/0.000 | 0.000/0.000 | 0.204/0.156 | 0.000/0.000 | 0.000/0.000 | 0.000/0.000 | 0.000/0.000 | 0.000/0.000 | 0.010/0.000 | 0.000/0.000 | 0.000/0.000 | 0.000/0.000  | 0.000/0.000 | 0.140/0.000 | 0.000/0.000 | 0.251/0.376 | 0.000/0.000 | 0.000/0.000 | 0.000/0.000  | 0.000/0.000 | 0.000/0.000 | 0.000/0.000 | 0.000/0.000 |\n",
      "+-------------------------+-------------+-------------+-------------+-------------+-------------+-------------+-------------+-------------+-------------+-------------+-------------+-------------+-------------------+-------------+--------------+-------------+-------------+-------------+---------------+--------------+---------------+-------------+-------------+-------------+-------------+-------------+-------------+-------------+-------------+-------------+-------------+-------------+-------------+--------------+-------------+-------------+-------------+-------------+-------------+-------------+--------------+-------------+-------------+-------------+-------------+\n",
      "|    Synthetic-Science    | 0.000/0.000 | 0.000/0.000 | 0.000/0.000 | 0.000/0.000 | 0.000/0.000 | 0.000/0.000 | 0.000/0.000 | 0.000/0.000 | 1.601/0.000 | 0.042/0.000 | 0.000/0.000 | 0.000/0.000 |    0.000/0.000    | 0.000/0.000 | 0.000/0.000  | 0.000/0.000 | 0.000/0.000 | 0.000/0.000 |  0.000/0.000  | 0.000/0.000  |  0.000/0.000  | 2.070/0.000 | 0.000/0.000 | 0.000/0.000 | 0.101/0.000 | 0.000/0.000 | 0.000/0.000 | 0.000/0.000 | 0.000/0.000 | 0.000/0.000 | 0.010/0.000 | 0.000/0.000 | 0.000/0.000 | 0.000/0.000  | 0.000/0.000 | 0.000/0.000 | 0.000/0.000 | 0.122/0.239 | 0.000/0.000 | 0.000/0.000 | 0.000/0.000  | 0.000/0.000 | 0.000/0.000 | 0.000/0.000 | 0.000/0.000 |\n",
      "+-------------------------+-------------+-------------+-------------+-------------+-------------+-------------+-------------+-------------+-------------+-------------+-------------+-------------+-------------------+-------------+--------------+-------------+-------------+-------------+---------------+--------------+---------------+-------------+-------------+-------------+-------------+-------------+-------------+-------------+-------------+-------------+-------------+-------------+-------------+--------------+-------------+-------------+-------------+-------------+-------------+-------------+--------------+-------------+-------------+-------------+-------------+\n",
      "|   Synthetic-Computers   | 0.000/0.000 | 0.000/0.000 | 0.000/0.000 | 0.000/0.000 | 0.000/0.000 | 0.000/0.000 | 0.000/0.000 | 0.000/0.000 | 0.000/0.000 | 0.000/0.000 | 0.000/0.000 | 0.000/0.000 |    0.000/0.000    | 0.000/0.000 | 0.000/0.000  | 0.000/0.000 | 0.000/0.000 | 0.000/0.000 |  0.000/0.000  | 0.000/0.000  |  0.000/0.000  | 0.110/0.000 | 0.000/0.000 | 0.000/0.000 | 0.118/0.000 | 0.000/0.000 | 0.000/0.000 | 0.000/0.000 | 0.000/0.000 | 0.000/0.000 | 0.010/0.000 | 0.000/0.000 | 0.000/0.000 | 0.000/0.000  | 0.000/0.000 | 1.480/0.000 | 0.000/0.000 | 0.172/0.279 | 0.000/0.000 | 0.000/0.000 | 0.000/0.000  | 0.000/0.000 | 0.000/0.000 | 0.000/0.000 | 0.000/0.000 |\n",
      "+-------------------------+-------------+-------------+-------------+-------------+-------------+-------------+-------------+-------------+-------------+-------------+-------------+-------------+-------------------+-------------+--------------+-------------+-------------+-------------+---------------+--------------+---------------+-------------+-------------+-------------+-------------+-------------+-------------+-------------+-------------+-------------+-------------+-------------+-------------+--------------+-------------+-------------+-------------+-------------+-------------+-------------+--------------+-------------+-------------+-------------+-------------+\n",
      "|      Connected-Car      | 0.000/0.000 | 0.000/0.000 | 0.000/0.000 | 0.000/0.000 | 0.000/0.000 | 0.000/0.000 | 0.000/0.000 | 0.000/0.000 | 0.162/0.137 | 0.000/0.000 | 0.000/0.000 | 0.000/0.000 |    0.000/0.000    | 0.000/0.000 | 0.000/0.000  | 0.000/0.000 | 0.000/0.000 | 0.000/0.000 |  0.000/0.000  | 0.000/0.000  |  0.000/0.000  | 0.500/0.000 | 0.000/0.000 | 0.000/0.000 | 0.115/0.033 | 0.000/0.000 | 0.000/0.000 | 0.000/0.000 | 0.000/0.000 | 0.000/0.000 | 0.010/0.000 | 0.000/0.000 | 0.000/0.000 | 0.000/0.000  | 0.000/0.000 | 0.140/0.000 | 0.000/0.000 | 0.011/0.000 | 0.000/0.000 | 0.000/0.000 | 0.000/0.000  | 0.000/0.000 | 0.000/0.000 | 0.000/0.000 | 0.000/0.000 |\n",
      "+-------------------------+-------------+-------------+-------------+-------------+-------------+-------------+-------------+-------------+-------------+-------------+-------------+-------------+-------------------+-------------+--------------+-------------+-------------+-------------+---------------+--------------+---------------+-------------+-------------+-------------+-------------+-------------+-------------+-------------+-------------+-------------+-------------+-------------+-------------+--------------+-------------+-------------+-------------+-------------+-------------+-------------+--------------+-------------+-------------+-------------+-------------+\n",
      "|          Dating         | 0.000/0.000 | 0.000/0.000 | 0.000/0.000 | 0.000/0.000 | 0.000/0.000 | 0.014/0.004 | 0.000/0.000 | 0.000/0.000 | 0.178/0.110 | 0.184/0.038 | 0.000/0.000 | 0.000/0.000 |    0.000/0.000    | 0.000/0.000 | 0.000/0.000  | 0.000/0.000 | 0.000/0.000 | 0.000/0.000 |  0.000/0.000  | 0.000/0.000  |  0.000/0.000  | 0.200/0.000 | 0.000/0.000 | 0.000/0.000 | 0.209/0.043 | 0.000/0.000 | 0.000/0.000 | 0.408/0.302 | 0.000/0.000 | 0.000/0.000 | 0.010/0.000 | 0.000/0.000 | 0.000/0.000 | 0.000/0.000  | 0.000/0.000 | 0.000/0.000 | 0.000/0.000 | 0.120/0.163 | 0.000/0.000 | 0.000/0.000 | 0.000/0.000  | 0.000/0.000 | 0.000/0.000 | 0.000/0.000 | 0.000/0.000 |\n",
      "+-------------------------+-------------+-------------+-------------+-------------+-------------+-------------+-------------+-------------+-------------+-------------+-------------+-------------+-------------------+-------------+--------------+-------------+-------------+-------------+---------------+--------------+---------------+-------------+-------------+-------------+-------------+-------------+-------------+-------------+-------------+-------------+-------------+-------------+-------------+--------------+-------------+-------------+-------------+-------------+-------------+-------------+--------------+-------------+-------------+-------------+-------------+\n",
      "|      Fashion-Style      | 0.000/0.000 | 0.000/0.000 | 0.000/0.000 | 0.000/0.000 | 0.000/0.000 | 0.000/0.000 | 0.000/0.000 | 0.000/0.000 | 0.248/0.179 | 0.000/0.000 | 0.000/0.000 | 0.000/0.000 |    0.000/0.000    | 0.000/0.000 | 0.000/0.000  | 0.000/0.000 | 0.000/0.000 | 0.000/0.000 |  0.000/0.000  | 0.000/0.000  |  0.000/0.000  | 1.890/0.000 | 0.000/0.000 | 0.000/0.000 | 0.138/0.133 | 0.000/0.000 | 0.000/0.000 | 0.000/0.000 | 0.000/0.000 | 0.000/0.000 | 0.010/0.000 | 0.000/0.000 | 0.000/0.000 | 0.000/0.000  | 0.000/0.000 | 0.000/0.000 | 0.000/0.000 | 0.000/0.000 | 0.000/0.000 | 0.000/0.000 | 0.000/0.000  | 0.000/0.000 | 0.000/0.000 | 0.000/0.000 | 0.000/0.000 |\n",
      "+-------------------------+-------------+-------------+-------------+-------------+-------------+-------------+-------------+-------------+-------------+-------------+-------------+-------------+-------------------+-------------+--------------+-------------+-------------+-------------+---------------+--------------+---------------+-------------+-------------+-------------+-------------+-------------+-------------+-------------+-------------+-------------+-------------+-------------+-------------+--------------+-------------+-------------+-------------+-------------+-------------+-------------+--------------+-------------+-------------+-------------+-------------+\n",
      "|       Pets-Animals      | 0.000/0.000 | 0.000/0.000 | 0.000/0.000 | 0.000/0.000 | 0.000/0.000 | 0.000/0.000 | 0.000/0.000 | 0.000/0.000 | 0.913/0.969 | 0.000/0.000 | 0.000/0.000 | 0.000/0.000 |    0.000/0.000    | 0.000/0.000 | 0.000/0.000  | 0.000/0.000 | 0.000/0.000 | 0.000/0.000 |  0.000/0.000  | 0.000/0.000  |  0.000/0.000  | 0.420/0.000 | 0.000/0.000 | 0.000/0.000 | 0.247/0.225 | 0.000/0.000 | 0.000/0.000 | 0.000/0.000 | 0.000/0.000 | 0.000/0.000 | 0.010/0.000 | 0.000/0.000 | 0.000/0.000 | 0.000/0.000  | 0.000/0.000 | 0.880/1.047 | 0.000/0.000 | 0.000/0.000 | 0.000/0.000 | 0.000/0.000 | 0.000/0.000  | 0.000/0.000 | 0.000/0.000 | 0.000/0.000 | 0.000/0.000 |\n",
      "+-------------------------+-------------+-------------+-------------+-------------+-------------+-------------+-------------+-------------+-------------+-------------+-------------+-------------+-------------------+-------------+--------------+-------------+-------------+-------------+---------------+--------------+---------------+-------------+-------------+-------------+-------------+-------------+-------------+-------------+-------------+-------------+-------------+-------------+-------------+--------------+-------------+-------------+-------------+-------------+-------------+-------------+--------------+-------------+-------------+-------------+-------------+\n",
      "|  Religion-Spirituality  | 0.000/0.000 | 0.000/0.000 | 0.000/0.000 | 0.000/0.000 | 0.000/0.000 | 0.021/0.016 | 0.000/0.000 | 0.000/0.000 | 0.440/0.785 | 1.265/0.000 | 0.000/0.000 | 0.000/0.000 |    0.000/0.000    | 0.081/0.000 | 0.000/0.000  | 0.450/0.000 | 0.000/0.000 | 0.000/0.000 |  0.000/0.000  | 0.000/0.000  |  0.000/0.000  | 0.250/0.000 | 0.000/0.000 | 0.000/0.000 | 0.117/0.066 | 0.000/0.000 | 0.000/0.000 | 0.750/1.340 | 0.000/0.000 | 0.000/0.000 | 0.010/0.000 | 0.000/0.000 | 0.000/0.000 | 0.000/0.000  | 0.000/0.000 | 0.510/0.000 | 0.000/0.000 | 0.000/0.000 | 0.000/0.000 | 0.000/0.000 | 0.000/0.000  | 0.000/0.000 | 0.000/0.000 | 0.000/0.000 | 0.000/0.000 |\n",
      "+-------------------------+-------------+-------------+-------------+-------------+-------------+-------------+-------------+-------------+-------------+-------------+-------------+-------------+-------------------+-------------+--------------+-------------+-------------+-------------+---------------+--------------+---------------+-------------+-------------+-------------+-------------+-------------+-------------+-------------+-------------+-------------+-------------+-------------+-------------+--------------+-------------+-------------+-------------+-------------+-------------+-------------+--------------+-------------+-------------+-------------+-------------+\n",
      "|        SmartHome        | 0.000/0.000 | 0.000/0.000 | 0.000/0.000 | 0.000/0.000 | 0.000/0.000 | 0.000/0.000 | 0.000/0.000 | 0.000/0.000 | 0.885/0.895 | 0.000/0.000 | 0.000/0.000 | 0.000/0.000 |    0.000/0.000    | 0.000/0.000 | 0.000/0.000  | 0.000/0.000 | 0.000/0.000 | 0.000/0.000 |  0.000/0.000  | 0.000/0.000  |  0.000/0.000  | 1.420/0.000 | 0.000/0.000 | 0.000/0.000 | 0.193/0.182 | 0.000/0.000 | 0.000/0.000 | 0.000/0.000 | 0.000/0.000 | 0.000/0.000 | 0.010/0.000 | 0.000/0.000 | 0.000/0.000 | 0.000/0.000  | 0.000/0.000 | 0.230/0.000 | 0.000/0.000 | 0.000/0.000 | 0.000/0.000 | 0.000/0.000 | 0.000/0.000  | 0.000/0.000 | 0.000/0.000 | 0.000/0.000 | 0.000/0.000 |\n",
      "+-------------------------+-------------+-------------+-------------+-------------+-------------+-------------+-------------+-------------+-------------+-------------+-------------+-------------+-------------------+-------------+--------------+-------------+-------------+-------------+---------------+--------------+---------------+-------------+-------------+-------------+-------------+-------------+-------------+-------------+-------------+-------------+-------------+-------------+-------------+--------------+-------------+-------------+-------------+-------------+-------------+-------------+--------------+-------------+-------------+-------------+-------------+\n",
      "|      Wine-Beverages     | 0.000/0.000 | 0.000/0.000 | 0.000/0.000 | 0.000/0.000 | 0.000/0.000 | 0.000/0.000 | 0.000/0.000 | 0.000/0.000 | 0.589/1.068 | 0.000/0.000 | 0.000/0.000 | 0.000/0.000 |    0.000/0.000    | 0.000/0.000 | 0.000/0.000  | 0.000/0.000 | 0.000/0.000 | 0.000/0.000 |  0.000/0.000  | 0.000/0.000  |  0.000/0.000  | 0.000/0.000 | 0.000/0.000 | 0.000/0.000 | 0.175/0.000 | 0.000/0.000 | 0.000/0.000 | 0.000/0.000 | 0.000/0.000 | 0.000/0.000 | 0.010/0.000 | 0.000/0.000 | 0.000/0.000 | 0.000/0.000  | 0.000/0.000 | 0.140/0.000 | 0.000/0.000 | 0.000/0.000 | 0.000/0.000 | 0.000/0.000 | 0.000/0.000  | 0.000/0.000 | 0.000/0.000 | 0.000/0.000 | 0.000/0.000 |\n",
      "+-------------------------+-------------+-------------+-------------+-------------+-------------+-------------+-------------+-------------+-------------+-------------+-------------+-------------+-------------------+-------------+--------------+-------------+-------------+-------------+---------------+--------------+---------------+-------------+-------------+-------------+-------------+-------------+-------------+-------------+-------------+-------------+-------------+-------------+-------------+--------------+-------------+-------------+-------------+-------------+-------------+-------------+--------------+-------------+-------------+-------------+-------------+\n",
      "|      Health-Fitness     | 0.000/0.000 | 0.000/0.000 | 0.000/0.000 | 0.000/0.000 | 0.000/0.000 | 0.016/0.004 | 0.000/0.000 | 0.000/0.000 | 0.548/0.834 | 1.265/0.000 | 0.000/0.000 | 0.000/0.000 |    0.000/0.000    | 0.081/0.000 | 0.000/0.000  | 0.520/0.000 | 0.000/0.000 | 0.000/0.000 |  0.000/0.000  | 0.000/0.000  |  0.000/0.000  | 2.530/0.000 | 0.000/0.000 | 0.000/0.000 | 0.143/0.115 | 0.000/0.000 | 0.000/0.000 | 0.432/0.339 | 0.000/0.000 | 0.000/0.000 | 0.010/0.000 | 0.000/0.000 | 0.000/0.000 | 0.000/0.000  | 0.000/0.000 | 0.483/0.595 | 0.000/0.000 | 0.000/0.000 | 0.000/0.000 | 0.000/0.000 | 0.000/0.000  | 0.000/0.000 | 0.000/0.000 | 0.000/0.000 | 0.000/0.000 |\n",
      "+-------------------------+-------------+-------------+-------------+-------------+-------------+-------------+-------------+-------------+-------------+-------------+-------------+-------------+-------------------+-------------+--------------+-------------+-------------+-------------+---------------+--------------+---------------+-------------+-------------+-------------+-------------+-------------+-------------+-------------+-------------+-------------+-------------+-------------+-------------+--------------+-------------+-------------+-------------+-------------+-------------+-------------+--------------+-------------+-------------+-------------+-------------+\n",
      "| Navigation-TripPlanners | 0.000/0.000 | 0.000/0.000 | 0.000/0.000 | 0.000/0.000 | 0.000/0.000 | 0.000/0.000 | 0.000/0.000 | 0.000/0.000 | 0.905/1.402 | 0.000/0.000 | 0.000/0.000 | 0.000/0.000 |    0.000/0.000    | 0.000/0.000 | 0.000/0.000  | 0.000/0.000 | 0.000/0.000 | 0.000/0.000 |  0.000/0.000  | 0.000/0.000  |  0.000/0.000  | 0.120/0.000 | 0.000/0.000 | 0.000/0.000 | 0.118/0.069 | 0.000/0.000 | 0.000/0.000 | 0.000/0.000 | 0.000/0.000 | 0.000/0.000 | 0.010/0.000 | 0.000/0.000 | 0.000/0.000 | 0.000/0.000  | 0.000/0.000 | 0.140/0.000 | 0.000/0.000 | 0.057/0.017 | 0.000/0.000 | 0.000/0.000 | 0.000/0.000  | 1.450/0.000 | 0.000/0.000 | 0.000/0.000 | 0.000/0.000 |\n",
      "+-------------------------+-------------+-------------+-------------+-------------+-------------+-------------+-------------+-------------+-------------+-------------+-------------+-------------+-------------------+-------------+--------------+-------------+-------------+-------------+---------------+--------------+---------------+-------------+-------------+-------------+-------------+-------------+-------------+-------------+-------------+-------------+-------------+-------------+-------------+--------------+-------------+-------------+-------------+-------------+-------------+-------------+--------------+-------------+-------------+-------------+-------------+\n"
     ]
    }
   ],
   "source": [
    "persona_stat_map, cpms_personas = compute_bid_statistics(control_list + test_list, DATA_DIR, all_advertisers, common_websites, get_median = False)\n",
    "table = print_common_bidders(persona_stat_map, all_advertisers)\n",
    "ptable_to_csv(table, RESULTS_DIR + 'common_advertisers_bids.csv')"
   ]
  },
  {
   "cell_type": "code",
   "execution_count": null,
   "id": "1c491104",
   "metadata": {},
   "outputs": [],
   "source": [
    "common_advertisers"
   ]
  },
  {
   "cell_type": "code",
   "execution_count": null,
   "id": "34859a7c",
   "metadata": {},
   "outputs": [],
   "source": [
    "ttest(common_control_cpms, common_test_cpms)"
   ]
  },
  {
   "cell_type": "markdown",
   "id": "9cde1b2d",
   "metadata": {},
   "source": [
    "### Rough work"
   ]
  },
  {
   "cell_type": "code",
   "execution_count": null,
   "id": "c8eda0e2",
   "metadata": {},
   "outputs": [],
   "source": [
    "persona_dir = os.path.join(DATA_DIR, 'SmartHome/website_bids/')\n",
    "\n",
    "bid_files = utilities.get_files_in_a_directory(persona_dir)\n",
    "\n",
    "cpms = return_bid_cpms_debug(bid_files, all_advertisers, [])"
   ]
  },
  {
   "cell_type": "code",
   "execution_count": null,
   "id": "d278198d",
   "metadata": {},
   "outputs": [],
   "source": [
    "cpms"
   ]
  },
  {
   "cell_type": "code",
   "execution_count": null,
   "id": "debc684f",
   "metadata": {},
   "outputs": [],
   "source": [
    "common_advertisers"
   ]
  },
  {
   "cell_type": "markdown",
   "id": "62f79407",
   "metadata": {},
   "source": [
    "# Plot results"
   ]
  },
  {
   "cell_type": "code",
   "execution_count": 15,
   "id": "6680b110",
   "metadata": {},
   "outputs": [],
   "source": [
    "import numpy as np\n",
    "import matplotlib.pyplot as plt\n",
    "from matplotlib.ticker import NullFormatter, FixedLocator\n",
    "import matplotlib\n",
    "matplotlib.rcParams.update({'font.size': 13})"
   ]
  },
  {
   "cell_type": "code",
   "execution_count": null,
   "id": "2903844b",
   "metadata": {},
   "outputs": [],
   "source": [
    "# ! pip install numpy"
   ]
  },
  {
   "cell_type": "code",
   "execution_count": null,
   "id": "6d73ee06",
   "metadata": {},
   "outputs": [],
   "source": [
    "cpms_personas"
   ]
  },
  {
   "cell_type": "code",
   "execution_count": null,
   "id": "a9289dc5",
   "metadata": {},
   "outputs": [],
   "source": [
    "advertisers"
   ]
  },
  {
   "cell_type": "code",
   "execution_count": null,
   "id": "36318330",
   "metadata": {},
   "outputs": [],
   "source": [
    "# advertisers\n",
    "\n",
    "k = dict(sorted(advertisers['Plain'].items(), key=lambda item: item[1], reverse=True))\n",
    "# k = sorted(advertisers['Plain'].items(), key=operator.itemgetter(1), reverse=reverse)\n",
    "\n",
    "# pubmatic\n",
    "# openx\n",
    "# triplelift\n",
    "# criteo\n",
    "# appnexus\n",
    "# rubicon\n",
    "# ix\n",
    "# getapp\n",
    "# onemobile\n",
    "\n",
    "# ozone\n",
    "# smartadserver\n"
   ]
  },
  {
   "cell_type": "code",
   "execution_count": 375,
   "id": "36326eed",
   "metadata": {},
   "outputs": [],
   "source": [
    "control_test_labels = control_list[:-3] + test_list + control_list[-3:]\n",
    "# control_test_labels = control_list + test_list"
   ]
  },
  {
   "cell_type": "code",
   "execution_count": 527,
   "id": "f5fc693b",
   "metadata": {},
   "outputs": [],
   "source": [
    "data = []\n",
    "\n",
    "for persona in control_test_labels:\n",
    "    data.append(cpms_personas[persona])\n",
    "    \n",
    "x_data = np.arange(len(control_list + test_list)) + 1"
   ]
  },
  {
   "cell_type": "markdown",
   "id": "e2f80ed8",
   "metadata": {},
   "source": [
    "## Execute this for select advertisers only"
   ]
  },
  {
   "cell_type": "code",
   "execution_count": null,
   "id": "966db0db",
   "metadata": {},
   "outputs": [],
   "source": [
    "select_advertisers = ['pubmatic','openx','triplelift','criteo','appnexus','rubicon','ix','getapp','onemobile', 'ozone','smartadserver', 'ias']"
   ]
  },
  {
   "cell_type": "code",
   "execution_count": 482,
   "id": "18f38740",
   "metadata": {},
   "outputs": [],
   "source": [
    "# select_advertisers = ['pubmatic','openx','districtmDMX','rubicon','ix','indexExchange','smaato', 'verizon', 'yahoossp', 'aol']\n",
    "# select_advertisers = ['pubmatic','openx','districtmDMX','rubicon','ix','indexExchange','smaato', 'triplelift', 'pubnative', 'appnexus']\n",
    "select_advertisers = ['pubmatic','openx','districtmDMX','rubicon','ix','indexExchange','smaato', 'triplelift', 'pubnative', 'appnexus', 'verizon', 'yahoossp', 'aol']"
   ]
  },
  {
   "cell_type": "code",
   "execution_count": null,
   "id": "4ea19bda",
   "metadata": {},
   "outputs": [],
   "source": [
    "# UAM: district m, OpenX, Pubmatic, Magnite Index Exchange, Smaato and more.\n",
    "\n",
    "# TAM:\n",
    "# OpenX\n",
    "# Magnite\n",
    "# Smaato\n",
    "# SpotX\n",
    "# TripleLift\n",
    "# Verve\n",
    "# Xandr"
   ]
  },
  {
   "cell_type": "code",
   "execution_count": null,
   "id": "42c7c9d0",
   "metadata": {},
   "outputs": [],
   "source": [
    "# DistrictM --> districtmDMX\n",
    "# OpenX\n",
    "# Pubmatic\n",
    "# Rubicon/Magnite\n",
    "# Verizon\n",
    "# Index Exchange --> IX , indexExchange\n",
    "# Smaato\n"
   ]
  },
  {
   "cell_type": "code",
   "execution_count": 525,
   "id": "090c51da",
   "metadata": {},
   "outputs": [],
   "source": [
    "data = []\n",
    "for persona in control_test_labels:\n",
    "    tmp = []\n",
    "    for advertiser in select_advertisers:\n",
    "#     for advertiser in common_advertisers:\n",
    "        if advertiser not in cpms_personas[persona]:\n",
    "            continue\n",
    "        tmp += cpms_personas[persona][advertiser]\n",
    "    \n",
    "    data.append(tmp)\n",
    "    \n",
    "x_data = np.arange(len(control_list + test_list)) + 1"
   ]
  },
  {
   "cell_type": "code",
   "execution_count": 354,
   "id": "23a65d8d",
   "metadata": {},
   "outputs": [
    {
     "name": "stdout",
     "output_type": "stream",
     "text": [
      "91\n",
      "59\n",
      "78\n",
      "79\n",
      "72\n",
      "98\n",
      "194\n",
      "96\n",
      "83\n",
      "97\n",
      "69\n",
      "162\n",
      "107\n",
      "79\n",
      "143\n",
      "150\n",
      "137\n"
     ]
    }
   ],
   "source": [
    "for bids in data:\n",
    "    print(len(bids))"
   ]
  },
  {
   "cell_type": "code",
   "execution_count": 355,
   "id": "f4c412ea",
   "metadata": {},
   "outputs": [],
   "source": [
    "new_bids = []\n",
    "new_data = []\n",
    "for bids in data:\n",
    "    new_bids = bids + [0] * (194 - len(bids))\n",
    "    new_data.append(new_bids)\n",
    "data = new_data"
   ]
  },
  {
   "cell_type": "code",
   "execution_count": 268,
   "id": "aac99821",
   "metadata": {},
   "outputs": [],
   "source": [
    "# new_data"
   ]
  },
  {
   "cell_type": "code",
   "execution_count": 508,
   "id": "605bb4b5",
   "metadata": {},
   "outputs": [
    {
     "data": {
      "image/png": "[encoded data removed]",
      "text/plain": [
       "<Figure size 576x288 with 1 Axes>"
      ]
     },
     "metadata": {
      "needs_background": "light"
     },
     "output_type": "display_data"
    }
   ],
   "source": [
    "np.random.seed(19680801)\n",
    "\n",
    "# mu = 200\n",
    "# sigma = 25\n",
    "# n_bins = 50\n",
    "# x = np.random.normal(mu, sigma, size=100)\n",
    "\n",
    "fig, ax = plt.subplots(figsize=(8, 4))\n",
    "\n",
    "# plot the cumulative histogram\n",
    "n, bins, patches = ax.hist(data[0], 50000, color='black', label = control_test_labels[0], density=True, histtype='step', cumulative=True)\n",
    "n, bins, patches = ax.hist(data[1], 50000, color='black', label = control_test_labels[1], density=True, histtype='step', cumulative=True)\n",
    "n, bins, patches = ax.hist(data[2], 50000, color='black', label = control_test_labels[2], density=True, histtype='step', cumulative=True)\n",
    "\n",
    "for i in range(3,13):\n",
    "    n, bins, patches = ax.hist(data[i], 50000, color=plt.cm.get_cmap('tab10').colors[i-3], label = control_test_labels[i], density=True, histtype='step', cumulative=True)\n",
    "    \n",
    "# n, bins, patches = ax.hist(data[10], 50000, color='black', label = control_test_labels[10], density=True, histtype='step', cumulative=True)\n",
    "# n, bins, patches = ax.hist(data[11], 50000, color='yellow', label = control_test_labels[11], density=True, histtype='step', cumulative=True)\n",
    "# n, bins, patches = ax.hist(data[12], 50000, color='magenta', label = control_test_labels[12], density=True, histtype='step', cumulative=True)\n",
    "n, bins, patches = ax.hist(data[13], 50000, color='maroon', label = control_test_labels[13], density=True, histtype='step', cumulative=True)\n",
    "n, bins, patches = ax.hist(data[14], 50000, color='maroon', label = control_test_labels[14], density=True, histtype='step', cumulative=True)\n",
    "n, bins, patches = ax.hist(data[15], 50000, color='maroon', label = control_test_labels[15], density=True, histtype='step', cumulative=True)\n",
    "\n",
    "\n",
    "\n",
    "# # Add a line showing the expected distribution.\n",
    "# y = ((1 / (np.sqrt(2 * np.pi) * sigma)) *\n",
    "#      np.exp(-0.5 * (1 / sigma * (bins - mu))**2))\n",
    "# y = y.cumsum()\n",
    "# y /= y[-1]\n",
    "\n",
    "# ax.plot(bins, y, 'k--', linewidth=1.5, label='Theoretical')\n",
    "\n",
    "# # Overlay a reversed cumulative histogram.\n",
    "# ax.hist(x, bins=bins, density=True, histtype='step', cumulative=-1,\n",
    "#         label='Reversed emp.')\n",
    "\n",
    "# tidy up the figure\n",
    "ax.set_xlim([0, 2])\n",
    "\n",
    "\n",
    "ax.grid(True)\n",
    "ax.legend(loc='right')\n",
    "ax.set_title('Cumulative step histograms')\n",
    "ax.set_xlabel('Annual rainfall (mm)')\n",
    "ax.set_ylabel('Likelihood of occurrence')\n",
    "\n",
    "plt.show()"
   ]
  },
  {
   "cell_type": "code",
   "execution_count": 309,
   "id": "711f2aee",
   "metadata": {},
   "outputs": [
    {
     "data": {
      "text/plain": [
       "((0.12156862745098039, 0.4666666666666667, 0.7058823529411765),\n",
       " (0.6823529411764706, 0.7803921568627451, 0.9098039215686274),\n",
       " (1.0, 0.4980392156862745, 0.054901960784313725),\n",
       " (1.0, 0.7333333333333333, 0.47058823529411764),\n",
       " (0.17254901960784313, 0.6274509803921569, 0.17254901960784313),\n",
       " (0.596078431372549, 0.8745098039215686, 0.5411764705882353),\n",
       " (0.8392156862745098, 0.15294117647058825, 0.1568627450980392),\n",
       " (1.0, 0.596078431372549, 0.5882352941176471),\n",
       " (0.5803921568627451, 0.403921568627451, 0.7411764705882353),\n",
       " (0.7725490196078432, 0.6901960784313725, 0.8352941176470589),\n",
       " (0.5490196078431373, 0.33725490196078434, 0.29411764705882354),\n",
       " (0.7686274509803922, 0.611764705882353, 0.5803921568627451),\n",
       " (0.8901960784313725, 0.4666666666666667, 0.7607843137254902),\n",
       " (0.9686274509803922, 0.7137254901960784, 0.8235294117647058),\n",
       " (0.4980392156862745, 0.4980392156862745, 0.4980392156862745),\n",
       " (0.7803921568627451, 0.7803921568627451, 0.7803921568627451),\n",
       " (0.7372549019607844, 0.7411764705882353, 0.13333333333333333),\n",
       " (0.8588235294117647, 0.8588235294117647, 0.5529411764705883),\n",
       " (0.09019607843137255, 0.7450980392156863, 0.8117647058823529),\n",
       " (0.6196078431372549, 0.8549019607843137, 0.8980392156862745))"
      ]
     },
     "execution_count": 309,
     "metadata": {},
     "output_type": "execute_result"
    }
   ],
   "source": []
  },
  {
   "cell_type": "code",
   "execution_count": 528,
   "id": "b3c9c28c",
   "metadata": {
    "scrolled": false
   },
   "outputs": [
    {
     "data": {
      "image/png": "[encoded data removed]",
      "text/plain": [
       "<Figure size 432x504 with 1 Axes>"
      ]
     },
     "metadata": {
      "needs_background": "light"
     },
     "output_type": "display_data"
    }
   ],
   "source": [
    "fig, ax = plt.subplots()\n",
    "_ = ax.boxplot(data, showfliers=True, manage_ticks=True,autorange=True,meanline=True,showmeans=True)\n",
    "\n",
    "ax.set_ylabel('CMP value')\n",
    "ax.set_xticks(x_data)\n",
    "ax.set_xticklabels(control_test_labels, rotation=90)\n",
    "\n",
    "# ax.legend(loc=\"upper left\")\n",
    "ax.set_ylim([0, 4])\n",
    "# ax.set_yticks([0.5]*20)\n",
    "fig.set_size_inches(6, 7, forward=True)\n",
    "\n",
    "ax.vlines(3.5, 0, 8, colors='red', linestyles='solid', label='',)\n",
    "ax.vlines(5.5, 0, 8, colors='red', linestyles='solid', label='',)\n",
    "ax.vlines(14.5, 0, 8, colors='red', linestyles='solid', label='',)\n",
    "\n",
    "label_text = 'Test'\n",
    "plt.title(label_text)\n",
    "plt.grid(linestyle='--')\n",
    "ax.set_axisbelow(True)\n",
    "plt.tight_layout()\n",
    "plt.savefig(RESULTS_DIR + label_text + \".pdf\")\n",
    "plt.show()"
   ]
  },
  {
   "cell_type": "code",
   "execution_count": 441,
   "id": "a6d6162f",
   "metadata": {},
   "outputs": [
    {
     "data": {
      "text/plain": [
       "[[0.161, 0.043],\n",
       " [],\n",
       " [0.1],\n",
       " [0.07400000000000001, 0.184, 0.04],\n",
       " [0.07150000000000001, 0.226],\n",
       " [0.092, 0.138],\n",
       " [0.19, 0.195, 0.41, 0.7949999999999999, 0.275, 0.184428],\n",
       " [0.0615, 0.292],\n",
       " [1.62, 0.175, 0.28300000000000003],\n",
       " [0.51, 0.079, 0.193, 0.45, 2.215, 0.05, 0.13, 0.17, 1.264747],\n",
       " [0.321, 0.064],\n",
       " [0.175],\n",
       " [1.17, 0.276, 0.0765, 0.52, 0.71, 0.56, 0.06, 1.264747],\n",
       " [0.191, 0.0815],\n",
       " [0.18, 0.2155],\n",
       " [0.101, 0.0415],\n",
       " [1.48, 0.118]]"
      ]
     },
     "execution_count": 441,
     "metadata": {},
     "output_type": "execute_result"
    }
   ],
   "source": [
    "data"
   ]
  },
  {
   "cell_type": "code",
   "execution_count": 101,
   "id": "33ff2866",
   "metadata": {},
   "outputs": [],
   "source": [
    "import pandas as pd"
   ]
  },
  {
   "cell_type": "code",
   "execution_count": 102,
   "id": "ed4562d8",
   "metadata": {},
   "outputs": [],
   "source": [
    "# !pip install pandas"
   ]
  },
  {
   "cell_type": "code",
   "execution_count": 529,
   "id": "a49eaa17",
   "metadata": {},
   "outputs": [],
   "source": [
    "df = pd.DataFrame(data)\n",
    "df = df.transpose()\n",
    "df.columns = control_test_labels"
   ]
  },
  {
   "cell_type": "code",
   "execution_count": 530,
   "id": "6ef7c8ac",
   "metadata": {},
   "outputs": [],
   "source": [
    "Q1 = df.quantile(0.25)\n",
    "Q2 = df.quantile(0.50)\n",
    "Q3 = df.quantile(0.75)\n",
    "IQR = Q3 - Q1"
   ]
  },
  {
   "cell_type": "code",
   "execution_count": 154,
   "id": "cc1f7ac6",
   "metadata": {},
   "outputs": [
    {
     "data": {
      "text/plain": [
       "(Plain                      0.606323\n",
       " Plain-One                  0.787000\n",
       " Plain-Two                  0.152000\n",
       " Amazon-Only                0.325276\n",
       " No-Skill                   0.249808\n",
       " Connected-Car              0.343700\n",
       " Dating                     0.315250\n",
       " Fashion-Style              0.360000\n",
       " Pets-Animals               1.139750\n",
       " Religion-Spirituality      0.610000\n",
       " SmartHome                  0.241072\n",
       " Wine-Beverages             0.475000\n",
       " Health-Fitness             0.393402\n",
       " Navigation-TripPlanners    0.530000\n",
       " Synthetic-Health           0.399750\n",
       " Synthetic-Science               NaN\n",
       " Synthetic-Computers        0.326049\n",
       " Name: 0.25, dtype: float64,\n",
       " Plain                      0.620000\n",
       " Plain-One                  0.980000\n",
       " Plain-Two                  0.650000\n",
       " Amazon-Only                0.560000\n",
       " No-Skill                   0.249808\n",
       " Connected-Car              0.360000\n",
       " Dating                     0.524000\n",
       " Fashion-Style              0.510000\n",
       " Pets-Animals               1.296500\n",
       " Religion-Spirituality      0.830000\n",
       " SmartHome                  0.241072\n",
       " Wine-Beverages             0.812000\n",
       " Health-Fitness             0.560000\n",
       " Navigation-TripPlanners    0.690000\n",
       " Synthetic-Health           0.509500\n",
       " Synthetic-Science               NaN\n",
       " Synthetic-Computers        0.640000\n",
       " Name: 0.5, dtype: float64,\n",
       " Plain                      0.635000\n",
       " Plain-One                  1.525500\n",
       " Plain-Two                  0.670000\n",
       " Amazon-Only                1.200000\n",
       " No-Skill                   0.249808\n",
       " Connected-Car              0.371000\n",
       " Dating                     0.717828\n",
       " Fashion-Style              0.535000\n",
       " Pets-Animals               1.453250\n",
       " Religion-Spirituality      0.830000\n",
       " SmartHome                  0.241072\n",
       " Wine-Beverages             1.509000\n",
       " Health-Fitness             1.382500\n",
       " Navigation-TripPlanners    1.124000\n",
       " Synthetic-Health           0.874250\n",
       " Synthetic-Science               NaN\n",
       " Synthetic-Computers        1.263127\n",
       " Name: 0.75, dtype: float64,\n",
       " Plain                      0.563307\n",
       " Plain-One                 -0.320750\n",
       " Plain-Two                 -0.625000\n",
       " Amazon-Only               -0.986810\n",
       " No-Skill                   0.249808\n",
       " Connected-Car              0.302750\n",
       " Dating                    -0.288617\n",
       " Fashion-Style              0.097500\n",
       " Pets-Animals               0.669500\n",
       " Religion-Spirituality      0.280000\n",
       " SmartHome                  0.241072\n",
       " Wine-Beverages            -1.076000\n",
       " Health-Fitness            -1.090245\n",
       " Navigation-TripPlanners   -0.361000\n",
       " Synthetic-Health          -0.312000\n",
       " Synthetic-Science               NaN\n",
       " Synthetic-Computers       -1.079568\n",
       " dtype: float64,\n",
       " Plain                      0.678016\n",
       " Plain-One                  2.633250\n",
       " Plain-Two                  1.447000\n",
       " Amazon-Only                2.512086\n",
       " No-Skill                   0.249808\n",
       " Connected-Car              0.411950\n",
       " Dating                     1.321695\n",
       " Fashion-Style              0.797500\n",
       " Pets-Animals               1.923500\n",
       " Religion-Spirituality      1.160000\n",
       " SmartHome                  0.241072\n",
       " Wine-Beverages             3.060000\n",
       " Health-Fitness             2.866147\n",
       " Navigation-TripPlanners    2.015000\n",
       " Synthetic-Health           1.586000\n",
       " Synthetic-Science               NaN\n",
       " Synthetic-Computers        2.668744\n",
       " dtype: float64)"
      ]
     },
     "execution_count": 154,
     "metadata": {},
     "output_type": "execute_result"
    }
   ],
   "source": [
    "Q1, Q2, Q3, (Q1 - 1.5 * IQR), (Q3 + 1.5 * IQR)"
   ]
  },
  {
   "cell_type": "code",
   "execution_count": 531,
   "id": "89fb9b95",
   "metadata": {},
   "outputs": [
    {
     "data": {
      "text/plain": [
       "Plain                      18\n",
       "Plain-One                  10\n",
       "Plain-Two                   8\n",
       "Amazon-Only                10\n",
       "No-Skill                    8\n",
       "Connected-Car              11\n",
       "Dating                     29\n",
       "Fashion-Style              14\n",
       "Pets-Animals               17\n",
       "Religion-Spirituality      37\n",
       "SmartHome                  15\n",
       "Wine-Beverages              9\n",
       "Health-Fitness             44\n",
       "Navigation-TripPlanners    13\n",
       "Synthetic-Health           30\n",
       "Synthetic-Science          18\n",
       "Synthetic-Computers         7\n",
       "dtype: int64"
      ]
     },
     "execution_count": 531,
     "metadata": {},
     "output_type": "execute_result"
    }
   ],
   "source": [
    "((df < (Q1 - 1.5 * IQR)) | (df > (Q3 + 1.5 * IQR))).sum() "
   ]
  },
  {
   "cell_type": "code",
   "execution_count": null,
   "id": "4a9d830d",
   "metadata": {},
   "outputs": [],
   "source": [
    "df[(df > (Q3 + 1.5 * IQR))].mean()"
   ]
  },
  {
   "cell_type": "code",
   "execution_count": null,
   "id": "46edb45c",
   "metadata": {},
   "outputs": [],
   "source": [
    "tmp"
   ]
  },
  {
   "cell_type": "code",
   "execution_count": 532,
   "id": "2e937503",
   "metadata": {},
   "outputs": [
    {
     "data": {
      "text/plain": [
       "Plain                      12.413793\n",
       "Plain-One                  13.513514\n",
       "Plain-Two                  11.267606\n",
       "Amazon-Only                13.888889\n",
       "No-Skill                    9.195402\n",
       "Connected-Car              11.702128\n",
       "Dating                     13.425926\n",
       "Fashion-Style              15.555556\n",
       "Pets-Animals               18.085106\n",
       "Religion-Spirituality      12.171053\n",
       "SmartHome                  14.851485\n",
       "Wine-Beverages              9.677419\n",
       "Health-Fitness             11.989101\n",
       "Navigation-TripPlanners    14.285714\n",
       "Synthetic-Health           16.483516\n",
       "Synthetic-Science          15.000000\n",
       "Synthetic-Computers         4.794521\n",
       "dtype: float64"
      ]
     },
     "execution_count": 532,
     "metadata": {},
     "output_type": "execute_result"
    }
   ],
   "source": [
    "(((df < (Q1 - 1.5 * IQR)) | (df > (Q3 + 1.5 * IQR))).sum() / (df.count())) * 100.0"
   ]
  },
  {
   "cell_type": "code",
   "execution_count": null,
   "id": "b8337c70",
   "metadata": {},
   "outputs": [],
   "source": [
    "Fourth\n",
    "Plain                       4.444444\n",
    "Plain-One                   8.888889\n",
    "Plain-Two                   9.905660\n",
    "Amazon-Only                 8.020050\n",
    "No-Skill                   15.857605\n",
    "Synthetic-Health           12.419700\n",
    "Synthetic-Science           7.857143\n",
    "Synthetic-Computers        11.962617\n",
    "Connected-Car              10.909091\n",
    "Dating                      7.258065\n",
    "Fashion-Style               8.914729\n",
    "Pets-Animals                4.363636\n",
    "Religion-Spirituality       9.160305\n",
    "SmartHome                   9.782609\n",
    "Wine-Beverages              8.219178\n",
    "Health-Fitness              9.009009\n",
    "Navigation-TripPlanners     6.549118"
   ]
  },
  {
   "cell_type": "code",
   "execution_count": null,
   "id": "d9da977d",
   "metadata": {},
   "outputs": [],
   "source": [
    "Fourth -- 100\n",
    "Plain                       4.444444\n",
    "Plain-One                   9.876543\n",
    "Plain-Two                  16.000000\n",
    "Plain-Save-Profile          4.109589\n",
    "Amazon-Only                10.958904\n",
    "No-Skill                    1.075269\n",
    "Synthetic-Health           13.809524\n",
    "Synthetic-Science           9.433962\n",
    "Synthetic-Computers        14.814815\n",
    "Connected-Car              15.384615\n",
    "Dating                      0.000000\n",
    "Fashion-Style               8.737864\n",
    "Pets-Animals               10.752688\n",
    "Religion-Spirituality      11.818182\n",
    "SmartHome                  21.052632\n",
    "Wine-Beverages             10.084034\n",
    "Health-Fitness             14.814815\n",
    "Navigation-TripPlanners     9.876543"
   ]
  },
  {
   "cell_type": "code",
   "execution_count": null,
   "id": "512531a0",
   "metadata": {},
   "outputs": [],
   "source": [
    "Third\n",
    "Plain                       5.882353\n",
    "Plain-One                   3.061224\n",
    "Plain-Two                   6.206897\n",
    "Amazon-Only                 4.807692\n",
    "No-Skill                   13.684211\n",
    "Connected-Car              11.764706\n",
    "Dating                      7.865169\n",
    "Fashion-Style               9.411765\n",
    "Pets-Animals                8.888889\n",
    "Religion-Spirituality       5.855856\n",
    "SmartHome                  11.607143\n",
    "Wine-Beverages              2.870813\n",
    "Health-Fitness             17.391304\n",
    "Navigation-TripPlanners     1.162791"
   ]
  },
  {
   "cell_type": "code",
   "execution_count": null,
   "id": "b8005fdb",
   "metadata": {},
   "outputs": [],
   "source": [
    "top_points = _[\"fliers\"][0].get_data()[1]\n",
    "bottom_points = _[\"fliers\"][2].get_data()[1]"
   ]
  },
  {
   "cell_type": "code",
   "execution_count": null,
   "id": "ae58d49b",
   "metadata": {},
   "outputs": [],
   "source": [
    "len(top_points), len(bottom_points)"
   ]
  },
  {
   "cell_type": "code",
   "execution_count": null,
   "id": "9f1b69f6",
   "metadata": {},
   "outputs": [],
   "source": [
    "import itertools"
   ]
  },
  {
   "cell_type": "code",
   "execution_count": null,
   "id": "83667c44",
   "metadata": {},
   "outputs": [],
   "source": [
    "x_index = [[i+1]*len(data[i]) for i,item in enumerate(data)]\n",
    "# x, y = np.meshgrid(x_zeros,data)\n",
    "x_index = list(itertools.chain.from_iterable(x_index))\n",
    "y_index = list(itertools.chain.from_iterable(data))\n",
    "plt.scatter(x_index,y_index)\n",
    "plt.show()"
   ]
  },
  {
   "cell_type": "code",
   "execution_count": 533,
   "id": "5c45d19b",
   "metadata": {},
   "outputs": [],
   "source": [
    "from scipy import stats"
   ]
  },
  {
   "cell_type": "code",
   "execution_count": null,
   "id": "858dfd58",
   "metadata": {},
   "outputs": [],
   "source": [
    "# ! pip install scipy"
   ]
  },
  {
   "cell_type": "code",
   "execution_count": null,
   "id": "7b539d53",
   "metadata": {},
   "outputs": [],
   "source": [
    "1 – (2U)/(n1 n2)"
   ]
  },
  {
   "cell_type": "code",
   "execution_count": 539,
   "id": "820821c9",
   "metadata": {},
   "outputs": [
    {
     "name": "stdout",
     "output_type": "stream",
     "text": [
      "+-------------------------+----------+----------+----------------+----------------+-------------+-------------+\n",
      "|         Persona         | Plain(P) | Plain(E) | Amazon-Only(P) | Amazon-Only(E) | No-Skill(P) | No-Skill(E) |\n",
      "+-------------------------+----------+----------+----------------+----------------+-------------+-------------+\n",
      "|      Connected-Car      | 0.81711  | 0.05430  |    0.15172     |    -0.30672    |   0.66606   |   -0.08997  |\n",
      "+-------------------------+----------+----------+----------------+----------------+-------------+-------------+\n",
      "|          Dating         | 0.03711  | 0.40849  |    0.71648     |    -0.07143    |   0.18281   |   0.23935   |\n",
      "+-------------------------+----------+----------+----------------+----------------+-------------+-------------+\n",
      "|      Fashion-Style      | 0.31842  | 0.25385  |    0.59733     |    -0.13571    |   0.63274   |   0.11765   |\n",
      "+-------------------------+----------+----------+----------------+----------------+-------------+-------------+\n",
      "|       Pets-Animals      | 0.04590  | 0.45604  |    0.74736     |    0.07653     |   0.05646   |   0.40756   |\n",
      "+-------------------------+----------+----------+----------------+----------------+-------------+-------------+\n",
      "|  Religion-Spirituality  | 0.04713  | 0.39645  |    0.98868     |    0.00549     |   0.09091   |   0.30995   |\n",
      "+-------------------------+----------+----------+----------------+----------------+-------------+-------------+\n",
      "|        SmartHome        | 0.17129  | 0.33566  |    0.95625     |    0.01948     |   0.16459   |   0.32086   |\n",
      "+-------------------------+----------+----------+----------------+----------------+-------------+-------------+\n",
      "|      Wine-Beverages     | 0.61428  | 0.13675  |    0.32742     |    -0.25397    |   0.97846   |   -0.01307  |\n",
      "+-------------------------+----------+----------+----------------+----------------+-------------+-------------+\n",
      "|      Health-Fitness     | 0.03469  | 0.41379  |    0.80532     |    0.04926     |   0.08348   |   0.31034   |\n",
      "+-------------------------+----------+----------+----------------+----------------+-------------+-------------+\n",
      "| Navigation-TripPlanners | 0.17253  | 0.29487  |    0.49369     |    -0.14683    |   0.46743   |   0.14706   |\n",
      "+-------------------------+----------+----------+----------------+----------------+-------------+-------------+\n",
      "|     Synthetic-Health    | 0.12569  | 0.33484  |    0.66202     |    -0.09664    |   0.27753   |   0.22145   |\n",
      "+-------------------------+----------+----------+----------------+----------------+-------------+-------------+\n",
      "|    Synthetic-Science    | 0.62757  | 0.11282  |    0.33632     |    -0.21429    |   0.63656   |   -0.10196  |\n",
      "+-------------------------+----------+----------+----------------+----------------+-------------+-------------+\n",
      "|   Synthetic-Computers   | 0.80303  | 0.06923  |    0.41123     |    -0.20714    |   0.84056   |   -0.05294  |\n",
      "+-------------------------+----------+----------+----------------+----------------+-------------+-------------+\n"
     ]
    }
   ],
   "source": [
    "table = PrettyTable(['Persona', 'Plain(P)', 'Plain(E)', 'Amazon-Only(P)', 'Amazon-Only(E)', 'No-Skill(P)', 'No-Skill(E)'], hrules=ALL)\n",
    "# for control_persona in ['Plain', 'Amazon-Only', 'No-Skill']:\n",
    "for test_persona in test_list + ['Synthetic-Health', 'Synthetic-Science', 'Synthetic-Computers']:\n",
    "    plain_mu = stats.mannwhitneyu(cpms_personas['Plain'], cpms_personas[test_persona])\n",
    "    Amazn_mu = stats.mannwhitneyu(cpms_personas['Amazon-Only'], cpms_personas[test_persona])\n",
    "    NoSkl_mu = stats.mannwhitneyu(cpms_personas['No-Skill'], cpms_personas[test_persona])\n",
    "    \n",
    "    plain_p = \"{0:0.5f}\".format(plain_mu.pvalue)\n",
    "    Amazn_p = \"{0:0.5f}\".format(Amazn_mu.pvalue)\n",
    "    NoSkl_p = \"{0:0.5f}\".format(NoSkl_mu.pvalue)\n",
    "    \n",
    "    plain_e = \"{0:0.5f}\".format(1 - ((2 * plain_mu.statistic) / (len(cpms_personas['Plain'])*len(cpms_personas[test_persona]))))\n",
    "    Amazn_e = \"{0:0.5f}\".format(1 - ((2 * Amazn_mu.statistic) / (len(cpms_personas['Amazon-Only'])*len(cpms_personas[test_persona]))))\n",
    "    NoSkl_e = \"{0:0.5f}\".format(1 - ((2 * NoSkl_mu.statistic) / (len(cpms_personas['No-Skill'])*len(cpms_personas[test_persona]))))\n",
    "\n",
    "\n",
    "    table.add_row([test_persona, plain_p, plain_e, Amazn_p, Amazn_e, NoSkl_p, NoSkl_e])\n",
    "#         print(control_persona, test_persona, stats.mannwhitneyu(cpms_personas[control_persona], cpms_personas[test_persona]).pvalue)\n",
    "print(table)"
   ]
  },
  {
   "cell_type": "code",
   "execution_count": 540,
   "id": "c0e0ffaf",
   "metadata": {},
   "outputs": [
    {
     "name": "stdout",
     "output_type": "stream",
     "text": [
      "+-------------------------+---------+-------------+----------+\n",
      "|         Persona         |  Plain  | Amazon-Only | No-Skill |\n",
      "+-------------------------+---------+-------------+----------+\n",
      "|      Connected-Car      | 0.81711 |   0.15172   | 0.66606  |\n",
      "+-------------------------+---------+-------------+----------+\n",
      "|          Dating         | 0.03711 |   0.71648   | 0.18281  |\n",
      "+-------------------------+---------+-------------+----------+\n",
      "|      Fashion-Style      | 0.31842 |   0.59733   | 0.63274  |\n",
      "+-------------------------+---------+-------------+----------+\n",
      "|       Pets-Animals      | 0.04590 |   0.74736   | 0.05646  |\n",
      "+-------------------------+---------+-------------+----------+\n",
      "|  Religion-Spirituality  | 0.04713 |   0.98868   | 0.09091  |\n",
      "+-------------------------+---------+-------------+----------+\n",
      "|        SmartHome        | 0.17129 |   0.95625   | 0.16459  |\n",
      "+-------------------------+---------+-------------+----------+\n",
      "|      Wine-Beverages     | 0.61428 |   0.32742   | 0.97846  |\n",
      "+-------------------------+---------+-------------+----------+\n",
      "|      Health-Fitness     | 0.03469 |   0.80532   | 0.08348  |\n",
      "+-------------------------+---------+-------------+----------+\n",
      "| Navigation-TripPlanners | 0.17253 |   0.49369   | 0.46743  |\n",
      "+-------------------------+---------+-------------+----------+\n",
      "|         No-Skill        | 0.26623 |   0.20351   |    --    |\n",
      "+-------------------------+---------+-------------+----------+\n"
     ]
    }
   ],
   "source": [
    "table = PrettyTable(['Persona', 'Plain', 'Amazon-Only', 'No-Skill'], hrules=ALL)\n",
    "# for control_persona in ['Plain', 'Amazon-Only', 'No-Skill']:\n",
    "for test_persona in test_list:\n",
    "    plain_mu = stats.mannwhitneyu(cpms_personas['Plain'], cpms_personas[test_persona])\n",
    "    Amazn_mu = stats.mannwhitneyu(cpms_personas['Amazon-Only'], cpms_personas[test_persona])\n",
    "    NoSkl_mu = stats.mannwhitneyu(cpms_personas['No-Skill'], cpms_personas[test_persona])\n",
    "    \n",
    "    plain_p = \"{0:0.5f}\".format(plain_mu.pvalue)\n",
    "    Amazn_p = \"{0:0.5f}\".format(Amazn_mu.pvalue)\n",
    "    NoSkl_p = \"{0:0.5f}\".format(NoSkl_mu.pvalue)\n",
    "    \n",
    "    plain_e = \"{0:0.5f}\".format(1 - ((2 * plain_mu.statistic) / (len(cpms_personas['Plain'])*len(cpms_personas[test_persona]))))\n",
    "    Amazn_e = \"{0:0.5f}\".format(1 - ((2 * Amazn_mu.statistic) / (len(cpms_personas['Amazon-Only'])*len(cpms_personas[test_persona]))))\n",
    "    NoSkl_e = \"{0:0.5f}\".format(1 - ((2 * NoSkl_mu.statistic) / (len(cpms_personas['No-Skill'])*len(cpms_personas[test_persona]))))\n",
    "\n",
    "\n",
    "    table.add_row([test_persona, plain_p, Amazn_p, NoSkl_p])\n",
    "#         print(control_persona, test_persona, stats.mannwhitneyu(cpms_personas[control_persona], cpms_personas[test_persona]).pvalue)\n",
    "\n",
    "plain_mu = stats.mannwhitneyu(cpms_personas['Plain'], cpms_personas['No-Skill'])\n",
    "Amazn_mu = stats.mannwhitneyu(cpms_personas['Amazon-Only'], cpms_personas['No-Skill'])\n",
    "\n",
    "plain_p = \"{0:0.5f}\".format(plain_mu.pvalue)\n",
    "Amazn_p = \"{0:0.5f}\".format(Amazn_mu.pvalue)\n",
    "\n",
    "table.add_row(['No-Skill', plain_p, Amazn_p, '--'])\n",
    "\n",
    "print(table)\n",
    "\n",
    "ptable_to_csv(table, RESULTS_DIR + 'u-test.csv')"
   ]
  },
  {
   "cell_type": "code",
   "execution_count": null,
   "id": "ebbcdaa0",
   "metadata": {},
   "outputs": [],
   "source": [
    "stats.normaltest(cpms_personas['Amazon-Only'])"
   ]
  },
  {
   "cell_type": "code",
   "execution_count": null,
   "id": "338c2703",
   "metadata": {},
   "outputs": [],
   "source": [
    "def read_json(file_addr):\n",
    "    with open(file_addr) as json_data:\n",
    "        d = json.load(json_data)\n",
    "    \n",
    "    websites_list = []\n",
    "\n",
    "    count = 1\n",
    "    for key in d:\n",
    "        for item in d[key]:\n",
    "            websites_list.append(str(count)+','+item)\n",
    "            count += 1\n",
    "\n",
    "    return websites_list\n",
    "\n"
   ]
  },
  {
   "cell_type": "code",
   "execution_count": null,
   "id": "662f34f9",
   "metadata": {},
   "outputs": [],
   "source": [
    "sites = read_json('/media/umar/Data/work/voice-assistant-central/voice-assistants-openwpm/top_websites/Synthetic-Computers.json')\n",
    "# sites = read_file('tranco_09072021_10K.csv')[:10]"
   ]
  },
  {
   "cell_type": "code",
   "execution_count": null,
   "id": "981aa09c",
   "metadata": {},
   "outputs": [],
   "source": [
    "sites"
   ]
  },
  {
   "cell_type": "code",
   "execution_count": null,
   "id": "809bd5c4",
   "metadata": {},
   "outputs": [],
   "source": [
    "def read_file(file_addr):\n",
    "    with open(file_addr) as f:\n",
    "        content = f.readlines()\n",
    "    return content\n",
    "\n",
    "sites = read_file('/media/umar/Data/work/voice-assistant-central/voice-assistants-openwpm/top_websites/top_prebid_websites.csv')[:200]"
   ]
  },
  {
   "cell_type": "code",
   "execution_count": null,
   "id": "a6b32e72",
   "metadata": {},
   "outputs": [],
   "source": [
    "sites"
   ]
  },
  {
   "cell_type": "code",
   "execution_count": null,
   "id": "44f30ae1",
   "metadata": {},
   "outputs": [],
   "source": []
  }
 ],
 "metadata": {
  "kernelspec": {
   "display_name": "Python 3 (ipykernel)",
   "language": "python",
   "name": "python3"
  },
  "language_info": {
   "codemirror_mode": {
    "name": "ipython",
    "version": 3
   },
   "file_extension": ".py",
   "mimetype": "text/x-python",
   "name": "python",
   "nbconvert_exporter": "python",
   "pygments_lexer": "ipython3",
   "version": "3.8.10"
  }
 },
 "nbformat": 4,
 "nbformat_minor": 5
}
