{
 "cells": [
  {
   "cell_type": "code",
   "execution_count": 1,
   "id": "800c2038",
   "metadata": {},
   "outputs": [],
   "source": [
    "from selenium import webdriver\n",
    "import time\n",
    "\n",
    "from selenium.webdriver import FirefoxOptions\n",
    "from selenium.webdriver.firefox.firefox_binary import FirefoxBinary\n",
    "from selenium.webdriver.common.desired_capabilities import DesiredCapabilities\n",
    "\n",
    "import utilities\n",
    "import os"
   ]
  },
  {
   "cell_type": "markdown",
   "id": "b622d19b",
   "metadata": {},
   "source": [
    "### Helper functions"
   ]
  },
  {
   "cell_type": "code",
   "execution_count": 28,
   "id": "15fb8673",
   "metadata": {},
   "outputs": [],
   "source": [
    "FIREFOX_EXE_PATH = '/Applications/Nightly.app/Contents/MacOS/firefox-bin'\n",
    "GECKO_PATH = '/opt/homebrew/bin/geckodriver'\n",
    "\n",
    "DATA_DIR = '/Users/umariqbal/Documents/voice-assistant-central/' \n",
    "EXTENSION_PATH = os.path.join(DATA_DIR, 'proxy-extension.zip')\n",
    "\n",
    "CREDENTIALS_ADDR = os.path.join(DATA_DIR,'data/persona-email-map.json')"
   ]
  },
  {
   "cell_type": "markdown",
   "id": "6f820447",
   "metadata": {},
   "source": [
    "#### Update persona name"
   ]
  },
  {
   "cell_type": "code",
   "execution_count": 4,
   "id": "de9c48b3",
   "metadata": {},
   "outputs": [],
   "source": [
    "PERSONA = 'Health-Fitness-old'"
   ]
  },
  {
   "cell_type": "code",
   "execution_count": 9,
   "id": "c9418f9f",
   "metadata": {},
   "outputs": [],
   "source": [
    "def get_webdriver(profile_path, gecko_path, exe_path, ext_loc):\n",
    "    options = FirefoxOptions()\n",
    "    options.add_argument('-profile')\n",
    "    options.add_argument(profile_path)\n",
    "    \n",
    "    firefox_capabilities = DesiredCapabilities.FIREFOX\n",
    "    firefox_capabilities['marionette'] = True\n",
    "\n",
    "    \n",
    "    firefox_profile = webdriver.FirefoxProfile()\n",
    "    firefox_bin = FirefoxBinary(firefox_path=exe_path)\n",
    "    driver = webdriver.Firefox(firefox_binary= firefox_bin,\n",
    "                               capabilities=firefox_capabilities, \n",
    "                               options=options, \n",
    "                               executable_path=gecko_path, \n",
    "                               service_args=[\"--marionette-port\", \"2828\"])\n",
    "\n",
    "    driver.install_addon(ext_loc, temporary=True)\n",
    "    \n",
    "    return driver\n",
    "\n",
    "\n",
    "def quit_driver(driver):\n",
    "    try:\n",
    "        driver.quit()\n",
    "    except BaseException as ex:\n",
    "        print('Something went wrong: ', str(ex))"
   ]
  },
  {
   "cell_type": "code",
   "execution_count": 10,
   "id": "1ee893fe",
   "metadata": {},
   "outputs": [],
   "source": [
    "credential = utilities.read_json(CREDENTIALS_ADDR)\n",
    "\n",
    "email = credential[PERSONA]['email']\n",
    "password = credential[PERSONA]['password']\n",
    "profile_addr = credential[PERSONA]['profile']"
   ]
  },
  {
   "cell_type": "code",
   "execution_count": 32,
   "id": "6e6f3caf",
   "metadata": {},
   "outputs": [
    {
     "ename": "KeyboardInterrupt",
     "evalue": "",
     "output_type": "error",
     "traceback": [
      "\u001b[0;31m---------------------------------------------------------------------------\u001b[0m",
      "\u001b[0;31mKeyboardInterrupt\u001b[0m                         Traceback (most recent call last)",
      "\u001b[0;32m/var/folders/rt/flrdnvbx5kv7gjqnh94gpgjm0000gn/T/ipykernel_46882/2284573916.py\u001b[0m in \u001b[0;36m<module>\u001b[0;34m\u001b[0m\n\u001b[1;32m      2\u001b[0m \u001b[0;34m\u001b[0m\u001b[0m\n\u001b[1;32m      3\u001b[0m \u001b[0mdriver\u001b[0m\u001b[0;34m.\u001b[0m\u001b[0mget\u001b[0m\u001b[0;34m(\u001b[0m\u001b[0;34m\"http://www.cnn.com\"\u001b[0m\u001b[0;34m)\u001b[0m\u001b[0;34m\u001b[0m\u001b[0;34m\u001b[0m\u001b[0m\n\u001b[0;32m----> 4\u001b[0;31m \u001b[0mtime\u001b[0m\u001b[0;34m.\u001b[0m\u001b[0msleep\u001b[0m\u001b[0;34m(\u001b[0m\u001b[0;36m1000\u001b[0m\u001b[0;34m)\u001b[0m\u001b[0;34m\u001b[0m\u001b[0;34m\u001b[0m\u001b[0m\n\u001b[0m\u001b[1;32m      5\u001b[0m \u001b[0mquit_driver\u001b[0m\u001b[0;34m(\u001b[0m\u001b[0mdriver\u001b[0m\u001b[0;34m)\u001b[0m\u001b[0;34m\u001b[0m\u001b[0;34m\u001b[0m\u001b[0m\n",
      "\u001b[0;31mKeyboardInterrupt\u001b[0m: "
     ]
    }
   ],
   "source": [
    "driver = get_webdriver(profile_addr, GECKO_PATH, FIREFOX_EXE_PATH, EXTENSION_PATH)\n",
    "\n",
    "driver.get(\"http://www.cnn.com\")\n",
    "time.sleep(1000)\n",
    "quit_driver(driver)"
   ]
  },
  {
   "cell_type": "code",
   "execution_count": null,
   "id": "979f5d56",
   "metadata": {},
   "outputs": [],
   "source": []
  }
 ],
 "metadata": {
  "kernelspec": {
   "display_name": "Python 3 (ipykernel)",
   "language": "python",
   "name": "python3"
  },
  "language_info": {
   "codemirror_mode": {
    "name": "ipython",
    "version": 3
   },
   "file_extension": ".py",
   "mimetype": "text/x-python",
   "name": "python",
   "nbconvert_exporter": "python",
   "pygments_lexer": "ipython3",
   "version": "3.9.7"
  }
 },
 "nbformat": 4,
 "nbformat_minor": 5
}
