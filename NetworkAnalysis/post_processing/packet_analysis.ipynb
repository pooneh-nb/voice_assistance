{
 "cells": [
  {
   "cell_type": "code",
   "execution_count": 1,
   "metadata": {},
   "outputs": [],
   "source": [
    "import utilities\n",
    "import os"
   ]
  },
  {
   "cell_type": "code",
   "execution_count": 2,
   "metadata": {},
   "outputs": [],
   "source": [
    "base_dir = \"/home/c2/alexa/source/voice-assistant-central/NetworkAnalysis/Traffic\"\n",
    "categories = utilities.get_directories_in_a_directory(base_dir)"
   ]
  },
  {
   "cell_type": "markdown",
   "metadata": {},
   "source": [
    "### DNS Resolutions"
   ]
  },
  {
   "cell_type": "code",
   "execution_count": null,
   "metadata": {},
   "outputs": [],
   "source": [
    "passed = [\"Fashion-Style\", \"Sports\", \"ConnectedCar\", \"Wine-Beverages\", \"Pets-Animals\", \"Navigation-TripPlanners\", \n",
    "          \"Religion-Spirituality\", \"Dating\", \"Health-Fitness\"]\n",
    "for category in categories:\n",
    "    print(category)\n",
    "    dns_resolutions = {}\n",
    "    category_name = category.split('/')[-1]\n",
    "    if category_name in passed:\n",
    "        continue\n",
    "    network_json_dir = os.path.join(category, category_name+\"-ENC-out.json\")\n",
    "    network_json = utilities.read_json(network_json_dir)\n",
    "    \n",
    "    for i in range(len(network_json)):\n",
    "        if network_json[i][\"_source\"][\"layers\"][\"frame\"][\"frame.protocols\"] == 'eth:ethertype:ip:udp:dns':\n",
    "            answers_key = []\n",
    "            if \"Answers\" in network_json[i][\"_source\"][\"layers\"][\"dns\"].keys():\n",
    "                answers_key  = network_json[i][\"_source\"][\"layers\"][\"dns\"][\"Answers\"].keys()\n",
    "                for key in answers_key:\n",
    "                    if \"CNAME\" in key:\n",
    "                        #print(\"CNAME\")\n",
    "                        continue\n",
    "                    dns_a = network_json[i][\"_source\"][\"layers\"][\"dns\"][\"Answers\"][key][\"dns.a\"]\n",
    "                    dns_name = network_json[i][\"_source\"][\"layers\"][\"dns\"][\"Answers\"][key][\"dns.resp.name\"]\n",
    "                    dns_resolutions[dns_a] = dns_name\n",
    "    utilities.write_json(os.path.join(category, \"dns_resolutions.json\"), dns_resolutions)\n",
    "                "
   ]
  },
  {
   "cell_type": "markdown",
   "metadata": {},
   "source": [
    "### Aggregate DNS Resolutions"
   ]
  },
  {
   "cell_type": "code",
   "execution_count": 15,
   "metadata": {},
   "outputs": [
    {
     "name": "stdout",
     "output_type": "stream",
     "text": [
      "/home/c2/alexa/source/voice-assistant-central/NetworkAnalysis/Traffic/Fashion-Style\n",
      "/home/c2/alexa/source/voice-assistant-central/NetworkAnalysis/Traffic/Sports\n",
      "/home/c2/alexa/source/voice-assistant-central/NetworkAnalysis/Traffic/ConnectedCar\n",
      "/home/c2/alexa/source/voice-assistant-central/NetworkAnalysis/Traffic/SmartHome\n",
      "/home/c2/alexa/source/voice-assistant-central/NetworkAnalysis/Traffic/Wine-Beverages\n",
      "/home/c2/alexa/source/voice-assistant-central/NetworkAnalysis/Traffic/Pets-Animals\n",
      "/home/c2/alexa/source/voice-assistant-central/NetworkAnalysis/Traffic/Navigation-TripPlanners\n",
      "/home/c2/alexa/source/voice-assistant-central/NetworkAnalysis/Traffic/Religion-Spirituality\n",
      "/home/c2/alexa/source/voice-assistant-central/NetworkAnalysis/Traffic/Dating\n",
      "/home/c2/alexa/source/voice-assistant-central/NetworkAnalysis/Traffic/Health-Fitness\n"
     ]
    }
   ],
   "source": [
    "general_dns_resolutions = {}\n",
    "for category in categories:\n",
    "    print(category)\n",
    "    category_name = category.split('/')[-1]\n",
    "    dns_resultions = utilities.read_json(os.path.join(base_dir, category_name, \"dns_resolutions.json\"))\n",
    "    for ip, dns_name in dns_resolutions.items():\n",
    "        if ip not in general_dns_resolutions:\n",
    "            general_dns_resolutions[ip] = dns_name\n",
    "utilities.write_json(os.path.join(base_dir, \"general_dns_resolutions.json\"), general_dns_resolutions)"
   ]
  },
  {
   "cell_type": "markdown",
   "metadata": {},
   "source": [
    "### Source & Destination IPs"
   ]
  },
  {
   "cell_type": "code",
   "execution_count": 3,
   "metadata": {},
   "outputs": [
    {
     "name": "stdout",
     "output_type": "stream",
     "text": [
      "/home/c2/alexa/source/voice-assistant-central/NetworkAnalysis/Traffic/Fashion-Style\n",
      "/home/c2/alexa/source/voice-assistant-central/NetworkAnalysis/Traffic/Sports\n",
      "/home/c2/alexa/source/voice-assistant-central/NetworkAnalysis/Traffic/ConnectedCar\n",
      "/home/c2/alexa/source/voice-assistant-central/NetworkAnalysis/Traffic/SmartHome\n",
      "/home/c2/alexa/source/voice-assistant-central/NetworkAnalysis/Traffic/Wine-Beverages\n",
      "/home/c2/alexa/source/voice-assistant-central/NetworkAnalysis/Traffic/Pets-Animals\n",
      "/home/c2/alexa/source/voice-assistant-central/NetworkAnalysis/Traffic/Navigation-TripPlanners\n",
      "/home/c2/alexa/source/voice-assistant-central/NetworkAnalysis/Traffic/Religion-Spirituality\n",
      "/home/c2/alexa/source/voice-assistant-central/NetworkAnalysis/Traffic/Dating\n",
      "/home/c2/alexa/source/voice-assistant-central/NetworkAnalysis/Traffic/Health-Fitness\n"
     ]
    }
   ],
   "source": [
    "passed = [\"Fashion-Style\", \"Sports\"]\n",
    "for category in categories:\n",
    "    print(category)\n",
    "    ip = {\"src\": [], \"dst\": []}\n",
    "    category_name = category.split('/')[-1]\n",
    "    if category_name in passed:\n",
    "        continue\n",
    "    network_json_dir = os.path.join(category, category_name+\"-ENC-out.json\")\n",
    "    network_json = utilities.read_json(network_json_dir)\n",
    "    \n",
    "    for i in range(len(network_json)):\n",
    "        if 'ip' in network_json[i][\"_source\"][\"layers\"].keys():\n",
    "            ip[\"src\"].append(network_json[i][\"_source\"][\"layers\"]['ip']['ip.src'])\n",
    "            ip[\"dst\"].append(network_json[i][\"_source\"][\"layers\"]['ip']['ip.dst'])\n",
    "    \n",
    "    utilities.write_json(os.path.join(category, \"ip.json\"), ip)"
   ]
  },
  {
   "cell_type": "markdown",
   "metadata": {},
   "source": [
    "# Skill Analysis"
   ]
  },
  {
   "cell_type": "code",
   "execution_count": 23,
   "metadata": {},
   "outputs": [],
   "source": [
    "general_dns_resolutions = utilities.read_json(os.path.join(base_dir, \"general_dns_resolutions.json\"))"
   ]
  },
  {
   "cell_type": "code",
   "execution_count": 63,
   "metadata": {},
   "outputs": [
    {
     "name": "stdout",
     "output_type": "stream",
     "text": [
      "2653\n",
      "86938\n",
      "122046\n"
     ]
    }
   ],
   "source": [
    "### Filter Lists\n",
    "filter_list_dir = \"/home/c2/alexa/source/voice-assistant-central/NetworkAnalysis/data/filter_lists\"\n",
    "disconnectme = os.path.join(filter_list_dir, \"disconnectme_abp.txt\")\n",
    "moaab = os.path.join(filter_list_dir, \"moaab_abp.txt\")\n",
    "piholeblocklist = os.path.join(filter_list_dir, \"piholeblocklist_default_smarttv_abp.txt\")\n",
    "\n",
    "tracking_domains = set()\n",
    "with open(disconnectme) as f:\n",
    "    lines = f.readlines()\n",
    "    for line in lines:\n",
    "        current_line = line.split(',')\n",
    "        #print(current_line)\n",
    "        if current_line[0].startswith('||'):\n",
    "            tracking_domains.add(current_line[0].split('||')[-1].replace(\"\\n\", \"\"))\n",
    "print(len(tracking_domains))\n",
    "\n",
    "with open(moaab) as f:\n",
    "    lines = f.readlines()\n",
    "    for line in lines:\n",
    "        current_line = line.split(',')\n",
    "        #print(current_line)\n",
    "        if current_line[0].startswith('||'):\n",
    "            tracking_domains.add(current_line[0].split('||')[-1].replace(\"\\n\", \"\"))\n",
    "print(len(tracking_domains))\n",
    "\n",
    "with open(piholeblocklist) as f:\n",
    "    lines = f.readlines()\n",
    "    for line in lines:\n",
    "        current_line = line.split(',')\n",
    "        #print(current_line)\n",
    "        if current_line[0].startswith('||'):\n",
    "            tracking_domains.add(current_line[0].split('||')[-1].replace(\"\\n\", \"\"))\n",
    "print(len(tracking_domains))\n",
    "utilities.write_json(os.path.join(filter_list_dir, \"tracking_domains.json\"), list(tracking_domains))"
   ]
  },
  {
   "cell_type": "markdown",
   "metadata": {},
   "source": [
    "# Fashion-Style"
   ]
  },
  {
   "cell_type": "code",
   "execution_count": 57,
   "metadata": {},
   "outputs": [
    {
     "name": "stdout",
     "output_type": "stream",
     "text": [
      "{'255.255.255.255', '239.255.255.250', '224.0.0.251'}\n",
      "set()\n"
     ]
    }
   ],
   "source": [
    "ips = utilities.read_json(os.path.join(base_dir, \"Fashion-Style\", \"ip.json\"))\n",
    "\n",
    "\n",
    "ip_src = set(ips['src'])\n",
    "ip_dst = set(ips['dst'])\n",
    "\n",
    "#What IPs only appeared in destination?\n",
    "print(ip_dst-ip_src)\n",
    "\n",
    "#What IPs only appeared in source?\n",
    "print(ip_src-ip_dst)\n",
    "\n",
    "# map IP to name ==> source\n",
    "src_domains = set()\n",
    "non_resolvable_src = set()\n",
    "for ip in ip_src:\n",
    "    if ip.startswith(\"10.42.0\"):\n",
    "        continue\n",
    "        #print(ip + \" : \" + \"Local Device\")\n",
    "    if ip in general_dns_resolutions:\n",
    "        #print(ip + \" : \" + general_dns_resolutions[ip])\n",
    "        src_domains.add(general_dns_resolutions[ip])\n",
    "    else:\n",
    "        #print(ip + \" : \" + \"--\")\n",
    "        non_resolvable_src.add(ip)\n",
    "        \n",
    "# map IP to name ==> destination\n",
    "dst_domains = set()\n",
    "non_resolvable_dst = set()\n",
    "for ip in ip_dst:\n",
    "    if ip.startswith(\"10.42.0\"):\n",
    "        continue\n",
    "        #print(ip + \" : \" + \"Local Device\")\n",
    "    if ip in general_dns_resolutions:\n",
    "        #print(ip + \" : \" + general_dns_resolutions[ip])\n",
    "        dst_domains.add(general_dns_resolutions[ip])\n",
    "    else:\n",
    "        #print(ip + \" : \" + \"--\")\n",
    "        non_resolvable_dst.add(ip)"
   ]
  },
  {
   "cell_type": "markdown",
   "metadata": {},
   "source": [
    "### Tracking domains"
   ]
  },
  {
   "cell_type": "code",
   "execution_count": 58,
   "metadata": {},
   "outputs": [
    {
     "name": "stdout",
     "output_type": "stream",
     "text": [
      "device-metrics-us-2.amazon.com\n",
      "device-metrics-us-2.amazon.com\n"
     ]
    }
   ],
   "source": [
    "for src in src_domains:\n",
    "    if src in tracking_domains:\n",
    "        print(src)\n",
    "for dst in dst_domains:\n",
    "    if dst in tracking_domains:\n",
    "        print(dst)"
   ]
  },
  {
   "cell_type": "markdown",
   "metadata": {},
   "source": [
    "### non-resolvable domains"
   ]
  },
  {
   "cell_type": "code",
   "execution_count": 61,
   "metadata": {},
   "outputs": [
    {
     "name": "stdout",
     "output_type": "stream",
     "text": [
      "{'255.255.255.255', '52.46.153.232', '224.0.0.251', '52.94.233.250', '3.227.94.7', '44.199.138.71', '239.255.255.250'}\n"
     ]
    }
   ],
   "source": [
    "print(non_resolvable_dst.union(non_resolvable_src))"
   ]
  },
  {
   "cell_type": "markdown",
   "metadata": {},
   "source": [
    "# Connected Car"
   ]
  },
  {
   "cell_type": "code",
   "execution_count": 64,
   "metadata": {},
   "outputs": [
    {
     "name": "stdout",
     "output_type": "stream",
     "text": [
      "{'255.255.255.255', '239.255.255.250', '224.0.0.251'}\n",
      "set()\n"
     ]
    }
   ],
   "source": [
    "ips = utilities.read_json(os.path.join(base_dir, \"ConnectedCar\", \"ip.json\"))\n",
    "\n",
    "\n",
    "ip_src = set(ips['src'])\n",
    "ip_dst = set(ips['dst'])\n",
    "\n",
    "#What IPs only appeared in destination?\n",
    "print(ip_dst-ip_src)\n",
    "\n",
    "#What IPs only appeared in source?\n",
    "print(ip_src-ip_dst)\n",
    "\n",
    "# map IP to name ==> source\n",
    "src_domains = set()\n",
    "non_resolvable_src = set()\n",
    "for ip in ip_src:\n",
    "    if ip.startswith(\"10.42.0\"):\n",
    "        continue\n",
    "        #print(ip + \" : \" + \"Local Device\")\n",
    "    if ip in general_dns_resolutions:\n",
    "        #print(ip + \" : \" + general_dns_resolutions[ip])\n",
    "        src_domains.add(general_dns_resolutions[ip])\n",
    "    else:\n",
    "        #print(ip + \" : \" + \"--\")\n",
    "        non_resolvable_src.add(ip)\n",
    "        \n",
    "# map IP to name ==> destination\n",
    "dst_domains = set()\n",
    "non_resolvable_dst = set()\n",
    "for ip in ip_dst:\n",
    "    if ip.startswith(\"10.42.0\"):\n",
    "        continue\n",
    "        #print(ip + \" : \" + \"Local Device\")\n",
    "    if ip in general_dns_resolutions:\n",
    "        #print(ip + \" : \" + general_dns_resolutions[ip])\n",
    "        dst_domains.add(general_dns_resolutions[ip])\n",
    "    else:\n",
    "        #print(ip + \" : \" + \"--\")\n",
    "        non_resolvable_dst.add(ip)"
   ]
  },
  {
   "cell_type": "markdown",
   "metadata": {},
   "source": [
    "### Tracking domains"
   ]
  },
  {
   "cell_type": "code",
   "execution_count": 65,
   "metadata": {},
   "outputs": [
    {
     "name": "stdout",
     "output_type": "stream",
     "text": [
      "device-metrics-us-2.amazon.com\n",
      "device-metrics-us-2.amazon.com\n"
     ]
    }
   ],
   "source": [
    "for src in src_domains:\n",
    "    if src in tracking_domains:\n",
    "        print(src)\n",
    "for dst in dst_domains:\n",
    "    if dst in tracking_domains:\n",
    "        print(dst)"
   ]
  },
  {
   "cell_type": "markdown",
   "metadata": {},
   "source": [
    "### non-resolvable domains"
   ]
  },
  {
   "cell_type": "code",
   "execution_count": 67,
   "metadata": {},
   "outputs": [
    {
     "name": "stdout",
     "output_type": "stream",
     "text": [
      "{'52.85.205.99', '104.16.205.136', '224.0.0.251', '52.217.174.185', '44.199.52.214', '52.94.227.146', '52.46.143.123', '13.226.251.35', '52.45.237.36', '44.199.138.71', '52.94.243.11', '255.255.255.255', '13.226.239.25', '209.54.178.134', '13.226.251.56', '3.227.94.7', '34.237.111.59', '239.255.255.250'}\n"
     ]
    }
   ],
   "source": [
    "print(non_resolvable_dst.union(non_resolvable_src))"
   ]
  },
  {
   "cell_type": "markdown",
   "metadata": {},
   "source": [
    "# Dating"
   ]
  },
  {
   "cell_type": "code",
   "execution_count": 68,
   "metadata": {},
   "outputs": [
    {
     "name": "stdout",
     "output_type": "stream",
     "text": [
      "{'224.0.0.251'}\n",
      "set()\n"
     ]
    }
   ],
   "source": [
    "ips = utilities.read_json(os.path.join(base_dir, \"Dating\", \"ip.json\"))\n",
    "\n",
    "\n",
    "ip_src = set(ips['src'])\n",
    "ip_dst = set(ips['dst'])\n",
    "\n",
    "#What IPs only appeared in destination?\n",
    "print(ip_dst-ip_src)\n",
    "\n",
    "#What IPs only appeared in source?\n",
    "print(ip_src-ip_dst)\n",
    "\n",
    "# map IP to name ==> source\n",
    "src_domains = set()\n",
    "non_resolvable_src = set()\n",
    "for ip in ip_src:\n",
    "    if ip.startswith(\"10.42.0\"):\n",
    "        continue\n",
    "        #print(ip + \" : \" + \"Local Device\")\n",
    "    if ip in general_dns_resolutions:\n",
    "        #print(ip + \" : \" + general_dns_resolutions[ip])\n",
    "        src_domains.add(general_dns_resolutions[ip])\n",
    "    else:\n",
    "        #print(ip + \" : \" + \"--\")\n",
    "        non_resolvable_src.add(ip)\n",
    "        \n",
    "# map IP to name ==> destination\n",
    "dst_domains = set()\n",
    "non_resolvable_dst = set()\n",
    "for ip in ip_dst:\n",
    "    if ip.startswith(\"10.42.0\"):\n",
    "        continue\n",
    "        #print(ip + \" : \" + \"Local Device\")\n",
    "    if ip in general_dns_resolutions:\n",
    "        #print(ip + \" : \" + general_dns_resolutions[ip])\n",
    "        dst_domains.add(general_dns_resolutions[ip])\n",
    "    else:\n",
    "        #print(ip + \" : \" + \"--\")\n",
    "        non_resolvable_dst.add(ip)"
   ]
  },
  {
   "cell_type": "markdown",
   "metadata": {},
   "source": [
    "### Tracking domains"
   ]
  },
  {
   "cell_type": "code",
   "execution_count": 69,
   "metadata": {},
   "outputs": [
    {
     "name": "stdout",
     "output_type": "stream",
     "text": [
      "device-metrics-us-2.amazon.com\n",
      "device-metrics-us-2.amazon.com\n"
     ]
    }
   ],
   "source": [
    "for src in src_domains:\n",
    "    if src in tracking_domains:\n",
    "        print(src)\n",
    "for dst in dst_domains:\n",
    "    if dst in tracking_domains:\n",
    "        print(dst)"
   ]
  },
  {
   "cell_type": "markdown",
   "metadata": {},
   "source": [
    "### non-resolvable domains"
   ]
  },
  {
   "cell_type": "code",
   "execution_count": 70,
   "metadata": {},
   "outputs": [
    {
     "name": "stdout",
     "output_type": "stream",
     "text": [
      "{'34.226.24.249', '52.119.197.96', '52.94.227.146', '52.46.143.123', '52.5.47.107', '224.0.0.251'}\n"
     ]
    }
   ],
   "source": [
    "print(non_resolvable_dst.union(non_resolvable_src))"
   ]
  },
  {
   "cell_type": "markdown",
   "metadata": {},
   "source": [
    "# Health Fitness"
   ]
  },
  {
   "cell_type": "code",
   "execution_count": 73,
   "metadata": {},
   "outputs": [
    {
     "name": "stdout",
     "output_type": "stream",
     "text": [
      "{'255.255.255.255', '239.255.255.250', '224.0.0.251'}\n",
      "set()\n"
     ]
    }
   ],
   "source": [
    "ips = utilities.read_json(os.path.join(base_dir, \"Health-Fitness\", \"ip.json\"))\n",
    "\n",
    "\n",
    "ip_src = set(ips['src'])\n",
    "ip_dst = set(ips['dst'])\n",
    "\n",
    "#What IPs only appeared in destination?\n",
    "print(ip_dst-ip_src)\n",
    "\n",
    "#What IPs only appeared in source?\n",
    "print(ip_src-ip_dst)\n",
    "\n",
    "# map IP to name ==> source\n",
    "src_domains = set()\n",
    "non_resolvable_src = set()\n",
    "for ip in ip_src:\n",
    "    if ip.startswith(\"10.42.0\"):\n",
    "        continue\n",
    "        #print(ip + \" : \" + \"Local Device\")\n",
    "    if ip in general_dns_resolutions:\n",
    "        #print(ip + \" : \" + general_dns_resolutions[ip])\n",
    "        src_domains.add(general_dns_resolutions[ip])\n",
    "    else:\n",
    "        #print(ip + \" : \" + \"--\")\n",
    "        non_resolvable_src.add(ip)\n",
    "        \n",
    "# map IP to name ==> destination\n",
    "dst_domains = set()\n",
    "non_resolvable_dst = set()\n",
    "for ip in ip_dst:\n",
    "    if ip.startswith(\"10.42.0\"):\n",
    "        continue\n",
    "        #print(ip + \" : \" + \"Local Device\")\n",
    "    if ip in general_dns_resolutions:\n",
    "        #print(ip + \" : \" + general_dns_resolutions[ip])\n",
    "        dst_domains.add(general_dns_resolutions[ip])\n",
    "    else:\n",
    "        #print(ip + \" : \" + \"--\")\n",
    "        non_resolvable_dst.add(ip)"
   ]
  },
  {
   "cell_type": "markdown",
   "metadata": {},
   "source": [
    "### Tracking domains"
   ]
  },
  {
   "cell_type": "code",
   "execution_count": 74,
   "metadata": {},
   "outputs": [
    {
     "name": "stdout",
     "output_type": "stream",
     "text": [
      "device-metrics-us-2.amazon.com\n",
      "device-metrics-us-2.amazon.com\n"
     ]
    }
   ],
   "source": [
    "for src in src_domains:\n",
    "    if src in tracking_domains:\n",
    "        print(src)\n",
    "for dst in dst_domains:\n",
    "    if dst in tracking_domains:\n",
    "        print(dst)"
   ]
  },
  {
   "cell_type": "markdown",
   "metadata": {},
   "source": [
    "### non-resolvable domains"
   ]
  },
  {
   "cell_type": "code",
   "execution_count": 76,
   "metadata": {},
   "outputs": [
    {
     "name": "stdout",
     "output_type": "stream",
     "text": [
      "{'52.217.37.68', '54.159.137.14', '52.119.196.87', '44.199.52.214', '205.251.243.55', '52.46.142.117', '255.255.255.255', '52.46.158.181', '52.217.135.184', '52.217.72.46', '3.227.94.7', '52.203.151.208', '224.0.0.251', '239.255.255.250', '52.46.138.235', '52.119.196.28', '52.119.198.106', '13.226.251.218', '52.46.146.248', '52.94.237.71', '176.32.101.122', '34.237.111.59'}\n"
     ]
    }
   ],
   "source": [
    "print(non_resolvable_dst.union(non_resolvable_src))"
   ]
  },
  {
   "cell_type": "markdown",
   "metadata": {},
   "source": [
    "# Navigation TripPlanners"
   ]
  },
  {
   "cell_type": "code",
   "execution_count": 77,
   "metadata": {},
   "outputs": [
    {
     "name": "stdout",
     "output_type": "stream",
     "text": [
      "{'255.255.255.255', '239.255.255.250', '224.0.0.251'}\n",
      "set()\n"
     ]
    }
   ],
   "source": [
    "ips = utilities.read_json(os.path.join(base_dir, \"Navigation-TripPlanners\", \"ip.json\"))\n",
    "\n",
    "\n",
    "ip_src = set(ips['src'])\n",
    "ip_dst = set(ips['dst'])\n",
    "\n",
    "#What IPs only appeared in destination?\n",
    "print(ip_dst-ip_src)\n",
    "\n",
    "#What IPs only appeared in source?\n",
    "print(ip_src-ip_dst)\n",
    "\n",
    "# map IP to name ==> source\n",
    "src_domains = set()\n",
    "non_resolvable_src = set()\n",
    "for ip in ip_src:\n",
    "    if ip.startswith(\"10.42.0\"):\n",
    "        continue\n",
    "        #print(ip + \" : \" + \"Local Device\")\n",
    "    if ip in general_dns_resolutions:\n",
    "        #print(ip + \" : \" + general_dns_resolutions[ip])\n",
    "        src_domains.add(general_dns_resolutions[ip])\n",
    "    else:\n",
    "        #print(ip + \" : \" + \"--\")\n",
    "        non_resolvable_src.add(ip)\n",
    "        \n",
    "# map IP to name ==> destination\n",
    "dst_domains = set()\n",
    "non_resolvable_dst = set()\n",
    "for ip in ip_dst:\n",
    "    if ip.startswith(\"10.42.0\"):\n",
    "        continue\n",
    "        #print(ip + \" : \" + \"Local Device\")\n",
    "    if ip in general_dns_resolutions:\n",
    "        #print(ip + \" : \" + general_dns_resolutions[ip])\n",
    "        dst_domains.add(general_dns_resolutions[ip])\n",
    "    else:\n",
    "        #print(ip + \" : \" + \"--\")\n",
    "        non_resolvable_dst.add(ip)"
   ]
  },
  {
   "cell_type": "markdown",
   "metadata": {},
   "source": [
    "### Tracking domains"
   ]
  },
  {
   "cell_type": "code",
   "execution_count": 78,
   "metadata": {},
   "outputs": [
    {
     "name": "stdout",
     "output_type": "stream",
     "text": [
      "device-metrics-us-2.amazon.com\n",
      "device-metrics-us-2.amazon.com\n"
     ]
    }
   ],
   "source": [
    "for src in src_domains:\n",
    "    if src in tracking_domains:\n",
    "        print(src)\n",
    "for dst in dst_domains:\n",
    "    if dst in tracking_domains:\n",
    "        print(dst)"
   ]
  },
  {
   "cell_type": "markdown",
   "metadata": {},
   "source": [
    "### non-resolvable domains"
   ]
  },
  {
   "cell_type": "code",
   "execution_count": 80,
   "metadata": {},
   "outputs": [
    {
     "name": "stdout",
     "output_type": "stream",
     "text": [
      "{'52.94.233.250', '44.199.52.214', '13.226.251.35', '52.119.198.101', '44.199.138.71', '52.94.243.11', '255.255.255.255', '52.46.158.181', '13.226.239.25', '3.227.94.7', '13.226.251.190', '224.0.0.251', '239.255.255.250', '52.45.237.36', '147.160.138.27', '13.226.251.218', '34.193.172.139', '52.94.242.236', '13.226.251.210', '205.185.216.42', '34.237.111.59'}\n"
     ]
    }
   ],
   "source": [
    "print(non_resolvable_dst.union(non_resolvable_src))"
   ]
  },
  {
   "cell_type": "markdown",
   "metadata": {},
   "source": [
    "# Pets Animals"
   ]
  },
  {
   "cell_type": "code",
   "execution_count": 81,
   "metadata": {},
   "outputs": [
    {
     "name": "stdout",
     "output_type": "stream",
     "text": [
      "{'255.255.255.255', '224.0.0.251', '147.160.138.27', '34.193.172.139', '239.255.255.250'}\n",
      "set()\n"
     ]
    }
   ],
   "source": [
    "ips = utilities.read_json(os.path.join(base_dir, \"Pets-Animals\", \"ip.json\"))\n",
    "\n",
    "\n",
    "ip_src = set(ips['src'])\n",
    "ip_dst = set(ips['dst'])\n",
    "\n",
    "#What IPs only appeared in destination?\n",
    "print(ip_dst-ip_src)\n",
    "\n",
    "#What IPs only appeared in source?\n",
    "print(ip_src-ip_dst)\n",
    "\n",
    "# map IP to name ==> source\n",
    "src_domains = set()\n",
    "non_resolvable_src = set()\n",
    "for ip in ip_src:\n",
    "    if ip.startswith(\"10.42.0\"):\n",
    "        continue\n",
    "        #print(ip + \" : \" + \"Local Device\")\n",
    "    if ip in general_dns_resolutions:\n",
    "        #print(ip + \" : \" + general_dns_resolutions[ip])\n",
    "        src_domains.add(general_dns_resolutions[ip])\n",
    "    else:\n",
    "        #print(ip + \" : \" + \"--\")\n",
    "        non_resolvable_src.add(ip)\n",
    "        \n",
    "# map IP to name ==> destination\n",
    "dst_domains = set()\n",
    "non_resolvable_dst = set()\n",
    "for ip in ip_dst:\n",
    "    if ip.startswith(\"10.42.0\"):\n",
    "        continue\n",
    "        #print(ip + \" : \" + \"Local Device\")\n",
    "    if ip in general_dns_resolutions:\n",
    "        #print(ip + \" : \" + general_dns_resolutions[ip])\n",
    "        dst_domains.add(general_dns_resolutions[ip])\n",
    "    else:\n",
    "        #print(ip + \" : \" + \"--\")\n",
    "        non_resolvable_dst.add(ip)"
   ]
  },
  {
   "cell_type": "markdown",
   "metadata": {},
   "source": [
    "### Tracking domains"
   ]
  },
  {
   "cell_type": "code",
   "execution_count": 82,
   "metadata": {},
   "outputs": [
    {
     "name": "stdout",
     "output_type": "stream",
     "text": [
      "device-metrics-us-2.amazon.com\n",
      "device-metrics-us-2.amazon.com\n"
     ]
    }
   ],
   "source": [
    "for src in src_domains:\n",
    "    if src in tracking_domains:\n",
    "        print(src)\n",
    "for dst in dst_domains:\n",
    "    if dst in tracking_domains:\n",
    "        print(dst)"
   ]
  },
  {
   "cell_type": "markdown",
   "metadata": {},
   "source": [
    "### non-resolvable domains"
   ]
  },
  {
   "cell_type": "code",
   "execution_count": 84,
   "metadata": {},
   "outputs": [
    {
     "name": "stdout",
     "output_type": "stream",
     "text": [
      "{'44.199.52.214', '52.95.149.165', '51.38.69.8', '44.199.138.71', '52.95.148.112', '52.94.243.11', '255.255.255.255', '34.226.24.249', '151.101.42.133', '103.89.74.186', '162.125.7.15', '52.217.128.160', '3.227.94.7', '89.187.187.19', '151.139.128.11', '239.255.255.250', '142.44.246.60', '151.101.198.133', '224.0.0.251', '52.95.142.21', '89.187.187.15', '52.216.130.101', '52.45.237.36', '89.187.187.12', '89.187.187.11', '54.231.40.130', '103.103.196.113', '147.160.138.27', '34.193.172.139', '52.119.198.186', '87.230.23.99', '52.95.150.153', '34.237.111.59', '52.216.244.222'}\n"
     ]
    }
   ],
   "source": [
    "print(non_resolvable_dst.union(non_resolvable_src))"
   ]
  },
  {
   "cell_type": "markdown",
   "metadata": {},
   "source": [
    "# Religion Sprituality"
   ]
  },
  {
   "cell_type": "code",
   "execution_count": 86,
   "metadata": {},
   "outputs": [
    {
     "name": "stdout",
     "output_type": "stream",
     "text": [
      "{'224.0.0.251'}\n",
      "set()\n"
     ]
    }
   ],
   "source": [
    "ips = utilities.read_json(os.path.join(base_dir, \"Religion-Spirituality\", \"ip.json\"))\n",
    "\n",
    "\n",
    "ip_src = set(ips['src'])\n",
    "ip_dst = set(ips['dst'])\n",
    "\n",
    "#What IPs only appeared in destination?\n",
    "print(ip_dst-ip_src)\n",
    "\n",
    "#What IPs only appeared in source?\n",
    "print(ip_src-ip_dst)\n",
    "\n",
    "# map IP to name ==> source\n",
    "src_domains = set()\n",
    "non_resolvable_src = set()\n",
    "for ip in ip_src:\n",
    "    if ip.startswith(\"10.42.0\"):\n",
    "        continue\n",
    "        #print(ip + \" : \" + \"Local Device\")\n",
    "    if ip in general_dns_resolutions:\n",
    "        #print(ip + \" : \" + general_dns_resolutions[ip])\n",
    "        src_domains.add(general_dns_resolutions[ip])\n",
    "    else:\n",
    "        #print(ip + \" : \" + \"--\")\n",
    "        non_resolvable_src.add(ip)\n",
    "        \n",
    "# map IP to name ==> destination\n",
    "dst_domains = set()\n",
    "non_resolvable_dst = set()\n",
    "for ip in ip_dst:\n",
    "    if ip.startswith(\"10.42.0\"):\n",
    "        continue\n",
    "        #print(ip + \" : \" + \"Local Device\")\n",
    "    if ip in general_dns_resolutions:\n",
    "        #print(ip + \" : \" + general_dns_resolutions[ip])\n",
    "        dst_domains.add(general_dns_resolutions[ip])\n",
    "    else:\n",
    "        #print(ip + \" : \" + \"--\")\n",
    "        non_resolvable_dst.add(ip)"
   ]
  },
  {
   "cell_type": "markdown",
   "metadata": {},
   "source": [
    "### Tracking domains"
   ]
  },
  {
   "cell_type": "code",
   "execution_count": 87,
   "metadata": {},
   "outputs": [
    {
     "name": "stdout",
     "output_type": "stream",
     "text": [
      "device-metrics-us-2.amazon.com\n",
      "device-metrics-us-2.amazon.com\n"
     ]
    }
   ],
   "source": [
    "for src in src_domains:\n",
    "    if src in tracking_domains:\n",
    "        print(src)\n",
    "for dst in dst_domains:\n",
    "    if dst in tracking_domains:\n",
    "        print(dst)"
   ]
  },
  {
   "cell_type": "markdown",
   "metadata": {},
   "source": [
    "### non-resolvable domains"
   ]
  },
  {
   "cell_type": "code",
   "execution_count": 89,
   "metadata": {},
   "outputs": [
    {
     "name": "stdout",
     "output_type": "stream",
     "text": [
      "{'13.107.246.69', '44.199.52.214', '63.243.143.155', '44.199.138.71', '209.54.180.27', '151.101.197.32', '34.226.24.249', '52.94.233.109', '107.155.101.124', '151.139.128.11', '224.0.0.251', '192.173.29.77', '52.119.197.96', '151.101.42.2', '54.239.18.66', '18.205.68.150', '208.80.55.212', '151.101.198.2', '151.101.41.32', '52.5.47.107'}\n"
     ]
    }
   ],
   "source": [
    "print(non_resolvable_dst.union(non_resolvable_src))"
   ]
  },
  {
   "cell_type": "markdown",
   "metadata": {},
   "source": [
    "# Smart Homes"
   ]
  },
  {
   "cell_type": "code",
   "execution_count": 92,
   "metadata": {},
   "outputs": [
    {
     "name": "stdout",
     "output_type": "stream",
     "text": [
      "{'255.255.255.255', '239.255.255.250', '224.0.0.251'}\n",
      "set()\n"
     ]
    }
   ],
   "source": [
    "ips = utilities.read_json(os.path.join(base_dir, \"SmartHome\", \"ip.json\"))\n",
    "\n",
    "\n",
    "ip_src = set(ips['src'])\n",
    "ip_dst = set(ips['dst'])\n",
    "\n",
    "#What IPs only appeared in destination?\n",
    "print(ip_dst-ip_src)\n",
    "\n",
    "#What IPs only appeared in source?\n",
    "print(ip_src-ip_dst)\n",
    "\n",
    "# map IP to name ==> source\n",
    "src_domains = set()\n",
    "non_resolvable_src = set()\n",
    "for ip in ip_src:\n",
    "    if ip.startswith(\"10.42.0\"):\n",
    "        continue\n",
    "        #print(ip + \" : \" + \"Local Device\")\n",
    "    if ip in general_dns_resolutions:\n",
    "        #print(ip + \" : \" + general_dns_resolutions[ip])\n",
    "        src_domains.add(general_dns_resolutions[ip])\n",
    "    else:\n",
    "        #print(ip + \" : \" + \"--\")\n",
    "        non_resolvable_src.add(ip)\n",
    "        \n",
    "# map IP to name ==> destination\n",
    "dst_domains = set()\n",
    "non_resolvable_dst = set()\n",
    "for ip in ip_dst:\n",
    "    if ip.startswith(\"10.42.0\"):\n",
    "        continue\n",
    "        #print(ip + \" : \" + \"Local Device\")\n",
    "    if ip in general_dns_resolutions:\n",
    "        #print(ip + \" : \" + general_dns_resolutions[ip])\n",
    "        dst_domains.add(general_dns_resolutions[ip])\n",
    "    else:\n",
    "        #print(ip + \" : \" + \"--\")\n",
    "        non_resolvable_dst.add(ip)"
   ]
  },
  {
   "cell_type": "markdown",
   "metadata": {},
   "source": [
    "### Tracking domains"
   ]
  },
  {
   "cell_type": "code",
   "execution_count": 93,
   "metadata": {},
   "outputs": [
    {
     "name": "stdout",
     "output_type": "stream",
     "text": [
      "device-metrics-us-2.amazon.com\n",
      "device-metrics-us-2.amazon.com\n"
     ]
    }
   ],
   "source": [
    "for src in src_domains:\n",
    "    if src in tracking_domains:\n",
    "        print(src)\n",
    "for dst in dst_domains:\n",
    "    if dst in tracking_domains:\n",
    "        print(dst)"
   ]
  },
  {
   "cell_type": "markdown",
   "metadata": {},
   "source": [
    "### non-resolvable domains"
   ]
  },
  {
   "cell_type": "code",
   "execution_count": 95,
   "metadata": {},
   "outputs": [
    {
     "name": "stdout",
     "output_type": "stream",
     "text": [
      "{'13.226.235.219', '13.226.251.85', '224.0.0.251', '52.10.255.225', '52.94.227.146', '44.199.138.71', '13.226.235.92', '13.226.251.159', '255.255.255.255', '13.226.239.25', '18.205.68.150', '52.94.242.236', '13.226.251.189', '52.94.240.157', '8.8.8.8', '13.226.251.190', '52.5.47.107', '239.255.255.250'}\n"
     ]
    }
   ],
   "source": [
    "print(non_resolvable_dst.union(non_resolvable_src))"
   ]
  },
  {
   "cell_type": "markdown",
   "metadata": {},
   "source": [
    "# Wine Beverages"
   ]
  },
  {
   "cell_type": "code",
   "execution_count": 96,
   "metadata": {},
   "outputs": [
    {
     "name": "stdout",
     "output_type": "stream",
     "text": [
      "{'224.0.0.251'}\n",
      "set()\n"
     ]
    }
   ],
   "source": [
    "ips = utilities.read_json(os.path.join(base_dir, \"Wine-Beverages\", \"ip.json\"))\n",
    "\n",
    "\n",
    "ip_src = set(ips['src'])\n",
    "ip_dst = set(ips['dst'])\n",
    "\n",
    "#What IPs only appeared in destination?\n",
    "print(ip_dst-ip_src)\n",
    "\n",
    "#What IPs only appeared in source?\n",
    "print(ip_src-ip_dst)\n",
    "\n",
    "# map IP to name ==> source\n",
    "src_domains = set()\n",
    "non_resolvable_src = set()\n",
    "for ip in ip_src:\n",
    "    if ip.startswith(\"10.42.0\"):\n",
    "        continue\n",
    "        #print(ip + \" : \" + \"Local Device\")\n",
    "    if ip in general_dns_resolutions:\n",
    "        #print(ip + \" : \" + general_dns_resolutions[ip])\n",
    "        src_domains.add(general_dns_resolutions[ip])\n",
    "    else:\n",
    "        #print(ip + \" : \" + \"--\")\n",
    "        non_resolvable_src.add(ip)\n",
    "        \n",
    "# map IP to name ==> destination\n",
    "dst_domains = set()\n",
    "non_resolvable_dst = set()\n",
    "for ip in ip_dst:\n",
    "    if ip.startswith(\"10.42.0\"):\n",
    "        continue\n",
    "        #print(ip + \" : \" + \"Local Device\")\n",
    "    if ip in general_dns_resolutions:\n",
    "        #print(ip + \" : \" + general_dns_resolutions[ip])\n",
    "        dst_domains.add(general_dns_resolutions[ip])\n",
    "    else:\n",
    "        #print(ip + \" : \" + \"--\")\n",
    "        non_resolvable_dst.add(ip)"
   ]
  },
  {
   "cell_type": "markdown",
   "metadata": {},
   "source": [
    "### Tracking domains"
   ]
  },
  {
   "cell_type": "code",
   "execution_count": 97,
   "metadata": {},
   "outputs": [
    {
     "name": "stdout",
     "output_type": "stream",
     "text": [
      "device-metrics-us-2.amazon.com\n",
      "device-metrics-us-2.amazon.com\n"
     ]
    }
   ],
   "source": [
    "for src in src_domains:\n",
    "    if src in tracking_domains:\n",
    "        print(src)\n",
    "for dst in dst_domains:\n",
    "    if dst in tracking_domains:\n",
    "        print(dst)"
   ]
  },
  {
   "cell_type": "markdown",
   "metadata": {},
   "source": [
    "### non-resolvable domains"
   ]
  },
  {
   "cell_type": "code",
   "execution_count": 99,
   "metadata": {},
   "outputs": [
    {
     "name": "stdout",
     "output_type": "stream",
     "text": [
      "{'52.94.233.250', '52.10.255.225', '209.54.177.154', '44.199.52.214', '44.199.138.71', '52.94.243.11', '34.226.24.249', '52.46.153.232', '162.125.7.15', '18.205.68.150', '3.227.94.7', '34.237.111.59', '52.94.235.50', '224.0.0.251'}\n"
     ]
    }
   ],
   "source": [
    "print(non_resolvable_dst.union(non_resolvable_src))"
   ]
  },
  {
   "cell_type": "code",
   "execution_count": null,
   "metadata": {},
   "outputs": [],
   "source": []
  }
 ],
 "metadata": {
  "kernelspec": {
   "display_name": "Python 3",
   "language": "python",
   "name": "python3"
  },
  "language_info": {
   "codemirror_mode": {
    "name": "ipython",
    "version": 3
   },
   "file_extension": ".py",
   "mimetype": "text/x-python",
   "name": "python",
   "nbconvert_exporter": "python",
   "pygments_lexer": "ipython3",
   "version": "3.7.3"
  }
 },
 "nbformat": 4,
 "nbformat_minor": 2
}
