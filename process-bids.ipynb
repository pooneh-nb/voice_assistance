{
 "cells": [
  {
   "cell_type": "code",
   "execution_count": 71,
   "id": "9ceaeeb4",
   "metadata": {},
   "outputs": [],
   "source": [
    "import utilities\n",
    "import os\n",
    "import json\n",
    "import statistics\n",
    "from prettytable import PrettyTable\n",
    "from prettytable import ALL as ALL"
   ]
  },
  {
   "cell_type": "code",
   "execution_count": 4,
   "id": "0bbe46e2",
   "metadata": {},
   "outputs": [],
   "source": [
    "DATA_DIR = '/Users/umariqbal/Documents/voice-assistant-central/data' \n",
    "\n",
    "CONTROL_PATH = os.path.join(DATA_DIR, 'control_persona/website_bids/')\n",
    "TEST_PATH = os.path.join(DATA_DIR, 'healthfitness_persona/website_bids/')"
   ]
  },
  {
   "cell_type": "code",
   "execution_count": 57,
   "id": "1c66af4f",
   "metadata": {},
   "outputs": [],
   "source": [
    "PERSONA = 'Health-Fitness'"
   ]
  },
  {
   "cell_type": "markdown",
   "id": "e200e5f2",
   "metadata": {},
   "source": [
    "### Reading bids for personas"
   ]
  },
  {
   "cell_type": "code",
   "execution_count": 9,
   "id": "022249ea",
   "metadata": {},
   "outputs": [],
   "source": [
    "control_bid_files = utilities.get_files_in_a_directory(CONTROL_PATH)\n",
    "test_bid_files = utilities.get_files_in_a_directory(TEST_PATH)"
   ]
  },
  {
   "cell_type": "code",
   "execution_count": 83,
   "id": "436d5fe3",
   "metadata": {},
   "outputs": [],
   "source": [
    "def get_websites_with_bids(bid_files):\n",
    "    websites_with_bids = []\n",
    "    for bid_file in bid_files:\n",
    "        websites_with_bids.append(bid_file.rsplit('/', 1)[1].rsplit('_', 1)[1])\n",
    "\n",
    "    return websites_with_bids\n",
    "\n",
    "\n",
    "def return_bid_cpms(bid_files):\n",
    "    bid_cpms = []\n",
    "    for bid_file in bid_files:\n",
    "        all_bids = utilities.read_file(bid_file)\n",
    "\n",
    "        for bid in all_bids:\n",
    "            bid_json = json.loads(bid)\n",
    "            bid_cpms.append(bid_json['cpm'])\n",
    "    \n",
    "    return bid_cpms\n",
    "\n",
    "\n",
    "def return_bid_cpms_for_websites(bid_files, websites):\n",
    "    bid_cpms = []\n",
    "    for bid_file in bid_files:\n",
    "\n",
    "        bid_website = bid_file.rsplit('/', 1)[1].rsplit('_', 1)[1]\n",
    "        if bid_website not in websites:\n",
    "            continue\n",
    "            \n",
    "        all_bids = utilities.read_file(bid_file)\n",
    "\n",
    "        for bid in all_bids:\n",
    "            bid_json = json.loads(bid)\n",
    "            bid_cpms.append(bid_json['cpm'])\n",
    "    \n",
    "    return bid_cpms\n",
    "\n",
    "\n",
    "def return_median_cpms(bid_files):\n",
    "    bid_cpms = []\n",
    "    for bid_file in bid_files:\n",
    "        all_bids = utilities.read_file(bid_file)\n",
    "        \n",
    "        current_bid_cpms = []\n",
    "        for bid in all_bids:\n",
    "            bid_json = json.loads(bid)\n",
    "            current_bid_cpms.append(bid_json['cpm'])\n",
    "            \n",
    "        bid_cpms.append(statistics.median(current_bid_cpms))\n",
    "    \n",
    "    return bid_cpms\n",
    "\n",
    "\n",
    "def return_median_cpms(bid_files, websites):\n",
    "    bid_cpms = []\n",
    "    for bid_file in bid_files:\n",
    "        all_bids = utilities.read_file(bid_file)\n",
    "        \n",
    "        bid_website = bid_file.rsplit('/', 1)[1].rsplit('_', 1)[1]\n",
    "        if bid_website not in websites:\n",
    "            continue\n",
    "            \n",
    "        current_bid_cpms = []\n",
    "        for bid in all_bids:\n",
    "            bid_json = json.loads(bid)\n",
    "            current_bid_cpms.append(bid_json['cpm'])\n",
    "            \n",
    "        bid_cpms.append(statistics.median(current_bid_cpms))\n",
    "    \n",
    "    return bid_cpms"
   ]
  },
  {
   "cell_type": "code",
   "execution_count": 80,
   "id": "74a2cc46",
   "metadata": {},
   "outputs": [],
   "source": [
    "def print_bid_statistics(control_cpms, test_cpms, persona, \n",
    "                         control_websites, test_websites, common_websites, count_limit = 20):\n",
    "    control_median = statistics.median(control_cpms)\n",
    "    test_median = statistics.median(test_cpms)\n",
    "    \n",
    "    control_mean = \"{0:0.3f}\".format(statistics.mean(control_cpms))\n",
    "    test_mean = \"{0:0.3f}\".format(statistics.mean(test_cpms))\n",
    "    \n",
    "    control_min = min(control_cpms)\n",
    "    control_max = \"{0:0.3f}\".format(max(control_cpms))\n",
    "    \n",
    "    test_min = min(test_cpms)\n",
    "    test_max = \"{0:0.3f}\".format(max(test_cpms))\n",
    "    \n",
    "    control_total_bids = len(control_cpms)\n",
    "    test_total_bids = len(test_cpms)\n",
    "    \n",
    "    control_total_websites = len(control_websites)\n",
    "    test_total_websites = len(test_websites)\n",
    "    \n",
    "    common_websites_len = len(common_websites)\n",
    "    \n",
    "    table = PrettyTable(['Measure', 'Control', persona], hrules=ALL)\n",
    "    \n",
    "    table.add_row(['# of websites', control_total_websites, test_total_websites])\n",
    "    table.add_row(['# of bids', control_total_bids, test_total_bids])\n",
    "    table.add_row(['Common websites', common_websites_len, common_websites_len])\n",
    "    table.add_row(['Normal/Forced', common_websites_len, common_websites_len])\n",
    "    \n",
    "    table.add_row(['Median', control_median, test_median])\n",
    "    table.add_row(['Mean', control_mean, test_mean])\n",
    "    table.add_row(['Min', control_min, test_min])\n",
    "    table.add_row(['Max', control_max, test_max])\n",
    "    \n",
    "    print(table)"
   ]
  },
  {
   "cell_type": "markdown",
   "id": "fbf753a8",
   "metadata": {},
   "source": [
    "### Get websites with bids"
   ]
  },
  {
   "cell_type": "code",
   "execution_count": null,
   "id": "27bc811a",
   "metadata": {},
   "outputs": [],
   "source": [
    "control_websites = get_websites_with_bids(control_bid_files)\n",
    "test_websites = get_websites_with_bids(test_bid_files)\n",
    "\n",
    "common_websites = set(control_websites).intersection(set(test_websites))"
   ]
  },
  {
   "cell_type": "markdown",
   "id": "5071703f",
   "metadata": {},
   "source": [
    "### Consider all websites and all bids"
   ]
  },
  {
   "cell_type": "code",
   "execution_count": 55,
   "id": "c52a7e4b",
   "metadata": {},
   "outputs": [],
   "source": [
    "control_cpms = return_bid_cpms(control_bid_files)\n",
    "test_cpms = return_bid_cpms(test_bid_files)"
   ]
  },
  {
   "cell_type": "code",
   "execution_count": 74,
   "id": "9f5550cc",
   "metadata": {},
   "outputs": [
    {
     "name": "stdout",
     "output_type": "stream",
     "text": [
      "+-----------------+---------+----------------+\n",
      "|     Measure     | Control | Health-Fitness |\n",
      "+-----------------+---------+----------------+\n",
      "|  # of websites  |    15   |       26       |\n",
      "+-----------------+---------+----------------+\n",
      "|    # of bids    |    29   |       59       |\n",
      "+-----------------+---------+----------------+\n",
      "| Common websites |    13   |       13       |\n",
      "+-----------------+---------+----------------+\n",
      "|      Median     |  0.102  |      0.08      |\n",
      "+-----------------+---------+----------------+\n",
      "|       Mean      |  0.284  |     0.270      |\n",
      "+-----------------+---------+----------------+\n",
      "|       Min       |    0    |       0        |\n",
      "+-----------------+---------+----------------+\n",
      "|       Max       |  1.337  |     4.560      |\n",
      "+-----------------+---------+----------------+\n"
     ]
    }
   ],
   "source": [
    "print_bid_statistics(control_cpms, test_cpms, PERSONA, control_websites, test_websites, common_websites)"
   ]
  },
  {
   "cell_type": "markdown",
   "id": "2a709f0c",
   "metadata": {},
   "source": [
    "### Consider bids on websites where bids returned for both personas"
   ]
  },
  {
   "cell_type": "code",
   "execution_count": 75,
   "id": "6313e55a",
   "metadata": {},
   "outputs": [],
   "source": [
    "common_control_cpms = return_bid_cpms_for_websites(control_bid_files, common_websites)\n",
    "common_test_cpms = return_bid_cpms_for_websites(test_bid_files, common_websites)"
   ]
  },
  {
   "cell_type": "code",
   "execution_count": 76,
   "id": "9bf2d6fc",
   "metadata": {},
   "outputs": [
    {
     "name": "stdout",
     "output_type": "stream",
     "text": [
      "+-----------------+---------+----------------+\n",
      "|     Measure     | Control | Health-Fitness |\n",
      "+-----------------+---------+----------------+\n",
      "|  # of websites  |    15   |       26       |\n",
      "+-----------------+---------+----------------+\n",
      "|    # of bids    |    27   |       19       |\n",
      "+-----------------+---------+----------------+\n",
      "| Common websites |    13   |       13       |\n",
      "+-----------------+---------+----------------+\n",
      "|      Median     |  0.102  |     0.164      |\n",
      "+-----------------+---------+----------------+\n",
      "|       Mean      |  0.300  |     0.431      |\n",
      "+-----------------+---------+----------------+\n",
      "|       Min       |    0    |       0        |\n",
      "+-----------------+---------+----------------+\n",
      "|       Max       |  1.337  |     1.456      |\n",
      "+-----------------+---------+----------------+\n"
     ]
    }
   ],
   "source": [
    "print_bid_statistics(common_control_cpms, common_test_cpms, PERSONA, control_websites, test_websites, common_websites)"
   ]
  },
  {
   "cell_type": "markdown",
   "id": "05a0690e",
   "metadata": {},
   "source": [
    "### Consider medain bids on websites "
   ]
  },
  {
   "cell_type": "code",
   "execution_count": 81,
   "id": "0e15d478",
   "metadata": {},
   "outputs": [],
   "source": [
    "median_control_cpms = return_median_cpms(control_bid_files)\n",
    "median_test_cpms = return_median_cpms(test_bid_files)"
   ]
  },
  {
   "cell_type": "code",
   "execution_count": 82,
   "id": "7363b749",
   "metadata": {},
   "outputs": [
    {
     "name": "stdout",
     "output_type": "stream",
     "text": [
      "+-----------------+----------+----------------+\n",
      "|     Measure     | Control  | Health-Fitness |\n",
      "+-----------------+----------+----------------+\n",
      "|  # of websites  |    15    |       26       |\n",
      "+-----------------+----------+----------------+\n",
      "|    # of bids    |    15    |       26       |\n",
      "+-----------------+----------+----------------+\n",
      "| Common websites |    13    |       13       |\n",
      "+-----------------+----------+----------------+\n",
      "|  Normal/Forced  |    13    |       13       |\n",
      "+-----------------+----------+----------------+\n",
      "|      Median     | 0.122709 |     0.081      |\n",
      "+-----------------+----------+----------------+\n",
      "|       Mean      |  0.324   |     0.402      |\n",
      "+-----------------+----------+----------------+\n",
      "|       Min       |   0.0    |       0        |\n",
      "+-----------------+----------+----------------+\n",
      "|       Max       |  1.337   |     4.560      |\n",
      "+-----------------+----------+----------------+\n"
     ]
    }
   ],
   "source": [
    "print_bid_statistics(median_control_cpms, median_test_cpms, PERSONA, control_websites, test_websites, common_websites)"
   ]
  },
  {
   "cell_type": "markdown",
   "id": "f2538583",
   "metadata": {},
   "source": [
    "### Consider medain bids on websites where bids returned for both personas"
   ]
  },
  {
   "cell_type": "code",
   "execution_count": 84,
   "id": "3981422b",
   "metadata": {},
   "outputs": [],
   "source": [
    "common_median_control_cpms = return_median_cpms(control_bid_files, common_websites)\n",
    "common_median_test_cpms = return_median_cpms(test_bid_files, common_websites)"
   ]
  },
  {
   "cell_type": "code",
   "execution_count": 85,
   "id": "3224a58f",
   "metadata": {},
   "outputs": [
    {
     "name": "stdout",
     "output_type": "stream",
     "text": [
      "+-----------------+---------+----------------+\n",
      "|     Measure     | Control | Health-Fitness |\n",
      "+-----------------+---------+----------------+\n",
      "|  # of websites  |    15   |       26       |\n",
      "+-----------------+---------+----------------+\n",
      "|    # of bids    |    13   |       13       |\n",
      "+-----------------+---------+----------------+\n",
      "| Common websites |    13   |       13       |\n",
      "+-----------------+---------+----------------+\n",
      "|  Normal/Forced  |    13   |       13       |\n",
      "+-----------------+---------+----------------+\n",
      "|      Median     |  0.1527 |      0.1       |\n",
      "+-----------------+---------+----------------+\n",
      "|       Mean      |  0.364  |     0.385      |\n",
      "+-----------------+---------+----------------+\n",
      "|       Min       |   0.0   |       0        |\n",
      "+-----------------+---------+----------------+\n",
      "|       Max       |  1.337  |     1.456      |\n",
      "+-----------------+---------+----------------+\n"
     ]
    }
   ],
   "source": [
    "print_bid_statistics(common_median_control_cpms, common_median_test_cpms, PERSONA, \n",
    "                     control_websites, test_websites, common_websites)"
   ]
  },
  {
   "cell_type": "code",
   "execution_count": 78,
   "id": "1e742239",
   "metadata": {},
   "outputs": [
    {
     "data": {
      "text/plain": [
       "{'cnet.com',\n",
       " 'cnn.com',\n",
       " 'digg.com',\n",
       " 'espn.com',\n",
       " 'grid.id',\n",
       " 'howstuffworks.com',\n",
       " 'imgur.com',\n",
       " 'newyorker.com',\n",
       " 'nypost.com',\n",
       " 'reverso.net',\n",
       " 'speedtest.net',\n",
       " 'theguardian.com',\n",
       " 'timeanddate.com'}"
      ]
     },
     "execution_count": 78,
     "metadata": {},
     "output_type": "execute_result"
    }
   ],
   "source": [
    "common_websites"
   ]
  },
  {
   "cell_type": "code",
   "execution_count": 89,
   "id": "c6139615",
   "metadata": {},
   "outputs": [
    {
     "name": "stdout",
     "output_type": "stream",
     "text": [
      "{'adId': '60fde3f3b7c2ce4', 'adunit': 'ad_bnr_btf_01', 'bid': {'ad': '<iframe src=\"https://a2548.casalemedia.com/ifnotify?consent=1&c=180029B&r=C291D071&t=613AB65C&u=WVRmRVlUSzN0anc1SnRrNnB6dmRaQUFB&m=09d1696f092e579f541d557360f04ea6&wp=5&aid=f88513ad-fa5f-b128-6da4-747bda4b3067&tid=15EFF&s=67558&cp=0.05&n=www.cnn.com&pr=xx&sid=67e7-6a62-738b-83d0-8440-8443-878d-8a2f-924c-9438-af0f-b7a6-b9d0-b9d1-b9d5-be0b-be33-10c58-10c5a&epr=44d04b88cd286618\" width=\"0\" height=\"0\" frameborder=\"0\" scrolling=\"no\" style=\"display:none;\" marginheight=\"0\" marginwidth=\"0\"></iframe><script type=\"text/javascript\" src=\"https://pr.ybp.yahoo.com/ab/secure/true/imp/2OMtT8d1Y21aUMTnPZ6Lx1EXtmRH8ieIzXch_rmbAYH9t2RaZHmMWIJmectvaaeqiDUKDqylun-OBJv2qFznSG5cOYp1tPrK_N815_b57sjRGS5hsos_OrD_ocQnRLIJQ93SqsAFXIPibp604_Miueu5-BucJfUL-wEkyiSfYSf_GI11Z3FOvHXp0imOv3haI7ROH8xq4ez3iP_u0BLd-n4DldJjgRdjbr4Bu2O_bG2anW2OFltl3-XTmUOsNkTMpo40VTuy2Q0mpqM_5MfGqDp42Zr7Q0kOqAk9NQ2iGlP_tVhhzPwUzQUHaEsa0z1jBUVn-JwB1x60ux0HZOgnosXeq79sfqP-eJ1lFMJmknrAGXC4WUa8eHGLi_f8wCEdLnN5oDtiot0bVlQ4H3qEuR8V5Rdfn64YlZVHlf9l3vKZRO2iqjaeypWe9P2V2rX1NZsTIusKb4ewQmlHAFrWW75l1U_5dW9klipSxcJTTZdz_KAYrdhsxa9pkp1j7Jl6Eu3Qf0ap4IDAKU4NycEfj3LzUb1EoL-i3HByadYp0T12UCv2C72alpJ3fRpEu-Txsu8apeWiolhO31FjwRmG3K151Mq7l5yyzBOj7rXz5etVyUnBLnoBtepDxxoKCHnSEUfbCWKRUQvEl2ft09eElPl3pnJwdDww8Z5Zmc1bqkE2Z5KQVuSV_3HKMQd337NKkaO-pMhhVoD7bydrl4KZGkeJtPFaU3JdgiN7VGD_OiztiBtGN8BCN5ohdiDuny_ow_H4jnuOSlE5sPhR3qCB2A3C8KBZpYhRVNW4Ut3tSo78FxIUTb9qwZqgH9mZeaifOx02apGZpw0Qgg0gxasHyoEkyZhvuG2l-rKGNhsHQw9XSsGA9NAxGGzwHVbyXUKC6bJPkRuSSY2KRkz5jrs9i0fK0ZCq5aDv9I3bILj1xWNzdC4riNGGWv13ELD4d4bPV47JpvJkhF1tjQ3HvxRvI2hTswXxvBoQFHN_ajmXUZarciCll3xkqv_uwuqNupfnwcZo8wJ6AcG3fp_mGd_B2r4btb7DhZn3aRQF8597ELpkVTExP3PN_SCPpqU-KCtLXCEYN75oh6O2E043Ehx65GNCgMZZCfYb2ZkVY_eDebd1o52UdoTVmoUDwemHEaat6Pr6Ij7zTnPeQZ60joQKUk9k3aphmebx5IAHIHexhJMetUB-x_piNXT0fhGYZigs9FPBAwop783Z7nuhybA1j-4dmnW7h4AkZNOAfG15It066n00yBZCjTAxxvagI140YztS-KyT_QKVJpddwmzwVlk2NCkJyXHLiOeH2aNLVTqcUJNNUPuNF3Iy2skZC4PFuFU69S4XLfEudi6K22-BS28mFjLdaUQu1ebsH8JRmWaHkIWlQeBtUtLLTRhng34r-0joIEcmlQJyPawRg5E3Xg/wp/0.05\"></script>', 'adId': '60fde3f3b7c2ce4', 'adUnitCode': 'ad_bnr_btf_01', 'adserverTargeting': {'hb_adid': '60fde3f3b7c2ce4', 'hb_adomain': 'mitsubishielectric.co.jp', 'hb_bidder': 'ix', 'hb_format': 'banner', 'hb_pb': '0.04', 'hb_size': '728x90', 'hb_source': 'client'}, 'auctionId': '3b692bc1-00c7-4c14-a05c-502bb241772c', 'bidder': 'ix', 'bidderCode': 'ix', 'cpm': 0.04, 'creativeId': '25166491', 'currency': 'USD', 'getSize': {}, 'getStatusCode': {}, 'height': 90, 'mediaType': 'banner', 'meta': {'advertiserDomains': ['mitsubishielectric.co.jp'], 'brandId': 385330, 'brandName': 'Mitsubishi Electric Corporation', 'networkId': 73}, 'netRevenue': True, 'originalCpm': 0.04, 'originalCurrency': 'USD', 'pbAg': '0.00', 'pbCg': '0.04', 'pbDg': '0.04', 'pbHg': '0.04', 'pbLg': '0.00', 'pbMg': '0.00', 'requestId': '453e65eafb898488', 'requestTimestamp': 1631237724137, 'responseTimestamp': 1631237724526, 'size': '728x90', 'source': 'client', 'status': 'targetingSet', 'statusMessage': 'Bid available', 'timeToRespond': 389, 'ttl': 300, 'width': 728}, 'bidder': 'ix', 'cpm': 0.04, 'msg': 'Bid available', 'rendered': False, 'time': 389}\n"
     ]
    }
   ],
   "source": [
    "for bid_file in test_bid_files:\n",
    "    all_bids = utilities.read_file(bid_file)\n",
    "\n",
    "    for bid in all_bids:\n",
    "        bid_json = json.loads(bid)\n",
    "        print(bid_json)\n",
    "        break\n",
    "    break"
   ]
  },
  {
   "cell_type": "code",
   "execution_count": null,
   "id": "097189cd",
   "metadata": {},
   "outputs": [],
   "source": []
  }
 ],
 "metadata": {
  "kernelspec": {
   "display_name": "Python 3 (ipykernel)",
   "language": "python",
   "name": "python3"
  },
  "language_info": {
   "codemirror_mode": {
    "name": "ipython",
    "version": 3
   },
   "file_extension": ".py",
   "mimetype": "text/x-python",
   "name": "python",
   "nbconvert_exporter": "python",
   "pygments_lexer": "ipython3",
   "version": "3.9.5"
  }
 },
 "nbformat": 4,
 "nbformat_minor": 5
}
