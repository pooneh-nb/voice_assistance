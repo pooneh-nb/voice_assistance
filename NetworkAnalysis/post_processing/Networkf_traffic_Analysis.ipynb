{
 "cells": [
  {
   "cell_type": "code",
   "execution_count": 1,
   "id": "0cff2666",
   "metadata": {},
   "outputs": [],
   "source": [
    "import utilities\n",
    "import os\n",
    "import csv\n",
    "import pandas as pd\n",
    "from prettytable import PrettyTable\n",
    "from prettytable import ALL as ALL"
   ]
  },
  {
   "cell_type": "code",
   "execution_count": 2,
   "id": "99b33252",
   "metadata": {},
   "outputs": [],
   "source": [
    "df = pd.read_csv(\"/home/c2/alexa/source/voice-assistant-central/NetworkAnalysis/data/report_unique_0307.csv\")\n",
    "dict_fqdn = utilities.read_json(\"/home/c2/alexa/source/voice-assistant-central/NetworkAnalysis/data/dict_fqdns_0307.json\")\n",
    "subgrouped_skills = utilities.read_json(\"/home/c2/alexa/source/voice-assistant-central/NetworkAnalysis/data/skills_data/subgrouped_skills.json\")"
   ]
  },
  {
   "cell_type": "markdown",
   "id": "75ad0976",
   "metadata": {},
   "source": [
    "## Distribution of third-party Domains' purpose on each categorty"
   ]
  },
  {
   "cell_type": "code",
   "execution_count": 10,
   "id": "fc0f2af8",
   "metadata": {},
   "outputs": [],
   "source": [
    "df_third = df[(df['Party'] == 'Third-Party') & (df['Purpose'] == 'Advertising/Tracking')]"
   ]
  },
  {
   "cell_type": "code",
   "execution_count": 3,
   "id": "af7178bf",
   "metadata": {},
   "outputs": [],
   "source": [
    "df_third = df[(df['Party'] == 'Third-Party')]"
   ]
  },
  {
   "cell_type": "code",
   "execution_count": 6,
   "id": "79f922f4",
   "metadata": {},
   "outputs": [
    {
     "data": {
      "text/plain": [
       "20                             play.podtrac.com\n",
       "21                            edge1.pod.npr.org\n",
       "22                            edge2.pod.npr.org\n",
       "23                         traffic.megaphone.fm\n",
       "24                             dcs.megaphone.fm\n",
       "139                                   chtbl.com\n",
       "349                             traffic.omny.fm\n",
       "350                             dts.podtrac.com\n",
       "351     turnernetworksales.mc.tritondigital.com\n",
       "814                               dillilabs.com\n",
       "840                    1432239411.rsc.cdn77.org\n",
       "926                          traffic.libsyn.com\n",
       "961                          content.libsyn.com\n",
       "1217                         cdn2.voiceapps.com\n",
       "1253                      discovery.meethue.com\n",
       "1268          playerservices.streamtheworld.com\n",
       "1269              22113.live.streamtheworld.com\n",
       "1271              16613.live.streamtheworld.com\n",
       "1332          audio-bible-cdn.youversionapi.com\n",
       "Name: FQDN, dtype: object"
      ]
     },
     "execution_count": 6,
     "metadata": {},
     "output_type": "execute_result"
    }
   ],
   "source": [
    "df_third['FQDN'].drop_duplicates()"
   ]
  },
  {
   "cell_type": "code",
   "execution_count": 68,
   "id": "0b173422",
   "metadata": {},
   "outputs": [],
   "source": [
    "skill_purpose = {}\n",
    "for index, row in df_third.iterrows():\n",
    "    if row['Skill Categories'] not in skill_purpose:\n",
    "        skill_purpose[row['Skill Categories']] = {'Advertising/Tracking' : 0, 'Functional' : 0}\n",
    "        skill_purpose[row['Skill Categories']][row['Purpose']] = 1\n",
    "    else:\n",
    "        skill_purpose[row['Skill Categories']][row['Purpose']] += 1"
   ]
  },
  {
   "cell_type": "code",
   "execution_count": 69,
   "id": "16977d03",
   "metadata": {},
   "outputs": [
    {
     "name": "stdout",
     "output_type": "stream",
     "text": [
      "+----------------+--------------------------------------------+----------------------------------+\n",
      "| Skill Category | No. Advertising/Tracking 3rd-Party Domains | No. Functional 3rd-Party Domains |\n",
      "+----------------+--------------------------------------------+----------------------------------+\n",
      "| Fashion Style  |                     9                      |                4                 |\n",
      "+----------------+--------------------------------------------+----------------------------------+\n",
      "| Connected Car  |                     7                      |                0                 |\n",
      "+----------------+--------------------------------------------+----------------------------------+\n",
      "|      Pets      |                     3                      |                11                |\n",
      "+----------------+--------------------------------------------+----------------------------------+\n",
      "|  Sprituality   |                     3                      |                10                |\n",
      "+----------------+--------------------------------------------+----------------------------------+\n",
      "|     Dating     |                     5                      |                1                 |\n",
      "+----------------+--------------------------------------------+----------------------------------+\n",
      "|     Health     |                     0                      |                1                 |\n",
      "+----------------+--------------------------------------------+----------------------------------+\n"
     ]
    }
   ],
   "source": [
    "table = PrettyTable(['Skill Category', 'No. Advertising/Tracking 3rd-Party Domains', 'No. Functional 3rd-Party Domains'], hrules=ALL)\n",
    "\n",
    "for cat in skill_purpose:   \n",
    "    table.add_row([cat, skill_purpose[cat]['Advertising/Tracking'], skill_purpose[cat]['Functional']])\n",
    "print(table)"
   ]
  },
  {
   "cell_type": "markdown",
   "id": "0a5bc0a5",
   "metadata": {},
   "source": [
    "## List of skills contacting AT 3p domains"
   ]
  },
  {
   "cell_type": "code",
   "execution_count": 70,
   "id": "761dd9b3",
   "metadata": {},
   "outputs": [
    {
     "name": "stdout",
     "output_type": "stream",
     "text": [
      "+-----------------------+------------+-----------------------------------------+-----------------+\n",
      "|    Skill Categories   | skill_name |                  FQDNs                  | Customer rating |\n",
      "+-----------------------+------------+-----------------------------------------+-----------------+\n",
      "|     Fashion-Style     | B07CB3ZN6N |             play.podtrac.com            |        13       |\n",
      "+-----------------------+------------+-----------------------------------------+-----------------+\n",
      "|     Fashion-Style     | B07CB3ZN6N |           traffic.megaphone.fm          |        13       |\n",
      "+-----------------------+------------+-----------------------------------------+-----------------+\n",
      "|     Fashion-Style     | B07CB3ZN6N |             dcs.megaphone.fm            |        13       |\n",
      "+-----------------------+------------+-----------------------------------------+-----------------+\n",
      "|     Fashion-Style     | B072N6BNB1 |           traffic.megaphone.fm          |        4        |\n",
      "+-----------------------+------------+-----------------------------------------+-----------------+\n",
      "|     Fashion-Style     | B072N6BNB1 |             play.podtrac.com            |        4        |\n",
      "+-----------------------+------------+-----------------------------------------+-----------------+\n",
      "|     Fashion-Style     | B072N6BNB1 |                chtbl.com                |        4        |\n",
      "+-----------------------+------------+-----------------------------------------+-----------------+\n",
      "|     Fashion-Style     | B072N6BNB1 |             dcs.megaphone.fm            |        4        |\n",
      "+-----------------------+------------+-----------------------------------------+-----------------+\n",
      "|     Fashion-Style     | B07DX3TDHD |             play.podtrac.com            |        11       |\n",
      "+-----------------------+------------+-----------------------------------------+-----------------+\n",
      "|     Fashion-Style     | B07DX3TDHD |           traffic.megaphone.fm          |        11       |\n",
      "+-----------------------+------------+-----------------------------------------+-----------------+\n",
      "|      ConnectedCar     | B01JXP09PI |             play.podtrac.com            |       398       |\n",
      "+-----------------------+------------+-----------------------------------------+-----------------+\n",
      "|      ConnectedCar     | B01JXP09PI |           traffic.megaphone.fm          |       398       |\n",
      "+-----------------------+------------+-----------------------------------------+-----------------+\n",
      "|      ConnectedCar     | B075TRB4V5 |                chtbl.com                |        42       |\n",
      "+-----------------------+------------+-----------------------------------------+-----------------+\n",
      "|      ConnectedCar     | B075TRB4V5 |             traffic.omny.fm             |        42       |\n",
      "+-----------------------+------------+-----------------------------------------+-----------------+\n",
      "|      ConnectedCar     | B075TRB4V5 |             dts.podtrac.com             |        42       |\n",
      "+-----------------------+------------+-----------------------------------------+-----------------+\n",
      "|      ConnectedCar     | B075TRB4V5 | turnernetworksales.mc.tritondigital.com |        42       |\n",
      "+-----------------------+------------+-----------------------------------------+-----------------+\n",
      "|      ConnectedCar     | B01N9Y4I1E |                chtbl.com                |       340       |\n",
      "+-----------------------+------------+-----------------------------------------+-----------------+\n",
      "|      Pets-Animals     | B07SNP2BJM |            traffic.libsyn.com           |        38       |\n",
      "+-----------------------+------------+-----------------------------------------+-----------------+\n",
      "|      Pets-Animals     | B07H2WMDTV |            traffic.libsyn.com           |        51       |\n",
      "+-----------------------+------------+-----------------------------------------+-----------------+\n",
      "|      Pets-Animals     | B07H2WMDTV |            content.libsyn.com           |        51       |\n",
      "+-----------------------+------------+-----------------------------------------+-----------------+\n",
      "| Religion-Spirituality | B07FF2QGXW |    playerservices.streamtheworld.com    |       107       |\n",
      "+-----------------------+------------+-----------------------------------------+-----------------+\n",
      "| Religion-Spirituality | B07FF2QGXW |      22113.live.streamtheworld.com      |       107       |\n",
      "+-----------------------+------------+-----------------------------------------+-----------------+\n",
      "| Religion-Spirituality | B07FF2QGXW |      16613.live.streamtheworld.com      |       107       |\n",
      "+-----------------------+------------+-----------------------------------------+-----------------+\n",
      "|         Dating        | B07YCKFCCF |             play.podtrac.com            |        0        |\n",
      "+-----------------------+------------+-----------------------------------------+-----------------+\n",
      "|         Dating        | B07YCKFCCF |           traffic.megaphone.fm          |        0        |\n",
      "+-----------------------+------------+-----------------------------------------+-----------------+\n",
      "|         Dating        | B07YCKFCCF |             dcs.megaphone.fm            |        0        |\n",
      "+-----------------------+------------+-----------------------------------------+-----------------+\n",
      "|         Dating        | B08242JWBQ |             play.podtrac.com            |        0        |\n",
      "+-----------------------+------------+-----------------------------------------+-----------------+\n",
      "|         Dating        | B08242JWBQ |           traffic.megaphone.fm          |        0        |\n",
      "+-----------------------+------------+-----------------------------------------+-----------------+\n"
     ]
    }
   ],
   "source": [
    "df_3p_ad = df_third[df_third['Purpose'] == 'Advertising/Tracking']\n",
    "df_3p_ad[['Skill Categories', 'skill_name', 'FQDN']]\n",
    "\n",
    "table = PrettyTable(['Skill Categories', 'skill_name', 'FQDNs', 'Customer rating'], hrules=ALL)\n",
    "\n",
    "for index, row in df_3p_ad.iterrows():\n",
    "    category = row['Skill Categories']\n",
    "    if category == 'Fashion Style':\n",
    "        category = 'Fashion-Style'\n",
    "    if category == 'Connected Car':\n",
    "        category = 'ConnectedCar'\n",
    "    if category == 'Pets':\n",
    "        category = 'Pets-Animals'\n",
    "    if category == 'Sprituality':\n",
    "        category = 'Religion-Spirituality'\n",
    "    \n",
    "        \n",
    "    skill_name = row['skill_name']\n",
    "\n",
    "    table.add_row([category, skill_name, row['FQDN'], subgrouped_skills[category][skill_name][\"Total_customer_that_rate_the_skill\"]])\n",
    "print(table)"
   ]
  },
  {
   "cell_type": "markdown",
   "id": "76f3d40f",
   "metadata": {},
   "source": [
    "## List of platform-based domains and number of skills contacted them"
   ]
  },
  {
   "cell_type": "code",
   "execution_count": 86,
   "id": "8c0316f7",
   "metadata": {},
   "outputs": [],
   "source": [
    "df_fqdn = df.loc[df['Party'] == 'Platform-based', 'FQDNs']\n",
    "platform_base = {}\n",
    "for fqdn in df_fqdn:\n",
    "    if fqdn not in platform_base:\n",
    "        platform_base[fqdn] = 1\n",
    "    else:\n",
    "        platform_base[fqdn] += 1\n",
    "fqdn_skill_num_sorted = dict(sorted(platform_base.items(), key=lambda kv: kv[1], reverse=True))"
   ]
  },
  {
   "cell_type": "code",
   "execution_count": 72,
   "id": "0ede1480",
   "metadata": {},
   "outputs": [
    {
     "name": "stdout",
     "output_type": "stream",
     "text": [
      "+-------------------------------------------------+------------+----------------------+\n",
      "|                       FQDN                      | No. Skills |       Purpose        |\n",
      "+-------------------------------------------------+------------+----------------------+\n",
      "|            avs-alexa-14-na.amazon.com           |    446     |       Function       |\n",
      "+-------------------------------------------------+------------+----------------------+\n",
      "|                 mlis.amazon.com                 |    377     |       Function       |\n",
      "+-------------------------------------------------+------------+----------------------+\n",
      "|              prod.amcs-tachyon.com              |    305     |       Function       |\n",
      "+-------------------------------------------------+------------+----------------------+\n",
      "|               api.amazonalexa.com               |    173     |       Function       |\n",
      "+-------------------------------------------------+------------+----------------------+\n",
      "|          d3p8zr0ffa9t17.cloudfront.net          |    129     |       Function       |\n",
      "+-------------------------------------------------+------------+----------------------+\n",
      "|          device-metrics-us-2.amazon.com         |    123     | Advertising/Tracking |\n",
      "+-------------------------------------------------+------------+----------------------+\n",
      "|                 s3.amazonaws.com                |     36     |       Function       |\n",
      "+-------------------------------------------------+------------+----------------------+\n",
      "|             acsechocaptiveportal.com            |     27     |       Function       |\n",
      "+-------------------------------------------------+------------+----------------------+\n",
      "|             fireoscaptiveportal.com             |     20     | Advertising/Tracking |\n",
      "+-------------------------------------------------+------------+----------------------+\n",
      "|                ntp-g7g.amazon.com               |     20     |       Function       |\n",
      "+-------------------------------------------------+------------+----------------------+\n",
      "|                  api.amazon.com                 |     15     |       Function       |\n",
      "+-------------------------------------------------+------------+----------------------+\n",
      "|                tinytts.amazon.com               |     14     |       Function       |\n",
      "+-------------------------------------------------+------------+----------------------+\n",
      "|            spectrum.s3.amazonaws.com            |     10     |       Function       |\n",
      "+-------------------------------------------------+------------+----------------------+\n",
      "|          d37b6sgey2y8gt.cloudfront.net          |     8      |       Function       |\n",
      "+-------------------------------------------------+------------+----------------------+\n",
      "|                  msh.amazon.com                 |     7      |       Function       |\n",
      "+-------------------------------------------------+------------+----------------------+\n",
      "| ingestion.us-east-1.prod.arteries.alexa.a2z.com |     7      |       Function       |\n",
      "+-------------------------------------------------+------------+----------------------+\n",
      "|                dss-na.amazon.com                |     6      |       Function       |\n",
      "+-------------------------------------------------+------------+----------------------+\n",
      "|       device-artifacts-v2.s3.amazonaws.com      |     5      |       Function       |\n",
      "+-------------------------------------------------+------------+----------------------+\n",
      "|            softwareupdates.amazon.com           |     4      |       Function       |\n",
      "+-------------------------------------------------+------------+----------------------+\n",
      "|           dxz5jxhrrzigf.cloudfront.net          |     3      |       Function       |\n",
      "+-------------------------------------------------+------------+----------------------+\n",
      "|          d29r7idq0wxsiz.cloudfront.net          |     2      |       Function       |\n",
      "+-------------------------------------------------+------------+----------------------+\n",
      "|                 music.amazon.com                |     2      |       Function       |\n",
      "+-------------------------------------------------+------------+----------------------+\n",
      "|              det-ta-g7g.amazon.com              |     2      |       Function       |\n",
      "+-------------------------------------------------+------------+----------------------+\n",
      "|      ffs-provisioner-config.amazon-dss.com      |     2      |       Function       |\n",
      "+-------------------------------------------------+------------+----------------------+\n",
      "|               dcape-na.amazon.com               |     2      |       Function       |\n",
      "+-------------------------------------------------+------------+----------------------+\n",
      "|          d3b28lu8h5txed.cloudfront.net          |     2      |       Function       |\n",
      "+-------------------------------------------------+------------+----------------------+\n",
      "|            s3.eu-west-2.amazonaws.com           |     1      |       Function       |\n",
      "+-------------------------------------------------+------------+----------------------+\n",
      "|          d37bvzh6941o03.cloudfront.net          |     1      |       Function       |\n",
      "+-------------------------------------------------+------------+----------------------+\n",
      "|           d28756ok3q8pa.cloudfront.net          |     1      |       Function       |\n",
      "+-------------------------------------------------+------------+----------------------+\n"
     ]
    }
   ],
   "source": [
    "\n",
    "table = PrettyTable(['FQDN', 'No. Skills', 'Purpose'], hrules=ALL)\n",
    "\n",
    "for fqdn in fqdn_skill_num_sorted:   \n",
    "    table.add_row([fqdn, fqdn_skill_num_sorted[fqdn], dict_fqdn[fqdn]['ATSes']])\n",
    "print(table)"
   ]
  },
  {
   "cell_type": "markdown",
   "id": "2d209a3f",
   "metadata": {},
   "source": [
    "## List of Third-party domains and number of skills contacted them"
   ]
  },
  {
   "cell_type": "code",
   "execution_count": 73,
   "id": "2fdc7c3d",
   "metadata": {},
   "outputs": [],
   "source": [
    "df_fqdn = df.loc[df['Party'] == 'Third-Party', 'FQDN']\n",
    "platform_base = {}\n",
    "for fqdn in df_fqdn:\n",
    "    if fqdn not in platform_base:\n",
    "        platform_base[fqdn] = 1\n",
    "    else:\n",
    "        platform_base[fqdn] += 1\n",
    "fqdn_skill_num_sorted = dict(sorted(platform_base.items(), key=lambda kv: kv[1], reverse=True))"
   ]
  },
  {
   "cell_type": "code",
   "execution_count": 74,
   "id": "3640e34d",
   "metadata": {},
   "outputs": [
    {
     "name": "stdout",
     "output_type": "stream",
     "text": [
      "+-----------------------------------------+------------+----------------------+\n",
      "|                   FQDN                  | No. Skills |       Purpose        |\n",
      "+-----------------------------------------+------------+----------------------+\n",
      "|              dillilabs.com              |     9      |       Function       |\n",
      "+-----------------------------------------+------------+----------------------+\n",
      "|            cdn2.voiceapps.com           |     7      |       Function       |\n",
      "+-----------------------------------------+------------+----------------------+\n",
      "|             play.podtrac.com            |     6      | Advertising/Tracking |\n",
      "+-----------------------------------------+------------+----------------------+\n",
      "|           traffic.megaphone.fm          |     6      | Advertising/Tracking |\n",
      "+-----------------------------------------+------------+----------------------+\n",
      "|             dcs.megaphone.fm            |     3      | Advertising/Tracking |\n",
      "+-----------------------------------------+------------+----------------------+\n",
      "|                chtbl.com                |     3      | Advertising/Tracking |\n",
      "+-----------------------------------------+------------+----------------------+\n",
      "|         1432239411.rsc.cdn77.org        |     3      |       Function       |\n",
      "+-----------------------------------------+------------+----------------------+\n",
      "|            edge1.pod.npr.org            |     2      |       Function       |\n",
      "+-----------------------------------------+------------+----------------------+\n",
      "|            edge2.pod.npr.org            |     2      |       Function       |\n",
      "+-----------------------------------------+------------+----------------------+\n",
      "|            traffic.libsyn.com           |     2      | Advertising/Tracking |\n",
      "+-----------------------------------------+------------+----------------------+\n",
      "|          discovery.meethue.com          |     2      |       Function       |\n",
      "+-----------------------------------------+------------+----------------------+\n",
      "|    audio-bible-cdn.youversionapi.com    |     2      |       Function       |\n",
      "+-----------------------------------------+------------+----------------------+\n",
      "|             traffic.omny.fm             |     1      | Advertising/Tracking |\n",
      "+-----------------------------------------+------------+----------------------+\n",
      "|             dts.podtrac.com             |     1      | Advertising/Tracking |\n",
      "+-----------------------------------------+------------+----------------------+\n",
      "| turnernetworksales.mc.tritondigital.com |     1      | Advertising/Tracking |\n",
      "+-----------------------------------------+------------+----------------------+\n",
      "|            content.libsyn.com           |     1      | Advertising/Tracking |\n",
      "+-----------------------------------------+------------+----------------------+\n",
      "|    playerservices.streamtheworld.com    |     1      | Advertising/Tracking |\n",
      "+-----------------------------------------+------------+----------------------+\n",
      "|      22113.live.streamtheworld.com      |     1      | Advertising/Tracking |\n",
      "+-----------------------------------------+------------+----------------------+\n",
      "|      16613.live.streamtheworld.com      |     1      | Advertising/Tracking |\n",
      "+-----------------------------------------+------------+----------------------+\n"
     ]
    }
   ],
   "source": [
    "table = PrettyTable(['FQDN', 'No. Skills', 'Purpose'], hrules=ALL)\n",
    "\n",
    "for fqdn in fqdn_skill_num_sorted:   \n",
    "    table.add_row([fqdn, fqdn_skill_num_sorted[fqdn], dict_fqdn[fqdn]['ATSes']])\n",
    "print(table)"
   ]
  },
  {
   "cell_type": "code",
   "execution_count": 21,
   "id": "2710bad5",
   "metadata": {},
   "outputs": [
    {
     "data": {
      "text/plain": [
       "[9, 7, 6, 6, 3, 3, 3, 2, 2, 2, 2, 2, 1, 1, 1, 1, 1, 1, 1]"
      ]
     },
     "execution_count": 21,
     "metadata": {},
     "output_type": "execute_result"
    }
   ],
   "source": [
    "list(fqdn_skill_num_sorted.values())"
   ]
  },
  {
   "cell_type": "markdown",
   "id": "8c533b8c",
   "metadata": {},
   "source": [
    "## List of TFirst-Party domains and number of skills contacted them"
   ]
  },
  {
   "cell_type": "code",
   "execution_count": 75,
   "id": "ed201c40",
   "metadata": {},
   "outputs": [],
   "source": [
    "df_fqdn = df.loc[df['Party'] == 'First-Party', 'FQDN']\n",
    "platform_base = {}\n",
    "for fqdn in df_fqdn:\n",
    "    if fqdn not in platform_base:\n",
    "        platform_base[fqdn] = 1\n",
    "    else:\n",
    "        platform_base[fqdn] += 1\n",
    "fqdn_skill_num_sorted = dict(sorted(platform_base.items(), key=lambda kv: kv[1], reverse=True))"
   ]
  },
  {
   "cell_type": "code",
   "execution_count": 76,
   "id": "1f027c51",
   "metadata": {},
   "outputs": [
    {
     "name": "stdout",
     "output_type": "stream",
     "text": [
      "+-----------------------------------+------------+----------+\n",
      "|                FQDN               | No. Skills | Purpose  |\n",
      "+-----------------------------------+------------+----------+\n",
      "|        static.garmincdn.com       |     1      | Function |\n",
      "+-----------------------------------+------------+----------+\n",
      "| audio-bible-cdn.youversionapi.com |     1      | Function |\n",
      "+-----------------------------------+------------+----------+\n",
      "|    audioproxy.youversionapi.com   |     1      | Function |\n",
      "+-----------------------------------+------------+----------+\n"
     ]
    }
   ],
   "source": [
    "table = PrettyTable(['FQDN', 'No. Skills', 'Purpose'], hrules=ALL)\n",
    "\n",
    "for fqdn in fqdn_skill_num_sorted:   \n",
    "    table.add_row([fqdn, fqdn_skill_num_sorted[fqdn], dict_fqdn[fqdn]['ATSes']])\n",
    "print(table)"
   ]
  },
  {
   "cell_type": "markdown",
   "id": "a56eb53a",
   "metadata": {},
   "source": [
    "## Amazon, skill vendors, and third parties distributed by offered functionality"
   ]
  },
  {
   "cell_type": "code",
   "execution_count": 77,
   "id": "e718b67f",
   "metadata": {},
   "outputs": [
    {
     "data": {
      "text/plain": [
       "Party           Purpose             \n",
       "First-Party     Functional                 3\n",
       "Platform-based  Advertising/Tracking     143\n",
       "                Functional              1607\n",
       "Third-Party     Advertising/Tracking      27\n",
       "                Functional                27\n",
       "dtype: int64"
      ]
     },
     "execution_count": 77,
     "metadata": {},
     "output_type": "execute_result"
    }
   ],
   "source": [
    "df[['Party', 'Purpose']].groupby(['Party', 'Purpose']).size()"
   ]
  },
  {
   "cell_type": "code",
   "execution_count": 78,
   "id": "a9dd00bd",
   "metadata": {},
   "outputs": [
    {
     "data": {
      "text/plain": [
       "1807"
      ]
     },
     "execution_count": 78,
     "metadata": {},
     "output_type": "execute_result"
    }
   ],
   "source": [
    "len(df)"
   ]
  },
  {
   "cell_type": "code",
   "execution_count": 79,
   "id": "44b189b3",
   "metadata": {},
   "outputs": [],
   "source": [
    "df_ad = df[(df['Purpose'] == 'Advertising/Tracking') & (df['Party'] == 'Third-Party')]\n",
    "df_ad.drop(columns=['Unnamed: 0'])\n",
    "\n",
    "\n",
    "dataframe_3p_ad = pd.DataFrame(columns=('Category', 'Skill Code', 'Skill Name', 'FQDN', 'Domain Name', 'Organization', 'Purpose', 'Party', 'Link'))\n",
    "\n",
    "i = 0\n",
    "for index, row in df_ad.iterrows():\n",
    "    category = row['Skill Categories']\n",
    "    if category == 'Fashion Style':\n",
    "        category = 'Fashion-Style'\n",
    "    if category == 'Connected Car':\n",
    "        category = 'ConnectedCar'\n",
    "    if category == 'Pets':\n",
    "        category = 'Pets-Animals'\n",
    "    if category == 'Sprituality':\n",
    "        category = 'Religion-Spirituality'\n",
    "        \n",
    "    Skill_Code = row['skill_name']\n",
    "    Skill_Name = subgrouped_skills[category][Skill_Code][\"Name\"]\n",
    "    FQDN = row['FQDN']\n",
    "    Domain_Name = row['Domain Name']\n",
    "    Organization = row['Organization']\n",
    "    Purpose = row['Purpose']\n",
    "    Party = row['Party']\n",
    "    Link = subgrouped_skills[category][Skill_Code][\"Skill_link\"]\n",
    "    dataframe_3p_ad.loc[i] = [category, Skill_Code, Skill_Name, FQDN, Domain_Name, Organization, Purpose, Party, Link]\n",
    "    i += 1\n",
    "\n",
    "dataframe_3p_ad.to_csv(\"/home/c2/alexa/source/voice-assistant-central/NetworkAnalysis/data/dataframe_3p_ad.csv\")\n"
   ]
  },
  {
   "cell_type": "code",
   "execution_count": 96,
   "id": "cae16e43",
   "metadata": {},
   "outputs": [
    {
     "data": {
      "text/plain": [
       "0       B083PY1PGZ\n",
       "6       B087YM4KJK\n",
       "8       B07Q6WZV32\n",
       "15      B07CB3ZN6N\n",
       "26      B07WGB3Y5N\n",
       "           ...    \n",
       "1791    B07K5RPXW6\n",
       "1794    B07CQWG296\n",
       "1797    B076TVD85K\n",
       "1801    B07QN179C5\n",
       "1804    B07PJWHYXM\n",
       "Name: skill_name, Length: 446, dtype: object"
      ]
     },
     "execution_count": 96,
     "metadata": {},
     "output_type": "execute_result"
    }
   ],
   "source": [
    "# all skills\n",
    "df_all_skills = df['skill_name'].drop_duplicates()\n",
    "df_all_skills"
   ]
  },
  {
   "cell_type": "code",
   "execution_count": 92,
   "id": "fafcca3c",
   "metadata": {},
   "outputs": [
    {
     "data": {
      "text/plain": [
       "446"
      ]
     },
     "execution_count": 92,
     "metadata": {},
     "output_type": "execute_result"
    }
   ],
   "source": [
    "# unique skills access Amazon domains\n",
    "df_skill = df.loc[df['Party'] == 'Platform-based', 'skill_name']\n",
    "df_skill.drop_duplicates().count()"
   ]
  },
  {
   "cell_type": "code",
   "execution_count": 94,
   "id": "7ae04ff8",
   "metadata": {},
   "outputs": [
    {
     "data": {
      "text/plain": [
       "2"
      ]
     },
     "execution_count": 94,
     "metadata": {},
     "output_type": "execute_result"
    }
   ],
   "source": [
    "# unique skills access skill vendors domains\n",
    "df_skill = df.loc[df['Party'] == 'First-Party', 'skill_name']\n",
    "df_skill.drop_duplicates().count()"
   ]
  },
  {
   "cell_type": "code",
   "execution_count": 95,
   "id": "af0f8530",
   "metadata": {},
   "outputs": [
    {
     "data": {
      "text/plain": [
       "31"
      ]
     },
     "execution_count": 95,
     "metadata": {},
     "output_type": "execute_result"
    }
   ],
   "source": [
    "# unique skills access skill vendors domains\n",
    "df_skill = df.loc[df['Party'] == 'Third-Party', 'skill_name']\n",
    "df_skill.drop_duplicates().count()"
   ]
  },
  {
   "cell_type": "code",
   "execution_count": 99,
   "id": "835f6c01",
   "metadata": {},
   "outputs": [
    {
     "data": {
      "text/html": [
       "<div>\n",
       "<style scoped>\n",
       "    .dataframe tbody tr th:only-of-type {\n",
       "        vertical-align: middle;\n",
       "    }\n",
       "\n",
       "    .dataframe tbody tr th {\n",
       "        vertical-align: top;\n",
       "    }\n",
       "\n",
       "    .dataframe thead th {\n",
       "        text-align: right;\n",
       "    }\n",
       "</style>\n",
       "<table border=\"1\" class=\"dataframe\">\n",
       "  <thead>\n",
       "    <tr style=\"text-align: right;\">\n",
       "      <th></th>\n",
       "      <th>Unnamed: 0</th>\n",
       "      <th>Skill Categories</th>\n",
       "      <th>skill_name</th>\n",
       "      <th>FQDN</th>\n",
       "      <th>Domain Name</th>\n",
       "      <th>SLD</th>\n",
       "      <th>subdomain</th>\n",
       "      <th>Organization</th>\n",
       "      <th>Purpose</th>\n",
       "      <th>Party</th>\n",
       "    </tr>\n",
       "  </thead>\n",
       "  <tbody>\n",
       "    <tr>\n",
       "      <th>0</th>\n",
       "      <td>0</td>\n",
       "      <td>Fashion Style</td>\n",
       "      <td>B083PY1PGZ</td>\n",
       "      <td>device-metrics-us-2.amazon.com</td>\n",
       "      <td>amazon.com</td>\n",
       "      <td>amazon</td>\n",
       "      <td>device-metrics-us-2</td>\n",
       "      <td>Amazon Technologies, Inc.</td>\n",
       "      <td>Advertising/Tracking</td>\n",
       "      <td>Platform-based</td>\n",
       "    </tr>\n",
       "    <tr>\n",
       "      <th>1</th>\n",
       "      <td>136</td>\n",
       "      <td>Fashion Style</td>\n",
       "      <td>B083PY1PGZ</td>\n",
       "      <td>avs-alexa-14-na.amazon.com</td>\n",
       "      <td>amazon.com</td>\n",
       "      <td>amazon</td>\n",
       "      <td>avs-alexa-14-na</td>\n",
       "      <td>Amazon Technologies, Inc.</td>\n",
       "      <td>Functional</td>\n",
       "      <td>Platform-based</td>\n",
       "    </tr>\n",
       "    <tr>\n",
       "      <th>2</th>\n",
       "      <td>438</td>\n",
       "      <td>Fashion Style</td>\n",
       "      <td>B083PY1PGZ</td>\n",
       "      <td>mlis.amazon.com</td>\n",
       "      <td>amazon.com</td>\n",
       "      <td>amazon</td>\n",
       "      <td>mlis</td>\n",
       "      <td>Amazon Technologies, Inc.</td>\n",
       "      <td>Functional</td>\n",
       "      <td>Platform-based</td>\n",
       "    </tr>\n",
       "    <tr>\n",
       "      <th>3</th>\n",
       "      <td>2357</td>\n",
       "      <td>Fashion Style</td>\n",
       "      <td>B083PY1PGZ</td>\n",
       "      <td>prod.amcs-tachyon.com</td>\n",
       "      <td>amcs-tachyon.com</td>\n",
       "      <td>amcs-tachyon</td>\n",
       "      <td>prod</td>\n",
       "      <td>Amazon Technologies, Inc.</td>\n",
       "      <td>Functional</td>\n",
       "      <td>Platform-based</td>\n",
       "    </tr>\n",
       "    <tr>\n",
       "      <th>4</th>\n",
       "      <td>3757</td>\n",
       "      <td>Fashion Style</td>\n",
       "      <td>B083PY1PGZ</td>\n",
       "      <td>d3p8zr0ffa9t17.cloudfront.net</td>\n",
       "      <td>cloudfront.net</td>\n",
       "      <td>cloudfront</td>\n",
       "      <td>d3p8zr0ffa9t17</td>\n",
       "      <td>Amazon Technologies, Inc.</td>\n",
       "      <td>Functional</td>\n",
       "      <td>Platform-based</td>\n",
       "    </tr>\n",
       "    <tr>\n",
       "      <th>...</th>\n",
       "      <td>...</td>\n",
       "      <td>...</td>\n",
       "      <td>...</td>\n",
       "      <td>...</td>\n",
       "      <td>...</td>\n",
       "      <td>...</td>\n",
       "      <td>...</td>\n",
       "      <td>...</td>\n",
       "      <td>...</td>\n",
       "      <td>...</td>\n",
       "    </tr>\n",
       "    <tr>\n",
       "      <th>1802</th>\n",
       "      <td>964263</td>\n",
       "      <td>Health</td>\n",
       "      <td>B07QN179C5</td>\n",
       "      <td>avs-alexa-14-na.amazon.com</td>\n",
       "      <td>amazon.com</td>\n",
       "      <td>amazon</td>\n",
       "      <td>avs-alexa-14-na</td>\n",
       "      <td>Amazon Technologies, Inc.</td>\n",
       "      <td>Functional</td>\n",
       "      <td>Platform-based</td>\n",
       "    </tr>\n",
       "    <tr>\n",
       "      <th>1803</th>\n",
       "      <td>964605</td>\n",
       "      <td>Health</td>\n",
       "      <td>B07QN179C5</td>\n",
       "      <td>mlis.amazon.com</td>\n",
       "      <td>amazon.com</td>\n",
       "      <td>amazon</td>\n",
       "      <td>mlis</td>\n",
       "      <td>Amazon Technologies, Inc.</td>\n",
       "      <td>Functional</td>\n",
       "      <td>Platform-based</td>\n",
       "    </tr>\n",
       "    <tr>\n",
       "      <th>1804</th>\n",
       "      <td>964654</td>\n",
       "      <td>Health</td>\n",
       "      <td>B07PJWHYXM</td>\n",
       "      <td>prod.amcs-tachyon.com</td>\n",
       "      <td>amcs-tachyon.com</td>\n",
       "      <td>amcs-tachyon</td>\n",
       "      <td>prod</td>\n",
       "      <td>Amazon Technologies, Inc.</td>\n",
       "      <td>Functional</td>\n",
       "      <td>Platform-based</td>\n",
       "    </tr>\n",
       "    <tr>\n",
       "      <th>1805</th>\n",
       "      <td>964656</td>\n",
       "      <td>Health</td>\n",
       "      <td>B07PJWHYXM</td>\n",
       "      <td>mlis.amazon.com</td>\n",
       "      <td>amazon.com</td>\n",
       "      <td>amazon</td>\n",
       "      <td>mlis</td>\n",
       "      <td>Amazon Technologies, Inc.</td>\n",
       "      <td>Functional</td>\n",
       "      <td>Platform-based</td>\n",
       "    </tr>\n",
       "    <tr>\n",
       "      <th>1806</th>\n",
       "      <td>964706</td>\n",
       "      <td>Health</td>\n",
       "      <td>B07PJWHYXM</td>\n",
       "      <td>avs-alexa-14-na.amazon.com</td>\n",
       "      <td>amazon.com</td>\n",
       "      <td>amazon</td>\n",
       "      <td>avs-alexa-14-na</td>\n",
       "      <td>Amazon Technologies, Inc.</td>\n",
       "      <td>Functional</td>\n",
       "      <td>Platform-based</td>\n",
       "    </tr>\n",
       "  </tbody>\n",
       "</table>\n",
       "<p>1807 rows × 10 columns</p>\n",
       "</div>"
      ],
      "text/plain": [
       "      Unnamed: 0 Skill Categories  skill_name                            FQDN  \\\n",
       "0              0    Fashion Style  B083PY1PGZ  device-metrics-us-2.amazon.com   \n",
       "1            136    Fashion Style  B083PY1PGZ      avs-alexa-14-na.amazon.com   \n",
       "2            438    Fashion Style  B083PY1PGZ                 mlis.amazon.com   \n",
       "3           2357    Fashion Style  B083PY1PGZ           prod.amcs-tachyon.com   \n",
       "4           3757    Fashion Style  B083PY1PGZ   d3p8zr0ffa9t17.cloudfront.net   \n",
       "...          ...              ...         ...                             ...   \n",
       "1802      964263           Health  B07QN179C5      avs-alexa-14-na.amazon.com   \n",
       "1803      964605           Health  B07QN179C5                 mlis.amazon.com   \n",
       "1804      964654           Health  B07PJWHYXM           prod.amcs-tachyon.com   \n",
       "1805      964656           Health  B07PJWHYXM                 mlis.amazon.com   \n",
       "1806      964706           Health  B07PJWHYXM      avs-alexa-14-na.amazon.com   \n",
       "\n",
       "           Domain Name           SLD            subdomain  \\\n",
       "0           amazon.com        amazon  device-metrics-us-2   \n",
       "1           amazon.com        amazon      avs-alexa-14-na   \n",
       "2           amazon.com        amazon                 mlis   \n",
       "3     amcs-tachyon.com  amcs-tachyon                 prod   \n",
       "4       cloudfront.net    cloudfront       d3p8zr0ffa9t17   \n",
       "...                ...           ...                  ...   \n",
       "1802        amazon.com        amazon      avs-alexa-14-na   \n",
       "1803        amazon.com        amazon                 mlis   \n",
       "1804  amcs-tachyon.com  amcs-tachyon                 prod   \n",
       "1805        amazon.com        amazon                 mlis   \n",
       "1806        amazon.com        amazon      avs-alexa-14-na   \n",
       "\n",
       "                   Organization               Purpose           Party  \n",
       "0     Amazon Technologies, Inc.  Advertising/Tracking  Platform-based  \n",
       "1     Amazon Technologies, Inc.            Functional  Platform-based  \n",
       "2     Amazon Technologies, Inc.            Functional  Platform-based  \n",
       "3     Amazon Technologies, Inc.            Functional  Platform-based  \n",
       "4     Amazon Technologies, Inc.            Functional  Platform-based  \n",
       "...                         ...                   ...             ...  \n",
       "1802  Amazon Technologies, Inc.            Functional  Platform-based  \n",
       "1803  Amazon Technologies, Inc.            Functional  Platform-based  \n",
       "1804  Amazon Technologies, Inc.            Functional  Platform-based  \n",
       "1805  Amazon Technologies, Inc.            Functional  Platform-based  \n",
       "1806  Amazon Technologies, Inc.            Functional  Platform-based  \n",
       "\n",
       "[1807 rows x 10 columns]"
      ]
     },
     "execution_count": 99,
     "metadata": {},
     "output_type": "execute_result"
    }
   ],
   "source": [
    "df"
   ]
  },
  {
   "cell_type": "code",
   "execution_count": 112,
   "id": "bf131a06",
   "metadata": {},
   "outputs": [
    {
     "name": "stdout",
     "output_type": "stream",
     "text": [
      "28 326 31\n"
     ]
    }
   ],
   "source": [
    "persisten_id_collectors = set(utilities.read_file_newline_stripped(\"/home/c2/alexa/source/voice-assistant-central/NetworkAnalysis/data/polycheck/collect_persistent_ids\"))\n",
    "thirdparty_contactors = set(df[df['Party'] == 'Third-Party']['skill_name'].drop_duplicates())\n",
    "common = persisten_id_collectors.intersection(thirdparty_contactors)\n",
    "print(len(common), len(persisten_id_collectors), len(thirdparty_contactors))"
   ]
  },
  {
   "cell_type": "code",
   "execution_count": 110,
   "id": "ae2cba84",
   "metadata": {},
   "outputs": [
    {
     "data": {
      "text/plain": [
       "{'B01FOJ3TWC',\n",
       " 'B01JXP09PI',\n",
       " 'B01JZNXEEG',\n",
       " 'B01N9Y4I1E',\n",
       " 'B06W2M1SVN',\n",
       " 'B06XD6KGS2',\n",
       " 'B072N6BNB1',\n",
       " 'B075TRB4V5',\n",
       " 'B075WG2K56',\n",
       " 'B0763CSFD9',\n",
       " 'B078NM7RTG',\n",
       " 'B07BV9NQYT',\n",
       " 'B07CB3ZN6N',\n",
       " 'B07CV54PM2',\n",
       " 'B07DL1KQX7',\n",
       " 'B07DVPQH2F',\n",
       " 'B07DX3TDHD',\n",
       " 'B07FF2QGXW',\n",
       " 'B07G4B6WL4',\n",
       " 'B07H2WMDTV',\n",
       " 'B07HBNT5QM',\n",
       " 'B07JYYHV5L',\n",
       " 'B07JZ775V3',\n",
       " 'B07K5D4WXX',\n",
       " 'B07KYS1Y1X',\n",
       " 'B07PZK2XPG',\n",
       " 'B07SNP2BJM',\n",
       " 'B07YCKFCCF',\n",
       " 'B07YDRSPM3',\n",
       " 'B0813B6826',\n",
       " 'B08242JWBQ'}"
      ]
     },
     "execution_count": 110,
     "metadata": {},
     "output_type": "execute_result"
    }
   ],
   "source": [
    "thirdparty_contactors"
   ]
  },
  {
   "cell_type": "code",
   "execution_count": 101,
   "id": "cee2f663",
   "metadata": {},
   "outputs": [
    {
     "data": {
      "text/html": [
       "<div>\n",
       "<style scoped>\n",
       "    .dataframe tbody tr th:only-of-type {\n",
       "        vertical-align: middle;\n",
       "    }\n",
       "\n",
       "    .dataframe tbody tr th {\n",
       "        vertical-align: top;\n",
       "    }\n",
       "\n",
       "    .dataframe thead th {\n",
       "        text-align: right;\n",
       "    }\n",
       "</style>\n",
       "<table border=\"1\" class=\"dataframe\">\n",
       "  <thead>\n",
       "    <tr style=\"text-align: right;\">\n",
       "      <th></th>\n",
       "      <th>Unnamed: 0</th>\n",
       "      <th>Skill Categories</th>\n",
       "      <th>skill_name</th>\n",
       "      <th>FQDN</th>\n",
       "      <th>Domain Name</th>\n",
       "      <th>SLD</th>\n",
       "      <th>subdomain</th>\n",
       "      <th>Organization</th>\n",
       "      <th>Purpose</th>\n",
       "      <th>Party</th>\n",
       "    </tr>\n",
       "  </thead>\n",
       "  <tbody>\n",
       "    <tr>\n",
       "      <th>0</th>\n",
       "      <td>0</td>\n",
       "      <td>Fashion Style</td>\n",
       "      <td>B083PY1PGZ</td>\n",
       "      <td>device-metrics-us-2.amazon.com</td>\n",
       "      <td>amazon.com</td>\n",
       "      <td>amazon</td>\n",
       "      <td>device-metrics-us-2</td>\n",
       "      <td>Amazon Technologies, Inc.</td>\n",
       "      <td>Advertising/Tracking</td>\n",
       "      <td>Platform-based</td>\n",
       "    </tr>\n",
       "    <tr>\n",
       "      <th>1</th>\n",
       "      <td>136</td>\n",
       "      <td>Fashion Style</td>\n",
       "      <td>B083PY1PGZ</td>\n",
       "      <td>avs-alexa-14-na.amazon.com</td>\n",
       "      <td>amazon.com</td>\n",
       "      <td>amazon</td>\n",
       "      <td>avs-alexa-14-na</td>\n",
       "      <td>Amazon Technologies, Inc.</td>\n",
       "      <td>Functional</td>\n",
       "      <td>Platform-based</td>\n",
       "    </tr>\n",
       "    <tr>\n",
       "      <th>2</th>\n",
       "      <td>438</td>\n",
       "      <td>Fashion Style</td>\n",
       "      <td>B083PY1PGZ</td>\n",
       "      <td>mlis.amazon.com</td>\n",
       "      <td>amazon.com</td>\n",
       "      <td>amazon</td>\n",
       "      <td>mlis</td>\n",
       "      <td>Amazon Technologies, Inc.</td>\n",
       "      <td>Functional</td>\n",
       "      <td>Platform-based</td>\n",
       "    </tr>\n",
       "    <tr>\n",
       "      <th>3</th>\n",
       "      <td>2357</td>\n",
       "      <td>Fashion Style</td>\n",
       "      <td>B083PY1PGZ</td>\n",
       "      <td>prod.amcs-tachyon.com</td>\n",
       "      <td>amcs-tachyon.com</td>\n",
       "      <td>amcs-tachyon</td>\n",
       "      <td>prod</td>\n",
       "      <td>Amazon Technologies, Inc.</td>\n",
       "      <td>Functional</td>\n",
       "      <td>Platform-based</td>\n",
       "    </tr>\n",
       "    <tr>\n",
       "      <th>4</th>\n",
       "      <td>3757</td>\n",
       "      <td>Fashion Style</td>\n",
       "      <td>B083PY1PGZ</td>\n",
       "      <td>d3p8zr0ffa9t17.cloudfront.net</td>\n",
       "      <td>cloudfront.net</td>\n",
       "      <td>cloudfront</td>\n",
       "      <td>d3p8zr0ffa9t17</td>\n",
       "      <td>Amazon Technologies, Inc.</td>\n",
       "      <td>Functional</td>\n",
       "      <td>Platform-based</td>\n",
       "    </tr>\n",
       "    <tr>\n",
       "      <th>...</th>\n",
       "      <td>...</td>\n",
       "      <td>...</td>\n",
       "      <td>...</td>\n",
       "      <td>...</td>\n",
       "      <td>...</td>\n",
       "      <td>...</td>\n",
       "      <td>...</td>\n",
       "      <td>...</td>\n",
       "      <td>...</td>\n",
       "      <td>...</td>\n",
       "    </tr>\n",
       "    <tr>\n",
       "      <th>1802</th>\n",
       "      <td>964263</td>\n",
       "      <td>Health</td>\n",
       "      <td>B07QN179C5</td>\n",
       "      <td>avs-alexa-14-na.amazon.com</td>\n",
       "      <td>amazon.com</td>\n",
       "      <td>amazon</td>\n",
       "      <td>avs-alexa-14-na</td>\n",
       "      <td>Amazon Technologies, Inc.</td>\n",
       "      <td>Functional</td>\n",
       "      <td>Platform-based</td>\n",
       "    </tr>\n",
       "    <tr>\n",
       "      <th>1803</th>\n",
       "      <td>964605</td>\n",
       "      <td>Health</td>\n",
       "      <td>B07QN179C5</td>\n",
       "      <td>mlis.amazon.com</td>\n",
       "      <td>amazon.com</td>\n",
       "      <td>amazon</td>\n",
       "      <td>mlis</td>\n",
       "      <td>Amazon Technologies, Inc.</td>\n",
       "      <td>Functional</td>\n",
       "      <td>Platform-based</td>\n",
       "    </tr>\n",
       "    <tr>\n",
       "      <th>1804</th>\n",
       "      <td>964654</td>\n",
       "      <td>Health</td>\n",
       "      <td>B07PJWHYXM</td>\n",
       "      <td>prod.amcs-tachyon.com</td>\n",
       "      <td>amcs-tachyon.com</td>\n",
       "      <td>amcs-tachyon</td>\n",
       "      <td>prod</td>\n",
       "      <td>Amazon Technologies, Inc.</td>\n",
       "      <td>Functional</td>\n",
       "      <td>Platform-based</td>\n",
       "    </tr>\n",
       "    <tr>\n",
       "      <th>1805</th>\n",
       "      <td>964656</td>\n",
       "      <td>Health</td>\n",
       "      <td>B07PJWHYXM</td>\n",
       "      <td>mlis.amazon.com</td>\n",
       "      <td>amazon.com</td>\n",
       "      <td>amazon</td>\n",
       "      <td>mlis</td>\n",
       "      <td>Amazon Technologies, Inc.</td>\n",
       "      <td>Functional</td>\n",
       "      <td>Platform-based</td>\n",
       "    </tr>\n",
       "    <tr>\n",
       "      <th>1806</th>\n",
       "      <td>964706</td>\n",
       "      <td>Health</td>\n",
       "      <td>B07PJWHYXM</td>\n",
       "      <td>avs-alexa-14-na.amazon.com</td>\n",
       "      <td>amazon.com</td>\n",
       "      <td>amazon</td>\n",
       "      <td>avs-alexa-14-na</td>\n",
       "      <td>Amazon Technologies, Inc.</td>\n",
       "      <td>Functional</td>\n",
       "      <td>Platform-based</td>\n",
       "    </tr>\n",
       "  </tbody>\n",
       "</table>\n",
       "<p>1807 rows × 10 columns</p>\n",
       "</div>"
      ],
      "text/plain": [
       "      Unnamed: 0 Skill Categories  skill_name                            FQDN  \\\n",
       "0              0    Fashion Style  B083PY1PGZ  device-metrics-us-2.amazon.com   \n",
       "1            136    Fashion Style  B083PY1PGZ      avs-alexa-14-na.amazon.com   \n",
       "2            438    Fashion Style  B083PY1PGZ                 mlis.amazon.com   \n",
       "3           2357    Fashion Style  B083PY1PGZ           prod.amcs-tachyon.com   \n",
       "4           3757    Fashion Style  B083PY1PGZ   d3p8zr0ffa9t17.cloudfront.net   \n",
       "...          ...              ...         ...                             ...   \n",
       "1802      964263           Health  B07QN179C5      avs-alexa-14-na.amazon.com   \n",
       "1803      964605           Health  B07QN179C5                 mlis.amazon.com   \n",
       "1804      964654           Health  B07PJWHYXM           prod.amcs-tachyon.com   \n",
       "1805      964656           Health  B07PJWHYXM                 mlis.amazon.com   \n",
       "1806      964706           Health  B07PJWHYXM      avs-alexa-14-na.amazon.com   \n",
       "\n",
       "           Domain Name           SLD            subdomain  \\\n",
       "0           amazon.com        amazon  device-metrics-us-2   \n",
       "1           amazon.com        amazon      avs-alexa-14-na   \n",
       "2           amazon.com        amazon                 mlis   \n",
       "3     amcs-tachyon.com  amcs-tachyon                 prod   \n",
       "4       cloudfront.net    cloudfront       d3p8zr0ffa9t17   \n",
       "...                ...           ...                  ...   \n",
       "1802        amazon.com        amazon      avs-alexa-14-na   \n",
       "1803        amazon.com        amazon                 mlis   \n",
       "1804  amcs-tachyon.com  amcs-tachyon                 prod   \n",
       "1805        amazon.com        amazon                 mlis   \n",
       "1806        amazon.com        amazon      avs-alexa-14-na   \n",
       "\n",
       "                   Organization               Purpose           Party  \n",
       "0     Amazon Technologies, Inc.  Advertising/Tracking  Platform-based  \n",
       "1     Amazon Technologies, Inc.            Functional  Platform-based  \n",
       "2     Amazon Technologies, Inc.            Functional  Platform-based  \n",
       "3     Amazon Technologies, Inc.            Functional  Platform-based  \n",
       "4     Amazon Technologies, Inc.            Functional  Platform-based  \n",
       "...                         ...                   ...             ...  \n",
       "1802  Amazon Technologies, Inc.            Functional  Platform-based  \n",
       "1803  Amazon Technologies, Inc.            Functional  Platform-based  \n",
       "1804  Amazon Technologies, Inc.            Functional  Platform-based  \n",
       "1805  Amazon Technologies, Inc.            Functional  Platform-based  \n",
       "1806  Amazon Technologies, Inc.            Functional  Platform-based  \n",
       "\n",
       "[1807 rows x 10 columns]"
      ]
     },
     "execution_count": 101,
     "metadata": {},
     "output_type": "execute_result"
    }
   ],
   "source": [
    "df"
   ]
  }
 ],
 "metadata": {
  "kernelspec": {
   "display_name": "Python 3 (ipykernel)",
   "language": "python",
   "name": "python3"
  },
  "language_info": {
   "codemirror_mode": {
    "name": "ipython",
    "version": 3
   },
   "file_extension": ".py",
   "mimetype": "text/x-python",
   "name": "python",
   "nbconvert_exporter": "python",
   "pygments_lexer": "ipython3",
   "version": "3.9.7"
  }
 },
 "nbformat": 4,
 "nbformat_minor": 5
}
