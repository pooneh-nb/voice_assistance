{
 "cells": [
  {
   "cell_type": "code",
   "execution_count": 71,
   "id": "a209b749",
   "metadata": {},
   "outputs": [],
   "source": [
    "import utilities\n",
    "import os\n",
    "import json\n",
    "import statistics\n",
    "from prettytable import PrettyTable\n",
    "from prettytable import ALL as ALL"
   ]
  },
  {
   "cell_type": "code",
   "execution_count": 4,
   "id": "b5985be7",
   "metadata": {},
   "outputs": [],
   "source": [
    "DATA_DIR = '/Users/umariqbal/Documents/voice-assistant-central/data' \n",
    "\n",
    "CONTROL_PATH = os.path.join(DATA_DIR, 'control_persona/website_bids/')\n",
    "TEST_PATH = os.path.join(DATA_DIR, 'healthfitness_persona/website_bids/')"
   ]
  },
  {
   "cell_type": "code",
   "execution_count": 57,
   "id": "a88ee3c6",
   "metadata": {},
   "outputs": [],
   "source": [
    "PERSONA = 'Health-Fitness'"
   ]
  },
  {
   "cell_type": "markdown",
   "id": "5a2c0518",
   "metadata": {},
   "source": [
    "### Reading bids for personas"
   ]
  },
  {
   "cell_type": "code",
   "execution_count": 9,
   "id": "de7a0123",
   "metadata": {},
   "outputs": [],
   "source": [
    "control_bid_files = utilities.get_files_in_a_directory(CONTROL_PATH)\n",
    "test_bid_files = utilities.get_files_in_a_directory(TEST_PATH)"
   ]
  },
  {
   "cell_type": "code",
   "execution_count": 83,
   "id": "835251b4",
   "metadata": {},
   "outputs": [],
   "source": [
    "def get_websites_with_bids(bid_files):\n",
    "    websites_with_bids = []\n",
    "    for bid_file in bid_files:\n",
    "        websites_with_bids.append(bid_file.rsplit('/', 1)[1].rsplit('_', 1)[1])\n",
    "\n",
    "    return websites_with_bids\n",
    "\n",
    "\n",
    "def return_bid_cpms(bid_files):\n",
    "    bid_cpms = []\n",
    "    for bid_file in bid_files:\n",
    "        all_bids = utilities.read_file(bid_file)\n",
    "\n",
    "        for bid in all_bids:\n",
    "            bid_json = json.loads(bid)\n",
    "            bid_cpms.append(bid_json['cpm'])\n",
    "    \n",
    "    return bid_cpms\n",
    "\n",
    "\n",
    "def return_bid_cpms_for_websites(bid_files, websites):\n",
    "    bid_cpms = []\n",
    "    for bid_file in bid_files:\n",
    "\n",
    "        bid_website = bid_file.rsplit('/', 1)[1].rsplit('_', 1)[1]\n",
    "        if bid_website not in websites:\n",
    "            continue\n",
    "            \n",
    "        all_bids = utilities.read_file(bid_file)\n",
    "\n",
    "        for bid in all_bids:\n",
    "            bid_json = json.loads(bid)\n",
    "            bid_cpms.append(bid_json['cpm'])\n",
    "    \n",
    "    return bid_cpms\n",
    "\n",
    "\n",
    "def return_median_cpms(bid_files):\n",
    "    bid_cpms = []\n",
    "    for bid_file in bid_files:\n",
    "        all_bids = utilities.read_file(bid_file)\n",
    "        \n",
    "        current_bid_cpms = []\n",
    "        for bid in all_bids:\n",
    "            bid_json = json.loads(bid)\n",
    "            current_bid_cpms.append(bid_json['cpm'])\n",
    "            \n",
    "        bid_cpms.append(statistics.median(current_bid_cpms))\n",
    "    \n",
    "    return bid_cpms\n",
    "\n",
    "\n",
    "def return_median_cpms(bid_files, websites):\n",
    "    bid_cpms = []\n",
    "    for bid_file in bid_files:\n",
    "        all_bids = utilities.read_file(bid_file)\n",
    "        \n",
    "        bid_website = bid_file.rsplit('/', 1)[1].rsplit('_', 1)[1]\n",
    "        if bid_website not in websites:\n",
    "            continue\n",
    "            \n",
    "        current_bid_cpms = []\n",
    "        for bid in all_bids:\n",
    "            bid_json = json.loads(bid)\n",
    "            current_bid_cpms.append(bid_json['cpm'])\n",
    "            \n",
    "        bid_cpms.append(statistics.median(current_bid_cpms))\n",
    "    \n",
    "    return bid_cpms"
   ]
  },
  {
   "cell_type": "code",
   "execution_count": 80,
   "id": "f10308ba",
   "metadata": {},
   "outputs": [],
   "source": [
    "def print_bid_statistics(control_cpms, test_cpms, persona, \n",
    "                         control_websites, test_websites, common_websites, count_limit = 20):\n",
    "    control_median = statistics.median(control_cpms)\n",
    "    test_median = statistics.median(test_cpms)\n",
    "    \n",
    "    control_mean = \"{0:0.3f}\".format(statistics.mean(control_cpms))\n",
    "    test_mean = \"{0:0.3f}\".format(statistics.mean(test_cpms))\n",
    "    \n",
    "    control_min = min(control_cpms)\n",
    "    control_max = \"{0:0.3f}\".format(max(control_cpms))\n",
    "    \n",
    "    test_min = min(test_cpms)\n",
    "    test_max = \"{0:0.3f}\".format(max(test_cpms))\n",
    "    \n",
    "    control_total_bids = len(control_cpms)\n",
    "    test_total_bids = len(test_cpms)\n",
    "    \n",
    "    control_total_websites = len(control_websites)\n",
    "    test_total_websites = len(test_websites)\n",
    "    \n",
    "    common_websites_len = len(common_websites)\n",
    "    \n",
    "    table = PrettyTable(['Measure', 'Control', persona], hrules=ALL)\n",
    "    \n",
    "    table.add_row(['# of websites', control_total_websites, test_total_websites])\n",
    "    table.add_row(['# of bids', control_total_bids, test_total_bids])\n",
    "    table.add_row(['Common websites', common_websites_len, common_websites_len])\n",
    "    table.add_row(['Normal/Forced', common_websites_len, common_websites_len])\n",
    "    \n",
    "    table.add_row(['Median', control_median, test_median])\n",
    "    table.add_row(['Mean', control_mean, test_mean])\n",
    "    table.add_row(['Min', control_min, test_min])\n",
    "    table.add_row(['Max', control_max, test_max])\n",
    "    \n",
    "    print(table)"
   ]
  },
  {
   "cell_type": "markdown",
   "id": "0cdd6965",
   "metadata": {},
   "source": [
    "### Get websites with bids"
   ]
  },
  {
   "cell_type": "code",
   "execution_count": null,
   "id": "0687dd67",
   "metadata": {},
   "outputs": [],
   "source": [
    "control_websites = get_websites_with_bids(control_bid_files)\n",
    "test_websites = get_websites_with_bids(test_bid_files)\n",
    "\n",
    "common_websites = set(control_websites).intersection(set(test_websites))"
   ]
  },
  {
   "cell_type": "markdown",
   "id": "32b2af13",
   "metadata": {},
   "source": [
    "### Consider all websites and all bids"
   ]
  },
  {
   "cell_type": "code",
   "execution_count": 55,
   "id": "698c0c99",
   "metadata": {},
   "outputs": [],
   "source": [
    "control_cpms = return_bid_cpms(control_bid_files)\n",
    "test_cpms = return_bid_cpms(test_bid_files)"
   ]
  },
  {
   "cell_type": "code",
   "execution_count": 74,
   "id": "8a331bec",
   "metadata": {},
   "outputs": [
    {
     "name": "stdout",
     "output_type": "stream",
     "text": [
      "+-----------------+---------+----------------+\n",
      "|     Measure     | Control | Health-Fitness |\n",
      "+-----------------+---------+----------------+\n",
      "|  # of websites  |    15   |       26       |\n",
      "+-----------------+---------+----------------+\n",
      "|    # of bids    |    29   |       59       |\n",
      "+-----------------+---------+----------------+\n",
      "| Common websites |    13   |       13       |\n",
      "+-----------------+---------+----------------+\n",
      "|      Median     |  0.102  |      0.08      |\n",
      "+-----------------+---------+----------------+\n",
      "|       Mean      |  0.284  |     0.270      |\n",
      "+-----------------+---------+----------------+\n",
      "|       Min       |    0    |       0        |\n",
      "+-----------------+---------+----------------+\n",
      "|       Max       |  1.337  |     4.560      |\n",
      "+-----------------+---------+----------------+\n"
     ]
    }
   ],
   "source": [
    "print_bid_statistics(control_cpms, test_cpms, PERSONA, control_websites, test_websites, common_websites)"
   ]
  },
  {
   "cell_type": "markdown",
   "id": "fb10aa18",
   "metadata": {},
   "source": [
    "### Consider bids on websites where bids returned for both personas"
   ]
  },
  {
   "cell_type": "code",
   "execution_count": 75,
   "id": "1e44c1e4",
   "metadata": {},
   "outputs": [],
   "source": [
    "common_control_cpms = return_bid_cpms_for_websites(control_bid_files, common_websites)\n",
    "common_test_cpms = return_bid_cpms_for_websites(test_bid_files, common_websites)"
   ]
  },
  {
   "cell_type": "code",
   "execution_count": 76,
   "id": "dbe4a5a1",
   "metadata": {},
   "outputs": [
    {
     "name": "stdout",
     "output_type": "stream",
     "text": [
      "+-----------------+---------+----------------+\n",
      "|     Measure     | Control | Health-Fitness |\n",
      "+-----------------+---------+----------------+\n",
      "|  # of websites  |    15   |       26       |\n",
      "+-----------------+---------+----------------+\n",
      "|    # of bids    |    27   |       19       |\n",
      "+-----------------+---------+----------------+\n",
      "| Common websites |    13   |       13       |\n",
      "+-----------------+---------+----------------+\n",
      "|      Median     |  0.102  |     0.164      |\n",
      "+-----------------+---------+----------------+\n",
      "|       Mean      |  0.300  |     0.431      |\n",
      "+-----------------+---------+----------------+\n",
      "|       Min       |    0    |       0        |\n",
      "+-----------------+---------+----------------+\n",
      "|       Max       |  1.337  |     1.456      |\n",
      "+-----------------+---------+----------------+\n"
     ]
    }
   ],
   "source": [
    "print_bid_statistics(common_control_cpms, common_test_cpms, PERSONA, control_websites, test_websites, common_websites)"
   ]
  },
  {
   "cell_type": "markdown",
   "id": "57d0b057",
   "metadata": {},
   "source": [
    "### Consider medain bids on websites "
   ]
  },
  {
   "cell_type": "code",
   "execution_count": 81,
   "id": "2eb01727",
   "metadata": {},
   "outputs": [],
   "source": [
    "median_control_cpms = return_median_cpms(control_bid_files)\n",
    "median_test_cpms = return_median_cpms(test_bid_files)"
   ]
  },
  {
   "cell_type": "code",
   "execution_count": 82,
   "id": "0fb8322d",
   "metadata": {},
   "outputs": [
    {
     "name": "stdout",
     "output_type": "stream",
     "text": [
      "+-----------------+----------+----------------+\n",
      "|     Measure     | Control  | Health-Fitness |\n",
      "+-----------------+----------+----------------+\n",
      "|  # of websites  |    15    |       26       |\n",
      "+-----------------+----------+----------------+\n",
      "|    # of bids    |    15    |       26       |\n",
      "+-----------------+----------+----------------+\n",
      "| Common websites |    13    |       13       |\n",
      "+-----------------+----------+----------------+\n",
      "|  Normal/Forced  |    13    |       13       |\n",
      "+-----------------+----------+----------------+\n",
      "|      Median     | 0.122709 |     0.081      |\n",
      "+-----------------+----------+----------------+\n",
      "|       Mean      |  0.324   |     0.402      |\n",
      "+-----------------+----------+----------------+\n",
      "|       Min       |   0.0    |       0        |\n",
      "+-----------------+----------+----------------+\n",
      "|       Max       |  1.337   |     4.560      |\n",
      "+-----------------+----------+----------------+\n"
     ]
    }
   ],
   "source": [
    "print_bid_statistics(median_control_cpms, median_test_cpms, PERSONA, control_websites, test_websites, common_websites)"
   ]
  },
  {
   "cell_type": "markdown",
   "id": "40f989d4",
   "metadata": {},
   "source": [
    "### Consider medain bids on websites where bids returned for both personas"
   ]
  },
  {
   "cell_type": "code",
   "execution_count": 84,
   "id": "5c4ded5e",
   "metadata": {},
   "outputs": [],
   "source": [
    "common_median_control_cpms = return_median_cpms(control_bid_files, common_websites)\n",
    "common_median_test_cpms = return_median_cpms(test_bid_files, common_websites)"
   ]
  },
  {
   "cell_type": "code",
   "execution_count": 85,
   "id": "f3d79657",
   "metadata": {},
   "outputs": [
    {
     "name": "stdout",
     "output_type": "stream",
     "text": [
      "+-----------------+---------+----------------+\n",
      "|     Measure     | Control | Health-Fitness |\n",
      "+-----------------+---------+----------------+\n",
      "|  # of websites  |    15   |       26       |\n",
      "+-----------------+---------+----------------+\n",
      "|    # of bids    |    13   |       13       |\n",
      "+-----------------+---------+----------------+\n",
      "| Common websites |    13   |       13       |\n",
      "+-----------------+---------+----------------+\n",
      "|  Normal/Forced  |    13   |       13       |\n",
      "+-----------------+---------+----------------+\n",
      "|      Median     |  0.1527 |      0.1       |\n",
      "+-----------------+---------+----------------+\n",
      "|       Mean      |  0.364  |     0.385      |\n",
      "+-----------------+---------+----------------+\n",
      "|       Min       |   0.0   |       0        |\n",
      "+-----------------+---------+----------------+\n",
      "|       Max       |  1.337  |     1.456      |\n",
      "+-----------------+---------+----------------+\n"
     ]
    }
   ],
   "source": [
    "print_bid_statistics(common_median_control_cpms, common_median_test_cpms, PERSONA, \n",
    "                     control_websites, test_websites, common_websites)"
   ]
  },
  {
   "cell_type": "code",
   "execution_count": 78,
   "id": "a9024d19",
   "metadata": {},
   "outputs": [
    {
     "data": {
      "text/plain": [
       "{'cnet.com',\n",
       " 'cnn.com',\n",
       " 'digg.com',\n",
       " 'espn.com',\n",
       " 'grid.id',\n",
       " 'howstuffworks.com',\n",
       " 'imgur.com',\n",
       " 'newyorker.com',\n",
       " 'nypost.com',\n",
       " 'reverso.net',\n",
       " 'speedtest.net',\n",
       " 'theguardian.com',\n",
       " 'timeanddate.com'}"
      ]
     },
     "execution_count": 78,
     "metadata": {},
     "output_type": "execute_result"
    }
   ],
   "source": [
    "common_websites"
   ]
  },
  {
   "cell_type": "code",
   "execution_count": null,
   "id": "359e8bb5",
   "metadata": {},
   "outputs": [],
   "source": [
    "for bid_file in test_bid_files:\n",
    "    all_bids = utilities.read_file(bid_file)\n",
    "\n",
    "    for bid in all_bids:\n",
    "        bid_json = json.loads(bid)\n",
    "        bid_cpms.append(bid_json['cpm'])"
   ]
  }
 ],
 "metadata": {
  "kernelspec": {
   "display_name": "Python 3 (ipykernel)",
   "language": "python",
   "name": "python3"
  },
  "language_info": {
   "codemirror_mode": {
    "name": "ipython",
    "version": 3
   },
   "file_extension": ".py",
   "mimetype": "text/x-python",
   "name": "python",
   "nbconvert_exporter": "python",
   "pygments_lexer": "ipython3",
   "version": "3.9.5"
  }
 },
 "nbformat": 4,
 "nbformat_minor": 5
}
