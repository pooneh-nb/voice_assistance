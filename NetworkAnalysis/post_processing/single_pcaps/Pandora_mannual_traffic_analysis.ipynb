{
 "cells": [
  {
   "cell_type": "markdown",
   "id": "56bfb391",
   "metadata": {},
   "source": [
    "## Process of analysing each PCAP file\n",
    "1. Load the PCAP file \n",
    "2. Convert it to JSON\n",
    "3. Extract dns packets\n",
    "4. Try to find IPs for which we don't have their endpoint names\n",
    "5. Create a dictionary of {\"fqdn\": {\"domain_name:\"\", \"subdomain\":\"\", \"organization\":\"\", \"ATSes\":\"\", \"Party\":\"\"}}\n",
    "6. Find organizations\n",
    "    6.1 using DDG's emtity list\n",
    "    6.2 mannualy look at WHOIS and crunchbaxe.com\n",
    "7. Find ATSes\n",
    "8. Find Parties\n",
    "9. Create large dataframe for each packet"
   ]
  },
  {
   "cell_type": "code",
   "execution_count": 1,
   "id": "seventh-issue",
   "metadata": {},
   "outputs": [],
   "source": [
    "import utilities\n",
    "from subprocess import call\n",
    "from subprocess import check_call\n",
    "import os, sys\n",
    "import tldextract\n",
    "import pandas as pd"
   ]
  },
  {
   "cell_type": "markdown",
   "id": "sensitive-council",
   "metadata": {},
   "source": [
    "## 1. load traffic"
   ]
  },
  {
   "cell_type": "code",
   "execution_count": 7,
   "id": "welcome-apartment",
   "metadata": {},
   "outputs": [],
   "source": [
    "base_out = \"/home/c2/alexa/source/voice-assistant-central/NetworkAnalysis/post_processing/single_pcaps\"\n",
    "pcap = os.path.join(base_out, \"data/pandora/pandora2.pcap\")"
   ]
  },
  {
   "cell_type": "markdown",
   "id": "verbal-latex",
   "metadata": {},
   "source": [
    "## 2. convert pcap to json"
   ]
  },
  {
   "cell_type": "code",
   "execution_count": 8,
   "id": "immune-property",
   "metadata": {},
   "outputs": [],
   "source": [
    "jsonFile = pcap + \"-ENC-out.json\""
   ]
  },
  {
   "cell_type": "code",
   "execution_count": 9,
   "id": "pleased-romance",
   "metadata": {},
   "outputs": [],
   "source": [
    "cmd = [\"tshark\",\n",
    "           \"-o\", \"tcp.analyze_sequence_numbers:TRUE\",\n",
    "           \"-o\", \"tcp.desegment_tcp_streams:TRUE\",\n",
    "           \"-o\", \"http.desegment_body:TRUE\",\n",
    "           \"-r\", pcap, \"-T\", \"json\"]\n",
    "\n",
    "with open(jsonFile, \"wb\") as jf:\n",
    "    check_call(cmd, stdout=jf)"
   ]
  },
  {
   "cell_type": "markdown",
   "id": "raising-respondent",
   "metadata": {},
   "source": [
    "## 3. DNS Resolutions"
   ]
  },
  {
   "cell_type": "code",
   "execution_count": 11,
   "id": "small-standard",
   "metadata": {},
   "outputs": [],
   "source": [
    "dns_resolutions = {}\n",
    "pcap_name = pcap.split('/')[-1].split('.')[0]\n",
    "\n",
    "\n",
    "network_json_dir = os.path.join(base_out, \"data/pandora\", pcap_name+\".pcap-ENC-out.json\")\n",
    "network_json = utilities.read_json(network_json_dir)\n",
    "\n",
    "for i in range(len(network_json)):\n",
    "    if network_json[i][\"_source\"][\"layers\"][\"frame\"][\"frame.protocols\"] == 'eth:ethertype:ip:udp:dns':\n",
    "        answers_key = []\n",
    "        if \"Answers\" in network_json[i][\"_source\"][\"layers\"][\"dns\"].keys():\n",
    "            answers_key  = network_json[i][\"_source\"][\"layers\"][\"dns\"][\"Answers\"].keys()\n",
    "            for key in answers_key:\n",
    "                if \"CNAME\" in key:\n",
    "                    #print(\"CNAME\")\n",
    "                    continue\n",
    "                try:    \n",
    "                    dns_a = network_json[i][\"_source\"][\"layers\"][\"dns\"][\"Answers\"][key][\"dns.a\"]\n",
    "                    dns_name = network_json[i][\"_source\"][\"layers\"][\"dns\"][\"Answers\"][key][\"dns.resp.name\"]\n",
    "                    dns_resolutions[dns_a] = dns_name\n",
    "                except:\n",
    "                    pass"
   ]
  },
  {
   "cell_type": "code",
   "execution_count": 12,
   "id": "interim-anime",
   "metadata": {},
   "outputs": [
    {
     "data": {
      "text/plain": [
       "{'52.94.240.157': 'bob-dispatch-prod-na.amazon.com',\n",
       " '18.215.2.115': 'fireoscaptiveportal.com',\n",
       " '54.197.100.100': 'fireoscaptiveportal.com',\n",
       " '3.218.65.123': 'fireoscaptiveportal.com',\n",
       " '34.200.157.175': 'fireoscaptiveportal.com',\n",
       " '54.204.135.149': 'fireoscaptiveportal.com',\n",
       " '54.88.240.89': 'fireoscaptiveportal.com',\n",
       " '54.161.64.53': 'fireoscaptiveportal.com',\n",
       " '18.232.191.54': 'fireoscaptiveportal.com',\n",
       " '13.226.255.234': 'd1gsg05rq1vjdw.cloudfront.net',\n",
       " '52.94.237.71': 'dss-na.amazon.com',\n",
       " '52.207.128.183': 'acsechocaptiveportal.com',\n",
       " '54.86.95.199': 'acsechocaptiveportal.com',\n",
       " '34.235.29.94': 'acsechocaptiveportal.com',\n",
       " '44.193.242.252': 'acsechocaptiveportal.com',\n",
       " '34.196.183.13': 'acsechocaptiveportal.com',\n",
       " '3.215.62.147': 'acsechocaptiveportal.com',\n",
       " '52.203.151.208': 'ntp-g7g.amazon.com',\n",
       " '13.226.219.38': 'ffs-provisioner-config.amazon-dss.com',\n",
       " '13.226.219.50': 'ffs-provisioner-config.amazon-dss.com',\n",
       " '13.226.219.69': 'ffs-provisioner-config.amazon-dss.com',\n",
       " '13.226.219.126': 'ffs-provisioner-config.amazon-dss.com',\n",
       " '52.46.143.123': 'api.amazon.com',\n",
       " '54.239.27.116': 'dcape-na.amazon.com',\n",
       " '52.85.205.53': 'd3p8zr0ffa9t17.cloudfront.net',\n",
       " '52.85.205.117': 'd3p8zr0ffa9t17.cloudfront.net',\n",
       " '52.85.205.204': 'd3p8zr0ffa9t17.cloudfront.net',\n",
       " '52.85.205.137': 'd3p8zr0ffa9t17.cloudfront.net',\n",
       " '52.46.141.207': 'msh.amazon.com',\n",
       " '34.205.11.151': 'prod.amcs-tachyon.com',\n",
       " '52.3.91.169': 'prod.amcs-tachyon.com',\n",
       " '3.223.242.2': 'prod.amcs-tachyon.com',\n",
       " '54.173.248.27': 'prod.amcs-tachyon.com',\n",
       " '3.223.159.240': 'prod.amcs-tachyon.com',\n",
       " '34.239.35.215': 'prod.amcs-tachyon.com',\n",
       " '3.226.2.38': 'prod.amcs-tachyon.com',\n",
       " '52.203.220.33': 'prod.amcs-tachyon.com',\n",
       " '54.83.1.28': 'prod.amcs-tachyon.com',\n",
       " '3.214.71.58': 'prod.amcs-tachyon.com',\n",
       " '3.208.206.229': 'prod.amcs-tachyon.com',\n",
       " '18.233.123.95': 'prod.amcs-tachyon.com',\n",
       " '54.225.170.130': 'prod.amcs-tachyon.com',\n",
       " '54.242.52.123': 'prod.amcs-tachyon.com',\n",
       " '54.235.87.162': 'prod.amcs-tachyon.com',\n",
       " '3.232.146.43': 'prod.amcs-tachyon.com',\n",
       " '3.225.36.244': 'ingestion.us-east-1.prod.arteries.alexa.a2z.com',\n",
       " '18.235.228.160': 'ingestion.us-east-1.prod.arteries.alexa.a2z.com',\n",
       " '34.200.164.136': 'ingestion.us-east-1.prod.arteries.alexa.a2z.com',\n",
       " '3.221.217.227': 'ingestion.us-east-1.prod.arteries.alexa.a2z.com',\n",
       " '54.84.197.105': 'ingestion.us-east-1.prod.arteries.alexa.a2z.com',\n",
       " '52.5.70.131': 'ingestion.us-east-1.prod.arteries.alexa.a2z.com',\n",
       " '52.85.205.214': 'dxz5jxhrrzigf.cloudfront.net',\n",
       " '52.85.205.162': 'dxz5jxhrrzigf.cloudfront.net',\n",
       " '52.85.205.205': 'dxz5jxhrrzigf.cloudfront.net',\n",
       " '52.85.205.85': 'dxz5jxhrrzigf.cloudfront.net',\n",
       " '52.94.224.149': 'dss-na.amazon.com',\n",
       " '34.117.13.189': 'cluster-web.meethue.com',\n",
       " '52.41.138.157': 'sxm.simplecastaudio.com',\n",
       " '54.70.147.68': 'sxm.simplecastaudio.com',\n",
       " '13.226.230.58': 'sxm-injected.simplecastaudio.com',\n",
       " '13.226.230.19': 'sxm-injected.simplecastaudio.com',\n",
       " '13.226.230.117': 'sxm-injected.simplecastaudio.com',\n",
       " '13.226.230.74': 'sxm-injected.simplecastaudio.com',\n",
       " '52.94.233.250': 'tinytts.amazon.com',\n",
       " '52.46.132.115': 'mlis.amazon.com',\n",
       " '209.54.180.2': 'msh.amazon.com',\n",
       " '54.230.23.175': 'd1gsg05rq1vjdw.cloudfront.net',\n",
       " '176.32.99.246': 'updates.amazon.com',\n",
       " '208.85.42.21': 'mediaserver-sv5-t1-1-v4v6.pandora.com',\n",
       " '13.226.233.74': 'd2of0gfv69hsgh.cloudfront.net',\n",
       " '13.226.233.37': 'd2of0gfv69hsgh.cloudfront.net',\n",
       " '13.226.233.109': 'd2of0gfv69hsgh.cloudfront.net',\n",
       " '13.226.233.102': 'd2of0gfv69hsgh.cloudfront.net',\n",
       " '52.46.136.81': 'mlis.amazon.com',\n",
       " '209.54.181.102': 'msh.amazon.com',\n",
       " '208.85.46.21': 't1-3.p-cdn.us',\n",
       " '208.85.46.22': 't1-3.p-cdn.us',\n",
       " '34.195.175.66': 'device-metrics-us-2.amazon.com',\n",
       " '54.164.163.115': 'device-metrics-us-2.amazon.com',\n",
       " '54.243.58.104': 'device-metrics-us-2.amazon.com',\n",
       " '13.226.220.22': 'd3p8zr0ffa9t17.cloudfront.net',\n",
       " '13.226.220.21': 'd3p8zr0ffa9t17.cloudfront.net',\n",
       " '13.226.220.184': 'd3p8zr0ffa9t17.cloudfront.net',\n",
       " '13.226.220.133': 'd3p8zr0ffa9t17.cloudfront.net',\n",
       " '54.239.31.237': 'mlis.amazon.com',\n",
       " '34.200.70.190': 'acsechocaptiveportal.com',\n",
       " '184.73.222.134': 'acsechocaptiveportal.com',\n",
       " '54.80.61.15': 'acsechocaptiveportal.com',\n",
       " '34.232.151.33': 'fireoscaptiveportal.com',\n",
       " '18.205.68.150': 'ntp-g7g.amazon.com'}"
      ]
     },
     "execution_count": 12,
     "metadata": {},
     "output_type": "execute_result"
    }
   ],
   "source": [
    "dns_resolutions"
   ]
  },
  {
   "cell_type": "markdown",
   "id": "fbfd2993",
   "metadata": {},
   "source": [
    "## 4. Find IPs for which dns map doesn't have corresponding name"
   ]
  },
  {
   "cell_type": "code",
   "execution_count": 13,
   "id": "f9637e00",
   "metadata": {},
   "outputs": [
    {
     "data": {
      "text/plain": [
       "{'0.0.0.0',\n",
       " '224.0.0.22',\n",
       " '224.0.0.251',\n",
       " '239.255.255.250',\n",
       " '52.94.227.146',\n",
       " '8.8.8.8'}"
      ]
     },
     "execution_count": 13,
     "metadata": {},
     "output_type": "execute_result"
    }
   ],
   "source": [
    "no_name_ip_list = set()\n",
    "for i in range(len(network_json)):\n",
    "        if 'ip' in network_json[i][\"_source\"][\"layers\"].keys():\n",
    "            ip_src = network_json[i][\"_source\"][\"layers\"]['ip']['ip.src']\n",
    "            ip_dst = network_json[i][\"_source\"][\"layers\"]['ip']['ip.dst']\n",
    "            \n",
    "            if not ip_src.startswith('10.42') and not ip_src.startswith('255.255.'):\n",
    "                if ip_src not in dns_resolutions:\n",
    "                    no_name_ip_list.add(ip_src)\n",
    "            \n",
    "            if not ip_dst.startswith('10.42') and not ip_dst.startswith('255.255.'):\n",
    "                if ip_dst not in dns_resolutions:\n",
    "                    no_name_ip_list.add(ip_dst)\n",
    "no_name_ip_list"
   ]
  },
  {
   "cell_type": "code",
   "execution_count": 14,
   "id": "415cf4bb",
   "metadata": {},
   "outputs": [],
   "source": [
    "dns_resolutions['52.94.227.146'] = \"dss-na.amazon.com\"\n",
    "utilities.write_json(os.path.join(base_out, \"data/dns_resolutions.json\"), dns_resolutions)"
   ]
  },
  {
   "cell_type": "markdown",
   "id": "e78b696f",
   "metadata": {},
   "source": [
    "## 5. Creat a dictionary for fqdns in dns "
   ]
  },
  {
   "cell_type": "code",
   "execution_count": 15,
   "id": "67a0c64f",
   "metadata": {},
   "outputs": [
    {
     "data": {
      "text/plain": [
       "{'bob-dispatch-prod-na.amazon.com': {'domain_name': 'amazon.com',\n",
       "  'SLD': 'amazon',\n",
       "  'subdomain': 'bob-dispatch-prod-na',\n",
       "  'organization': '',\n",
       "  'ATSes': '',\n",
       "  'Party': ''},\n",
       " 'fireoscaptiveportal.com': {'domain_name': 'fireoscaptiveportal.com',\n",
       "  'SLD': 'fireoscaptiveportal',\n",
       "  'subdomain': '',\n",
       "  'organization': '',\n",
       "  'ATSes': '',\n",
       "  'Party': ''},\n",
       " 'd1gsg05rq1vjdw.cloudfront.net': {'domain_name': 'cloudfront.net',\n",
       "  'SLD': 'cloudfront',\n",
       "  'subdomain': 'd1gsg05rq1vjdw',\n",
       "  'organization': '',\n",
       "  'ATSes': '',\n",
       "  'Party': ''},\n",
       " 'dss-na.amazon.com': {'domain_name': 'amazon.com',\n",
       "  'SLD': 'amazon',\n",
       "  'subdomain': 'dss-na',\n",
       "  'organization': '',\n",
       "  'ATSes': '',\n",
       "  'Party': ''},\n",
       " 'acsechocaptiveportal.com': {'domain_name': 'acsechocaptiveportal.com',\n",
       "  'SLD': 'acsechocaptiveportal',\n",
       "  'subdomain': '',\n",
       "  'organization': '',\n",
       "  'ATSes': '',\n",
       "  'Party': ''},\n",
       " 'ntp-g7g.amazon.com': {'domain_name': 'amazon.com',\n",
       "  'SLD': 'amazon',\n",
       "  'subdomain': 'ntp-g7g',\n",
       "  'organization': '',\n",
       "  'ATSes': '',\n",
       "  'Party': ''},\n",
       " 'ffs-provisioner-config.amazon-dss.com': {'domain_name': 'amazon-dss.com',\n",
       "  'SLD': 'amazon-dss',\n",
       "  'subdomain': 'ffs-provisioner-config',\n",
       "  'organization': '',\n",
       "  'ATSes': '',\n",
       "  'Party': ''},\n",
       " 'api.amazon.com': {'domain_name': 'amazon.com',\n",
       "  'SLD': 'amazon',\n",
       "  'subdomain': 'api',\n",
       "  'organization': '',\n",
       "  'ATSes': '',\n",
       "  'Party': ''},\n",
       " 'dcape-na.amazon.com': {'domain_name': 'amazon.com',\n",
       "  'SLD': 'amazon',\n",
       "  'subdomain': 'dcape-na',\n",
       "  'organization': '',\n",
       "  'ATSes': '',\n",
       "  'Party': ''},\n",
       " 'd3p8zr0ffa9t17.cloudfront.net': {'domain_name': 'cloudfront.net',\n",
       "  'SLD': 'cloudfront',\n",
       "  'subdomain': 'd3p8zr0ffa9t17',\n",
       "  'organization': '',\n",
       "  'ATSes': '',\n",
       "  'Party': ''},\n",
       " 'msh.amazon.com': {'domain_name': 'amazon.com',\n",
       "  'SLD': 'amazon',\n",
       "  'subdomain': 'msh',\n",
       "  'organization': '',\n",
       "  'ATSes': '',\n",
       "  'Party': ''},\n",
       " 'prod.amcs-tachyon.com': {'domain_name': 'amcs-tachyon.com',\n",
       "  'SLD': 'amcs-tachyon',\n",
       "  'subdomain': 'prod',\n",
       "  'organization': '',\n",
       "  'ATSes': '',\n",
       "  'Party': ''},\n",
       " 'ingestion.us-east-1.prod.arteries.alexa.a2z.com': {'domain_name': 'a2z.com',\n",
       "  'SLD': 'a2z',\n",
       "  'subdomain': 'ingestion.us-east-1.prod.arteries.alexa',\n",
       "  'organization': '',\n",
       "  'ATSes': '',\n",
       "  'Party': ''},\n",
       " 'dxz5jxhrrzigf.cloudfront.net': {'domain_name': 'cloudfront.net',\n",
       "  'SLD': 'cloudfront',\n",
       "  'subdomain': 'dxz5jxhrrzigf',\n",
       "  'organization': '',\n",
       "  'ATSes': '',\n",
       "  'Party': ''},\n",
       " 'cluster-web.meethue.com': {'domain_name': 'meethue.com',\n",
       "  'SLD': 'meethue',\n",
       "  'subdomain': 'cluster-web',\n",
       "  'organization': '',\n",
       "  'ATSes': '',\n",
       "  'Party': ''},\n",
       " 'sxm.simplecastaudio.com': {'domain_name': 'simplecastaudio.com',\n",
       "  'SLD': 'simplecastaudio',\n",
       "  'subdomain': 'sxm',\n",
       "  'organization': '',\n",
       "  'ATSes': '',\n",
       "  'Party': ''},\n",
       " 'sxm-injected.simplecastaudio.com': {'domain_name': 'simplecastaudio.com',\n",
       "  'SLD': 'simplecastaudio',\n",
       "  'subdomain': 'sxm-injected',\n",
       "  'organization': '',\n",
       "  'ATSes': '',\n",
       "  'Party': ''},\n",
       " 'tinytts.amazon.com': {'domain_name': 'amazon.com',\n",
       "  'SLD': 'amazon',\n",
       "  'subdomain': 'tinytts',\n",
       "  'organization': '',\n",
       "  'ATSes': '',\n",
       "  'Party': ''},\n",
       " 'mlis.amazon.com': {'domain_name': 'amazon.com',\n",
       "  'SLD': 'amazon',\n",
       "  'subdomain': 'mlis',\n",
       "  'organization': '',\n",
       "  'ATSes': '',\n",
       "  'Party': ''},\n",
       " 'updates.amazon.com': {'domain_name': 'amazon.com',\n",
       "  'SLD': 'amazon',\n",
       "  'subdomain': 'updates',\n",
       "  'organization': '',\n",
       "  'ATSes': '',\n",
       "  'Party': ''},\n",
       " 'mediaserver-sv5-t1-1-v4v6.pandora.com': {'domain_name': 'pandora.com',\n",
       "  'SLD': 'pandora',\n",
       "  'subdomain': 'mediaserver-sv5-t1-1-v4v6',\n",
       "  'organization': '',\n",
       "  'ATSes': '',\n",
       "  'Party': ''},\n",
       " 'd2of0gfv69hsgh.cloudfront.net': {'domain_name': 'cloudfront.net',\n",
       "  'SLD': 'cloudfront',\n",
       "  'subdomain': 'd2of0gfv69hsgh',\n",
       "  'organization': '',\n",
       "  'ATSes': '',\n",
       "  'Party': ''},\n",
       " 't1-3.p-cdn.us': {'domain_name': 'p-cdn.us',\n",
       "  'SLD': 'p-cdn',\n",
       "  'subdomain': 't1-3',\n",
       "  'organization': '',\n",
       "  'ATSes': '',\n",
       "  'Party': ''},\n",
       " 'device-metrics-us-2.amazon.com': {'domain_name': 'amazon.com',\n",
       "  'SLD': 'amazon',\n",
       "  'subdomain': 'device-metrics-us-2',\n",
       "  'organization': '',\n",
       "  'ATSes': '',\n",
       "  'Party': ''}}"
      ]
     },
     "execution_count": 15,
     "metadata": {},
     "output_type": "execute_result"
    }
   ],
   "source": [
    "dict_fqdns = {}\n",
    "for ip, fqdn in dns_resolutions.items():\n",
    "    if fqdn not in dict_fqdns:\n",
    "        dict_fqdns[fqdn] = {'domain_name': '', 'SLD': '', 'subdomain' : '' ,'organization': '', 'ATSes': '', 'Party': ''}\n",
    "        ext = tldextract.extract(fqdn)\n",
    "        dict_fqdns[fqdn]['domain_name'] = ext.domain+\".\"+ext.suffix\n",
    "        dict_fqdns[fqdn]['subdomain'] = ext.subdomain\n",
    "        dict_fqdns[fqdn]['SLD'] = ext.domain\n",
    "        dict_fqdns[fqdn]['organization'] = \"\"\n",
    "        dict_fqdns[fqdn]['ATSes'] = \"\"\n",
    "        dict_fqdns[fqdn]['Party'] = \"\"\n",
    "dict_fqdns"
   ]
  },
  {
   "cell_type": "markdown",
   "id": "62d86250",
   "metadata": {},
   "source": [
    "## 6. Find Organizations"
   ]
  },
  {
   "cell_type": "code",
   "execution_count": 16,
   "id": "81b8e90b",
   "metadata": {
    "scrolled": false
   },
   "outputs": [],
   "source": [
    "ddg_entities = utilities.get_files_in_a_directory(\"/home/c2/alexa/post-processing/tracker-radar/entities\")\n",
    "\n",
    "for fqdn, details in dict_fqdns.items():\n",
    "    for entity in ddg_entities:\n",
    "        entity_content = utilities.read_json(entity)\n",
    "        if details['domain_name'] in entity_content[\"properties\"]:\n",
    "            dict_fqdns[fqdn]['organization'] = entity_content[\"name\"]\n",
    "            break"
   ]
  },
  {
   "cell_type": "code",
   "execution_count": 17,
   "id": "a965e7fc",
   "metadata": {},
   "outputs": [],
   "source": [
    "not_found_organizations = set()\n",
    "for fqdn, details in dict_fqdns.items():\n",
    "    if len(details['organization']) == 0:\n",
    "        not_found_organizations.add(details['domain_name'])"
   ]
  },
  {
   "cell_type": "code",
   "execution_count": 18,
   "id": "3b2e5782",
   "metadata": {},
   "outputs": [
    {
     "data": {
      "text/plain": [
       "{'acsechocaptiveportal.com',\n",
       " 'amazon-dss.com',\n",
       " 'amcs-tachyon.com',\n",
       " 'fireoscaptiveportal.com'}"
      ]
     },
     "execution_count": 18,
     "metadata": {},
     "output_type": "execute_result"
    }
   ],
   "source": [
    "not_found_organizations"
   ]
  },
  {
   "cell_type": "markdown",
   "id": "2dce8b9d",
   "metadata": {},
   "source": [
    "### For organizations we didn't find on DDG, we use https://lookup.icann.org/lookup and crunchbase.com"
   ]
  },
  {
   "cell_type": "code",
   "execution_count": 19,
   "id": "d7775d7d",
   "metadata": {},
   "outputs": [],
   "source": [
    "manually_found_organs = {'acsechocaptiveportal.com' : 'Amazon Technologies, Inc.',\n",
    " 'amazon-dss.com' : 'Amazon Technologies, Inc.',\n",
    " 'amcs-tachyon.com' : 'Amazon Technologies, Inc.',\n",
    " 'fireoscaptiveportal.com' : 'Amazon Technologies, Inc.'}"
   ]
  },
  {
   "cell_type": "code",
   "execution_count": 20,
   "id": "427a3d69",
   "metadata": {},
   "outputs": [],
   "source": [
    "for fqdn, details in dict_fqdns.items():\n",
    "    if len(details['organization']) == 0:\n",
    "        details['organization'] = manually_found_organs[details['domain_name']]\n",
    "    "
   ]
  },
  {
   "cell_type": "code",
   "execution_count": 21,
   "id": "973bd6cc",
   "metadata": {},
   "outputs": [
    {
     "ename": "NameError",
     "evalue": "name 'df' is not defined",
     "output_type": "error",
     "traceback": [
      "\u001b[0;31m---------------------------------------------------------------------------\u001b[0m",
      "\u001b[0;31mNameError\u001b[0m                                 Traceback (most recent call last)",
      "\u001b[0;32m/tmp/ipykernel_5421/1411227889.py\u001b[0m in \u001b[0;36m<module>\u001b[0;34m\u001b[0m\n\u001b[0;32m----> 1\u001b[0;31m \u001b[0;32mfor\u001b[0m \u001b[0mindex\u001b[0m\u001b[0;34m,\u001b[0m \u001b[0mrow\u001b[0m \u001b[0;32min\u001b[0m \u001b[0mdf\u001b[0m\u001b[0;34m.\u001b[0m\u001b[0miterrows\u001b[0m\u001b[0;34m(\u001b[0m\u001b[0;34m)\u001b[0m\u001b[0;34m:\u001b[0m\u001b[0;34m\u001b[0m\u001b[0;34m\u001b[0m\u001b[0m\n\u001b[0m\u001b[1;32m      2\u001b[0m     \u001b[0;32mif\u001b[0m \u001b[0mlen\u001b[0m\u001b[0;34m(\u001b[0m\u001b[0mrow\u001b[0m\u001b[0;34m[\u001b[0m\u001b[0;34m'organization'\u001b[0m\u001b[0;34m]\u001b[0m\u001b[0;34m)\u001b[0m \u001b[0;34m==\u001b[0m \u001b[0;36m0\u001b[0m\u001b[0;34m:\u001b[0m\u001b[0;34m\u001b[0m\u001b[0;34m\u001b[0m\u001b[0m\n\u001b[1;32m      3\u001b[0m         \u001b[0mprint\u001b[0m\u001b[0;34m(\u001b[0m\u001b[0mrow\u001b[0m\u001b[0;34m[\u001b[0m\u001b[0;34m'domain_name'\u001b[0m\u001b[0;34m]\u001b[0m\u001b[0;34m)\u001b[0m\u001b[0;34m\u001b[0m\u001b[0;34m\u001b[0m\u001b[0m\n\u001b[1;32m      4\u001b[0m \u001b[0;34m\u001b[0m\u001b[0m\n",
      "\u001b[0;31mNameError\u001b[0m: name 'df' is not defined"
     ]
    }
   ],
   "source": [
    "for index, row in df.iterrows():\n",
    "    if len(row['organization']) == 0:\n",
    "        print(row['domain_name'])\n",
    "        "
   ]
  },
  {
   "cell_type": "markdown",
   "id": "1a5152ce",
   "metadata": {},
   "source": [
    "## 7. Find ATSes"
   ]
  },
  {
   "cell_type": "code",
   "execution_count": 22,
   "id": "6b6a4535",
   "metadata": {},
   "outputs": [],
   "source": [
    "filter_list_base = \"/home/c2/alexa/source/voice-assistant-central/NetworkAnalysis/data/filter_lists/\"\n",
    "tracking = utilities.read_json(os.path.join(filter_list_base,\"tracking\", \"tracking_list.json\"))\n",
    "advertising = utilities.read_json(os.path.join(filter_list_base, \"advertising\", \"advertising_list.json\"))"
   ]
  },
  {
   "cell_type": "code",
   "execution_count": 24,
   "id": "b8a9997e",
   "metadata": {},
   "outputs": [
    {
     "name": "stdout",
     "output_type": "stream",
     "text": [
      "fireoscaptiveportal.com\n",
      "device-metrics-us-2.amazon.com\n"
     ]
    }
   ],
   "source": [
    "for fqdn, details in dict_fqdns.items():\n",
    "    if fqdn in tracking or fqdn in advertising:\n",
    "        details['ATSes'] = \"ATSes\"\n",
    "        print(fqdn)\n",
    "    else:\n",
    "        details['ATSes'] = \"others\""
   ]
  },
  {
   "cell_type": "code",
   "execution_count": null,
   "id": "0508ab29",
   "metadata": {},
   "outputs": [],
   "source": []
  },
  {
   "cell_type": "markdown",
   "id": "10ad39fe",
   "metadata": {},
   "source": [
    "## 8. Find Parties"
   ]
  },
  {
   "cell_type": "code",
   "execution_count": 25,
   "id": "3637e2a2",
   "metadata": {},
   "outputs": [],
   "source": [
    "for fqdn, details in dict_fqdns.items():\n",
    "    try:\n",
    "        if details['organization'] == 'Amazon Technologies, Inc.':\n",
    "            details['Party'] = \"Platform-based\"\n",
    "            continue\n",
    "        if details['organization'] == 'Sirius XM Holdings Inc.':\n",
    "            details['Party'] = \"First-Party\"\n",
    "            continue\n",
    "        else:\n",
    "            details['Party'] = \"Third-Party\"\n",
    "    except:\n",
    "        print(fqdn)"
   ]
  },
  {
   "cell_type": "code",
   "execution_count": 26,
   "id": "baeb6f00",
   "metadata": {},
   "outputs": [
    {
     "data": {
      "text/plain": [
       "{'bob-dispatch-prod-na.amazon.com': {'domain_name': 'amazon.com',\n",
       "  'SLD': 'amazon',\n",
       "  'subdomain': 'bob-dispatch-prod-na',\n",
       "  'organization': 'Amazon Technologies, Inc.',\n",
       "  'ATSes': 'others',\n",
       "  'Party': 'Platform-based'},\n",
       " 'fireoscaptiveportal.com': {'domain_name': 'fireoscaptiveportal.com',\n",
       "  'SLD': 'fireoscaptiveportal',\n",
       "  'subdomain': '',\n",
       "  'organization': 'Amazon Technologies, Inc.',\n",
       "  'ATSes': 'ATSes',\n",
       "  'Party': 'Platform-based'},\n",
       " 'd1gsg05rq1vjdw.cloudfront.net': {'domain_name': 'cloudfront.net',\n",
       "  'SLD': 'cloudfront',\n",
       "  'subdomain': 'd1gsg05rq1vjdw',\n",
       "  'organization': 'Amazon Technologies, Inc.',\n",
       "  'ATSes': 'others',\n",
       "  'Party': 'Platform-based'},\n",
       " 'dss-na.amazon.com': {'domain_name': 'amazon.com',\n",
       "  'SLD': 'amazon',\n",
       "  'subdomain': 'dss-na',\n",
       "  'organization': 'Amazon Technologies, Inc.',\n",
       "  'ATSes': 'others',\n",
       "  'Party': 'Platform-based'},\n",
       " 'acsechocaptiveportal.com': {'domain_name': 'acsechocaptiveportal.com',\n",
       "  'SLD': 'acsechocaptiveportal',\n",
       "  'subdomain': '',\n",
       "  'organization': 'Amazon Technologies, Inc.',\n",
       "  'ATSes': 'others',\n",
       "  'Party': 'Platform-based'},\n",
       " 'ntp-g7g.amazon.com': {'domain_name': 'amazon.com',\n",
       "  'SLD': 'amazon',\n",
       "  'subdomain': 'ntp-g7g',\n",
       "  'organization': 'Amazon Technologies, Inc.',\n",
       "  'ATSes': 'others',\n",
       "  'Party': 'Platform-based'},\n",
       " 'ffs-provisioner-config.amazon-dss.com': {'domain_name': 'amazon-dss.com',\n",
       "  'SLD': 'amazon-dss',\n",
       "  'subdomain': 'ffs-provisioner-config',\n",
       "  'organization': 'Amazon Technologies, Inc.',\n",
       "  'ATSes': 'others',\n",
       "  'Party': 'Platform-based'},\n",
       " 'api.amazon.com': {'domain_name': 'amazon.com',\n",
       "  'SLD': 'amazon',\n",
       "  'subdomain': 'api',\n",
       "  'organization': 'Amazon Technologies, Inc.',\n",
       "  'ATSes': 'others',\n",
       "  'Party': 'Platform-based'},\n",
       " 'dcape-na.amazon.com': {'domain_name': 'amazon.com',\n",
       "  'SLD': 'amazon',\n",
       "  'subdomain': 'dcape-na',\n",
       "  'organization': 'Amazon Technologies, Inc.',\n",
       "  'ATSes': 'others',\n",
       "  'Party': 'Platform-based'},\n",
       " 'd3p8zr0ffa9t17.cloudfront.net': {'domain_name': 'cloudfront.net',\n",
       "  'SLD': 'cloudfront',\n",
       "  'subdomain': 'd3p8zr0ffa9t17',\n",
       "  'organization': 'Amazon Technologies, Inc.',\n",
       "  'ATSes': 'others',\n",
       "  'Party': 'Platform-based'},\n",
       " 'msh.amazon.com': {'domain_name': 'amazon.com',\n",
       "  'SLD': 'amazon',\n",
       "  'subdomain': 'msh',\n",
       "  'organization': 'Amazon Technologies, Inc.',\n",
       "  'ATSes': 'others',\n",
       "  'Party': 'Platform-based'},\n",
       " 'prod.amcs-tachyon.com': {'domain_name': 'amcs-tachyon.com',\n",
       "  'SLD': 'amcs-tachyon',\n",
       "  'subdomain': 'prod',\n",
       "  'organization': 'Amazon Technologies, Inc.',\n",
       "  'ATSes': 'others',\n",
       "  'Party': 'Platform-based'},\n",
       " 'ingestion.us-east-1.prod.arteries.alexa.a2z.com': {'domain_name': 'a2z.com',\n",
       "  'SLD': 'a2z',\n",
       "  'subdomain': 'ingestion.us-east-1.prod.arteries.alexa',\n",
       "  'organization': 'Amazon Technologies, Inc.',\n",
       "  'ATSes': 'others',\n",
       "  'Party': 'Platform-based'},\n",
       " 'dxz5jxhrrzigf.cloudfront.net': {'domain_name': 'cloudfront.net',\n",
       "  'SLD': 'cloudfront',\n",
       "  'subdomain': 'dxz5jxhrrzigf',\n",
       "  'organization': 'Amazon Technologies, Inc.',\n",
       "  'ATSes': 'others',\n",
       "  'Party': 'Platform-based'},\n",
       " 'cluster-web.meethue.com': {'domain_name': 'meethue.com',\n",
       "  'SLD': 'meethue',\n",
       "  'subdomain': 'cluster-web',\n",
       "  'organization': 'Philips International B.V.',\n",
       "  'ATSes': 'others',\n",
       "  'Party': 'Third-Party'},\n",
       " 'sxm.simplecastaudio.com': {'domain_name': 'simplecastaudio.com',\n",
       "  'SLD': 'simplecastaudio',\n",
       "  'subdomain': 'sxm',\n",
       "  'organization': 'Sirius XM Holdings Inc.',\n",
       "  'ATSes': 'others',\n",
       "  'Party': 'First-Party'},\n",
       " 'sxm-injected.simplecastaudio.com': {'domain_name': 'simplecastaudio.com',\n",
       "  'SLD': 'simplecastaudio',\n",
       "  'subdomain': 'sxm-injected',\n",
       "  'organization': 'Sirius XM Holdings Inc.',\n",
       "  'ATSes': 'others',\n",
       "  'Party': 'First-Party'},\n",
       " 'tinytts.amazon.com': {'domain_name': 'amazon.com',\n",
       "  'SLD': 'amazon',\n",
       "  'subdomain': 'tinytts',\n",
       "  'organization': 'Amazon Technologies, Inc.',\n",
       "  'ATSes': 'others',\n",
       "  'Party': 'Platform-based'},\n",
       " 'mlis.amazon.com': {'domain_name': 'amazon.com',\n",
       "  'SLD': 'amazon',\n",
       "  'subdomain': 'mlis',\n",
       "  'organization': 'Amazon Technologies, Inc.',\n",
       "  'ATSes': 'others',\n",
       "  'Party': 'Platform-based'},\n",
       " 'updates.amazon.com': {'domain_name': 'amazon.com',\n",
       "  'SLD': 'amazon',\n",
       "  'subdomain': 'updates',\n",
       "  'organization': 'Amazon Technologies, Inc.',\n",
       "  'ATSes': 'others',\n",
       "  'Party': 'Platform-based'},\n",
       " 'mediaserver-sv5-t1-1-v4v6.pandora.com': {'domain_name': 'pandora.com',\n",
       "  'SLD': 'pandora',\n",
       "  'subdomain': 'mediaserver-sv5-t1-1-v4v6',\n",
       "  'organization': 'Sirius XM Holdings Inc.',\n",
       "  'ATSes': 'others',\n",
       "  'Party': 'First-Party'},\n",
       " 'd2of0gfv69hsgh.cloudfront.net': {'domain_name': 'cloudfront.net',\n",
       "  'SLD': 'cloudfront',\n",
       "  'subdomain': 'd2of0gfv69hsgh',\n",
       "  'organization': 'Amazon Technologies, Inc.',\n",
       "  'ATSes': 'others',\n",
       "  'Party': 'Platform-based'},\n",
       " 't1-3.p-cdn.us': {'domain_name': 'p-cdn.us',\n",
       "  'SLD': 'p-cdn',\n",
       "  'subdomain': 't1-3',\n",
       "  'organization': 'Sirius XM Holdings Inc.',\n",
       "  'ATSes': 'others',\n",
       "  'Party': 'First-Party'},\n",
       " 'device-metrics-us-2.amazon.com': {'domain_name': 'amazon.com',\n",
       "  'SLD': 'amazon',\n",
       "  'subdomain': 'device-metrics-us-2',\n",
       "  'organization': 'Amazon Technologies, Inc.',\n",
       "  'ATSes': 'ATSes',\n",
       "  'Party': 'Platform-based'}}"
      ]
     },
     "execution_count": 26,
     "metadata": {},
     "output_type": "execute_result"
    }
   ],
   "source": [
    "dict_fqdns"
   ]
  },
  {
   "cell_type": "markdown",
   "id": "d912068e",
   "metadata": {},
   "source": [
    "## 9. Edit Final DataFrame"
   ]
  },
  {
   "cell_type": "code",
   "execution_count": 27,
   "id": "satisfied-advancement",
   "metadata": {},
   "outputs": [],
   "source": [
    "main_df = {'fqdn': [], 'domain_name': [], 'SLD': [], 'subdomain' : [] ,'organization': [], 'ATSes': [], 'Party': []}\n",
    "\n",
    "\n",
    "for i in range(len(network_json)):\n",
    "    if 'ip' in network_json[i][\"_source\"][\"layers\"].keys():\n",
    "        ip_dst =   network_json[i][\"_source\"][\"layers\"]['ip']['ip.dst']\n",
    "        if not ip_dst.startswith(\"10.42.\") and not ip_dst.startswith(\"255.255.\") and not ip_dst.startswith(\"8.8.\") and not ip_dst.startswith(\"0.0.\") and not ip_dst.startswith(\"224.0\") and not ip_dst.startswith(\"239.255\"):\n",
    "            fqdn = dns_resolutions[ip_dst]\n",
    "            main_df['fqdn'].append(fqdn)\n",
    "            main_df['domain_name'].append(dict_fqdns[fqdn]['domain_name'])\n",
    "            main_df['subdomain'].append(dict_fqdns[fqdn]['subdomain'])         \n",
    "            main_df['SLD'].append(dict_fqdns[fqdn]['SLD'])\n",
    "            main_df['organization'].append(dict_fqdns[fqdn]['organization'])\n",
    "            main_df['ATSes'].append(dict_fqdns[fqdn]['ATSes'])\n",
    "            main_df['Party'].append(dict_fqdns[fqdn]['Party'])"
   ]
  },
  {
   "cell_type": "code",
   "execution_count": 28,
   "id": "amended-modeling",
   "metadata": {},
   "outputs": [
    {
     "data": {
      "text/html": [
       "<div>\n",
       "<style scoped>\n",
       "    .dataframe tbody tr th:only-of-type {\n",
       "        vertical-align: middle;\n",
       "    }\n",
       "\n",
       "    .dataframe tbody tr th {\n",
       "        vertical-align: top;\n",
       "    }\n",
       "\n",
       "    .dataframe thead th {\n",
       "        text-align: right;\n",
       "    }\n",
       "</style>\n",
       "<table border=\"1\" class=\"dataframe\">\n",
       "  <thead>\n",
       "    <tr style=\"text-align: right;\">\n",
       "      <th></th>\n",
       "      <th>fqdn</th>\n",
       "      <th>domain_name</th>\n",
       "      <th>SLD</th>\n",
       "      <th>subdomain</th>\n",
       "      <th>organization</th>\n",
       "      <th>ATSes</th>\n",
       "      <th>Party</th>\n",
       "    </tr>\n",
       "  </thead>\n",
       "  <tbody>\n",
       "    <tr>\n",
       "      <th>0</th>\n",
       "      <td>bob-dispatch-prod-na.amazon.com</td>\n",
       "      <td>amazon.com</td>\n",
       "      <td>amazon</td>\n",
       "      <td>bob-dispatch-prod-na</td>\n",
       "      <td>Amazon Technologies, Inc.</td>\n",
       "      <td>others</td>\n",
       "      <td>Platform-based</td>\n",
       "    </tr>\n",
       "    <tr>\n",
       "      <th>1</th>\n",
       "      <td>bob-dispatch-prod-na.amazon.com</td>\n",
       "      <td>amazon.com</td>\n",
       "      <td>amazon</td>\n",
       "      <td>bob-dispatch-prod-na</td>\n",
       "      <td>Amazon Technologies, Inc.</td>\n",
       "      <td>others</td>\n",
       "      <td>Platform-based</td>\n",
       "    </tr>\n",
       "    <tr>\n",
       "      <th>2</th>\n",
       "      <td>bob-dispatch-prod-na.amazon.com</td>\n",
       "      <td>amazon.com</td>\n",
       "      <td>amazon</td>\n",
       "      <td>bob-dispatch-prod-na</td>\n",
       "      <td>Amazon Technologies, Inc.</td>\n",
       "      <td>others</td>\n",
       "      <td>Platform-based</td>\n",
       "    </tr>\n",
       "    <tr>\n",
       "      <th>3</th>\n",
       "      <td>bob-dispatch-prod-na.amazon.com</td>\n",
       "      <td>amazon.com</td>\n",
       "      <td>amazon</td>\n",
       "      <td>bob-dispatch-prod-na</td>\n",
       "      <td>Amazon Technologies, Inc.</td>\n",
       "      <td>others</td>\n",
       "      <td>Platform-based</td>\n",
       "    </tr>\n",
       "    <tr>\n",
       "      <th>4</th>\n",
       "      <td>bob-dispatch-prod-na.amazon.com</td>\n",
       "      <td>amazon.com</td>\n",
       "      <td>amazon</td>\n",
       "      <td>bob-dispatch-prod-na</td>\n",
       "      <td>Amazon Technologies, Inc.</td>\n",
       "      <td>others</td>\n",
       "      <td>Platform-based</td>\n",
       "    </tr>\n",
       "    <tr>\n",
       "      <th>...</th>\n",
       "      <td>...</td>\n",
       "      <td>...</td>\n",
       "      <td>...</td>\n",
       "      <td>...</td>\n",
       "      <td>...</td>\n",
       "      <td>...</td>\n",
       "      <td>...</td>\n",
       "    </tr>\n",
       "    <tr>\n",
       "      <th>12302</th>\n",
       "      <td>bob-dispatch-prod-na.amazon.com</td>\n",
       "      <td>amazon.com</td>\n",
       "      <td>amazon</td>\n",
       "      <td>bob-dispatch-prod-na</td>\n",
       "      <td>Amazon Technologies, Inc.</td>\n",
       "      <td>others</td>\n",
       "      <td>Platform-based</td>\n",
       "    </tr>\n",
       "    <tr>\n",
       "      <th>12303</th>\n",
       "      <td>bob-dispatch-prod-na.amazon.com</td>\n",
       "      <td>amazon.com</td>\n",
       "      <td>amazon</td>\n",
       "      <td>bob-dispatch-prod-na</td>\n",
       "      <td>Amazon Technologies, Inc.</td>\n",
       "      <td>others</td>\n",
       "      <td>Platform-based</td>\n",
       "    </tr>\n",
       "    <tr>\n",
       "      <th>12304</th>\n",
       "      <td>bob-dispatch-prod-na.amazon.com</td>\n",
       "      <td>amazon.com</td>\n",
       "      <td>amazon</td>\n",
       "      <td>bob-dispatch-prod-na</td>\n",
       "      <td>Amazon Technologies, Inc.</td>\n",
       "      <td>others</td>\n",
       "      <td>Platform-based</td>\n",
       "    </tr>\n",
       "    <tr>\n",
       "      <th>12305</th>\n",
       "      <td>prod.amcs-tachyon.com</td>\n",
       "      <td>amcs-tachyon.com</td>\n",
       "      <td>amcs-tachyon</td>\n",
       "      <td>prod</td>\n",
       "      <td>Amazon Technologies, Inc.</td>\n",
       "      <td>others</td>\n",
       "      <td>Platform-based</td>\n",
       "    </tr>\n",
       "    <tr>\n",
       "      <th>12306</th>\n",
       "      <td>prod.amcs-tachyon.com</td>\n",
       "      <td>amcs-tachyon.com</td>\n",
       "      <td>amcs-tachyon</td>\n",
       "      <td>prod</td>\n",
       "      <td>Amazon Technologies, Inc.</td>\n",
       "      <td>others</td>\n",
       "      <td>Platform-based</td>\n",
       "    </tr>\n",
       "  </tbody>\n",
       "</table>\n",
       "<p>12307 rows × 7 columns</p>\n",
       "</div>"
      ],
      "text/plain": [
       "                                  fqdn       domain_name           SLD  \\\n",
       "0      bob-dispatch-prod-na.amazon.com        amazon.com        amazon   \n",
       "1      bob-dispatch-prod-na.amazon.com        amazon.com        amazon   \n",
       "2      bob-dispatch-prod-na.amazon.com        amazon.com        amazon   \n",
       "3      bob-dispatch-prod-na.amazon.com        amazon.com        amazon   \n",
       "4      bob-dispatch-prod-na.amazon.com        amazon.com        amazon   \n",
       "...                                ...               ...           ...   \n",
       "12302  bob-dispatch-prod-na.amazon.com        amazon.com        amazon   \n",
       "12303  bob-dispatch-prod-na.amazon.com        amazon.com        amazon   \n",
       "12304  bob-dispatch-prod-na.amazon.com        amazon.com        amazon   \n",
       "12305            prod.amcs-tachyon.com  amcs-tachyon.com  amcs-tachyon   \n",
       "12306            prod.amcs-tachyon.com  amcs-tachyon.com  amcs-tachyon   \n",
       "\n",
       "                  subdomain               organization   ATSes           Party  \n",
       "0      bob-dispatch-prod-na  Amazon Technologies, Inc.  others  Platform-based  \n",
       "1      bob-dispatch-prod-na  Amazon Technologies, Inc.  others  Platform-based  \n",
       "2      bob-dispatch-prod-na  Amazon Technologies, Inc.  others  Platform-based  \n",
       "3      bob-dispatch-prod-na  Amazon Technologies, Inc.  others  Platform-based  \n",
       "4      bob-dispatch-prod-na  Amazon Technologies, Inc.  others  Platform-based  \n",
       "...                     ...                        ...     ...             ...  \n",
       "12302  bob-dispatch-prod-na  Amazon Technologies, Inc.  others  Platform-based  \n",
       "12303  bob-dispatch-prod-na  Amazon Technologies, Inc.  others  Platform-based  \n",
       "12304  bob-dispatch-prod-na  Amazon Technologies, Inc.  others  Platform-based  \n",
       "12305                  prod  Amazon Technologies, Inc.  others  Platform-based  \n",
       "12306                  prod  Amazon Technologies, Inc.  others  Platform-based  \n",
       "\n",
       "[12307 rows x 7 columns]"
      ]
     },
     "execution_count": 28,
     "metadata": {},
     "output_type": "execute_result"
    }
   ],
   "source": [
    "df = pd.DataFrame.from_dict(main_df)\n",
    "df.to_csv(os.path.join(base_out,\"data/report.csv\"), sep=',')\n",
    "df"
   ]
  },
  {
   "cell_type": "markdown",
   "id": "f64b25d7",
   "metadata": {},
   "source": [
    "# Visualization"
   ]
  },
  {
   "cell_type": "markdown",
   "id": "95f3ab00",
   "metadata": {},
   "source": [
    "### 1. Plot Taxonomy"
   ]
  },
  {
   "cell_type": "code",
   "execution_count": 29,
   "id": "11c7b11a",
   "metadata": {},
   "outputs": [
    {
     "data": {
      "image/png": "[encoded data removed]",
      "text/plain": [
       "<Figure size 432x288 with 1 Axes>"
      ]
     },
     "metadata": {
      "needs_background": "light"
     },
     "output_type": "display_data"
    }
   ],
   "source": [
    "other = [1501, 3778, 49]\n",
    "\n",
    "ATSes = [7, 0, 0]\n",
    "\n",
    "index = ['Platform-based', 'First-Party', 'Third-Party']\n",
    "\n",
    "df_taxonomy = pd.DataFrame({'others': other, 'ATSes': ATSes}, index=index)\n",
    "\n",
    "ax = df_taxonomy.plot.bar(stacked=True, color={\"others\": \"#022851\", \"ATSes\": \"#FFBF00\"})"
   ]
  },
  {
   "cell_type": "markdown",
   "id": "67d8e6de",
   "metadata": {},
   "source": [
    "### 2. Platfom-based FQDNs"
   ]
  },
  {
   "cell_type": "code",
   "execution_count": 30,
   "id": "74a922af",
   "metadata": {},
   "outputs": [],
   "source": [
    "df_fqdn = df.loc[df['Party'] == 'Platform-based', 'fqdn']\n",
    "platform_base = {}\n",
    "for fqdn in df_fqdn:\n",
    "    if fqdn not in platform_base:\n",
    "        platform_base[fqdn] = 1\n",
    "    else:\n",
    "        platform_base[fqdn] += 1\n",
    "fqdn_skill_num_sorted = dict(sorted(platform_base.items(), key=lambda kv: kv[1], reverse=True))"
   ]
  },
  {
   "cell_type": "code",
   "execution_count": 31,
   "id": "7ed2928c",
   "metadata": {},
   "outputs": [
    {
     "data": {
      "image/png": "[encoded data removed]",
      "text/plain": [
       "<Figure size 640x480 with 1 Axes>"
      ]
     },
     "metadata": {},
     "output_type": "display_data"
    }
   ],
   "source": [
    "import matplotlib.pyplot as plt\n",
    "import numpy as np\n",
    "\n",
    "# Fixing random state for reproducibility\n",
    "np.random.seed(19680801)\n",
    "\n",
    "plt.rcdefaults()\n",
    "fig, ax = plt.subplots()\n",
    "\n",
    "# Example data\n",
    "fqdns = [fqdn for fqdn, skills_nums in fqdn_skill_num_sorted.items()]\n",
    "y_pos = np.arange(0,len(fqdn_skill_num_sorted),1)\n",
    "performance = [skills_nums for fqdn, skills_nums in fqdn_skill_num_sorted.items()]\n",
    "#error = np.random.rand(len(fqdns))\n",
    "\n",
    "ax.barh(y_pos, performance, align='edge', color = '#033266')\n",
    "ax.set_yticks(y_pos)\n",
    "ax.set_yticklabels(fqdns)\n",
    "#ax.invert_yaxis()  # labels read top-to-bottom\n",
    "ax.set_xlabel('number of access')\n",
    "ax.set_title('Paltform_based FQDNs accessed by skills')\n",
    "plt.savefig('platform_barchart.png')\n",
    "plt.show()"
   ]
  },
  {
   "cell_type": "code",
   "execution_count": 32,
   "id": "ef687fea",
   "metadata": {},
   "outputs": [],
   "source": [
    "df_fqdn_non = df.loc[(df['Party'] == 'Third-Party') | (df['Party'] == 'First-Party'), 'fqdn']\n",
    "non_platform_base = {}\n",
    "for fqdn in df_fqdn_non:\n",
    "    if fqdn not in non_platform_base:\n",
    "        non_platform_base[fqdn] = 1\n",
    "    else:\n",
    "        non_platform_base[fqdn] += 1\n",
    "fqdn_skill_num_sorted_non = dict(sorted(non_platform_base.items(), key=lambda kv: kv[1], reverse=True))"
   ]
  },
  {
   "cell_type": "code",
   "execution_count": 33,
   "id": "b22061b6",
   "metadata": {},
   "outputs": [
    {
     "data": {
      "image/png": "[encoded data removed]",
      "text/plain": [
       "<Figure size 640x480 with 1 Axes>"
      ]
     },
     "metadata": {},
     "output_type": "display_data"
    }
   ],
   "source": [
    "import matplotlib.pyplot as plt\n",
    "import numpy as np\n",
    "\n",
    "# Fixing random state for reproducibility\n",
    "np.random.seed(19680801)\n",
    "\n",
    "plt.rcdefaults()\n",
    "fig, ax = plt.subplots()\n",
    "\n",
    "# Example data\n",
    "fqdns = [fqdn for fqdn, skills_nums in fqdn_skill_num_sorted_non.items()]\n",
    "y_pos = np.arange(0,len(fqdn_skill_num_sorted_non),1)\n",
    "performance = [skills_nums for fqdn, skills_nums in fqdn_skill_num_sorted_non.items()]\n",
    "#error = np.random.rand(len(fqdns))\n",
    "\n",
    "ax.barh(y_pos, performance, align='edge', color='#FFBF00')\n",
    "ax.set_yticks(y_pos)\n",
    "ax.set_yticklabels(fqdns)\n",
    "#ax.invert_yaxis()  # labels read top-to-bottom\n",
    "ax.set_xlabel('number of access')\n",
    "ax.set_title('Top-30 domains accessed by skills')\n",
    "plt.savefig('thirdparty_barchart.png')\n",
    "plt.show()"
   ]
  }
 ],
 "metadata": {
  "kernelspec": {
   "display_name": "Python 3 (ipykernel)",
   "language": "python",
   "name": "python3"
  },
  "language_info": {
   "codemirror_mode": {
    "name": "ipython",
    "version": 3
   },
   "file_extension": ".py",
   "mimetype": "text/x-python",
   "name": "python",
   "nbconvert_exporter": "python",
   "pygments_lexer": "ipython3",
   "version": "3.9.7"
  }
 },
 "nbformat": 4,
 "nbformat_minor": 5
}
