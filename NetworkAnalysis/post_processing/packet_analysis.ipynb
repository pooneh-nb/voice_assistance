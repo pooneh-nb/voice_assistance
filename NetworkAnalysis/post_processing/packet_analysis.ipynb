{
 "cells": [
  {
   "cell_type": "code",
   "execution_count": 1,
   "metadata": {},
   "outputs": [],
   "source": [
    "import utilities\n",
    "import os"
   ]
  },
  {
   "cell_type": "code",
   "execution_count": 3,
   "metadata": {},
   "outputs": [],
   "source": [
    "base_dir = \"/home/c2/alexa/source/voice-assistant-central/NetworkAnalysis/Traffic\"\n",
    "categories = utilities.get_directories_in_a_directory(base_dir)"
   ]
  },
  {
   "cell_type": "markdown",
   "metadata": {},
   "source": [
    "### DNS Resolutions"
   ]
  },
  {
   "cell_type": "code",
   "execution_count": 4,
   "metadata": {},
   "outputs": [
    {
     "name": "stdout",
     "output_type": "stream",
     "text": [
      "/home/c2/alexa/source/voice-assistant-central/NetworkAnalysis/Traffic/Fashion-Style\n",
      "/home/c2/alexa/source/voice-assistant-central/NetworkAnalysis/Traffic/Sports\n",
      "/home/c2/alexa/source/voice-assistant-central/NetworkAnalysis/Traffic/ConnectedCar\n",
      "/home/c2/alexa/source/voice-assistant-central/NetworkAnalysis/Traffic/SmartHome\n",
      "/home/c2/alexa/source/voice-assistant-central/NetworkAnalysis/Traffic/Wine-Beverages\n",
      "/home/c2/alexa/source/voice-assistant-central/NetworkAnalysis/Traffic/Pets-Animals\n",
      "/home/c2/alexa/source/voice-assistant-central/NetworkAnalysis/Traffic/Navigation-TripPlanners\n",
      "/home/c2/alexa/source/voice-assistant-central/NetworkAnalysis/Traffic/Religion-Spirituality\n",
      "/home/c2/alexa/source/voice-assistant-central/NetworkAnalysis/Traffic/Dating\n",
      "/home/c2/alexa/source/voice-assistant-central/NetworkAnalysis/Traffic/Health-Fitness\n"
     ]
    }
   ],
   "source": [
    "passed = [\"Fashion-Style\", \"Sports\", \"ConnectedCar\", \"Wine-Beverages\", \"Pets-Animals\", \"Navigation-TripPlanners\", \n",
    "          \"Religion-Spirituality\", \"Dating\", \"Health-Fitness\"]\n",
    "for category in categories:\n",
    "    print(category)\n",
    "    dns_resolutions = {}\n",
    "    category_name = category.split('/')[-1]\n",
    "    if category_name in passed:\n",
    "        continue\n",
    "    network_json_dir = os.path.join(category, category_name+\"-ENC-out.json\")\n",
    "    network_json = utilities.read_json(network_json_dir)\n",
    "    \n",
    "    for i in range(len(network_json)):\n",
    "        if network_json[i][\"_source\"][\"layers\"][\"frame\"][\"frame.protocols\"] == 'eth:ethertype:ip:udp:dns':\n",
    "            answers_key = []\n",
    "            if \"Answers\" in network_json[i][\"_source\"][\"layers\"][\"dns\"].keys():\n",
    "                answers_key  = network_json[i][\"_source\"][\"layers\"][\"dns\"][\"Answers\"].keys()\n",
    "                for key in answers_key:\n",
    "                    if \"CNAME\" in key:\n",
    "                        #print(\"CNAME\")\n",
    "                        continue\n",
    "                    dns_a = network_json[i][\"_source\"][\"layers\"][\"dns\"][\"Answers\"][key][\"dns.a\"]\n",
    "                    dns_name = network_json[i][\"_source\"][\"layers\"][\"dns\"][\"Answers\"][key][\"dns.resp.name\"]\n",
    "                    dns_resolutions[dns_a] = dns_name\n",
    "    utilities.write_json(os.path.join(category, \"dns_resolutions.json\"), dns_resolutions)\n",
    "                "
   ]
  },
  {
   "cell_type": "code",
   "execution_count": null,
   "metadata": {},
   "outputs": [],
   "source": [
    "print(len(network_json))\n",
    "print(type(network_json))"
   ]
  },
  {
   "cell_type": "code",
   "execution_count": null,
   "metadata": {},
   "outputs": [],
   "source": [
    "protocol = set()\n",
    "for i in range(len(network_json)):\n",
    "    protocol.add(network_json[i][\"_source\"][\"layers\"][\"frame\"][\"frame.protocols\"])\n",
    "print(protocol)\n",
    "eth:ethertype:ip:udp:dns"
   ]
  },
  {
   "cell_type": "code",
   "execution_count": null,
   "metadata": {},
   "outputs": [],
   "source": [
    "names = []\n",
    "for i in range(len(network_json)):\n",
    "    if network_json[i][\"_source\"][\"layers\"][\"frame\"][\"frame.protocols\"] == 'eth:ethertype:ip:udp:dns':\n",
    "        answers_key = []\n",
    "        if \"Answers\" in network_json[i][\"_source\"][\"layers\"][\"dns\"].keys():\n",
    "            answers_key  = network_json[i][\"_source\"][\"layers\"][\"dns\"][\"Answers\"].keys()\n",
    "            for key in answers_key:\n",
    "                if \"CNAME\" in key:\n",
    "                    print(\"CNAME\")\n",
    "                    continue\n",
    "                print(network_json[i][\"_source\"][\"layers\"][\"dns\"][\"Answers\"][key][\"dns.resp.name\"], \" : \")\n",
    "                print(network_json[i][\"_source\"][\"layers\"][\"dns\"][\"Answers\"][key][\"dns.a\"])\n",
    "                print(\"--\")"
   ]
  },
  {
   "cell_type": "code",
   "execution_count": null,
   "metadata": {},
   "outputs": [],
   "source": [
    "for key, value in network_json[0][\"_source\"][\"layers\"]['frame'].items():\n",
    "    print(key, value)"
   ]
  },
  {
   "cell_type": "code",
   "execution_count": null,
   "metadata": {},
   "outputs": [],
   "source": [
    "for key, value in network_json[0][\"_source\"][\"layers\"]['eth'].items():\n",
    "    print(key, value)"
   ]
  },
  {
   "cell_type": "code",
   "execution_count": 5,
   "metadata": {},
   "outputs": [
    {
     "name": "stdout",
     "output_type": "stream",
     "text": [
      "ip.version 4\n",
      "ip.hdr_len 20\n",
      "ip.dsfield 0x00000000\n",
      "ip.dsfield_tree {'ip.dsfield.dscp': '0', 'ip.dsfield.ecn': '0'}\n",
      "ip.len 127\n",
      "ip.id 0x0000deea\n",
      "ip.flags 0x00004000\n",
      "ip.flags_tree {'ip.flags.rb': '0', 'ip.flags.df': '1', 'ip.flags.mf': '0'}\n",
      "ip.frag_offset 0\n",
      "ip.ttl 64\n",
      "ip.proto 6\n",
      "ip.checksum 0x0000f98a\n",
      "ip.checksum.status 2\n",
      "ip.src 10.42.0.11\n",
      "ip.addr 3.227.83.236\n",
      "ip.src_host 10.42.0.11\n",
      "ip.host 3.227.83.236\n",
      "ip.dst 3.227.83.236\n",
      "ip.dst_host 3.227.83.236\n"
     ]
    }
   ],
   "source": [
    "for key, value in network_json[0][\"_source\"][\"layers\"]['ip'].items():\n",
    "    print(key, value)"
   ]
  },
  {
   "cell_type": "code",
   "execution_count": null,
   "metadata": {},
   "outputs": [],
   "source": [
    "print(network_json[0][\"_source\"][\"layers\"]['tcp'][\"tcp.srcport\"])\n",
    "tcp_list = list(network_json[0][\"_source\"][\"layers\"]['tcp'])\n",
    "tcp_list[0]"
   ]
  },
  {
   "cell_type": "code",
   "execution_count": null,
   "metadata": {},
   "outputs": [],
   "source": [
    "for key, value in network_json[0][\"_source\"][\"layers\"]['tls'].items():\n",
    "    print(key, value)"
   ]
  },
  {
   "cell_type": "code",
   "execution_count": null,
   "metadata": {},
   "outputs": [],
   "source": [
    "for i in range(len(network_json)):\n",
    "    for key, value in network_json[i].it"
   ]
  }
 ],
 "metadata": {
  "kernelspec": {
   "display_name": "Python 3",
   "language": "python",
   "name": "python3"
  },
  "language_info": {
   "codemirror_mode": {
    "name": "ipython",
    "version": 3
   },
   "file_extension": ".py",
   "mimetype": "text/x-python",
   "name": "python",
   "nbconvert_exporter": "python",
   "pygments_lexer": "ipython3",
   "version": "3.7.3"
  }
 },
 "nbformat": 4,
 "nbformat_minor": 2
}
