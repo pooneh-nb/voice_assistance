{
 "cells": [
  {
   "cell_type": "code",
   "execution_count": 1,
   "id": "7b6eeade",
   "metadata": {},
   "outputs": [],
   "source": [
    "import utilities\n",
    "import os\n",
    "import socket"
   ]
  },
  {
   "cell_type": "code",
   "execution_count": 6,
   "id": "bedb1db1",
   "metadata": {},
   "outputs": [],
   "source": [
    "dns_test = utilities.read_json(\"/home/c2/alexa/source/voice-assistant-central/NetworkAnalysis/data/DNS/dns_0307.json\")"
   ]
  },
  {
   "cell_type": "code",
   "execution_count": 7,
   "id": "46736fb8",
   "metadata": {},
   "outputs": [
    {
     "name": "stdout",
     "output_type": "stream",
     "text": [
      "142.202.65.6 doctorpooch.com\n",
      "142.202.65.6 dillilabs.com\n"
     ]
    }
   ],
   "source": [
    "ip_list = set()\n",
    "repeated_ips = set()\n",
    "for dns_name in dns_test:\n",
    "    for ip in dns_test[dns_name]:\n",
    "        if ip not in ip_list:\n",
    "            ip_list.add(ip)\n",
    "        else:\n",
    "            repeated_ips.add(ip)\n",
    "            \n",
    "for rip in repeated_ips:\n",
    "    for dns_name in dns_test:\n",
    "        if rip in dns_test[dns_name]:\n",
    "            print(rip, dns_name)"
   ]
  },
  {
   "cell_type": "code",
   "execution_count": null,
   "id": "9862fe24",
   "metadata": {},
   "outputs": [],
   "source": [
    "# check SNI- tls handshake"
   ]
  },
  {
   "cell_type": "code",
   "execution_count": null,
   "id": "bfa309de",
   "metadata": {},
   "outputs": [],
   "source": [
    "## find non resolved names\n"
   ]
  },
  {
   "cell_type": "code",
   "execution_count": 8,
   "id": "149d61d4",
   "metadata": {},
   "outputs": [],
   "source": [
    "base_dir = \"/home/c2/alexa/source/voice-assistant-central/NetworkAnalysis/data/Traffic\"\n",
    "categories_echo = utilities.get_directories_in_a_directory(\"/home/c2/alexa/source/voice-assistant-central/NetworkAnalysis/data/Traffic/Traffic_echo_0307_new/\")\n",
    "no_name_ip_list = set()\n",
    "all_ips = set()"
   ]
  },
  {
   "cell_type": "code",
   "execution_count": 9,
   "id": "b5812920",
   "metadata": {},
   "outputs": [],
   "source": [
    "for category in categories_echo:\n",
    "    category_name = category.split('/')[-1]\n",
    "    network_json = utilities.read_json(os.path.join(category, category_name+\"-ENC-out.json\"))\n",
    "    \n",
    "    for i in range(len(network_json)):\n",
    "            if 'ip' in network_json[i][\"_source\"][\"layers\"].keys():\n",
    "                ip_src = network_json[i][\"_source\"][\"layers\"]['ip']['ip.src']\n",
    "                ip_dst = network_json[i][\"_source\"][\"layers\"]['ip']['ip.dst']\n",
    "\n",
    "                if not ip_src.startswith('10.42') and not ip_src.startswith('255.255.') and not ip_src.startswith('8.8.') and not ip_src.startswith('0.0.'):\n",
    "                    all_ips.add(ip_src)\n",
    "\n",
    "                if not ip_dst.startswith('10.42') and not ip_dst.startswith('255.255.') and not ip_src.startswith('8.8.') and not ip_src.startswith('0.0.'):\n",
    "                    all_ips.add(ip_src)"
   ]
  },
  {
   "cell_type": "code",
   "execution_count": 10,
   "id": "81897ed2",
   "metadata": {},
   "outputs": [
    {
     "name": "stdout",
     "output_type": "stream",
     "text": [
      "10\n",
      "{'10.42.0.11', '10.42.0.1', '54.239.18.66', '54.86.93.188', '54.166.14.123', '52.46.147.250', '52.94.242.249', '3.208.206.229', '192.168.0.12', '52.6.241.232'}\n"
     ]
    }
   ],
   "source": [
    "dns_ips = set()\n",
    "for dns_name in dns_test:\n",
    "    for ip in dns_test[dns_name]:\n",
    "        dns_ips.add(ip)\n",
    "no_name = set()\n",
    "for ip in all_ips:\n",
    "    if ip not in dns_ips:\n",
    "        no_name.add(ip)\n",
    "print(len(no_name))\n",
    "print(no_name)"
   ]
  },
  {
   "cell_type": "code",
   "execution_count": null,
   "id": "6766ccac",
   "metadata": {},
   "outputs": [],
   "source": [
    "## create ip:domain"
   ]
  },
  {
   "cell_type": "code",
   "execution_count": 13,
   "id": "113c41b4",
   "metadata": {},
   "outputs": [],
   "source": [
    "dns = utilities.read_json(\"/home/c2/alexa/source/voice-assistant-central/NetworkAnalysis/data/DNS/dns_0307.json\")"
   ]
  },
  {
   "cell_type": "code",
   "execution_count": 14,
   "id": "959bb438",
   "metadata": {},
   "outputs": [],
   "source": [
    "ip_name_dict = {}\n",
    "for domain, ip_list in dns.items():\n",
    "    for ip in ip_list:\n",
    "        ip_name_dict[ip] = domain\n"
   ]
  },
  {
   "cell_type": "code",
   "execution_count": 15,
   "id": "77694c35",
   "metadata": {},
   "outputs": [],
   "source": [
    "ip_name_dict['54.239.18.66'] = 'avs-alexa-14-na.amazon.com'\n",
    "ip_name_dict['54.86.93.188'] = 'acsechocaptiveportal.com'\n",
    "ip_name_dict['54.166.14.123'] = 's3.amazonaws.com'\n",
    "ip_name_dict['52.46.147.250'] = 'api.amazon.com'\n",
    "ip_name_dict['52.94.242.249'] = 'avs-alexa-14-na.amazon.com'\n",
    "ip_name_dict['3.208.206.229'] = 's3.amazonaws.com'\n",
    "ip_name_dict['52.6.241.232'] = 'spectrum.s3.amazonaws.com'"
   ]
  },
  {
   "cell_type": "code",
   "execution_count": 10,
   "id": "5a16405a",
   "metadata": {},
   "outputs": [],
   "source": [
    "ip_name_dict['208.80.52.25'] = '24163.mc.tritondigital.com'\n",
    "ip_name_dict['52.94.227.146'] = 'bob-dispatch-prod-na.amazon.com'\n",
    "ip_name_dict['54.166.14.123'] = 's3.amazonaws.com'\n",
    "ip_name_dict['3.208.206.229'] = 's3.amazonaws.com'\n",
    "ip_name_dict['54.86.93.188'] = 'acsechocaptiveportal.com'\n",
    "ip_name_dict['205.251.243.55'] = 'avs-alexa-14-na.amazon.com'\n",
    "ip_name_dict['52.6.241.232'] = 'spectrum.s3.amazonaws.com'\n",
    "ip_name_dict['52.94.242.249'] = 'avs-alexa-14-na.amazon.com'\n",
    "ip_name_dict['52.46.147.250'] = 'api.amazon.com'\n",
    "ip_name_dict['192.173.30.52'] = 'turnernetworksales.mc.tritondigital.com'"
   ]
  },
  {
   "cell_type": "code",
   "execution_count": 16,
   "id": "e6c634d1",
   "metadata": {},
   "outputs": [],
   "source": [
    "utilities.write_json(\"/home/c2/alexa/source/voice-assistant-central/NetworkAnalysis/data/DNS/ip_domain.json\", ip_name_dict)"
   ]
  }
 ],
 "metadata": {
  "kernelspec": {
   "display_name": "Python 3 (ipykernel)",
   "language": "python",
   "name": "python3"
  },
  "language_info": {
   "codemirror_mode": {
    "name": "ipython",
    "version": 3
   },
   "file_extension": ".py",
   "mimetype": "text/x-python",
   "name": "python",
   "nbconvert_exporter": "python",
   "pygments_lexer": "ipython3",
   "version": "3.9.7"
  }
 },
 "nbformat": 4,
 "nbformat_minor": 5
}
