{
 "cells": [
  {
   "cell_type": "code",
   "execution_count": 1,
   "id": "e96151f2",
   "metadata": {},
   "outputs": [
    {
     "name": "stdout",
     "output_type": "stream",
     "text": [
      "Collecting selenium\n",
      "  Using cached selenium-3.141.0-py2.py3-none-any.whl (904 kB)\n",
      "Collecting urllib3\n",
      "  Using cached urllib3-1.26.6-py2.py3-none-any.whl (138 kB)\n",
      "Installing collected packages: urllib3, selenium\n",
      "Successfully installed selenium-3.141.0 urllib3-1.26.6\n",
      "\u001b[33mWARNING: You are using pip version 21.1.1; however, version 21.2.4 is available.\n",
      "You should consider upgrading via the '/Users/umariqbal/Documents/voice-assistant-central/env/bin/python3.9 -m pip install --upgrade pip' command.\u001b[0m\n"
     ]
    }
   ],
   "source": [
    "# ! pip3 install selenium\n",
    "# brew install geckodriver"
   ]
  },
  {
   "cell_type": "code",
   "execution_count": 2,
   "id": "800c2038",
   "metadata": {},
   "outputs": [],
   "source": [
    "from selenium import webdriver\n",
    "import time"
   ]
  },
  {
   "cell_type": "code",
   "execution_count": 22,
   "id": "4bc44917",
   "metadata": {},
   "outputs": [],
   "source": [
    "def signin(singin_page):\n",
    "    #     firefox_options = webdriver.FirefoxOptions()\n",
    "    #     firefox_options.add_argument('--disable-application-cache')\n",
    "    #     firefox_options.add_argument('--disable-infobars')\n",
    "    #     firefox_options.add_argument('--no-sandbox')    \n",
    "    #     firefox_options.add_argument('--chrome-binary=' + binary_path)\n",
    "    #     firefox_options.binary_location = binary_path\n",
    "    driver = webdriver.Firefox()\n",
    "    \n",
    "    try:\n",
    "        driver.get(singin_page)\n",
    "        time.sleep(3)\n",
    "\n",
    "        signin_button = driver.find_element_by_id('a-autoid-0-announce')\n",
    "        signin_button.click()\n",
    "        time.sleep(3)\n",
    "        \n",
    "        email_input = driver.find_element_by_id('ap_email')\n",
    "        email_input.send_keys('phillip-phillips-1@protonmail.com')\n",
    "        time.sleep(3)\n",
    "        \n",
    "        continue_button = driver.find_element_by_id('continue')\n",
    "        continue_button.click()\n",
    "        time.sleep(3)\n",
    "        \n",
    "        \n",
    "        password_input = driver.find_element_by_id('ap_password')\n",
    "        password_input.send_keys('change.me')\n",
    "        time.sleep(3)\n",
    "        \n",
    "        signin_button = driver.find_element_by_id('signInSubmit')\n",
    "        signin_button.click()\n",
    "        time.sleep(3)\n",
    "        \n",
    "        skill_enable_button = driver.find_element_by_id(\"a2s-skill-enable-button\")\n",
    "        skill_enable_button.click()\n",
    "        time.sleep(3)\n",
    "        \n",
    "        permission_button = driver.find_element_by_id(\"a-button-input\")\n",
    "        permission_button.click()\n",
    "        time.sleep(10)\n",
    "        \n",
    "    except BaseException as ex:\n",
    "        print('Something went wrong: ', str(ex))\n",
    "        pass\n",
    "\n",
    "    finally:\n",
    "        driver.quit()\n",
    "    \n",
    "\n",
    "def crawl(webpage_to_open):\n",
    "#     firefox_options = webdriver.FirefoxOptions()\n",
    "#     firefox_options.add_argument('--disable-application-cache')\n",
    "#     firefox_options.add_argument('--disable-infobars')\n",
    "#     firefox_options.add_argument('--no-sandbox')    \n",
    "#     firefox_options.add_argument('--chrome-binary=' + binary_path)\n",
    "#     firefox_options.binary_location = binary_path\n",
    "    driver = webdriver.Firefox()\n",
    "    \n",
    "    try:\n",
    "        driver.get(webpage_to_open)\n",
    "        time.sleep(3)\n",
    "        skill_enable_button = driver.find_element_by_id(\"a2s-skill-enable-button\")\n",
    "        \n",
    "        skill_enable_button.click()\n",
    "        time.sleep(10)\n",
    "    except BaseException as ex:\n",
    "        print('Something went wrong: ', str(ex))\n",
    "        pass\n",
    "\n",
    "    finally:\n",
    "        driver.quit()"
   ]
  },
  {
   "cell_type": "code",
   "execution_count": 23,
   "id": "a42c9461",
   "metadata": {},
   "outputs": [
    {
     "name": "stdout",
     "output_type": "stream",
     "text": [
      "Something went wrong:  Message: Unable to locate element: [id=\"a-button-input\"]\n",
      "\n"
     ]
    }
   ],
   "source": [
    "signin('https://www.amazon.com/Dominos-Pizza-LLC/dp/B01B5G99CC/ref=lp_14284822011_1_7?s=digital-skills&ie=UTF8')\n",
    "# crawl('https://www.amazon.com/Dominos-Pizza-LLC/dp/B01B5G99CC/ref=lp_14284822011_1_7?s=digital-skills&ie=UTF8')"
   ]
  },
  {
   "cell_type": "code",
   "execution_count": null,
   "id": "6210d529",
   "metadata": {},
   "outputs": [],
   "source": []
  }
 ],
 "metadata": {
  "kernelspec": {
   "display_name": "Python 3 (ipykernel)",
   "language": "python",
   "name": "python3"
  },
  "language_info": {
   "codemirror_mode": {
    "name": "ipython",
    "version": 3
   },
   "file_extension": ".py",
   "mimetype": "text/x-python",
   "name": "python",
   "nbconvert_exporter": "python",
   "pygments_lexer": "ipython3",
   "version": "3.9.5"
  }
 },
 "nbformat": 4,
 "nbformat_minor": 5
}
