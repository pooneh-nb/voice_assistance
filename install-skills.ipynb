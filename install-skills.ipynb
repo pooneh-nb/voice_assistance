{
 "cells": [
  {
   "cell_type": "markdown",
   "id": "3a0bf12f",
   "metadata": {},
   "source": [
    "### Install dependencies"
   ]
  },
  {
   "cell_type": "code",
   "execution_count": null,
   "id": "e96151f2",
   "metadata": {},
   "outputs": [],
   "source": [
    "# ! pip3 install selenium\n",
    "# brew install geckodriver"
   ]
  },
  {
   "cell_type": "markdown",
   "id": "1e59613f",
   "metadata": {},
   "source": [
    "### [TODO] Programatically create new profiles. \n",
    "#### 1. Borrow code from OpenWPM: https://github.com/mozilla/OpenWPM/blob/9b4d3582bc3bdb4e319874a427d63ff14feadd2c/openwpm/deploy_browsers/deploy_firefox.py"
   ]
  },
  {
   "cell_type": "markdown",
   "id": "a039ff7a",
   "metadata": {},
   "source": [
    "### If unexpected errors occur, try changing marionette port"
   ]
  },
  {
   "cell_type": "code",
   "execution_count": 1,
   "id": "800c2038",
   "metadata": {},
   "outputs": [],
   "source": [
    "from selenium import webdriver\n",
    "import time\n",
    "\n",
    "from selenium.webdriver import FirefoxOptions\n",
    "from selenium.webdriver.firefox.firefox_binary import FirefoxBinary\n",
    "from selenium.webdriver.common.desired_capabilities import DesiredCapabilities"
   ]
  },
  {
   "cell_type": "markdown",
   "id": "11150986",
   "metadata": {},
   "source": [
    "### Manually updated preferences in profile (Important!):\n",
    "```\n",
    "1. Select custom privacy protection and disable all\n",
    "2. Disable auto updates\n",
    "3. Disable default browser check\n",
    "4. Disable recommended by pocket \n",
    "```\n",
    "------\n",
    "```\n",
    "1. extensions.experiments.enabled --> True\n",
    "2. xpinstall.signatures.required --> False\n",
    "3. network.cookie.cookieBehavior --> 0\n",
    "4. browser.shell.checkDefaultBrowser --> False\n",
    "```"
   ]
  },
  {
   "cell_type": "markdown",
   "id": "053b2e71",
   "metadata": {},
   "source": [
    "### Helper functions"
   ]
  },
  {
   "cell_type": "code",
   "execution_count": 2,
   "id": "3ee58f31",
   "metadata": {},
   "outputs": [],
   "source": [
    "FIREFOX_EXE_PATH = '/Applications/Nightly.app/Contents/MacOS/firefox-bin'\n",
    "GECKO_PATH = '/opt/homebrew/bin/geckodriver'\n",
    "EXTENSION_PATH = '/Users/umariqbal/Documents/voice-assistant-central/browser-extension.zip'"
   ]
  },
  {
   "cell_type": "code",
   "execution_count": 37,
   "id": "3bbe63d9",
   "metadata": {},
   "outputs": [],
   "source": [
    "def get_webdriver(profile_path, gecko_path, exe_path, ext_loc):\n",
    "    options = FirefoxOptions()\n",
    "    options.add_argument('-profile')\n",
    "    options.add_argument(profile_path)\n",
    "    \n",
    "    firefox_capabilities = DesiredCapabilities.FIREFOX\n",
    "    firefox_capabilities['marionette'] = True\n",
    "\n",
    "    \n",
    "    firefox_profile = webdriver.FirefoxProfile()\n",
    "    firefox_bin = FirefoxBinary(firefox_path=exe_path)\n",
    "    driver = webdriver.Firefox(firefox_binary= firefox_bin,\n",
    "                               capabilities=firefox_capabilities, \n",
    "                               options=options, \n",
    "                               executable_path=gecko_path, \n",
    "                               service_args=[\"--marionette-port\", \"2828\"])\n",
    "\n",
    "    driver.install_addon(ext_loc, temporary=True)\n",
    "    \n",
    "    return driver\n",
    "\n",
    "def quit_driver(driver):\n",
    "    try:\n",
    "        driver.quit()\n",
    "    except BaseException as ex:\n",
    "        print('Something went wrong: ', str(ex))\n",
    "        \n",
    "def signin(driver, singin_page, email, password):\n",
    "    try:\n",
    "        driver.get(singin_page)\n",
    "        time.sleep(3)\n",
    "\n",
    "        signin_button = driver.find_element_by_id('a-autoid-0-announce')\n",
    "        signin_button.click()\n",
    "        time.sleep(3)\n",
    "        \n",
    "        try:\n",
    "            email_input = driver.find_element_by_id('ap_email')\n",
    "\n",
    "        except Exception:\n",
    "            ## Assume that the user is already signed in \n",
    "            print('Already signed in. Returning.')\n",
    "            return True\n",
    "            \n",
    "        email_input.send_keys(email)\n",
    "        time.sleep(3)\n",
    "        \n",
    "        continue_button = driver.find_element_by_id('continue')\n",
    "        continue_button.click()\n",
    "        time.sleep(3)\n",
    "        \n",
    "        password_input = driver.find_element_by_id('ap_password')\n",
    "        password_input.send_keys(password)\n",
    "        time.sleep(3)\n",
    "        \n",
    "        signin_button = driver.find_element_by_id('signInSubmit')\n",
    "        signin_button.click()\n",
    "        time.sleep(3)\n",
    "        \n",
    "    except BaseException as ex:\n",
    "        print('Something went wrong: ', str(ex))\n",
    "        return False\n",
    "    \n",
    "    return True\n",
    "\n",
    "\n",
    "def install_skill(driver, url, perm = False):\n",
    "    try:\n",
    "        driver.get(url)\n",
    "        time.sleep(3)\n",
    "        \n",
    "        skill_enable_button = driver.find_element_by_id(\"a2s-skill-enable-button\")\n",
    "        skill_enable_button.click()\n",
    "        time.sleep(3)\n",
    "        \n",
    "        if perm:\n",
    "            try \n",
    "                permission_button = driver.find_element_by_xpath(\"//input[@type='submit'][@class='a-button-input'][not(@aria-labelledby)]\")\n",
    "                permission_button.click()\n",
    "                time.sleep(3)\n",
    "       \n",
    "            except Exception:\n",
    "                print('Something went wrong when enabling permissions')\n",
    "                return False, 'perm'\n",
    "            \n",
    "\n",
    "    except BaseException as ex:\n",
    "        print('Something went wrong: ', str(ex))\n",
    "        return False, 'sim'\n",
    "    \n",
    "    return True, 'sim'"
   ]
  },
  {
   "cell_type": "code",
   "execution_count": 9,
   "id": "7a0f4eb0",
   "metadata": {},
   "outputs": [],
   "source": [
    "def train_persona(profile_path, signin_page, email, password, skills_urls, \n",
    "                  gecko_path=GECKO_PATH, exe_path=FIREFOX_EXE_PATH, ext_loc=EXTENSION_PATH):\n",
    "    \n",
    "    driver = get_webdriver(profile_path, gecko_path, exe_path, ext_loc)\n",
    "    print('WebDriver registered')\n",
    "    \n",
    "    signin_status = signin(driver, signin_page, email, password)\n",
    "\n",
    "    total_installed = 0\n",
    "    if signin_status:\n",
    "        print('Signed in.')\n",
    "        for skill_url in skills_urls:\n",
    "            install_status = install_skill(driver, skill_url):\n",
    "            # Log fully installed and partially installed extensions\n",
    "            if install_status[0]:\n",
    "                total_installed += 1\n",
    "    else:\n",
    "        print('Could not sign in. Stopping the process')\n",
    "        quit_driver(driver)\n",
    "        \n",
    "    \n",
    "    quit_driver(driver)\n",
    "    print('Installed %f skills.', (total_installed / len(skills_urls)) * 100.0)"
   ]
  },
  {
   "cell_type": "code",
   "execution_count": 11,
   "id": "579c88b2",
   "metadata": {},
   "outputs": [],
   "source": [
    "# profile_path = '/Users/umariqbal/Library/Application Support/Firefox/Profiles/y7zzv5nf.va-test'\n",
    "profile_path = '/Users/umariqbal/Library/Application Support/Firefox/Profiles/nf5umchy.va-night-test'\n",
    "signin_page = 'https://www.amazon.com/Dominos-Pizza-LLC/dp/B01B5G99CC/ref=lp_14284822011_1_7?s=digital-skills&ie=UTF8'\n",
    "\n",
    "email = 'phillip-phillips-1@protonmail.com'\n",
    "password = 'change.me'\n",
    "\n",
    "\n",
    "train_persona(profile_path, signin_page, email, password, \n",
    "                  gecko_path=GECKO_PATH, exe_path=FIREFOX_EXE_PATH, ext_loc=EXTENSION_PATH)"
   ]
  },
  {
   "cell_type": "code",
   "execution_count": 25,
   "id": "0635fcdf",
   "metadata": {},
   "outputs": [
    {
     "name": "stdout",
     "output_type": "stream",
     "text": [
      "Something went wrong:  Message: Unable to locate element: /html/body/div[4]/div/div/div[2]/span/span/span/input\n",
      "\n"
     ]
    },
    {
     "data": {
      "text/plain": [
       "False"
      ]
     },
     "execution_count": 25,
     "metadata": {},
     "output_type": "execute_result"
    }
   ],
   "source": [
    "install_skill(driver, skill_url)"
   ]
  },
  {
   "cell_type": "code",
   "execution_count": 29,
   "id": "6b75afe6",
   "metadata": {},
   "outputs": [],
   "source": [
    "# skill_enable_button = driver.find_element_by_id(\"a2s-skill-enable-button\")\n",
    "# skill_enable_button.click()\n",
    "# time.sleep(3)\n",
    "        \n",
    "# driver.find_element_by_xpath(\"/html/body/div[4]/div/div/div[2]/span/span/span/input\")\n",
    "permission_button = driver.find_element_by_xpath(\"/html/body/div[4]/div/div/div[2]/span/span/span/input\")"
   ]
  },
  {
   "cell_type": "code",
   "execution_count": 33,
   "id": "ea6d7395",
   "metadata": {},
   "outputs": [],
   "source": [
    "permission_button.click()\n",
    "# driver.quit()"
   ]
  },
  {
   "cell_type": "code",
   "execution_count": 38,
   "id": "baad6264",
   "metadata": {},
   "outputs": [
    {
     "name": "stdout",
     "output_type": "stream",
     "text": [
      "WebDriver obtained\n",
      "Already signed in. Returning.\n",
      "Signed in.\n",
      "Installed %f skills. 100.0\n"
     ]
    }
   ],
   "source": [
    "gecko_path=GECKO_PATH\n",
    "exe_path=FIREFOX_EXE_PATH\n",
    "ext_loc=EXTENSION_PATH\n",
    "\n",
    "skills_urls = [signin_page]\n",
    "\n",
    "driver = get_webdriver(profile_path, gecko_path, exe_path, ext_loc)\n",
    "print('WebDriver registered')\n",
    "\n",
    "signin_status = signin(driver, signin_page, email, password)\n",
    "\n",
    "total_installed = 0\n",
    "if signin_status:\n",
    "    print('Signed in.')\n",
    "    for skill_url in skills_urls:\n",
    "        if install_skill(driver, skill_url):\n",
    "            total_installed += 1\n",
    "else:\n",
    "    print('Could not sign in. Stopping the process')\n",
    "    quit_driver(driver)\n",
    "\n",
    "print(f'Installed %0.2f skills.' % ((total_installed / len(skills_urls)) * 100.0))"
   ]
  },
  {
   "cell_type": "code",
   "execution_count": 36,
   "id": "9698d1fa",
   "metadata": {},
   "outputs": [],
   "source": [
    "quit_driver(driver)"
   ]
  },
  {
   "cell_type": "code",
   "execution_count": null,
   "id": "7b787387",
   "metadata": {},
   "outputs": [],
   "source": [
    "def train_persona(profile_path, gecko_path, exe_path, ext_loc, webpage_to_open):\n",
    "    options = FirefoxOptions()\n",
    "    options.add_argument('-profile')\n",
    "    options.add_argument(profile_path)\n",
    "    \n",
    "    firefox_capabilities = DesiredCapabilities.FIREFOX\n",
    "    firefox_capabilities['marionette'] = True\n",
    "\n",
    "    \n",
    "    firefox_profile = webdriver.FirefoxProfile()\n",
    "    firefox_bin = FirefoxBinary(firefox_path=exe_path)\n",
    "    driver = webdriver.Firefox(firefox_binary= firefox_bin,\n",
    "                               capabilities=firefox_capabilities, \n",
    "                               options=options, \n",
    "                               executable_path=gecko_path, \n",
    "                               service_args=[\"--marionette-port\", \"2828\"])\n",
    "\n",
    "    driver.install_addon(ext_loc, temporary=True)\n",
    "\n",
    "    try:\n",
    "        driver.get(webpage_to_open)\n",
    "        time.sleep(30)\n",
    "        \n",
    "    except BaseException as ex:\n",
    "        print('Something went wrong: ', str(ex))\n",
    "        pass\n",
    "\n",
    "    finally:\n",
    "        driver.quit()"
   ]
  },
  {
   "cell_type": "code",
   "execution_count": null,
   "id": "4bc44917",
   "metadata": {},
   "outputs": [],
   "source": [
    "def signin(singin_page):\n",
    "    #     firefox_options = webdriver.FirefoxOptions()\n",
    "    #     firefox_options.add_argument('--disable-application-cache')\n",
    "    #     firefox_options.add_argument('--disable-infobars')\n",
    "    #     firefox_options.add_argument('--no-sandbox')    \n",
    "    #     firefox_options.add_argument('--chrome-binary=' + binary_path)\n",
    "    #     firefox_options.binary_location = binary_path\n",
    "    driver = webdriver.Firefox()\n",
    "    \n",
    "    try:\n",
    "        driver.get(singin_page)\n",
    "        time.sleep(3)\n",
    "\n",
    "        signin_button = driver.find_element_by_id('a-autoid-0-announce')\n",
    "        signin_button.click()\n",
    "        time.sleep(3)\n",
    "        \n",
    "        email_input = driver.find_element_by_id('ap_email')\n",
    "        email_input.send_keys('phillip-phillips-1@protonmail.com')\n",
    "        time.sleep(3)\n",
    "        \n",
    "        continue_button = driver.find_element_by_id('continue')\n",
    "        continue_button.click()\n",
    "        time.sleep(3)\n",
    "        \n",
    "        \n",
    "        password_input = driver.find_element_by_id('ap_password')\n",
    "        password_input.send_keys('change.me')\n",
    "        time.sleep(3)\n",
    "        \n",
    "        signin_button = driver.find_element_by_id('signInSubmit')\n",
    "        signin_button.click()\n",
    "        time.sleep(3)\n",
    "        \n",
    "        skill_enable_button = driver.find_element_by_id(\"a2s-skill-enable-button\")\n",
    "        skill_enable_button.click()\n",
    "        time.sleep(3)\n",
    "        \n",
    "        permission_button = driver.find_element_by_id(\"a-button-input\")\n",
    "        permission_button.click()\n",
    "        time.sleep(10)\n",
    "        \n",
    "    except BaseException as ex:\n",
    "        print('Something went wrong: ', str(ex))\n",
    "        pass\n",
    "\n",
    "    finally:\n",
    "        driver.quit()\n",
    "    \n",
    "\n",
    "def crawl___(webpage_to_open):\n",
    "#     firefox_options = webdriver.FirefoxOptions()\n",
    "#     firefox_options.add_argument('--disable-application-cache')\n",
    "#     firefox_options.add_argument('--disable-infobars')\n",
    "#     firefox_options.add_argument('--no-sandbox')    \n",
    "#     firefox_options.add_argument('--chrome-binary=' + binary_path)\n",
    "#     firefox_options.binary_location = binary_path\n",
    "    driver = webdriver.Firefox()\n",
    "    \n",
    "    try:\n",
    "        driver.get(webpage_to_open)\n",
    "        time.sleep(3)\n",
    "        skill_enable_button = driver.find_element_by_id(\"a2s-skill-enable-button\")\n",
    "        \n",
    "        skill_enable_button.click()\n",
    "        time.sleep(10)\n",
    "    except BaseException as ex:\n",
    "        print('Something went wrong: ', str(ex))\n",
    "        pass\n",
    "\n",
    "    finally:\n",
    "        driver.quit()"
   ]
  },
  {
   "cell_type": "code",
   "execution_count": null,
   "id": "a42c9461",
   "metadata": {},
   "outputs": [],
   "source": [
    "signin('https://www.amazon.com/Dominos-Pizza-LLC/dp/B01B5G99CC/ref=lp_14284822011_1_7?s=digital-skills&ie=UTF8')\n",
    "# crawl('https://www.amazon.com/Dominos-Pizza-LLC/dp/B01B5G99CC/ref=lp_14284822011_1_7?s=digital-skills&ie=UTF8')"
   ]
  },
  {
   "cell_type": "markdown",
   "id": "3a9ae252",
   "metadata": {},
   "source": [
    "### Rough work"
   ]
  },
  {
   "cell_type": "code",
   "execution_count": null,
   "id": "20e84ba2",
   "metadata": {},
   "outputs": [],
   "source": [
    "# def crawl__(profile_path, webpage_to_open):\n",
    "#     options = Options()\n",
    "#     options.add_argument(\"-profile\")\n",
    "#     options.add_argument(profile_path)\n",
    "#     firefox_capabilities = DesiredCapabilities.FIREFOX\n",
    "#     firefox_capabilities['marionette'] = True\n",
    "#     driver = webdriver.Firefox(capabilities=firefox_capabilities, firefox_options=options)\n",
    "    \n",
    "#     driver.get(webpage_to_open)\n",
    "#     time.sleep(3)\n",
    "\n",
    "# from selenium.webdriver.firefox.options import Options\n",
    "# from selenium.webdriver.common.desired_capabilities import DesiredCapabilities\n",
    "\n",
    "# options = Options()\n",
    "# options.add_argument(\"-profile\")\n",
    "# options.add_argument(\"/Users/umariqbal/Library/Application Support/Firefox/Profiles/y7zzv5nf.va-test\")\n",
    "# firefox_capabilities = DesiredCapabilities.FIREFOX\n",
    "# firefox_capabilities['marionette'] = True\n",
    "# driver = webdriver.Firefox(capabilities=firefox_capabilities, firefox_options=options, service_args=[\"--marionette-port\", \"2828\"])\n",
    "# driver.get('https://www.cnn.com')\n",
    "\n",
    "\n",
    "# crawl__(profile_path, 'cnn.com')\n",
    "\n",
    "# from selenium import webdriver\n",
    "# fp = webdriver.FirefoxProfile('/Users/umariqbal/Library/Application Support/Firefox/Profiles/y7zzv5nf.va-test')\n",
    "# driver = webdriver.Firefox(fp)\n",
    "# driver.get('https://www.cnn.com')\n",
    "\n",
    "# override_webdriver = \"\"\"script = document.createElement(\"script\"); \n",
    "#     script.type = 'text/javascript'; \n",
    "#     script.id = \"NotVeryUniqueID\"; \n",
    "#     script.innerHTML = \"Object.defineProperty(navigator, 'webdriver', {get: () => false}); document.getElementById('scripttttttt').remove();\"; \n",
    "#     document.documentElement.prepend(script);\"\"\"\n",
    "\n",
    "#     options.set_preference('dom.webdriver.enabled', False)\n",
    "#     options.set_preference('useAutomationExtension', False)\n",
    "    \n",
    "#     options.set_preference('extensions.experiments.enabled', True)    \n",
    "#     options.set_preference('xpinstall.signatures.required', False)\n",
    "#     firefox_profile.update_preferences()"
   ]
  },
  {
   "cell_type": "code",
   "execution_count": null,
   "id": "6136f06c",
   "metadata": {},
   "outputs": [],
   "source": [
    "# crawl(profile_path, gecko_path, exe_path, ext_loc, 'https://www.cnn.com')\n",
    "\n",
    "# driver = get_webdriver(profile_path, gecko_path, exe_path, ext_loc)\n",
    "# signin_status = signin(driver, signin_page)\n",
    "\n",
    "# if signin_status:\n",
    "#     install_skills()\n",
    "# else:\n",
    "#     print('Could not sign in succesfully!')\n",
    "# #     driver.quit()\n"
   ]
  }
 ],
 "metadata": {
  "kernelspec": {
   "display_name": "Python 3 (ipykernel)",
   "language": "python",
   "name": "python3"
  },
  "language_info": {
   "codemirror_mode": {
    "name": "ipython",
    "version": 3
   },
   "file_extension": ".py",
   "mimetype": "text/x-python",
   "name": "python",
   "nbconvert_exporter": "python",
   "pygments_lexer": "ipython3",
   "version": "3.9.5"
  }
 },
 "nbformat": 4,
 "nbformat_minor": 5
}
