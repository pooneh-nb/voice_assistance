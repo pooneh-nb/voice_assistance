{
 "cells": [
  {
   "cell_type": "code",
   "execution_count": null,
   "metadata": {},
   "outputs": [],
   "source": [
    "import utilities\n",
    "import os\n",
    "import socket"
   ]
  },
  {
   "cell_type": "code",
   "execution_count": null,
   "metadata": {},
   "outputs": [],
   "source": [
    "Traffic = \"/home/c2/alexa/source/voice-assistant-central/NetworkAnalysis/data/Traffic/Traffic_echo_0307\"\n",
    "categories = utilities.get_directories_in_a_directory(Traffic)\n",
    "base_dir = \"/home/c2/alexa/source/voice-assistant-central/NetworkAnalysis/data/post_processed/encrypted_echo/\""
   ]
  },
  {
   "cell_type": "markdown",
   "metadata": {},
   "source": [
    "### DNS Resolutions"
   ]
  },
  {
   "cell_type": "code",
   "execution_count": null,
   "metadata": {},
   "outputs": [],
   "source": [
    "# passed = [\"Fashion-Style\", \"ConnectedCar\",\"SmartHome\", \"Wine-Beverages\", \"Pets-Animals\", \"Navigation-TripPlanners\",\n",
    "#          \"Religion-Spirituality\", \"Dating\", \"Health-Fitness\"]\n",
    "for category in categories:\n",
    "    #print(category)\n",
    "    dns_resolutions = {}\n",
    "    category_name = category.split('/')[-1]\n",
    "    if category_name in passed:\n",
    "        continue\n",
    "    print(category)\n",
    "    network_json_dir = os.path.join(Traffic,category_name, category_name+\"-ENC-out.json\")\n",
    "    network_json = utilities.read_json(network_json_dir)\n",
    "    \n",
    "    for i in range(len(network_json)):\n",
    "        if network_json[i][\"_source\"][\"layers\"][\"frame\"][\"frame.protocols\"] == 'eth:ethertype:ip:udp:dns':\n",
    "            answers_key = []\n",
    "            if \"Answers\" in network_json[i][\"_source\"][\"layers\"][\"dns\"].keys():\n",
    "#                 answers_key  = network_json[i][\"_source\"][\"layers\"][\"dns\"][\"Answers\"].keys()\n",
    "#                 for key in answers_key:\n",
    "#                     if \"CNAME\" in key:\n",
    "#                         #print(\"CNAME\")\n",
    "#                         continue\n",
    "                    dns_a = network_json[i][\"_source\"][\"layers\"][\"dns\"][\"Answers\"][key][\"dns.a\"]\n",
    "                    dns_name = network_json[i][\"_source\"][\"layers\"][\"dns\"][\"Answers\"][key][\"dns.resp.name\"]\n",
    "                    dns_resolutions[dns_a] = dns_name\n",
    "    utilities.write_json(os.path.join(category, \"dns_resolutions.json\"), dns_resolutions)\n",
    "                "
   ]
  },
  {
   "cell_type": "markdown",
   "metadata": {},
   "source": [
    "### Aggregate DNS Resolutions"
   ]
  },
  {
   "cell_type": "code",
   "execution_count": null,
   "metadata": {},
   "outputs": [],
   "source": [
    "general_dns_resolutions = {}\n",
    "for category in categories:\n",
    "    category_name = category.split('/')[-1]\n",
    "    dns_resolutions = utilities.read_json(os.path.join(Traffic, category_name, \"dns_resolutions.json\"))\n",
    "    for ip, dns_name in dns_resolutions.items():\n",
    "        if ip not in general_dns_resolutions:\n",
    "            general_dns_resolutions[ip] = dns_name\n",
    "    print(category)\n",
    "utilities.write_json(os.path.join(base_dir, \"general_dns_resolutions.json\"), general_dns_resolutions)"
   ]
  },
  {
   "cell_type": "markdown",
   "metadata": {},
   "source": [
    "### Source & Destination IPs"
   ]
  },
  {
   "cell_type": "code",
   "execution_count": null,
   "metadata": {},
   "outputs": [],
   "source": [
    "passed = [\"Fashion-Style\", \"SmartHome\", \"Wine-Beverages\", \"Pets-Animals\",\"Navigation-TripPlanners\",\n",
    "         \"Religion-Spirituality\", \"Dating\", \"Health-Fitness\"]\n",
    "for category in categories:\n",
    "    \n",
    "    ip = {\"src\": [], \"dst\": []}\n",
    "    category_name = category.split('/')[-1]\n",
    "    if category_name in passed:\n",
    "        continue\n",
    "    print(category)\n",
    "    network_json_dir = os.path.join(category, category_name+\"-ENC-out.json\")\n",
    "    network_json = utilities.read_json(network_json_dir)\n",
    "    \n",
    "    for i in range(len(network_json)):\n",
    "        if 'ip' in network_json[i][\"_source\"][\"layers\"].keys():\n",
    "            ip[\"src\"].append(network_json[i][\"_source\"][\"layers\"]['ip']['ip.src'])\n",
    "            ip[\"dst\"].append(network_json[i][\"_source\"][\"layers\"]['ip']['ip.dst'])\n",
    "    \n",
    "    utilities.write_json(os.path.join(Traffic, category_name, \"ip.json\"), ip)"
   ]
  },
  {
   "cell_type": "markdown",
   "metadata": {},
   "source": [
    "# Skill Analysis"
   ]
  },
  {
   "cell_type": "code",
   "execution_count": null,
   "metadata": {},
   "outputs": [],
   "source": [
    "#general_dns_resolutions = utilities.read_json(os.path.join(base_dir, \"general_dns_resolutions.json\"))\n",
    "general_dns_resolutions = utilities.read_json(\"/home/c2/alexa/source/voice-assistant-central/NetworkAnalysis/data/post_processed/encrypted_echo/general_dns_resolutions.json\")"
   ]
  },
  {
   "cell_type": "code",
   "execution_count": null,
   "metadata": {},
   "outputs": [],
   "source": [
    "print(len(general_dns_resolutions))"
   ]
  },
  {
   "cell_type": "code",
   "execution_count": null,
   "metadata": {},
   "outputs": [],
   "source": [
    "### Filter Lists\n",
    "advertisers = utilities.read_json(\"/home/c2/alexa/source/voice-assistant-central/NetworkAnalysis/data/filter_lists/advertisers.json\")\n",
    "trackers = utilities.read_json(\"/home/c2/alexa/source/voice-assistant-central/NetworkAnalysis/data/filter_lists/trackers.json\")"
   ]
  },
  {
   "cell_type": "code",
   "execution_count": null,
   "metadata": {},
   "outputs": [],
   "source": [
    "all_non_resolvable_domains = set()"
   ]
  },
  {
   "cell_type": "markdown",
   "metadata": {},
   "source": [
    "# Fashion-Style"
   ]
  },
  {
   "cell_type": "code",
   "execution_count": null,
   "metadata": {},
   "outputs": [],
   "source": [
    "ips = utilities.read_json(os.path.join(Traffic, \"Fashion-Style\", \"ip.json\"))\n",
    "\n",
    "\n",
    "ip_src = set(ips['src'])\n",
    "ip_dst = set(ips['dst'])\n",
    "\n",
    "#What IPs only appeared in destination?\n",
    "print(ip_dst-ip_src)\n",
    "\n",
    "#What IPs only appeared in source?\n",
    "print(ip_src-ip_dst)\n",
    "\n",
    "# map IP to name ==> source\n",
    "src_domains = set()\n",
    "non_resolvable_src = set()\n",
    "for ip in ip_src:\n",
    "    if ip.startswith(\"10.42.0\"):\n",
    "        continue\n",
    "        #print(ip + \" : \" + \"Local Device\")\n",
    "    if ip in general_dns_resolutions:\n",
    "        #print(ip + \" : \" + general_dns_resolutions[ip])\n",
    "        src_domains.add(general_dns_resolutions[ip])\n",
    "    else:\n",
    "        #print(ip + \" : \" + \"--\")\n",
    "        non_resolvable_src.add(ip)\n",
    "        all_non_resolvable_domains.add(ip)\n",
    "        \n",
    "# map IP to name ==> destination\n",
    "dst_domains = set()\n",
    "non_resolvable_dst = set()\n",
    "for ip in ip_dst:\n",
    "    if ip.startswith(\"10.42.0\"):\n",
    "        continue\n",
    "        #print(ip + \" : \" + \"Local Device\")\n",
    "    if ip in general_dns_resolutions:\n",
    "        #print(ip + \" : \" + general_dns_resolutions[ip])\n",
    "        dst_domains.add(general_dns_resolutions[ip])\n",
    "    else:\n",
    "        #print(ip + \" : \" + \"--\")\n",
    "        non_resolvable_dst.add(ip)\n",
    "        all_non_resolvable_domains.add(ip)"
   ]
  },
  {
   "cell_type": "code",
   "execution_count": null,
   "metadata": {},
   "outputs": [],
   "source": [
    "all_non_resolvable_domains"
   ]
  },
  {
   "cell_type": "markdown",
   "metadata": {},
   "source": [
    "### Tracking domains"
   ]
  },
  {
   "cell_type": "code",
   "execution_count": null,
   "metadata": {},
   "outputs": [],
   "source": [
    "for src in src_domains:\n",
    "    if src in trackers:\n",
    "        print(src)\n",
    "for dst in dst_domains:\n",
    "    if dst in advertisers:\n",
    "        print(dst)"
   ]
  },
  {
   "cell_type": "markdown",
   "metadata": {},
   "source": [
    "### non-resolvable domains"
   ]
  },
  {
   "cell_type": "code",
   "execution_count": null,
   "metadata": {},
   "outputs": [],
   "source": [
    "print(non_resolvable_dst.union(non_resolvable_src))"
   ]
  },
  {
   "cell_type": "markdown",
   "metadata": {},
   "source": [
    "# Connected Car"
   ]
  },
  {
   "cell_type": "code",
   "execution_count": null,
   "metadata": {},
   "outputs": [],
   "source": [
    "ips = utilities.read_json(os.path.join(Traffic, \"ConnectedCar\", \"ip.json\"))\n",
    "\n",
    "\n",
    "ip_src = set(ips['src'])\n",
    "ip_dst = set(ips['dst'])\n",
    "\n",
    "#What IPs only appeared in destination?\n",
    "print(ip_dst-ip_src)\n",
    "\n",
    "#What IPs only appeared in source?\n",
    "print(ip_src-ip_dst)\n",
    "\n",
    "# map IP to name ==> source\n",
    "src_domains = set()\n",
    "non_resolvable_src = set()\n",
    "for ip in ip_src:\n",
    "    if ip.startswith(\"10.42.0\"):\n",
    "        continue\n",
    "        #print(ip + \" : \" + \"Local Device\")\n",
    "    if ip in general_dns_resolutions:\n",
    "        #print(ip + \" : \" + general_dns_resolutions[ip])\n",
    "        src_domains.add(general_dns_resolutions[ip])\n",
    "    else:\n",
    "        #print(ip + \" : \" + \"--\")\n",
    "        non_resolvable_src.add(ip)\n",
    "        all_non_resolvable_domains.add(ip)\n",
    "        \n",
    "# map IP to name ==> destination\n",
    "dst_domains = set()\n",
    "non_resolvable_dst = set()\n",
    "for ip in ip_dst:\n",
    "    if ip.startswith(\"10.42.0\"):\n",
    "        continue\n",
    "        #print(ip + \" : \" + \"Local Device\")\n",
    "    if ip in general_dns_resolutions:\n",
    "        #print(ip + \" : \" + general_dns_resolutions[ip])\n",
    "        dst_domains.add(general_dns_resolutions[ip])\n",
    "    else:\n",
    "        #print(ip + \" : \" + \"--\")\n",
    "        non_resolvable_dst.add(ip)\n",
    "        all_non_resolvable_domains.add(ip)"
   ]
  },
  {
   "cell_type": "code",
   "execution_count": null,
   "metadata": {},
   "outputs": [],
   "source": [
    "all_non_resolvable_domains"
   ]
  },
  {
   "cell_type": "markdown",
   "metadata": {},
   "source": [
    "### Tracking domains"
   ]
  },
  {
   "cell_type": "code",
   "execution_count": null,
   "metadata": {},
   "outputs": [],
   "source": [
    "for src in src_domains:\n",
    "    if src in trackers:\n",
    "        print(src)\n",
    "for dst in dst_domains:\n",
    "    if dst in advertisers:\n",
    "        print(dst)"
   ]
  },
  {
   "cell_type": "markdown",
   "metadata": {},
   "source": [
    "### non-resolvable domains"
   ]
  },
  {
   "cell_type": "code",
   "execution_count": null,
   "metadata": {},
   "outputs": [],
   "source": [
    "print(non_resolvable_dst.union(non_resolvable_src))"
   ]
  },
  {
   "cell_type": "markdown",
   "metadata": {},
   "source": [
    "# Dating"
   ]
  },
  {
   "cell_type": "code",
   "execution_count": null,
   "metadata": {},
   "outputs": [],
   "source": [
    "ips = utilities.read_json(os.path.join(Traffic, \"Dating\", \"ip.json\"))\n",
    "\n",
    "\n",
    "ip_src = set(ips['src'])\n",
    "ip_dst = set(ips['dst'])\n",
    "\n",
    "#What IPs only appeared in destination?\n",
    "print(ip_dst-ip_src)\n",
    "\n",
    "#What IPs only appeared in source?\n",
    "print(ip_src-ip_dst)\n",
    "\n",
    "# map IP to name ==> source\n",
    "src_domains = set()\n",
    "non_resolvable_src = set()\n",
    "for ip in ip_src:\n",
    "    if ip.startswith(\"10.42.0\"):\n",
    "        continue\n",
    "        #print(ip + \" : \" + \"Local Device\")\n",
    "    if ip in general_dns_resolutions:\n",
    "        #print(ip + \" : \" + general_dns_resolutions[ip])\n",
    "        src_domains.add(general_dns_resolutions[ip])\n",
    "    else:\n",
    "        #print(ip + \" : \" + \"--\")\n",
    "        non_resolvable_src.add(ip)\n",
    "        \n",
    "# map IP to name ==> destination\n",
    "dst_domains = set()\n",
    "non_resolvable_dst = set()\n",
    "for ip in ip_dst:\n",
    "    if ip.startswith(\"10.42.0\"):\n",
    "        continue\n",
    "        #print(ip + \" : \" + \"Local Device\")\n",
    "    if ip in general_dns_resolutions:\n",
    "        #print(ip + \" : \" + general_dns_resolutions[ip])\n",
    "        dst_domains.add(general_dns_resolutions[ip])\n",
    "        all_non_resolvable_domains.add(ip)\n",
    "    else:\n",
    "        #print(ip + \" : \" + \"--\")\n",
    "        non_resolvable_dst.add(ip)\n",
    "        all_non_resolvable_domains.add(ip)"
   ]
  },
  {
   "cell_type": "markdown",
   "metadata": {},
   "source": [
    "### Tracking domains"
   ]
  },
  {
   "cell_type": "code",
   "execution_count": null,
   "metadata": {},
   "outputs": [],
   "source": [
    "for src in src_domains:\n",
    "    if src in trackers:\n",
    "        print(src)\n",
    "for dst in dst_domains:\n",
    "    if dst in advertisers:\n",
    "        print(dst)"
   ]
  },
  {
   "cell_type": "markdown",
   "metadata": {},
   "source": [
    "### non-resolvable domains"
   ]
  },
  {
   "cell_type": "code",
   "execution_count": null,
   "metadata": {},
   "outputs": [],
   "source": [
    "print(non_resolvable_dst.union(non_resolvable_src))"
   ]
  },
  {
   "cell_type": "markdown",
   "metadata": {},
   "source": [
    "# Health Fitness"
   ]
  },
  {
   "cell_type": "code",
   "execution_count": null,
   "metadata": {},
   "outputs": [],
   "source": [
    "ips = utilities.read_json(os.path.join(Traffic, \"Health-Fitness\", \"ip.json\"))\n",
    "\n",
    "\n",
    "ip_src = set(ips['src'])\n",
    "ip_dst = set(ips['dst'])\n",
    "\n",
    "#What IPs only appeared in destination?\n",
    "print(ip_dst-ip_src)\n",
    "\n",
    "#What IPs only appeared in source?\n",
    "print(ip_src-ip_dst)\n",
    "\n",
    "# map IP to name ==> source\n",
    "src_domains = set()\n",
    "non_resolvable_src = set()\n",
    "for ip in ip_src:\n",
    "    if ip.startswith(\"10.42.0\"):\n",
    "        continue\n",
    "        #print(ip + \" : \" + \"Local Device\")\n",
    "    if ip in general_dns_resolutions:\n",
    "        #print(ip + \" : \" + general_dns_resolutions[ip])\n",
    "        src_domains.add(general_dns_resolutions[ip])\n",
    "    else:\n",
    "        #print(ip + \" : \" + \"--\")\n",
    "        non_resolvable_src.add(ip)\n",
    "        all_non_resolvable_domains.add(ip)\n",
    "        \n",
    "# map IP to name ==> destination\n",
    "dst_domains = set()\n",
    "non_resolvable_dst = set()\n",
    "for ip in ip_dst:\n",
    "    if ip.startswith(\"10.42.0\"):\n",
    "        continue\n",
    "        #print(ip + \" : \" + \"Local Device\")\n",
    "    if ip in general_dns_resolutions:\n",
    "        #print(ip + \" : \" + general_dns_resolutions[ip])\n",
    "        dst_domains.add(general_dns_resolutions[ip])\n",
    "    else:\n",
    "        #print(ip + \" : \" + \"--\")\n",
    "        non_resolvable_dst.add(ip)\n",
    "        all_non_resolvable_domains.add(ip)"
   ]
  },
  {
   "cell_type": "markdown",
   "metadata": {},
   "source": [
    "### Tracking domains"
   ]
  },
  {
   "cell_type": "code",
   "execution_count": null,
   "metadata": {},
   "outputs": [],
   "source": [
    "for src in src_domains:\n",
    "    if src in trackers:\n",
    "        print(src)\n",
    "for dst in dst_domains:\n",
    "    if dst in advertisers:\n",
    "        print(dst)"
   ]
  },
  {
   "cell_type": "markdown",
   "metadata": {},
   "source": [
    "### non-resolvable domains"
   ]
  },
  {
   "cell_type": "code",
   "execution_count": null,
   "metadata": {},
   "outputs": [],
   "source": [
    "print(non_resolvable_dst.union(non_resolvable_src))"
   ]
  },
  {
   "cell_type": "markdown",
   "metadata": {},
   "source": [
    "# Navigation TripPlanners"
   ]
  },
  {
   "cell_type": "code",
   "execution_count": null,
   "metadata": {},
   "outputs": [],
   "source": [
    "ips = utilities.read_json(os.path.join(Traffic, \"Navigation-TripPlanners\", \"ip.json\"))\n",
    "\n",
    "\n",
    "ip_src = set(ips['src'])\n",
    "ip_dst = set(ips['dst'])\n",
    "\n",
    "#What IPs only appeared in destination?\n",
    "print(ip_dst-ip_src)\n",
    "\n",
    "#What IPs only appeared in source?\n",
    "print(ip_src-ip_dst)\n",
    "\n",
    "# map IP to name ==> source\n",
    "src_domains = set()\n",
    "non_resolvable_src = set()\n",
    "for ip in ip_src:\n",
    "    if ip.startswith(\"10.42.0\"):\n",
    "        continue\n",
    "        #print(ip + \" : \" + \"Local Device\")\n",
    "    if ip in general_dns_resolutions:\n",
    "        #print(ip + \" : \" + general_dns_resolutions[ip])\n",
    "        src_domains.add(general_dns_resolutions[ip])\n",
    "    else:\n",
    "        #print(ip + \" : \" + \"--\")\n",
    "        non_resolvable_src.add(ip)\n",
    "        all_non_resolvable_domains.add(ip)\n",
    "        \n",
    "# map IP to name ==> destination\n",
    "dst_domains = set()\n",
    "non_resolvable_dst = set()\n",
    "for ip in ip_dst:\n",
    "    if ip.startswith(\"10.42.0\"):\n",
    "        continue\n",
    "        #print(ip + \" : \" + \"Local Device\")\n",
    "    if ip in general_dns_resolutions:\n",
    "        #print(ip + \" : \" + general_dns_resolutions[ip])\n",
    "        dst_domains.add(general_dns_resolutions[ip])\n",
    "    else:\n",
    "        #print(ip + \" : \" + \"--\")\n",
    "        non_resolvable_dst.add(ip)\n",
    "        all_non_resolvable_domains.add(ip)"
   ]
  },
  {
   "cell_type": "markdown",
   "metadata": {},
   "source": [
    "### Tracking domains"
   ]
  },
  {
   "cell_type": "code",
   "execution_count": null,
   "metadata": {},
   "outputs": [],
   "source": [
    "for src in src_domains:\n",
    "    if src in trackers:\n",
    "        print(src)\n",
    "for dst in dst_domains:\n",
    "    if dst in advertisers:\n",
    "        print(dst)"
   ]
  },
  {
   "cell_type": "markdown",
   "metadata": {},
   "source": [
    "### non-resolvable domains"
   ]
  },
  {
   "cell_type": "code",
   "execution_count": null,
   "metadata": {},
   "outputs": [],
   "source": [
    "print(non_resolvable_dst.union(non_resolvable_src))"
   ]
  },
  {
   "cell_type": "markdown",
   "metadata": {},
   "source": [
    "# Pets Animals"
   ]
  },
  {
   "cell_type": "code",
   "execution_count": null,
   "metadata": {},
   "outputs": [],
   "source": [
    "ips = utilities.read_json(os.path.join(Traffic, \"Pets-Animals\", \"ip.json\"))\n",
    "\n",
    "\n",
    "ip_src = set(ips['src'])\n",
    "ip_dst = set(ips['dst'])\n",
    "\n",
    "#What IPs only appeared in destination?\n",
    "print(ip_dst-ip_src)\n",
    "\n",
    "#What IPs only appeared in source?\n",
    "print(ip_src-ip_dst)\n",
    "\n",
    "# map IP to name ==> source\n",
    "src_domains = set()\n",
    "non_resolvable_src = set()\n",
    "for ip in ip_src:\n",
    "    if ip.startswith(\"10.42.0\"):\n",
    "        continue\n",
    "        #print(ip + \" : \" + \"Local Device\")\n",
    "    if ip in general_dns_resolutions:\n",
    "        #print(ip + \" : \" + general_dns_resolutions[ip])\n",
    "        src_domains.add(general_dns_resolutions[ip])\n",
    "    else:\n",
    "        #print(ip + \" : \" + \"--\")\n",
    "        non_resolvable_src.add(ip)\n",
    "        all_non_resolvable_domains.add(ip)\n",
    "        \n",
    "# map IP to name ==> destination\n",
    "dst_domains = set()\n",
    "non_resolvable_dst = set()\n",
    "for ip in ip_dst:\n",
    "    if ip.startswith(\"10.42.0\"):\n",
    "        continue\n",
    "        #print(ip + \" : \" + \"Local Device\")\n",
    "    if ip in general_dns_resolutions:\n",
    "        #print(ip + \" : \" + general_dns_resolutions[ip])\n",
    "        dst_domains.add(general_dns_resolutions[ip])\n",
    "    else:\n",
    "        #print(ip + \" : \" + \"--\")\n",
    "        non_resolvable_dst.add(ip)\n",
    "        all_non_resolvable_domains.add(ip)"
   ]
  },
  {
   "cell_type": "markdown",
   "metadata": {},
   "source": [
    "### Tracking domains"
   ]
  },
  {
   "cell_type": "code",
   "execution_count": null,
   "metadata": {},
   "outputs": [],
   "source": [
    "for src in src_domains:\n",
    "    if src in trackers:\n",
    "        print(src)\n",
    "for dst in dst_domains:\n",
    "    if dst in advertisers:\n",
    "        print(dst)"
   ]
  },
  {
   "cell_type": "markdown",
   "metadata": {},
   "source": [
    "### non-resolvable domains"
   ]
  },
  {
   "cell_type": "code",
   "execution_count": null,
   "metadata": {},
   "outputs": [],
   "source": [
    "print(non_resolvable_dst.union(non_resolvable_src))"
   ]
  },
  {
   "cell_type": "code",
   "execution_count": null,
   "metadata": {},
   "outputs": [],
   "source": []
  },
  {
   "cell_type": "markdown",
   "metadata": {},
   "source": [
    "# Religion Sprituality"
   ]
  },
  {
   "cell_type": "code",
   "execution_count": null,
   "metadata": {},
   "outputs": [],
   "source": [
    "ips = utilities.read_json(os.path.join(Traffic, \"Religion-Spirituality\", \"ip.json\"))\n",
    "\n",
    "\n",
    "ip_src = set(ips['src'])\n",
    "ip_dst = set(ips['dst'])\n",
    "\n",
    "#What IPs only appeared in destination?\n",
    "print(ip_dst-ip_src)\n",
    "\n",
    "#What IPs only appeared in source?\n",
    "print(ip_src-ip_dst)\n",
    "\n",
    "# map IP to name ==> source\n",
    "src_domains = set()\n",
    "non_resolvable_src = set()\n",
    "for ip in ip_src:\n",
    "    if ip.startswith(\"10.42.0\"):\n",
    "        continue\n",
    "        #print(ip + \" : \" + \"Local Device\")\n",
    "    if ip in general_dns_resolutions:\n",
    "        #print(ip + \" : \" + general_dns_resolutions[ip])\n",
    "        src_domains.add(general_dns_resolutions[ip])\n",
    "    else:\n",
    "        #print(ip + \" : \" + \"--\")\n",
    "        non_resolvable_src.add(ip)\n",
    "        all_non_resolvable_domains.add(ip)\n",
    "        \n",
    "# map IP to name ==> destination\n",
    "dst_domains = set()\n",
    "non_resolvable_dst = set()\n",
    "for ip in ip_dst:\n",
    "    if ip.startswith(\"10.42.0\"):\n",
    "        continue\n",
    "        #print(ip + \" : \" + \"Local Device\")\n",
    "    if ip in general_dns_resolutions:\n",
    "        #print(ip + \" : \" + general_dns_resolutions[ip])\n",
    "        dst_domains.add(general_dns_resolutions[ip])\n",
    "    else:\n",
    "        #print(ip + \" : \" + \"--\")\n",
    "        non_resolvable_dst.add(ip)\n",
    "        all_non_resolvable_domains.add(ip)"
   ]
  },
  {
   "cell_type": "markdown",
   "metadata": {},
   "source": [
    "### Tracking domains"
   ]
  },
  {
   "cell_type": "code",
   "execution_count": null,
   "metadata": {},
   "outputs": [],
   "source": [
    "for src in src_domains:\n",
    "    if src in trackers:\n",
    "        print(src)\n",
    "for dst in dst_domains:\n",
    "    if dst in advertisers:\n",
    "        print(dst)"
   ]
  },
  {
   "cell_type": "markdown",
   "metadata": {},
   "source": [
    "### non-resolvable domains"
   ]
  },
  {
   "cell_type": "code",
   "execution_count": null,
   "metadata": {},
   "outputs": [],
   "source": [
    "print(non_resolvable_dst.union(non_resolvable_src))"
   ]
  },
  {
   "cell_type": "markdown",
   "metadata": {},
   "source": [
    "# Smart Homes"
   ]
  },
  {
   "cell_type": "code",
   "execution_count": null,
   "metadata": {},
   "outputs": [],
   "source": [
    "ips = utilities.read_json(os.path.join(Traffic, \"SmartHome\", \"ip.json\"))\n",
    "\n",
    "\n",
    "ip_src = set(ips['src'])\n",
    "ip_dst = set(ips['dst'])\n",
    "\n",
    "#What IPs only appeared in destination?\n",
    "print(ip_dst-ip_src)\n",
    "\n",
    "#What IPs only appeared in source?\n",
    "print(ip_src-ip_dst)\n",
    "\n",
    "# map IP to name ==> source\n",
    "src_domains = set()\n",
    "non_resolvable_src = set()\n",
    "for ip in ip_src:\n",
    "    if ip.startswith(\"10.42.0\"):\n",
    "        continue\n",
    "        #print(ip + \" : \" + \"Local Device\")\n",
    "    if ip in general_dns_resolutions:\n",
    "        #print(ip + \" : \" + general_dns_resolutions[ip])\n",
    "        src_domains.add(general_dns_resolutions[ip])\n",
    "    else:\n",
    "        #print(ip + \" : \" + \"--\")\n",
    "        non_resolvable_src.add(ip)\n",
    "        all_non_resolvable_domains.add(ip)\n",
    "        \n",
    "# map IP to name ==> destination\n",
    "dst_domains = set()\n",
    "non_resolvable_dst = set()\n",
    "for ip in ip_dst:\n",
    "    if ip.startswith(\"10.42.0\"):\n",
    "        continue\n",
    "        #print(ip + \" : \" + \"Local Device\")\n",
    "    if ip in general_dns_resolutions:\n",
    "        #print(ip + \" : \" + general_dns_resolutions[ip])\n",
    "        dst_domains.add(general_dns_resolutions[ip])\n",
    "    else:\n",
    "        #print(ip + \" : \" + \"--\")\n",
    "        non_resolvable_dst.add(ip)\n",
    "        all_non_resolvable_domains.add(ip)"
   ]
  },
  {
   "cell_type": "markdown",
   "metadata": {},
   "source": [
    "### Tracking domains"
   ]
  },
  {
   "cell_type": "code",
   "execution_count": null,
   "metadata": {},
   "outputs": [],
   "source": [
    "for src in src_domains:\n",
    "    if src in trackers:\n",
    "        print(src)\n",
    "for dst in dst_domains:\n",
    "    if dst in advertisers:\n",
    "        print(dst)"
   ]
  },
  {
   "cell_type": "markdown",
   "metadata": {},
   "source": [
    "### non-resolvable domains"
   ]
  },
  {
   "cell_type": "code",
   "execution_count": null,
   "metadata": {},
   "outputs": [],
   "source": [
    "print(non_resolvable_dst.union(non_resolvable_src))"
   ]
  },
  {
   "cell_type": "markdown",
   "metadata": {},
   "source": [
    "# Wine Beverages"
   ]
  },
  {
   "cell_type": "code",
   "execution_count": null,
   "metadata": {},
   "outputs": [],
   "source": [
    "ips = utilities.read_json(os.path.join(Traffic, \"Wine-Beverages\", \"ip.json\"))\n",
    "\n",
    "\n",
    "ip_src = set(ips['src'])\n",
    "ip_dst = set(ips['dst'])\n",
    "\n",
    "#What IPs only appeared in destination?\n",
    "print(ip_dst-ip_src)\n",
    "\n",
    "#What IPs only appeared in source?\n",
    "print(ip_src-ip_dst)\n",
    "\n",
    "# map IP to name ==> source\n",
    "src_domains = set()\n",
    "non_resolvable_src = set()\n",
    "for ip in ip_src:\n",
    "    if ip.startswith(\"10.42.0\"):\n",
    "        continue\n",
    "        #print(ip + \" : \" + \"Local Device\")\n",
    "    if ip in general_dns_resolutions:\n",
    "        #print(ip + \" : \" + general_dns_resolutions[ip])\n",
    "        src_domains.add(general_dns_resolutions[ip])\n",
    "    else:\n",
    "        #print(ip + \" : \" + \"--\")\n",
    "        non_resolvable_src.add(ip)\n",
    "        all_non_resolvable_domains.add(ip)\n",
    "        \n",
    "# map IP to name ==> destination\n",
    "dst_domains = set()\n",
    "non_resolvable_dst = set()\n",
    "for ip in ip_dst:\n",
    "    if ip.startswith(\"10.42.0\"):\n",
    "        continue\n",
    "        #print(ip + \" : \" + \"Local Device\")\n",
    "    if ip in general_dns_resolutions:\n",
    "        #print(ip + \" : \" + general_dns_resolutions[ip])\n",
    "        dst_domains.add(general_dns_resolutions[ip])\n",
    "    else:\n",
    "        #print(ip + \" : \" + \"--\")\n",
    "        non_resolvable_dst.add(ip)\n",
    "        all_non_resolvable_domains.add(ip)"
   ]
  },
  {
   "cell_type": "markdown",
   "metadata": {},
   "source": [
    "### Tracking domains"
   ]
  },
  {
   "cell_type": "code",
   "execution_count": null,
   "metadata": {},
   "outputs": [],
   "source": [
    "for src in src_domains:\n",
    "    if src in trackers:\n",
    "        print(src)\n",
    "for dst in dst_domains:\n",
    "    if dst in advertisers:\n",
    "        print(dst)"
   ]
  },
  {
   "cell_type": "markdown",
   "metadata": {},
   "source": [
    "### non-resolvable domains"
   ]
  },
  {
   "cell_type": "code",
   "execution_count": null,
   "metadata": {},
   "outputs": [],
   "source": [
    "print(non_resolvable_dst.union(non_resolvable_src))"
   ]
  },
  {
   "cell_type": "markdown",
   "metadata": {},
   "source": [
    "# Non-resolvable IPs"
   ]
  },
  {
   "cell_type": "code",
   "execution_count": null,
   "metadata": {},
   "outputs": [],
   "source": [
    "all_non_resolvable_domains\n",
    "utilities.write_json(os.path.join(base_dir, \"all_non_resolvable_domains.json\"), list(all_non_resolvable_domains))"
   ]
  },
  {
   "cell_type": "code",
   "execution_count": null,
   "metadata": {},
   "outputs": [],
   "source": [
    "data_dir = \"/home/c2/alexa/source/voice-assistant-central/NetworkAnalysis/data\"\n",
    "all_non_resolvable_domains = utilities.read_json(os.path.join(base_dir, \"all_non_resolvable_domains.json\"))\n",
    "gethostbysocket = {}\n",
    "all_non_resolvable_domains_new = set()"
   ]
  },
  {
   "cell_type": "markdown",
   "metadata": {},
   "source": [
    "### Address other non-resolvable IPs"
   ]
  },
  {
   "cell_type": "code",
   "execution_count": null,
   "metadata": {},
   "outputs": [],
   "source": [
    "import socket\n",
    "for ip in all_non_resolvable_domains:\n",
    "    try:\n",
    "        gethostbysocket[ip] = socket.gethostbyaddr(ip)[0]\n",
    "    except:\n",
    "        all_non_resolvable_domains_new.add(ip)\n",
    "data_dir = \"/home/c2/alexa/source/voice-assistant-central/NetworkAnalysis/data\"        \n",
    "utilities.write_json(os.path.join(base_dir, \"all_non_resolvable_domains_new.json\"), list(all_non_resolvable_domains_new))\n",
    "utilities.write_json(os.path.join(base_dir, \"other_dns_resolutions.json\"), gethostbysocket)"
   ]
  },
  {
   "cell_type": "code",
   "execution_count": null,
   "metadata": {},
   "outputs": [],
   "source": [
    "filter_list_dir = \"/home/c2/alexa/source/voice-assistant-central/NetworkAnalysis/data/filter_lists\"\n",
    "tracking_domains = utilities.read_json(os.path.join(filter_list_dir, \"tracking_domains.json\"))\n",
    "for ip, host in gethostbysocket.items():\n",
    "    #print(ip, host)\n",
    "    if host in tracking_domains:\n",
    "        print(host)"
   ]
  },
  {
   "cell_type": "code",
   "execution_count": null,
   "metadata": {},
   "outputs": [],
   "source": [
    "non_resolvable_ips = []\n",
    "for ip in all_non_resolvable_domains:\n",
    "    if ip not in general_dns_resolutions.keys():\n",
    "        non_resolvable_ips.append(ip)\n",
    "utilities.write_json(os.path.join(base_dir, \"non_resolvable_ips.json\"), list(non_resolvable_ips))\n"
   ]
  },
  {
   "cell_type": "code",
   "execution_count": null,
   "metadata": {},
   "outputs": [],
   "source": [
    "#non_resolvable IPs\n",
    "non_obs_ips = utilities.read_json(os.path.join(data_dir, \"all_non_resolvable_domains_new.json\"))\n",
    "non_obs_ips"
   ]
  }
 ],
 "metadata": {
  "kernelspec": {
   "display_name": "Python 3 (ipykernel)",
   "language": "python",
   "name": "python3"
  },
  "language_info": {
   "codemirror_mode": {
    "name": "ipython",
    "version": 3
   },
   "file_extension": ".py",
   "mimetype": "text/x-python",
   "name": "python",
   "nbconvert_exporter": "python",
   "pygments_lexer": "ipython3",
   "version": "3.9.7"
  }
 },
 "nbformat": 4,
 "nbformat_minor": 2
}
