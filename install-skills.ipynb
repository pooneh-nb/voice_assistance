{
 "cells": [
  {
   "cell_type": "markdown",
   "id": "36bad8f4",
   "metadata": {},
   "source": [
    "## Workflow\n",
    "```\n",
    "1. Create a new email address\n",
    "2. Add email address to persona-email-map.json file \n",
    "3. Create Amazon account with that email\n",
    "    a. At times it is difficult to create an Amazon account without a phone number\n",
    "4. Create a fresh browser profile and update preferences as mentioned below\n",
    "5. Reset Amazon Echo\n",
    "6. Sign in to Protonmail, Amazon, and alexa.amazon.com\n",
    "7. Install skills!\n",
    "```"
   ]
  },
  {
   "cell_type": "markdown",
   "id": "aba3dba2",
   "metadata": {},
   "source": [
    "### Manually updated preferences in profile (Important!):\n",
    "```\n",
    "1. Select custom privacy protection and disable all\n",
    "2. Disable auto updates\n",
    "3. Disable default browser check\n",
    "4. Disable recommended by pocket \n",
    "```\n",
    "------\n",
    "```\n",
    "1. extensions.experiments.enabled --> True\n",
    "2. xpinstall.signatures.required --> False\n",
    "3. network.cookie.cookieBehavior --> 0 (auto)\n",
    "4. browser.shell.checkDefaultBrowser --> False (auto)\n",
    "```"
   ]
  },
  {
   "cell_type": "markdown",
   "id": "effab54a",
   "metadata": {},
   "source": [
    "### Persona popularity\n",
    "1. https://www.statista.com/statistics/301868/distribution-digital-ad-spend-by-industry-channel-usa/\n",
    "2. https://www.statista.com/statistics/275506/top-advertising-categories-in-the-us/\n",
    "3. https://www.marketingcharts.com/charts/top-10-advertising-categories-in-q1-2020"
   ]
  },
  {
   "cell_type": "markdown",
   "id": "8c5500dd",
   "metadata": {},
   "source": [
    "### Install dependencies"
   ]
  },
  {
   "cell_type": "code",
   "execution_count": null,
   "id": "e96151f2",
   "metadata": {},
   "outputs": [],
   "source": [
    "# ! pip3 install selenium\n",
    "# brew install geckodriver\n",
    "# Download Firefox Nightly\n",
    "# https://firefox-ci-tc.services.mozilla.com/api/index/v1/task/gecko.v2.mozilla-release.revision.cda19fb46018c9cb8dc5e6127ebb2cfd04aa9be4.firefox.macosx64-add-on-devel/artifacts/public/build/target.dmg"
   ]
  },
  {
   "cell_type": "markdown",
   "id": "ceac975b",
   "metadata": {},
   "source": [
    "### [TODO] \n",
    "\n",
    "1. Programatically create new profiles. Borrow code from OpenWPM: https://github.com/mozilla/OpenWPM/blob/9b4d3582bc3bdb4e319874a427d63ff14feadd2c/openwpm/deploy_browsers/deploy_firefox.py"
   ]
  },
  {
   "cell_type": "code",
   "execution_count": 17,
   "id": "800c2038",
   "metadata": {},
   "outputs": [],
   "source": [
    "from selenium import webdriver\n",
    "import time\n",
    "\n",
    "from selenium.webdriver import FirefoxOptions\n",
    "from selenium.webdriver.firefox.firefox_binary import FirefoxBinary\n",
    "from selenium.webdriver.common.desired_capabilities import DesiredCapabilities\n",
    "\n",
    "import utilities\n",
    "import os"
   ]
  },
  {
   "cell_type": "markdown",
   "id": "b622d19b",
   "metadata": {},
   "source": [
    "### Helper functions"
   ]
  },
  {
   "cell_type": "code",
   "execution_count": 18,
   "id": "15fb8673",
   "metadata": {},
   "outputs": [],
   "source": [
    "FIREFOX_EXE_PATH = '/Applications/Nightly.app/Contents/MacOS/firefox-bin'\n",
    "GECKO_PATH = '/opt/homebrew/bin/geckodriver'\n",
    "\n",
    "# skill with no reviews\n",
    "SIGNIN_PAGE = 'https://www.amazon.com/Sarim-Studios-CurrentBitcoin/dp/B01N9SS2LI/ref=sr_1_3641'\n",
    "\n",
    "\n",
    "DATA_DIR = '/Users/umariqbal/Documents/voice-assistant-central/' \n",
    "EXTENSION_PATH = os.path.join(DATA_DIR, 'browser-extension.zip')\n",
    "\n",
    "CREDENTIALS_ADDR = os.path.join(DATA_DIR,'data/persona-email-map.json')\n",
    "SKILLS_ADDR = os.path.join(DATA_DIR,'data/grouped_skills.json')"
   ]
  },
  {
   "cell_type": "markdown",
   "id": "6f820447",
   "metadata": {},
   "source": [
    "#### Update persona name"
   ]
  },
  {
   "cell_type": "code",
   "execution_count": 19,
   "id": "de9c48b3",
   "metadata": {},
   "outputs": [],
   "source": [
    "PERSONA = 'SmartHome'"
   ]
  },
  {
   "cell_type": "code",
   "execution_count": 20,
   "id": "c9418f9f",
   "metadata": {},
   "outputs": [],
   "source": [
    "def get_webdriver(profile_path, gecko_path, exe_path, ext_loc):\n",
    "    options = FirefoxOptions()\n",
    "    options.add_argument('-profile')\n",
    "    options.add_argument(profile_path)\n",
    "    \n",
    "    firefox_capabilities = DesiredCapabilities.FIREFOX\n",
    "    firefox_capabilities['marionette'] = True\n",
    "\n",
    "    \n",
    "    firefox_profile = webdriver.FirefoxProfile()\n",
    "    firefox_bin = FirefoxBinary(firefox_path=exe_path)\n",
    "    driver = webdriver.Firefox(firefox_binary= firefox_bin,\n",
    "                               capabilities=firefox_capabilities, \n",
    "                               options=options, \n",
    "                               executable_path=gecko_path, \n",
    "                               service_args=[\"--marionette-port\", \"2828\"])\n",
    "\n",
    "    driver.install_addon(ext_loc, temporary=True)\n",
    "    \n",
    "    return driver\n",
    "\n",
    "\n",
    "def quit_driver(driver):\n",
    "    try:\n",
    "        driver.quit()\n",
    "    except BaseException as ex:\n",
    "        print('Something went wrong: ', str(ex))\n",
    "        \n",
    "        \n",
    "def signin(driver, singin_page, email, password):\n",
    "    try:\n",
    "        driver.get(singin_page)\n",
    "        time.sleep(3)\n",
    "\n",
    "        signin_button = driver.find_element_by_id('a-autoid-0-announce')\n",
    "        signin_button.click()\n",
    "        time.sleep(3)\n",
    "        \n",
    "        try:\n",
    "            email_input = driver.find_element_by_id('ap_email')\n",
    "\n",
    "        except Exception:\n",
    "            ## Assume that the user is already signed in \n",
    "            print('Already signed in. Returning.')\n",
    "            return True\n",
    "            \n",
    "        email_input.send_keys(email)\n",
    "        time.sleep(3)\n",
    "        \n",
    "        continue_button = driver.find_element_by_id('continue')\n",
    "        continue_button.click()\n",
    "        time.sleep(3)\n",
    "        \n",
    "        password_input = driver.find_element_by_id('ap_password')\n",
    "        password_input.send_keys(password)\n",
    "        time.sleep(3)\n",
    "        \n",
    "        signin_button = driver.find_element_by_id('signInSubmit')\n",
    "        signin_button.click()\n",
    "        time.sleep(3)\n",
    "        \n",
    "    except BaseException as ex:\n",
    "        print('Something went wrong: ', str(ex))\n",
    "        return False\n",
    "    \n",
    "    return True\n",
    "\n",
    "\n",
    "def install_skill(driver, url, perm = False):\n",
    "    try:\n",
    "        driver.get(url)\n",
    "        time.sleep(3)\n",
    "        \n",
    "        skill_enable_button = driver.find_element_by_id(\"a2s-skill-enable-button\")\n",
    "        skill_enable_button.click()\n",
    "        time.sleep(3)\n",
    "        \n",
    "        if perm:\n",
    "            try: \n",
    "                permission_button = driver.find_element_by_xpath(\"//input[@type='submit'][@class='a-button-input'][not(@aria-labelledby)]\")\n",
    "                permission_button.click()\n",
    "                time.sleep(3)\n",
    "       \n",
    "            except Exception:\n",
    "                print('Something went wrong when enabling permissions')\n",
    "                return False, 'perm'\n",
    "            \n",
    "\n",
    "    except BaseException as ex:\n",
    "        print('Something went wrong: ', str(ex))\n",
    "        return False, 'sim'\n",
    "    \n",
    "    return True, 'sim'"
   ]
  },
  {
   "cell_type": "code",
   "execution_count": 21,
   "id": "2c7adefb",
   "metadata": {},
   "outputs": [],
   "source": [
    "def train_persona(profile_path, email, password, skills_json, \n",
    "                  no_skills_to_install=50, signin_page=SIGNIN_PAGE,  \n",
    "                  gecko_path=GECKO_PATH, exe_path=FIREFOX_EXE_PATH, ext_loc=EXTENSION_PATH):\n",
    "    \n",
    "    driver = get_webdriver(profile_path, gecko_path, exe_path, ext_loc)\n",
    "    print('WebDriver registered')\n",
    "    \n",
    "    signin_status = signin(driver, signin_page, email, password)\n",
    "\n",
    "    total_installed = 0\n",
    "    if signin_status:\n",
    "        print('Signed in.')\n",
    "        for skill in skills_json:\n",
    "            \n",
    "            skill_perm = all_skills[skill]['Skill_permission']\n",
    "            skill_url = all_skills[skill]['Skill_link']\n",
    "            \n",
    "            if len(skill_perm) > 0:\n",
    "                skill_perm = True\n",
    "            else:\n",
    "                skill_perm = False\n",
    "                \n",
    "            \n",
    "            install_status = install_skill(driver, skill_url, skill_perm)\n",
    "            \n",
    "            # Log succesfully and partially installed skills\n",
    "            if install_status[0]:\n",
    "                total_installed += 1\n",
    "            \n",
    "            if total_installed >= no_skills_to_install:\n",
    "                break\n",
    "    else:\n",
    "        print('Could not sign in. Stopping the process')\n",
    "        quit_driver(driver)\n",
    "        \n",
    "    \n",
    "    quit_driver(driver)\n",
    "    print(total_installed, len(skills_json))\n",
    "    print('Installed %f skills.', (total_installed / len(no_skills_to_install)) * 100.0)"
   ]
  },
  {
   "cell_type": "markdown",
   "id": "d31f8b38",
   "metadata": {},
   "source": [
    "### Read email, password, and profile for the persona"
   ]
  },
  {
   "cell_type": "code",
   "execution_count": 22,
   "id": "1ee893fe",
   "metadata": {},
   "outputs": [],
   "source": [
    "credential = utilities.read_json(CREDENTIALS_ADDR)\n",
    "\n",
    "email = credential[PERSONA]['email']\n",
    "password = credential[PERSONA]['password']\n",
    "profile_addr = credential[PERSONA]['profile']"
   ]
  },
  {
   "cell_type": "code",
   "execution_count": 23,
   "id": "86e6fd1e",
   "metadata": {},
   "outputs": [
    {
     "data": {
      "text/plain": [
       "('phillip-phillips-6@protonmail.com',\n",
       " 'change.me',\n",
       " '/Users/umariqbal/Library/Application Support/Firefox/Profiles/dslzuepf.smart-home')"
      ]
     },
     "execution_count": 23,
     "metadata": {},
     "output_type": "execute_result"
    }
   ],
   "source": [
    "email, password, profile_addr"
   ]
  },
  {
   "cell_type": "markdown",
   "id": "f63e08f0",
   "metadata": {},
   "source": [
    "### Read top skills for the selected persona"
   ]
  },
  {
   "cell_type": "code",
   "execution_count": 24,
   "id": "8e00aee1",
   "metadata": {},
   "outputs": [],
   "source": [
    "all_skills = utilities.read_json(SKILLS_ADDR)\n",
    "all_skills = all_skills[PERSONA]\n",
    "# all_skills = all_skills['Local']"
   ]
  },
  {
   "cell_type": "code",
   "execution_count": 25,
   "id": "0cf2edda",
   "metadata": {},
   "outputs": [
    {
     "name": "stdout",
     "output_type": "stream",
     "text": [
      "WebDriver registered\n",
      "Already signed in. Returning.\n",
      "Signed in.\n",
      "50 2417\n",
      "Installed %f skills. 2.068680182043856\n"
     ]
    }
   ],
   "source": [
    "# profile_addr = '/Users/umariqbal/Library/Application Support/Firefox/Profiles/y7zzv5nf.va-test'\n",
    "# email = \"phillip-phillips-1@protonmail.com\"\n",
    "# password = \"change.me\"\n",
    "# profile_addr = '/Users/umariqbal/Library/Application Support/Firefox/Profiles/nf5umchy.va-night-test'\n",
    "\n",
    "train_persona(profile_addr, email, password, all_skills)"
   ]
  },
  {
   "cell_type": "code",
   "execution_count": null,
   "id": "171e5cc7",
   "metadata": {},
   "outputs": [],
   "source": []
  }
 ],
 "metadata": {
  "kernelspec": {
   "display_name": "Python 3 (ipykernel)",
   "language": "python",
   "name": "python3"
  },
  "language_info": {
   "codemirror_mode": {
    "name": "ipython",
    "version": 3
   },
   "file_extension": ".py",
   "mimetype": "text/x-python",
   "name": "python",
   "nbconvert_exporter": "python",
   "pygments_lexer": "ipython3",
   "version": "3.9.7"
  }
 },
 "nbformat": 4,
 "nbformat_minor": 5
}
