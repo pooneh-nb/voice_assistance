{
 "cells": [
  {
   "cell_type": "code",
   "execution_count": 2,
   "id": "f43ca301",
   "metadata": {},
   "outputs": [],
   "source": [
    "import utilities\n",
    "import os\n",
    "import csv\n",
    "import pandas as pd"
   ]
  },
  {
   "cell_type": "code",
   "execution_count": 3,
   "id": "f443c04e",
   "metadata": {},
   "outputs": [
    {
     "data": {
      "text/html": [
       "<div>\n",
       "<style scoped>\n",
       "    .dataframe tbody tr th:only-of-type {\n",
       "        vertical-align: middle;\n",
       "    }\n",
       "\n",
       "    .dataframe tbody tr th {\n",
       "        vertical-align: top;\n",
       "    }\n",
       "\n",
       "    .dataframe thead th {\n",
       "        text-align: right;\n",
       "    }\n",
       "</style>\n",
       "<table border=\"1\" class=\"dataframe\">\n",
       "  <thead>\n",
       "    <tr style=\"text-align: right;\">\n",
       "      <th></th>\n",
       "      <th>cat</th>\n",
       "      <th>skill_name</th>\n",
       "      <th>fqdn</th>\n",
       "      <th>domain_name</th>\n",
       "      <th>SLD</th>\n",
       "      <th>subdomain</th>\n",
       "      <th>organization</th>\n",
       "      <th>ATSes</th>\n",
       "      <th>Party</th>\n",
       "    </tr>\n",
       "  </thead>\n",
       "  <tbody>\n",
       "    <tr>\n",
       "      <th>0</th>\n",
       "      <td>Fashion-Style</td>\n",
       "      <td>B083PY1PGZ</td>\n",
       "      <td>bob-dispatch-prod-na.amazon.com</td>\n",
       "      <td>amazon.com</td>\n",
       "      <td>amazon</td>\n",
       "      <td>bob-dispatch-prod-na</td>\n",
       "      <td>Amazon Technologies, Inc.</td>\n",
       "      <td>others</td>\n",
       "      <td>Platform-based</td>\n",
       "    </tr>\n",
       "    <tr>\n",
       "      <th>1</th>\n",
       "      <td>Fashion-Style</td>\n",
       "      <td>B083PY1PGZ</td>\n",
       "      <td>ec2-54-166-14-123.compute-1.amazonaws.com</td>\n",
       "      <td>amazonaws.com</td>\n",
       "      <td>amazonaws</td>\n",
       "      <td>ec2-54-166-14-123.compute-1</td>\n",
       "      <td>Amazon Technologies, Inc.</td>\n",
       "      <td>others</td>\n",
       "      <td>Platform-based</td>\n",
       "    </tr>\n",
       "    <tr>\n",
       "      <th>2</th>\n",
       "      <td>Fashion-Style</td>\n",
       "      <td>B087YM4KJK</td>\n",
       "      <td>mlis.amazon.com</td>\n",
       "      <td>amazon.com</td>\n",
       "      <td>amazon</td>\n",
       "      <td>mlis</td>\n",
       "      <td>Amazon Technologies, Inc.</td>\n",
       "      <td>others</td>\n",
       "      <td>Platform-based</td>\n",
       "    </tr>\n",
       "    <tr>\n",
       "      <th>3</th>\n",
       "      <td>Fashion-Style</td>\n",
       "      <td>B087YM4KJK</td>\n",
       "      <td>bob-dispatch-prod-na.amazon.com</td>\n",
       "      <td>amazon.com</td>\n",
       "      <td>amazon</td>\n",
       "      <td>bob-dispatch-prod-na</td>\n",
       "      <td>Amazon Technologies, Inc.</td>\n",
       "      <td>others</td>\n",
       "      <td>Platform-based</td>\n",
       "    </tr>\n",
       "    <tr>\n",
       "      <th>4</th>\n",
       "      <td>Fashion-Style</td>\n",
       "      <td>B087YM4KJK</td>\n",
       "      <td>d1gsg05rq1vjdw.cloudfront.net</td>\n",
       "      <td>cloudfront.net</td>\n",
       "      <td>cloudfront</td>\n",
       "      <td>d1gsg05rq1vjdw</td>\n",
       "      <td>Amazon Technologies, Inc.</td>\n",
       "      <td>others</td>\n",
       "      <td>Platform-based</td>\n",
       "    </tr>\n",
       "    <tr>\n",
       "      <th>...</th>\n",
       "      <td>...</td>\n",
       "      <td>...</td>\n",
       "      <td>...</td>\n",
       "      <td>...</td>\n",
       "      <td>...</td>\n",
       "      <td>...</td>\n",
       "      <td>...</td>\n",
       "      <td>...</td>\n",
       "      <td>...</td>\n",
       "    </tr>\n",
       "    <tr>\n",
       "      <th>2600</th>\n",
       "      <td>Health-Fitness</td>\n",
       "      <td>B07PJWHYXM</td>\n",
       "      <td>d3p8zr0ffa9t17.cloudfront.net</td>\n",
       "      <td>cloudfront.net</td>\n",
       "      <td>cloudfront</td>\n",
       "      <td>d3p8zr0ffa9t17</td>\n",
       "      <td>Amazon Technologies, Inc.</td>\n",
       "      <td>others</td>\n",
       "      <td>Platform-based</td>\n",
       "    </tr>\n",
       "    <tr>\n",
       "      <th>2601</th>\n",
       "      <td>Health-Fitness</td>\n",
       "      <td>B07PJWHYXM</td>\n",
       "      <td>d1gsg05rq1vjdw.cloudfront.net</td>\n",
       "      <td>cloudfront.net</td>\n",
       "      <td>cloudfront</td>\n",
       "      <td>d1gsg05rq1vjdw</td>\n",
       "      <td>Amazon Technologies, Inc.</td>\n",
       "      <td>others</td>\n",
       "      <td>Platform-based</td>\n",
       "    </tr>\n",
       "    <tr>\n",
       "      <th>2602</th>\n",
       "      <td>Health-Fitness</td>\n",
       "      <td>B07PJWHYXM</td>\n",
       "      <td>ec2-34-198-99-173.compute-1.amazonaws.com</td>\n",
       "      <td>amazonaws.com</td>\n",
       "      <td>amazonaws</td>\n",
       "      <td>ec2-34-198-99-173.compute-1</td>\n",
       "      <td>Amazon Technologies, Inc.</td>\n",
       "      <td>others</td>\n",
       "      <td>Platform-based</td>\n",
       "    </tr>\n",
       "    <tr>\n",
       "      <th>2603</th>\n",
       "      <td>Health-Fitness</td>\n",
       "      <td>B07PJWHYXM</td>\n",
       "      <td>mlis.amazon.com</td>\n",
       "      <td>amazon.com</td>\n",
       "      <td>amazon</td>\n",
       "      <td>mlis</td>\n",
       "      <td>Amazon Technologies, Inc.</td>\n",
       "      <td>others</td>\n",
       "      <td>Platform-based</td>\n",
       "    </tr>\n",
       "    <tr>\n",
       "      <th>2604</th>\n",
       "      <td>Health-Fitness</td>\n",
       "      <td>B07PJWHYXM</td>\n",
       "      <td>d1gsg05rq1vjdw.cloudfront.net</td>\n",
       "      <td>cloudfront.net</td>\n",
       "      <td>cloudfront</td>\n",
       "      <td>d1gsg05rq1vjdw</td>\n",
       "      <td>Amazon Technologies, Inc.</td>\n",
       "      <td>others</td>\n",
       "      <td>Platform-based</td>\n",
       "    </tr>\n",
       "  </tbody>\n",
       "</table>\n",
       "<p>2605 rows × 9 columns</p>\n",
       "</div>"
      ],
      "text/plain": [
       "                 cat  skill_name                                       fqdn  \\\n",
       "0      Fashion-Style  B083PY1PGZ            bob-dispatch-prod-na.amazon.com   \n",
       "1      Fashion-Style  B083PY1PGZ  ec2-54-166-14-123.compute-1.amazonaws.com   \n",
       "2      Fashion-Style  B087YM4KJK                            mlis.amazon.com   \n",
       "3      Fashion-Style  B087YM4KJK            bob-dispatch-prod-na.amazon.com   \n",
       "4      Fashion-Style  B087YM4KJK              d1gsg05rq1vjdw.cloudfront.net   \n",
       "...              ...         ...                                        ...   \n",
       "2600  Health-Fitness  B07PJWHYXM              d3p8zr0ffa9t17.cloudfront.net   \n",
       "2601  Health-Fitness  B07PJWHYXM              d1gsg05rq1vjdw.cloudfront.net   \n",
       "2602  Health-Fitness  B07PJWHYXM  ec2-34-198-99-173.compute-1.amazonaws.com   \n",
       "2603  Health-Fitness  B07PJWHYXM                            mlis.amazon.com   \n",
       "2604  Health-Fitness  B07PJWHYXM              d1gsg05rq1vjdw.cloudfront.net   \n",
       "\n",
       "         domain_name         SLD                    subdomain  \\\n",
       "0         amazon.com      amazon         bob-dispatch-prod-na   \n",
       "1      amazonaws.com   amazonaws  ec2-54-166-14-123.compute-1   \n",
       "2         amazon.com      amazon                         mlis   \n",
       "3         amazon.com      amazon         bob-dispatch-prod-na   \n",
       "4     cloudfront.net  cloudfront               d1gsg05rq1vjdw   \n",
       "...              ...         ...                          ...   \n",
       "2600  cloudfront.net  cloudfront               d3p8zr0ffa9t17   \n",
       "2601  cloudfront.net  cloudfront               d1gsg05rq1vjdw   \n",
       "2602   amazonaws.com   amazonaws  ec2-34-198-99-173.compute-1   \n",
       "2603      amazon.com      amazon                         mlis   \n",
       "2604  cloudfront.net  cloudfront               d1gsg05rq1vjdw   \n",
       "\n",
       "                   organization   ATSes           Party  \n",
       "0     Amazon Technologies, Inc.  others  Platform-based  \n",
       "1     Amazon Technologies, Inc.  others  Platform-based  \n",
       "2     Amazon Technologies, Inc.  others  Platform-based  \n",
       "3     Amazon Technologies, Inc.  others  Platform-based  \n",
       "4     Amazon Technologies, Inc.  others  Platform-based  \n",
       "...                         ...     ...             ...  \n",
       "2600  Amazon Technologies, Inc.  others  Platform-based  \n",
       "2601  Amazon Technologies, Inc.  others  Platform-based  \n",
       "2602  Amazon Technologies, Inc.  others  Platform-based  \n",
       "2603  Amazon Technologies, Inc.  others  Platform-based  \n",
       "2604  Amazon Technologies, Inc.  others  Platform-based  \n",
       "\n",
       "[2605 rows x 9 columns]"
      ]
     },
     "execution_count": 3,
     "metadata": {},
     "output_type": "execute_result"
    }
   ],
   "source": [
    "df = pd.read_csv(\"/home/c2/alexa/source/voice-assistant-central/NetworkAnalysis/data/report.csv\")\n",
    "del df['Unnamed: 0']\n",
    "df"
   ]
  },
  {
   "cell_type": "markdown",
   "id": "27f4abdf",
   "metadata": {},
   "source": [
    "### Plot Taxonomy"
   ]
  },
  {
   "cell_type": "code",
   "execution_count": 4,
   "id": "00f9749f",
   "metadata": {},
   "outputs": [
    {
     "data": {
      "text/html": [
       "<div>\n",
       "<style scoped>\n",
       "    .dataframe tbody tr th:only-of-type {\n",
       "        vertical-align: middle;\n",
       "    }\n",
       "\n",
       "    .dataframe tbody tr th {\n",
       "        vertical-align: top;\n",
       "    }\n",
       "\n",
       "    .dataframe thead th {\n",
       "        text-align: right;\n",
       "    }\n",
       "</style>\n",
       "<table border=\"1\" class=\"dataframe\">\n",
       "  <thead>\n",
       "    <tr style=\"text-align: right;\">\n",
       "      <th></th>\n",
       "      <th>ATSes</th>\n",
       "    </tr>\n",
       "    <tr>\n",
       "      <th>Party</th>\n",
       "      <th></th>\n",
       "    </tr>\n",
       "  </thead>\n",
       "  <tbody>\n",
       "    <tr>\n",
       "      <th>Platform-based</th>\n",
       "      <td>2483</td>\n",
       "    </tr>\n",
       "    <tr>\n",
       "      <th>non_Platform-based</th>\n",
       "      <td>122</td>\n",
       "    </tr>\n",
       "  </tbody>\n",
       "</table>\n",
       "</div>"
      ],
      "text/plain": [
       "                    ATSes\n",
       "Party                    \n",
       "Platform-based       2483\n",
       "non_Platform-based    122"
      ]
     },
     "execution_count": 4,
     "metadata": {},
     "output_type": "execute_result"
    }
   ],
   "source": [
    "df_party = df[['Party', 'ATSes']]\n",
    "outer = df_party.groupby(['Party']).count()\n",
    "outer"
   ]
  },
  {
   "cell_type": "code",
   "execution_count": 5,
   "id": "45c49bbf",
   "metadata": {},
   "outputs": [
    {
     "data": {
      "text/plain": [
       "Party               ATSes             \n",
       "Platform-based      Ad                     338\n",
       "                    others                2145\n",
       "non_Platform-based  Tracking/Analytics      38\n",
       "                    others                  84\n",
       "dtype: int64"
      ]
     },
     "execution_count": 5,
     "metadata": {},
     "output_type": "execute_result"
    }
   ],
   "source": [
    "inner = df_party.groupby(['Party', 'ATSes']).size()\n",
    "inner"
   ]
  },
  {
   "cell_type": "code",
   "execution_count": 6,
   "id": "89151fc2",
   "metadata": {},
   "outputs": [
    {
     "data": {
      "text/plain": [
       "Index(['Ad', 'others', 'Tracking/Analytics', 'others'], dtype='object', name='ATSes')"
      ]
     },
     "execution_count": 6,
     "metadata": {},
     "output_type": "execute_result"
    }
   ],
   "source": [
    "inner_labels = inner.index.get_level_values(1)\n",
    "inner_labels"
   ]
  },
  {
   "cell_type": "code",
   "execution_count": 7,
   "id": "72f1ea7d",
   "metadata": {},
   "outputs": [
    {
     "data": {
      "image/png": "[encoded data removed]",
      "text/plain": [
       "<Figure size 1728x864 with 1 Axes>"
      ]
     },
     "metadata": {},
     "output_type": "display_data"
    }
   ],
   "source": [
    "import matplotlib.pyplot as plt\n",
    "import numpy as np\n",
    "\n",
    "\n",
    "fig, ax = plt.subplots(figsize=(24,12))\n",
    "size = 0.3\n",
    "\n",
    "\n",
    "\n",
    "ax.pie(outer.values.flatten(), radius=1,\n",
    "       labels=outer.index,\n",
    "       autopct='%1.1f%%',\n",
    "       colors=[\"#1D4776\", \"#FFBF00\"],\n",
    "       wedgeprops=dict(width=size, edgecolor='w'))\n",
    "\n",
    "ax.pie(inner.values.flatten(), radius=0.65, \n",
    "       labels = inner_labels,\n",
    "       autopct='%1.1f%%',\n",
    "       colors=[\"#C10230\", \"#AADA91\", \"#76236C\", \"#AADA91\"],\n",
    "       wedgeprops=dict(width=size, edgecolor='w'))\n",
    "\n",
    "ax.set(aspect=\"equal\", title='Pie plot with `ax.pie`')\n",
    "plt.savefig(\"pie.png\")\n",
    "plt.show()"
   ]
  },
  {
   "cell_type": "code",
   "execution_count": 16,
   "id": "bcfb13e4",
   "metadata": {},
   "outputs": [],
   "source": [
    "df_fqdn = df.loc[df['Party'] == 'Platform-based', 'fqdn']\n",
    "platform_base = {}\n",
    "for fqdn in df_fqdn:\n",
    "    if fqdn not in platform_base:\n",
    "        platform_base[fqdn] = 1\n",
    "    else:\n",
    "        platform_base[fqdn] += 1\n",
    "fqdn_skill_num_sorted = dict(sorted(platform_base.items(), key=lambda kv: kv[1], reverse=True))"
   ]
  },
  {
   "cell_type": "code",
   "execution_count": 17,
   "id": "15c44495",
   "metadata": {},
   "outputs": [
    {
     "data": {
      "image/png": "[encoded data removed]",
      "text/plain": [
       "<Figure size 640x480 with 1 Axes>"
      ]
     },
     "metadata": {},
     "output_type": "display_data"
    }
   ],
   "source": [
    "import matplotlib.pyplot as plt\n",
    "import numpy as np\n",
    "\n",
    "# Fixing random state for reproducibility\n",
    "np.random.seed(19680801)\n",
    "\n",
    "plt.rcdefaults()\n",
    "fig, ax = plt.subplots()\n",
    "\n",
    "# Example data\n",
    "fqdns = [fqdn for fqdn, skills_nums in fqdn_skill_num_sorted.items()]\n",
    "y_pos = np.arange(0,len(fqdn_skill_num_sorted),1)\n",
    "performance = [skills_nums for fqdn, skills_nums in fqdn_skill_num_sorted.items()]\n",
    "#error = np.random.rand(len(fqdns))\n",
    "\n",
    "ax.barh(y_pos, performance, align='edge', color = '#033266')\n",
    "ax.set_yticks(y_pos)\n",
    "ax.set_yticklabels(fqdns)\n",
    "#ax.invert_yaxis()  # labels read top-to-bottom\n",
    "ax.set_xlabel('number of skills')\n",
    "ax.set_title('Paltform_based FQDNs accessed by skills')\n",
    "plt.savefig('platform_barchart.png')\n",
    "plt.show()\n"
   ]
  },
  {
   "cell_type": "code",
   "execution_count": 18,
   "id": "78b2cf33",
   "metadata": {},
   "outputs": [],
   "source": [
    "df_fqdn_non = df.loc[df['Party'] == 'non_Platform-based', 'fqdn']\n",
    "non_platform_base = {}\n",
    "for fqdn in df_fqdn_non:\n",
    "    if fqdn not in non_platform_base:\n",
    "        non_platform_base[fqdn] = 1\n",
    "    else:\n",
    "        non_platform_base[fqdn] += 1\n",
    "fqdn_skill_num_sorted_non = dict(sorted(non_platform_base.items(), key=lambda kv: kv[1], reverse=True))"
   ]
  },
  {
   "cell_type": "code",
   "execution_count": 19,
   "id": "46b83d56",
   "metadata": {},
   "outputs": [
    {
     "data": {
      "text/plain": [
       "{'play.podtrac.com': 21,\n",
       " 'chtbl.com': 20,\n",
       " '1920044715.rsc.cdn77.org': 19,\n",
       " 'traffic.omny.fm': 17,\n",
       " 'pool-na-east-001-anycast.mc.tritondigital.com': 10,\n",
       " '24163.mc.tritondigital.com': 8,\n",
       " 'edge-block-www-env.dropbox-dns.com': 8,\n",
       " 'f6m8j5a8.stackpathcdn.com': 5,\n",
       " 'static.garmincdn.com.cdn.cloudflare.net': 3,\n",
       " 'f2.shared.global.fastly.net': 3,\n",
       " 'traffic.libsyn.com': 2,\n",
       " 'zs-in2-lc1-543-h2.zohopublic.in': 2,\n",
       " 'cds.s7w4q6b5.hwcdn.net': 1,\n",
       " 'mittendorf.net': 1,\n",
       " 'files.zohopublic.in': 1,\n",
       " 'o.sni.global.fastly.net': 1}"
      ]
     },
     "execution_count": 19,
     "metadata": {},
     "output_type": "execute_result"
    }
   ],
   "source": [
    "fqdn_skill_num_sorted_non"
   ]
  },
  {
   "cell_type": "code",
   "execution_count": 20,
   "id": "ffff2a6d",
   "metadata": {
    "scrolled": false
   },
   "outputs": [
    {
     "data": {
      "image/png": "[encoded data removed]",
      "text/plain": [
       "<Figure size 640x480 with 1 Axes>"
      ]
     },
     "metadata": {},
     "output_type": "display_data"
    }
   ],
   "source": [
    "import matplotlib.pyplot as plt\n",
    "import numpy as np\n",
    "\n",
    "# Fixing random state for reproducibility\n",
    "np.random.seed(19680801)\n",
    "\n",
    "plt.rcdefaults()\n",
    "fig, ax = plt.subplots()\n",
    "\n",
    "# Example data\n",
    "fqdns = [fqdn for fqdn, skills_nums in fqdn_skill_num_sorted_non.items()]\n",
    "y_pos = np.arange(0,len(fqdn_skill_num_sorted_non),1)\n",
    "performance = [skills_nums for fqdn, skills_nums in fqdn_skill_num_sorted_non.items()]\n",
    "#error = np.random.rand(len(fqdns))\n",
    "\n",
    "ax.barh(y_pos, performance, align='edge', color='#FFBF00')\n",
    "ax.set_yticks(y_pos)\n",
    "ax.set_yticklabels(fqdns)\n",
    "#ax.invert_yaxis()  # labels read top-to-bottom\n",
    "ax.set_xlabel('number of skills')\n",
    "ax.set_title('Top-30 domains accessed by skills')\n",
    "plt.savefig('thirdparty_barchart.png')\n",
    "plt.show()"
   ]
  },
  {
   "cell_type": "code",
   "execution_count": 153,
   "id": "295276b6",
   "metadata": {},
   "outputs": [
    {
     "data": {
      "text/html": [
       "<div>\n",
       "<style scoped>\n",
       "    .dataframe tbody tr th:only-of-type {\n",
       "        vertical-align: middle;\n",
       "    }\n",
       "\n",
       "    .dataframe tbody tr th {\n",
       "        vertical-align: top;\n",
       "    }\n",
       "\n",
       "    .dataframe thead th {\n",
       "        text-align: right;\n",
       "    }\n",
       "</style>\n",
       "<table border=\"1\" class=\"dataframe\">\n",
       "  <thead>\n",
       "    <tr style=\"text-align: right;\">\n",
       "      <th></th>\n",
       "      <th>cat</th>\n",
       "      <th>skill_name</th>\n",
       "      <th>fqdn</th>\n",
       "      <th>domain_name</th>\n",
       "      <th>SLD</th>\n",
       "      <th>subdomain</th>\n",
       "      <th>organization</th>\n",
       "      <th>ATSes</th>\n",
       "      <th>Party</th>\n",
       "    </tr>\n",
       "  </thead>\n",
       "  <tbody>\n",
       "    <tr>\n",
       "      <th>0</th>\n",
       "      <td>Fashion-Style</td>\n",
       "      <td>B083PY1PGZ</td>\n",
       "      <td>bob-dispatch-prod-na.amazon.com</td>\n",
       "      <td>amazon.com</td>\n",
       "      <td>amazon</td>\n",
       "      <td>bob-dispatch-prod-na</td>\n",
       "      <td>Amazon Technologies, Inc.</td>\n",
       "      <td>others</td>\n",
       "      <td>Platform-based</td>\n",
       "    </tr>\n",
       "    <tr>\n",
       "      <th>1</th>\n",
       "      <td>Fashion-Style</td>\n",
       "      <td>B083PY1PGZ</td>\n",
       "      <td>ec2-54-166-14-123.compute-1.amazonaws.com</td>\n",
       "      <td>amazonaws.com</td>\n",
       "      <td>amazonaws</td>\n",
       "      <td>ec2-54-166-14-123.compute-1</td>\n",
       "      <td>Amazon Technologies, Inc.</td>\n",
       "      <td>others</td>\n",
       "      <td>Platform-based</td>\n",
       "    </tr>\n",
       "    <tr>\n",
       "      <th>2</th>\n",
       "      <td>Fashion-Style</td>\n",
       "      <td>B087YM4KJK</td>\n",
       "      <td>mlis.amazon.com</td>\n",
       "      <td>amazon.com</td>\n",
       "      <td>amazon</td>\n",
       "      <td>mlis</td>\n",
       "      <td>Amazon Technologies, Inc.</td>\n",
       "      <td>others</td>\n",
       "      <td>Platform-based</td>\n",
       "    </tr>\n",
       "    <tr>\n",
       "      <th>3</th>\n",
       "      <td>Fashion-Style</td>\n",
       "      <td>B087YM4KJK</td>\n",
       "      <td>bob-dispatch-prod-na.amazon.com</td>\n",
       "      <td>amazon.com</td>\n",
       "      <td>amazon</td>\n",
       "      <td>bob-dispatch-prod-na</td>\n",
       "      <td>Amazon Technologies, Inc.</td>\n",
       "      <td>others</td>\n",
       "      <td>Platform-based</td>\n",
       "    </tr>\n",
       "    <tr>\n",
       "      <th>4</th>\n",
       "      <td>Fashion-Style</td>\n",
       "      <td>B087YM4KJK</td>\n",
       "      <td>d1gsg05rq1vjdw.cloudfront.net</td>\n",
       "      <td>cloudfront.net</td>\n",
       "      <td>cloudfront</td>\n",
       "      <td>d1gsg05rq1vjdw</td>\n",
       "      <td>Amazon Technologies, Inc.</td>\n",
       "      <td>others</td>\n",
       "      <td>Platform-based</td>\n",
       "    </tr>\n",
       "    <tr>\n",
       "      <th>...</th>\n",
       "      <td>...</td>\n",
       "      <td>...</td>\n",
       "      <td>...</td>\n",
       "      <td>...</td>\n",
       "      <td>...</td>\n",
       "      <td>...</td>\n",
       "      <td>...</td>\n",
       "      <td>...</td>\n",
       "      <td>...</td>\n",
       "    </tr>\n",
       "    <tr>\n",
       "      <th>2790</th>\n",
       "      <td>Health-Fitness</td>\n",
       "      <td>B07PJWHYXM</td>\n",
       "      <td>d3p8zr0ffa9t17.cloudfront.net</td>\n",
       "      <td>cloudfront.net</td>\n",
       "      <td>cloudfront</td>\n",
       "      <td>d3p8zr0ffa9t17</td>\n",
       "      <td>Amazon Technologies, Inc.</td>\n",
       "      <td>others</td>\n",
       "      <td>Platform-based</td>\n",
       "    </tr>\n",
       "    <tr>\n",
       "      <th>2791</th>\n",
       "      <td>Health-Fitness</td>\n",
       "      <td>B07PJWHYXM</td>\n",
       "      <td>d1gsg05rq1vjdw.cloudfront.net</td>\n",
       "      <td>cloudfront.net</td>\n",
       "      <td>cloudfront</td>\n",
       "      <td>d1gsg05rq1vjdw</td>\n",
       "      <td>Amazon Technologies, Inc.</td>\n",
       "      <td>others</td>\n",
       "      <td>Platform-based</td>\n",
       "    </tr>\n",
       "    <tr>\n",
       "      <th>2792</th>\n",
       "      <td>Health-Fitness</td>\n",
       "      <td>B07PJWHYXM</td>\n",
       "      <td>ec2-34-198-99-173.compute-1.amazonaws.com</td>\n",
       "      <td>amazonaws.com</td>\n",
       "      <td>amazonaws</td>\n",
       "      <td>ec2-34-198-99-173.compute-1</td>\n",
       "      <td>Amazon Technologies, Inc.</td>\n",
       "      <td>others</td>\n",
       "      <td>Platform-based</td>\n",
       "    </tr>\n",
       "    <tr>\n",
       "      <th>2793</th>\n",
       "      <td>Health-Fitness</td>\n",
       "      <td>B07PJWHYXM</td>\n",
       "      <td>mlis.amazon.com</td>\n",
       "      <td>amazon.com</td>\n",
       "      <td>amazon</td>\n",
       "      <td>mlis</td>\n",
       "      <td>Amazon Technologies, Inc.</td>\n",
       "      <td>others</td>\n",
       "      <td>Platform-based</td>\n",
       "    </tr>\n",
       "    <tr>\n",
       "      <th>2794</th>\n",
       "      <td>Health-Fitness</td>\n",
       "      <td>B07PJWHYXM</td>\n",
       "      <td>d1gsg05rq1vjdw.cloudfront.net</td>\n",
       "      <td>cloudfront.net</td>\n",
       "      <td>cloudfront</td>\n",
       "      <td>d1gsg05rq1vjdw</td>\n",
       "      <td>Amazon Technologies, Inc.</td>\n",
       "      <td>others</td>\n",
       "      <td>Platform-based</td>\n",
       "    </tr>\n",
       "  </tbody>\n",
       "</table>\n",
       "<p>2795 rows × 9 columns</p>\n",
       "</div>"
      ],
      "text/plain": [
       "                 cat  skill_name                                       fqdn  \\\n",
       "0      Fashion-Style  B083PY1PGZ            bob-dispatch-prod-na.amazon.com   \n",
       "1      Fashion-Style  B083PY1PGZ  ec2-54-166-14-123.compute-1.amazonaws.com   \n",
       "2      Fashion-Style  B087YM4KJK                            mlis.amazon.com   \n",
       "3      Fashion-Style  B087YM4KJK            bob-dispatch-prod-na.amazon.com   \n",
       "4      Fashion-Style  B087YM4KJK              d1gsg05rq1vjdw.cloudfront.net   \n",
       "...              ...         ...                                        ...   \n",
       "2790  Health-Fitness  B07PJWHYXM              d3p8zr0ffa9t17.cloudfront.net   \n",
       "2791  Health-Fitness  B07PJWHYXM              d1gsg05rq1vjdw.cloudfront.net   \n",
       "2792  Health-Fitness  B07PJWHYXM  ec2-34-198-99-173.compute-1.amazonaws.com   \n",
       "2793  Health-Fitness  B07PJWHYXM                            mlis.amazon.com   \n",
       "2794  Health-Fitness  B07PJWHYXM              d1gsg05rq1vjdw.cloudfront.net   \n",
       "\n",
       "         domain_name         SLD                    subdomain  \\\n",
       "0         amazon.com      amazon         bob-dispatch-prod-na   \n",
       "1      amazonaws.com   amazonaws  ec2-54-166-14-123.compute-1   \n",
       "2         amazon.com      amazon                         mlis   \n",
       "3         amazon.com      amazon         bob-dispatch-prod-na   \n",
       "4     cloudfront.net  cloudfront               d1gsg05rq1vjdw   \n",
       "...              ...         ...                          ...   \n",
       "2790  cloudfront.net  cloudfront               d3p8zr0ffa9t17   \n",
       "2791  cloudfront.net  cloudfront               d1gsg05rq1vjdw   \n",
       "2792   amazonaws.com   amazonaws  ec2-34-198-99-173.compute-1   \n",
       "2793      amazon.com      amazon                         mlis   \n",
       "2794  cloudfront.net  cloudfront               d1gsg05rq1vjdw   \n",
       "\n",
       "                   organization   ATSes           Party  \n",
       "0     Amazon Technologies, Inc.  others  Platform-based  \n",
       "1     Amazon Technologies, Inc.  others  Platform-based  \n",
       "2     Amazon Technologies, Inc.  others  Platform-based  \n",
       "3     Amazon Technologies, Inc.  others  Platform-based  \n",
       "4     Amazon Technologies, Inc.  others  Platform-based  \n",
       "...                         ...     ...             ...  \n",
       "2790  Amazon Technologies, Inc.  others  Platform-based  \n",
       "2791  Amazon Technologies, Inc.  others  Platform-based  \n",
       "2792  Amazon Technologies, Inc.  others  Platform-based  \n",
       "2793  Amazon Technologies, Inc.  others  Platform-based  \n",
       "2794  Amazon Technologies, Inc.  others  Platform-based  \n",
       "\n",
       "[2795 rows x 9 columns]"
      ]
     },
     "execution_count": 153,
     "metadata": {},
     "output_type": "execute_result"
    }
   ],
   "source": [
    "df"
   ]
  },
  {
   "cell_type": "code",
   "execution_count": 230,
   "id": "f497384a",
   "metadata": {},
   "outputs": [
    {
     "data": {
      "text/html": [
       "<div>\n",
       "<style scoped>\n",
       "    .dataframe tbody tr th:only-of-type {\n",
       "        vertical-align: middle;\n",
       "    }\n",
       "\n",
       "    .dataframe tbody tr th {\n",
       "        vertical-align: top;\n",
       "    }\n",
       "\n",
       "    .dataframe thead th {\n",
       "        text-align: right;\n",
       "    }\n",
       "</style>\n",
       "<table border=\"1\" class=\"dataframe\">\n",
       "  <thead>\n",
       "    <tr style=\"text-align: right;\">\n",
       "      <th></th>\n",
       "      <th>cat</th>\n",
       "      <th>skill_name</th>\n",
       "      <th>fqdn</th>\n",
       "      <th>domain_name</th>\n",
       "      <th>SLD</th>\n",
       "      <th>subdomain</th>\n",
       "      <th>organization</th>\n",
       "      <th>ATSes</th>\n",
       "      <th>Party</th>\n",
       "      <th>count</th>\n",
       "    </tr>\n",
       "  </thead>\n",
       "  <tbody>\n",
       "    <tr>\n",
       "      <th>0</th>\n",
       "      <td>Fashion-Style</td>\n",
       "      <td>B083PY1PGZ</td>\n",
       "      <td>bob-dispatch-prod-na.amazon.com</td>\n",
       "      <td>amazon.com</td>\n",
       "      <td>amazon</td>\n",
       "      <td>bob-dispatch-prod-na</td>\n",
       "      <td>Amazon Technologies, Inc.</td>\n",
       "      <td>others</td>\n",
       "      <td>Platform-based</td>\n",
       "      <td>1</td>\n",
       "    </tr>\n",
       "    <tr>\n",
       "      <th>1</th>\n",
       "      <td>Fashion-Style</td>\n",
       "      <td>B083PY1PGZ</td>\n",
       "      <td>ec2-54-166-14-123.compute-1.amazonaws.com</td>\n",
       "      <td>amazonaws.com</td>\n",
       "      <td>amazonaws</td>\n",
       "      <td>ec2-54-166-14-123.compute-1</td>\n",
       "      <td>Amazon Technologies, Inc.</td>\n",
       "      <td>others</td>\n",
       "      <td>Platform-based</td>\n",
       "      <td>1</td>\n",
       "    </tr>\n",
       "    <tr>\n",
       "      <th>2</th>\n",
       "      <td>Fashion-Style</td>\n",
       "      <td>B087YM4KJK</td>\n",
       "      <td>mlis.amazon.com</td>\n",
       "      <td>amazon.com</td>\n",
       "      <td>amazon</td>\n",
       "      <td>mlis</td>\n",
       "      <td>Amazon Technologies, Inc.</td>\n",
       "      <td>others</td>\n",
       "      <td>Platform-based</td>\n",
       "      <td>1</td>\n",
       "    </tr>\n",
       "    <tr>\n",
       "      <th>3</th>\n",
       "      <td>Fashion-Style</td>\n",
       "      <td>B087YM4KJK</td>\n",
       "      <td>bob-dispatch-prod-na.amazon.com</td>\n",
       "      <td>amazon.com</td>\n",
       "      <td>amazon</td>\n",
       "      <td>bob-dispatch-prod-na</td>\n",
       "      <td>Amazon Technologies, Inc.</td>\n",
       "      <td>others</td>\n",
       "      <td>Platform-based</td>\n",
       "      <td>1</td>\n",
       "    </tr>\n",
       "    <tr>\n",
       "      <th>4</th>\n",
       "      <td>Fashion-Style</td>\n",
       "      <td>B087YM4KJK</td>\n",
       "      <td>d1gsg05rq1vjdw.cloudfront.net</td>\n",
       "      <td>cloudfront.net</td>\n",
       "      <td>cloudfront</td>\n",
       "      <td>d1gsg05rq1vjdw</td>\n",
       "      <td>Amazon Technologies, Inc.</td>\n",
       "      <td>others</td>\n",
       "      <td>Platform-based</td>\n",
       "      <td>1</td>\n",
       "    </tr>\n",
       "    <tr>\n",
       "      <th>...</th>\n",
       "      <td>...</td>\n",
       "      <td>...</td>\n",
       "      <td>...</td>\n",
       "      <td>...</td>\n",
       "      <td>...</td>\n",
       "      <td>...</td>\n",
       "      <td>...</td>\n",
       "      <td>...</td>\n",
       "      <td>...</td>\n",
       "      <td>...</td>\n",
       "    </tr>\n",
       "    <tr>\n",
       "      <th>2600</th>\n",
       "      <td>Health-Fitness</td>\n",
       "      <td>B07PJWHYXM</td>\n",
       "      <td>d3p8zr0ffa9t17.cloudfront.net</td>\n",
       "      <td>cloudfront.net</td>\n",
       "      <td>cloudfront</td>\n",
       "      <td>d3p8zr0ffa9t17</td>\n",
       "      <td>Amazon Technologies, Inc.</td>\n",
       "      <td>others</td>\n",
       "      <td>Platform-based</td>\n",
       "      <td>1</td>\n",
       "    </tr>\n",
       "    <tr>\n",
       "      <th>2601</th>\n",
       "      <td>Health-Fitness</td>\n",
       "      <td>B07PJWHYXM</td>\n",
       "      <td>d1gsg05rq1vjdw.cloudfront.net</td>\n",
       "      <td>cloudfront.net</td>\n",
       "      <td>cloudfront</td>\n",
       "      <td>d1gsg05rq1vjdw</td>\n",
       "      <td>Amazon Technologies, Inc.</td>\n",
       "      <td>others</td>\n",
       "      <td>Platform-based</td>\n",
       "      <td>1</td>\n",
       "    </tr>\n",
       "    <tr>\n",
       "      <th>2602</th>\n",
       "      <td>Health-Fitness</td>\n",
       "      <td>B07PJWHYXM</td>\n",
       "      <td>ec2-34-198-99-173.compute-1.amazonaws.com</td>\n",
       "      <td>amazonaws.com</td>\n",
       "      <td>amazonaws</td>\n",
       "      <td>ec2-34-198-99-173.compute-1</td>\n",
       "      <td>Amazon Technologies, Inc.</td>\n",
       "      <td>others</td>\n",
       "      <td>Platform-based</td>\n",
       "      <td>1</td>\n",
       "    </tr>\n",
       "    <tr>\n",
       "      <th>2603</th>\n",
       "      <td>Health-Fitness</td>\n",
       "      <td>B07PJWHYXM</td>\n",
       "      <td>mlis.amazon.com</td>\n",
       "      <td>amazon.com</td>\n",
       "      <td>amazon</td>\n",
       "      <td>mlis</td>\n",
       "      <td>Amazon Technologies, Inc.</td>\n",
       "      <td>others</td>\n",
       "      <td>Platform-based</td>\n",
       "      <td>1</td>\n",
       "    </tr>\n",
       "    <tr>\n",
       "      <th>2604</th>\n",
       "      <td>Health-Fitness</td>\n",
       "      <td>B07PJWHYXM</td>\n",
       "      <td>d1gsg05rq1vjdw.cloudfront.net</td>\n",
       "      <td>cloudfront.net</td>\n",
       "      <td>cloudfront</td>\n",
       "      <td>d1gsg05rq1vjdw</td>\n",
       "      <td>Amazon Technologies, Inc.</td>\n",
       "      <td>others</td>\n",
       "      <td>Platform-based</td>\n",
       "      <td>1</td>\n",
       "    </tr>\n",
       "  </tbody>\n",
       "</table>\n",
       "<p>2605 rows × 10 columns</p>\n",
       "</div>"
      ],
      "text/plain": [
       "                 cat  skill_name                                       fqdn  \\\n",
       "0      Fashion-Style  B083PY1PGZ            bob-dispatch-prod-na.amazon.com   \n",
       "1      Fashion-Style  B083PY1PGZ  ec2-54-166-14-123.compute-1.amazonaws.com   \n",
       "2      Fashion-Style  B087YM4KJK                            mlis.amazon.com   \n",
       "3      Fashion-Style  B087YM4KJK            bob-dispatch-prod-na.amazon.com   \n",
       "4      Fashion-Style  B087YM4KJK              d1gsg05rq1vjdw.cloudfront.net   \n",
       "...              ...         ...                                        ...   \n",
       "2600  Health-Fitness  B07PJWHYXM              d3p8zr0ffa9t17.cloudfront.net   \n",
       "2601  Health-Fitness  B07PJWHYXM              d1gsg05rq1vjdw.cloudfront.net   \n",
       "2602  Health-Fitness  B07PJWHYXM  ec2-34-198-99-173.compute-1.amazonaws.com   \n",
       "2603  Health-Fitness  B07PJWHYXM                            mlis.amazon.com   \n",
       "2604  Health-Fitness  B07PJWHYXM              d1gsg05rq1vjdw.cloudfront.net   \n",
       "\n",
       "         domain_name         SLD                    subdomain  \\\n",
       "0         amazon.com      amazon         bob-dispatch-prod-na   \n",
       "1      amazonaws.com   amazonaws  ec2-54-166-14-123.compute-1   \n",
       "2         amazon.com      amazon                         mlis   \n",
       "3         amazon.com      amazon         bob-dispatch-prod-na   \n",
       "4     cloudfront.net  cloudfront               d1gsg05rq1vjdw   \n",
       "...              ...         ...                          ...   \n",
       "2600  cloudfront.net  cloudfront               d3p8zr0ffa9t17   \n",
       "2601  cloudfront.net  cloudfront               d1gsg05rq1vjdw   \n",
       "2602   amazonaws.com   amazonaws  ec2-34-198-99-173.compute-1   \n",
       "2603      amazon.com      amazon                         mlis   \n",
       "2604  cloudfront.net  cloudfront               d1gsg05rq1vjdw   \n",
       "\n",
       "                   organization   ATSes           Party  count  \n",
       "0     Amazon Technologies, Inc.  others  Platform-based      1  \n",
       "1     Amazon Technologies, Inc.  others  Platform-based      1  \n",
       "2     Amazon Technologies, Inc.  others  Platform-based      1  \n",
       "3     Amazon Technologies, Inc.  others  Platform-based      1  \n",
       "4     Amazon Technologies, Inc.  others  Platform-based      1  \n",
       "...                         ...     ...             ...    ...  \n",
       "2600  Amazon Technologies, Inc.  others  Platform-based      1  \n",
       "2601  Amazon Technologies, Inc.  others  Platform-based      1  \n",
       "2602  Amazon Technologies, Inc.  others  Platform-based      1  \n",
       "2603  Amazon Technologies, Inc.  others  Platform-based      1  \n",
       "2604  Amazon Technologies, Inc.  others  Platform-based      1  \n",
       "\n",
       "[2605 rows x 10 columns]"
      ]
     },
     "execution_count": 230,
     "metadata": {},
     "output_type": "execute_result"
    }
   ],
   "source": [
    "df['count']=1\n",
    "df"
   ]
  },
  {
   "cell_type": "code",
   "execution_count": 231,
   "id": "59abce14",
   "metadata": {},
   "outputs": [
    {
     "data": {
      "text/plain": [
       "array([['Fashion-Style', 'amazon.com', 'Amazon Technologies, Inc.',\n",
       "        'others'],\n",
       "       ['Fashion-Style', 'amazonaws.com', 'Amazon Technologies, Inc.',\n",
       "        'others'],\n",
       "       ['Fashion-Style', 'amazon.com', 'Amazon Technologies, Inc.',\n",
       "        'others'],\n",
       "       ...,\n",
       "       ['Health-Fitness', 'amazonaws.com', 'Amazon Technologies, Inc.',\n",
       "        'others'],\n",
       "       ['Health-Fitness', 'amazon.com', 'Amazon Technologies, Inc.',\n",
       "        'others'],\n",
       "       ['Health-Fitness', 'cloudfront.net', 'Amazon Technologies, Inc.',\n",
       "        'others']], dtype=object)"
      ]
     },
     "execution_count": 231,
     "metadata": {},
     "output_type": "execute_result"
    }
   ],
   "source": [
    "categories = ['cat', 'domain_name', 'organization', 'ATSes']\n",
    "df[categories].values"
   ]
  },
  {
   "cell_type": "code",
   "execution_count": 232,
   "id": "d2cb57d7",
   "metadata": {},
   "outputs": [
    {
     "data": {
      "application/vnd.plotly.v1+json": {
       "config": {
        "plotlyServerURL": "https://plot.ly"
       },
       "data": [
        {
         "link": {
          "source": [
           1,
           1,
           2,
           3,
           3,
           3,
           3,
           3,
           3,
           3,
           3,
           3,
           3,
           4,
           5,
           6,
           6,
           6,
           6,
           6,
           6,
           6,
           6,
           6,
           7,
           8,
           9,
           9,
           9,
           9,
           9,
           9,
           9,
           9,
           9,
           10,
           11,
           11,
           11,
           11,
           11,
           11,
           11,
           11,
           12,
           13,
           13,
           13,
           13,
           13,
           13,
           13,
           13,
           13,
           14,
           15,
           15,
           15,
           15,
           15,
           15,
           15,
           15,
           15,
           15,
           15,
           15,
           16,
           16,
           16,
           16,
           16,
           16,
           16,
           17,
           17,
           17,
           17,
           17,
           18,
           20,
           20,
           21,
           21,
           21,
           21,
           21,
           21,
           21,
           22,
           23,
           24,
           25,
           26,
           27,
           28,
           29,
           30,
           31,
           32,
           33,
           34,
           35,
           36,
           37,
           39,
           40,
           41,
           42
          ],
          "target": [
           0,
           38,
           19,
           23,
           24,
           25,
           27,
           28,
           29,
           32,
           37,
           39,
           41,
           38,
           38,
           23,
           24,
           25,
           27,
           29,
           32,
           37,
           39,
           41,
           38,
           38,
           23,
           24,
           25,
           27,
           29,
           32,
           37,
           39,
           41,
           38,
           23,
           24,
           25,
           26,
           29,
           32,
           34,
           40,
           38,
           23,
           24,
           25,
           27,
           29,
           32,
           37,
           39,
           41,
           38,
           23,
           24,
           25,
           27,
           29,
           30,
           32,
           36,
           37,
           39,
           41,
           42,
           23,
           24,
           25,
           29,
           31,
           32,
           40,
           23,
           24,
           25,
           29,
           32,
           38,
           19,
           38,
           23,
           24,
           25,
           29,
           32,
           33,
           35,
           38,
           1,
           1,
           1,
           5,
           2,
           4,
           1,
           8,
           10,
           1,
           18,
           1,
           12,
           14,
           20,
           7,
           18,
           20,
           22
          ],
          "value": [
           338,
           2145,
           20,
           7,
           290,
           72,
           7,
           3,
           64,
           5,
           5,
           8,
           7,
           3,
           19,
           2,
           137,
           30,
           5,
           26,
           2,
           4,
           6,
           4,
           21,
           8,
           3,
           173,
           42,
           5,
           34,
           3,
           5,
           5,
           4,
           4,
           5,
           232,
           59,
           19,
           56,
           4,
           1,
           1,
           2,
           3,
           200,
           50,
           2,
           44,
           3,
           2,
           1,
           2,
           1,
           3,
           200,
           51,
           1,
           40,
           8,
           3,
           1,
           1,
           1,
           1,
           3,
           2,
           130,
           32,
           29,
           4,
           2,
           4,
           3,
           130,
           42,
           36,
           3,
           6,
           18,
           17,
           2,
           150,
           44,
           32,
           2,
           1,
           2,
           3,
           30,
           1642,
           422,
           19,
           20,
           3,
           361,
           8,
           4,
           27,
           1,
           1,
           2,
           1,
           17,
           21,
           5,
           18,
           3
          ]
         },
         "node": {
          "label": [
           "Ad",
           "Amazon Technologies, Inc.",
           "Chartable Holding Inc",
           "ConnectedCar",
           "DATA REDACTED ",
           "DataCamp Limited",
           "Dating",
           "Domains By Proxy, LLC ",
           "Dropbox, Inc.",
           "Fashion-Style",
           "Fastly, Inc.",
           "Health-Fitness",
           "Liberated Syndication",
           "Navigation-TripPlanners",
           "Personal",
           "Pets-Animals",
           "Religion-Spirituality",
           "SmartHome",
           "StackPath, LLC",
           "Tracking/Analytics",
           "Triton Digital, Inc.",
           "Wine-Beverages",
           "Zoho",
           "acsechocaptiveportal.com",
           "amazon.com",
           "amazonaws.com",
           "cdn77.org",
           "chtbl.com",
           "cloudflare.net",
           "cloudfront.net",
           "dropbox-dns.com",
           "fastly.net",
           "fireoscaptiveportal.com",
           "hwcdn.net",
           "ialexa.tk",
           "libsyn.com",
           "mittendorf.net",
           "omny.fm",
           "others",
           "podtrac.com",
           "stackpathcdn.com",
           "tritondigital.com",
           "zohopublic.in"
          ]
         },
         "type": "sankey"
        }
       ],
       "layout": {
        "template": {
         "data": {
          "bar": [
           {
            "error_x": {
             "color": "#2a3f5f"
            },
            "error_y": {
             "color": "#2a3f5f"
            },
            "marker": {
             "line": {
              "color": "#E5ECF6",
              "width": 0.5
             },
             "pattern": {
              "fillmode": "overlay",
              "size": 10,
              "solidity": 0.2
             }
            },
            "type": "bar"
           }
          ],
          "barpolar": [
           {
            "marker": {
             "line": {
              "color": "#E5ECF6",
              "width": 0.5
             },
             "pattern": {
              "fillmode": "overlay",
              "size": 10,
              "solidity": 0.2
             }
            },
            "type": "barpolar"
           }
          ],
          "carpet": [
           {
            "aaxis": {
             "endlinecolor": "#2a3f5f",
             "gridcolor": "white",
             "linecolor": "white",
             "minorgridcolor": "white",
             "startlinecolor": "#2a3f5f"
            },
            "baxis": {
             "endlinecolor": "#2a3f5f",
             "gridcolor": "white",
             "linecolor": "white",
             "minorgridcolor": "white",
             "startlinecolor": "#2a3f5f"
            },
            "type": "carpet"
           }
          ],
          "choropleth": [
           {
            "colorbar": {
             "outlinewidth": 0,
             "ticks": ""
            },
            "type": "choropleth"
           }
          ],
          "contour": [
           {
            "colorbar": {
             "outlinewidth": 0,
             "ticks": ""
            },
            "colorscale": [
             [
              0,
              "#0d0887"
             ],
             [
              0.1111111111111111,
              "#46039f"
             ],
             [
              0.2222222222222222,
              "#7201a8"
             ],
             [
              0.3333333333333333,
              "#9c179e"
             ],
             [
              0.4444444444444444,
              "#bd3786"
             ],
             [
              0.5555555555555556,
              "#d8576b"
             ],
             [
              0.6666666666666666,
              "#ed7953"
             ],
             [
              0.7777777777777778,
              "#fb9f3a"
             ],
             [
              0.8888888888888888,
              "#fdca26"
             ],
             [
              1,
              "#f0f921"
             ]
            ],
            "type": "contour"
           }
          ],
          "contourcarpet": [
           {
            "colorbar": {
             "outlinewidth": 0,
             "ticks": ""
            },
            "type": "contourcarpet"
           }
          ],
          "heatmap": [
           {
            "colorbar": {
             "outlinewidth": 0,
             "ticks": ""
            },
            "colorscale": [
             [
              0,
              "#0d0887"
             ],
             [
              0.1111111111111111,
              "#46039f"
             ],
             [
              0.2222222222222222,
              "#7201a8"
             ],
             [
              0.3333333333333333,
              "#9c179e"
             ],
             [
              0.4444444444444444,
              "#bd3786"
             ],
             [
              0.5555555555555556,
              "#d8576b"
             ],
             [
              0.6666666666666666,
              "#ed7953"
             ],
             [
              0.7777777777777778,
              "#fb9f3a"
             ],
             [
              0.8888888888888888,
              "#fdca26"
             ],
             [
              1,
              "#f0f921"
             ]
            ],
            "type": "heatmap"
           }
          ],
          "heatmapgl": [
           {
            "colorbar": {
             "outlinewidth": 0,
             "ticks": ""
            },
            "colorscale": [
             [
              0,
              "#0d0887"
             ],
             [
              0.1111111111111111,
              "#46039f"
             ],
             [
              0.2222222222222222,
              "#7201a8"
             ],
             [
              0.3333333333333333,
              "#9c179e"
             ],
             [
              0.4444444444444444,
              "#bd3786"
             ],
             [
              0.5555555555555556,
              "#d8576b"
             ],
             [
              0.6666666666666666,
              "#ed7953"
             ],
             [
              0.7777777777777778,
              "#fb9f3a"
             ],
             [
              0.8888888888888888,
              "#fdca26"
             ],
             [
              1,
              "#f0f921"
             ]
            ],
            "type": "heatmapgl"
           }
          ],
          "histogram": [
           {
            "marker": {
             "pattern": {
              "fillmode": "overlay",
              "size": 10,
              "solidity": 0.2
             }
            },
            "type": "histogram"
           }
          ],
          "histogram2d": [
           {
            "colorbar": {
             "outlinewidth": 0,
             "ticks": ""
            },
            "colorscale": [
             [
              0,
              "#0d0887"
             ],
             [
              0.1111111111111111,
              "#46039f"
             ],
             [
              0.2222222222222222,
              "#7201a8"
             ],
             [
              0.3333333333333333,
              "#9c179e"
             ],
             [
              0.4444444444444444,
              "#bd3786"
             ],
             [
              0.5555555555555556,
              "#d8576b"
             ],
             [
              0.6666666666666666,
              "#ed7953"
             ],
             [
              0.7777777777777778,
              "#fb9f3a"
             ],
             [
              0.8888888888888888,
              "#fdca26"
             ],
             [
              1,
              "#f0f921"
             ]
            ],
            "type": "histogram2d"
           }
          ],
          "histogram2dcontour": [
           {
            "colorbar": {
             "outlinewidth": 0,
             "ticks": ""
            },
            "colorscale": [
             [
              0,
              "#0d0887"
             ],
             [
              0.1111111111111111,
              "#46039f"
             ],
             [
              0.2222222222222222,
              "#7201a8"
             ],
             [
              0.3333333333333333,
              "#9c179e"
             ],
             [
              0.4444444444444444,
              "#bd3786"
             ],
             [
              0.5555555555555556,
              "#d8576b"
             ],
             [
              0.6666666666666666,
              "#ed7953"
             ],
             [
              0.7777777777777778,
              "#fb9f3a"
             ],
             [
              0.8888888888888888,
              "#fdca26"
             ],
             [
              1,
              "#f0f921"
             ]
            ],
            "type": "histogram2dcontour"
           }
          ],
          "mesh3d": [
           {
            "colorbar": {
             "outlinewidth": 0,
             "ticks": ""
            },
            "type": "mesh3d"
           }
          ],
          "parcoords": [
           {
            "line": {
             "colorbar": {
              "outlinewidth": 0,
              "ticks": ""
             }
            },
            "type": "parcoords"
           }
          ],
          "pie": [
           {
            "automargin": true,
            "type": "pie"
           }
          ],
          "scatter": [
           {
            "marker": {
             "colorbar": {
              "outlinewidth": 0,
              "ticks": ""
             }
            },
            "type": "scatter"
           }
          ],
          "scatter3d": [
           {
            "line": {
             "colorbar": {
              "outlinewidth": 0,
              "ticks": ""
             }
            },
            "marker": {
             "colorbar": {
              "outlinewidth": 0,
              "ticks": ""
             }
            },
            "type": "scatter3d"
           }
          ],
          "scattercarpet": [
           {
            "marker": {
             "colorbar": {
              "outlinewidth": 0,
              "ticks": ""
             }
            },
            "type": "scattercarpet"
           }
          ],
          "scattergeo": [
           {
            "marker": {
             "colorbar": {
              "outlinewidth": 0,
              "ticks": ""
             }
            },
            "type": "scattergeo"
           }
          ],
          "scattergl": [
           {
            "marker": {
             "colorbar": {
              "outlinewidth": 0,
              "ticks": ""
             }
            },
            "type": "scattergl"
           }
          ],
          "scattermapbox": [
           {
            "marker": {
             "colorbar": {
              "outlinewidth": 0,
              "ticks": ""
             }
            },
            "type": "scattermapbox"
           }
          ],
          "scatterpolar": [
           {
            "marker": {
             "colorbar": {
              "outlinewidth": 0,
              "ticks": ""
             }
            },
            "type": "scatterpolar"
           }
          ],
          "scatterpolargl": [
           {
            "marker": {
             "colorbar": {
              "outlinewidth": 0,
              "ticks": ""
             }
            },
            "type": "scatterpolargl"
           }
          ],
          "scatterternary": [
           {
            "marker": {
             "colorbar": {
              "outlinewidth": 0,
              "ticks": ""
             }
            },
            "type": "scatterternary"
           }
          ],
          "surface": [
           {
            "colorbar": {
             "outlinewidth": 0,
             "ticks": ""
            },
            "colorscale": [
             [
              0,
              "#0d0887"
             ],
             [
              0.1111111111111111,
              "#46039f"
             ],
             [
              0.2222222222222222,
              "#7201a8"
             ],
             [
              0.3333333333333333,
              "#9c179e"
             ],
             [
              0.4444444444444444,
              "#bd3786"
             ],
             [
              0.5555555555555556,
              "#d8576b"
             ],
             [
              0.6666666666666666,
              "#ed7953"
             ],
             [
              0.7777777777777778,
              "#fb9f3a"
             ],
             [
              0.8888888888888888,
              "#fdca26"
             ],
             [
              1,
              "#f0f921"
             ]
            ],
            "type": "surface"
           }
          ],
          "table": [
           {
            "cells": {
             "fill": {
              "color": "#EBF0F8"
             },
             "line": {
              "color": "white"
             }
            },
            "header": {
             "fill": {
              "color": "#C8D4E3"
             },
             "line": {
              "color": "white"
             }
            },
            "type": "table"
           }
          ]
         },
         "layout": {
          "annotationdefaults": {
           "arrowcolor": "#2a3f5f",
           "arrowhead": 0,
           "arrowwidth": 1
          },
          "autotypenumbers": "strict",
          "coloraxis": {
           "colorbar": {
            "outlinewidth": 0,
            "ticks": ""
           }
          },
          "colorscale": {
           "diverging": [
            [
             0,
             "#8e0152"
            ],
            [
             0.1,
             "#c51b7d"
            ],
            [
             0.2,
             "#de77ae"
            ],
            [
             0.3,
             "#f1b6da"
            ],
            [
             0.4,
             "#fde0ef"
            ],
            [
             0.5,
             "#f7f7f7"
            ],
            [
             0.6,
             "#e6f5d0"
            ],
            [
             0.7,
             "#b8e186"
            ],
            [
             0.8,
             "#7fbc41"
            ],
            [
             0.9,
             "#4d9221"
            ],
            [
             1,
             "#276419"
            ]
           ],
           "sequential": [
            [
             0,
             "#0d0887"
            ],
            [
             0.1111111111111111,
             "#46039f"
            ],
            [
             0.2222222222222222,
             "#7201a8"
            ],
            [
             0.3333333333333333,
             "#9c179e"
            ],
            [
             0.4444444444444444,
             "#bd3786"
            ],
            [
             0.5555555555555556,
             "#d8576b"
            ],
            [
             0.6666666666666666,
             "#ed7953"
            ],
            [
             0.7777777777777778,
             "#fb9f3a"
            ],
            [
             0.8888888888888888,
             "#fdca26"
            ],
            [
             1,
             "#f0f921"
            ]
           ],
           "sequentialminus": [
            [
             0,
             "#0d0887"
            ],
            [
             0.1111111111111111,
             "#46039f"
            ],
            [
             0.2222222222222222,
             "#7201a8"
            ],
            [
             0.3333333333333333,
             "#9c179e"
            ],
            [
             0.4444444444444444,
             "#bd3786"
            ],
            [
             0.5555555555555556,
             "#d8576b"
            ],
            [
             0.6666666666666666,
             "#ed7953"
            ],
            [
             0.7777777777777778,
             "#fb9f3a"
            ],
            [
             0.8888888888888888,
             "#fdca26"
            ],
            [
             1,
             "#f0f921"
            ]
           ]
          },
          "colorway": [
           "#636efa",
           "#EF553B",
           "#00cc96",
           "#ab63fa",
           "#FFA15A",
           "#19d3f3",
           "#FF6692",
           "#B6E880",
           "#FF97FF",
           "#FECB52"
          ],
          "font": {
           "color": "#2a3f5f"
          },
          "geo": {
           "bgcolor": "white",
           "lakecolor": "white",
           "landcolor": "#E5ECF6",
           "showlakes": true,
           "showland": true,
           "subunitcolor": "white"
          },
          "hoverlabel": {
           "align": "left"
          },
          "hovermode": "closest",
          "mapbox": {
           "style": "light"
          },
          "paper_bgcolor": "white",
          "plot_bgcolor": "#E5ECF6",
          "polar": {
           "angularaxis": {
            "gridcolor": "white",
            "linecolor": "white",
            "ticks": ""
           },
           "bgcolor": "#E5ECF6",
           "radialaxis": {
            "gridcolor": "white",
            "linecolor": "white",
            "ticks": ""
           }
          },
          "scene": {
           "xaxis": {
            "backgroundcolor": "#E5ECF6",
            "gridcolor": "white",
            "gridwidth": 2,
            "linecolor": "white",
            "showbackground": true,
            "ticks": "",
            "zerolinecolor": "white"
           },
           "yaxis": {
            "backgroundcolor": "#E5ECF6",
            "gridcolor": "white",
            "gridwidth": 2,
            "linecolor": "white",
            "showbackground": true,
            "ticks": "",
            "zerolinecolor": "white"
           },
           "zaxis": {
            "backgroundcolor": "#E5ECF6",
            "gridcolor": "white",
            "gridwidth": 2,
            "linecolor": "white",
            "showbackground": true,
            "ticks": "",
            "zerolinecolor": "white"
           }
          },
          "shapedefaults": {
           "line": {
            "color": "#2a3f5f"
           }
          },
          "ternary": {
           "aaxis": {
            "gridcolor": "white",
            "linecolor": "white",
            "ticks": ""
           },
           "baxis": {
            "gridcolor": "white",
            "linecolor": "white",
            "ticks": ""
           },
           "bgcolor": "#E5ECF6",
           "caxis": {
            "gridcolor": "white",
            "linecolor": "white",
            "ticks": ""
           }
          },
          "title": {
           "x": 0.05
          },
          "xaxis": {
           "automargin": true,
           "gridcolor": "white",
           "linecolor": "white",
           "ticks": "",
           "title": {
            "standoff": 15
           },
           "zerolinecolor": "white",
           "zerolinewidth": 2
          },
          "yaxis": {
           "automargin": true,
           "gridcolor": "white",
           "linecolor": "white",
           "ticks": "",
           "title": {
            "standoff": 15
           },
           "zerolinecolor": "white",
           "zerolinewidth": 2
          }
         }
        }
       }
      },
      "text/html": [
       "<div>                            <div id=\"21fb415d-8e01-41de-999e-a5739019b3c6\" class=\"plotly-graph-div\" style=\"height:525px; width:100%;\"></div>            <script type=\"text/javascript\">                require([\"plotly\"], function(Plotly) {                    window.PLOTLYENV=window.PLOTLYENV || {};                                    if (document.getElementById(\"21fb415d-8e01-41de-999e-a5739019b3c6\")) {                    Plotly.newPlot(                        \"21fb415d-8e01-41de-999e-a5739019b3c6\",                        [{\"link\":{\"source\":[1,1,2,3,3,3,3,3,3,3,3,3,3,4,5,6,6,6,6,6,6,6,6,6,7,8,9,9,9,9,9,9,9,9,9,10,11,11,11,11,11,11,11,11,12,13,13,13,13,13,13,13,13,13,14,15,15,15,15,15,15,15,15,15,15,15,15,16,16,16,16,16,16,16,17,17,17,17,17,18,20,20,21,21,21,21,21,21,21,22,23,24,25,26,27,28,29,30,31,32,33,34,35,36,37,39,40,41,42],\"target\":[0,38,19,23,24,25,27,28,29,32,37,39,41,38,38,23,24,25,27,29,32,37,39,41,38,38,23,24,25,27,29,32,37,39,41,38,23,24,25,26,29,32,34,40,38,23,24,25,27,29,32,37,39,41,38,23,24,25,27,29,30,32,36,37,39,41,42,23,24,25,29,31,32,40,23,24,25,29,32,38,19,38,23,24,25,29,32,33,35,38,1,1,1,5,2,4,1,8,10,1,18,1,12,14,20,7,18,20,22],\"value\":[338,2145,20,7,290,72,7,3,64,5,5,8,7,3,19,2,137,30,5,26,2,4,6,4,21,8,3,173,42,5,34,3,5,5,4,4,5,232,59,19,56,4,1,1,2,3,200,50,2,44,3,2,1,2,1,3,200,51,1,40,8,3,1,1,1,1,3,2,130,32,29,4,2,4,3,130,42,36,3,6,18,17,2,150,44,32,2,1,2,3,30,1642,422,19,20,3,361,8,4,27,1,1,2,1,17,21,5,18,3]},\"node\":{\"label\":[\"Ad\",\"Amazon Technologies, Inc.\",\"Chartable Holding Inc\",\"ConnectedCar\",\"DATA REDACTED \",\"DataCamp Limited\",\"Dating\",\"Domains By Proxy, LLC \",\"Dropbox, Inc.\",\"Fashion-Style\",\"Fastly, Inc.\",\"Health-Fitness\",\"Liberated Syndication\",\"Navigation-TripPlanners\",\"Personal\",\"Pets-Animals\",\"Religion-Spirituality\",\"SmartHome\",\"StackPath, LLC\",\"Tracking/Analytics\",\"Triton Digital, Inc.\",\"Wine-Beverages\",\"Zoho\",\"acsechocaptiveportal.com\",\"amazon.com\",\"amazonaws.com\",\"cdn77.org\",\"chtbl.com\",\"cloudflare.net\",\"cloudfront.net\",\"dropbox-dns.com\",\"fastly.net\",\"fireoscaptiveportal.com\",\"hwcdn.net\",\"ialexa.tk\",\"libsyn.com\",\"mittendorf.net\",\"omny.fm\",\"others\",\"podtrac.com\",\"stackpathcdn.com\",\"tritondigital.com\",\"zohopublic.in\"]},\"type\":\"sankey\"}],                        {\"template\":{\"data\":{\"bar\":[{\"error_x\":{\"color\":\"#2a3f5f\"},\"error_y\":{\"color\":\"#2a3f5f\"},\"marker\":{\"line\":{\"color\":\"#E5ECF6\",\"width\":0.5},\"pattern\":{\"fillmode\":\"overlay\",\"size\":10,\"solidity\":0.2}},\"type\":\"bar\"}],\"barpolar\":[{\"marker\":{\"line\":{\"color\":\"#E5ECF6\",\"width\":0.5},\"pattern\":{\"fillmode\":\"overlay\",\"size\":10,\"solidity\":0.2}},\"type\":\"barpolar\"}],\"carpet\":[{\"aaxis\":{\"endlinecolor\":\"#2a3f5f\",\"gridcolor\":\"white\",\"linecolor\":\"white\",\"minorgridcolor\":\"white\",\"startlinecolor\":\"#2a3f5f\"},\"baxis\":{\"endlinecolor\":\"#2a3f5f\",\"gridcolor\":\"white\",\"linecolor\":\"white\",\"minorgridcolor\":\"white\",\"startlinecolor\":\"#2a3f5f\"},\"type\":\"carpet\"}],\"choropleth\":[{\"colorbar\":{\"outlinewidth\":0,\"ticks\":\"\"},\"type\":\"choropleth\"}],\"contour\":[{\"colorbar\":{\"outlinewidth\":0,\"ticks\":\"\"},\"colorscale\":[[0.0,\"#0d0887\"],[0.1111111111111111,\"#46039f\"],[0.2222222222222222,\"#7201a8\"],[0.3333333333333333,\"#9c179e\"],[0.4444444444444444,\"#bd3786\"],[0.5555555555555556,\"#d8576b\"],[0.6666666666666666,\"#ed7953\"],[0.7777777777777778,\"#fb9f3a\"],[0.8888888888888888,\"#fdca26\"],[1.0,\"#f0f921\"]],\"type\":\"contour\"}],\"contourcarpet\":[{\"colorbar\":{\"outlinewidth\":0,\"ticks\":\"\"},\"type\":\"contourcarpet\"}],\"heatmap\":[{\"colorbar\":{\"outlinewidth\":0,\"ticks\":\"\"},\"colorscale\":[[0.0,\"#0d0887\"],[0.1111111111111111,\"#46039f\"],[0.2222222222222222,\"#7201a8\"],[0.3333333333333333,\"#9c179e\"],[0.4444444444444444,\"#bd3786\"],[0.5555555555555556,\"#d8576b\"],[0.6666666666666666,\"#ed7953\"],[0.7777777777777778,\"#fb9f3a\"],[0.8888888888888888,\"#fdca26\"],[1.0,\"#f0f921\"]],\"type\":\"heatmap\"}],\"heatmapgl\":[{\"colorbar\":{\"outlinewidth\":0,\"ticks\":\"\"},\"colorscale\":[[0.0,\"#0d0887\"],[0.1111111111111111,\"#46039f\"],[0.2222222222222222,\"#7201a8\"],[0.3333333333333333,\"#9c179e\"],[0.4444444444444444,\"#bd3786\"],[0.5555555555555556,\"#d8576b\"],[0.6666666666666666,\"#ed7953\"],[0.7777777777777778,\"#fb9f3a\"],[0.8888888888888888,\"#fdca26\"],[1.0,\"#f0f921\"]],\"type\":\"heatmapgl\"}],\"histogram\":[{\"marker\":{\"pattern\":{\"fillmode\":\"overlay\",\"size\":10,\"solidity\":0.2}},\"type\":\"histogram\"}],\"histogram2d\":[{\"colorbar\":{\"outlinewidth\":0,\"ticks\":\"\"},\"colorscale\":[[0.0,\"#0d0887\"],[0.1111111111111111,\"#46039f\"],[0.2222222222222222,\"#7201a8\"],[0.3333333333333333,\"#9c179e\"],[0.4444444444444444,\"#bd3786\"],[0.5555555555555556,\"#d8576b\"],[0.6666666666666666,\"#ed7953\"],[0.7777777777777778,\"#fb9f3a\"],[0.8888888888888888,\"#fdca26\"],[1.0,\"#f0f921\"]],\"type\":\"histogram2d\"}],\"histogram2dcontour\":[{\"colorbar\":{\"outlinewidth\":0,\"ticks\":\"\"},\"colorscale\":[[0.0,\"#0d0887\"],[0.1111111111111111,\"#46039f\"],[0.2222222222222222,\"#7201a8\"],[0.3333333333333333,\"#9c179e\"],[0.4444444444444444,\"#bd3786\"],[0.5555555555555556,\"#d8576b\"],[0.6666666666666666,\"#ed7953\"],[0.7777777777777778,\"#fb9f3a\"],[0.8888888888888888,\"#fdca26\"],[1.0,\"#f0f921\"]],\"type\":\"histogram2dcontour\"}],\"mesh3d\":[{\"colorbar\":{\"outlinewidth\":0,\"ticks\":\"\"},\"type\":\"mesh3d\"}],\"parcoords\":[{\"line\":{\"colorbar\":{\"outlinewidth\":0,\"ticks\":\"\"}},\"type\":\"parcoords\"}],\"pie\":[{\"automargin\":true,\"type\":\"pie\"}],\"scatter\":[{\"marker\":{\"colorbar\":{\"outlinewidth\":0,\"ticks\":\"\"}},\"type\":\"scatter\"}],\"scatter3d\":[{\"line\":{\"colorbar\":{\"outlinewidth\":0,\"ticks\":\"\"}},\"marker\":{\"colorbar\":{\"outlinewidth\":0,\"ticks\":\"\"}},\"type\":\"scatter3d\"}],\"scattercarpet\":[{\"marker\":{\"colorbar\":{\"outlinewidth\":0,\"ticks\":\"\"}},\"type\":\"scattercarpet\"}],\"scattergeo\":[{\"marker\":{\"colorbar\":{\"outlinewidth\":0,\"ticks\":\"\"}},\"type\":\"scattergeo\"}],\"scattergl\":[{\"marker\":{\"colorbar\":{\"outlinewidth\":0,\"ticks\":\"\"}},\"type\":\"scattergl\"}],\"scattermapbox\":[{\"marker\":{\"colorbar\":{\"outlinewidth\":0,\"ticks\":\"\"}},\"type\":\"scattermapbox\"}],\"scatterpolar\":[{\"marker\":{\"colorbar\":{\"outlinewidth\":0,\"ticks\":\"\"}},\"type\":\"scatterpolar\"}],\"scatterpolargl\":[{\"marker\":{\"colorbar\":{\"outlinewidth\":0,\"ticks\":\"\"}},\"type\":\"scatterpolargl\"}],\"scatterternary\":[{\"marker\":{\"colorbar\":{\"outlinewidth\":0,\"ticks\":\"\"}},\"type\":\"scatterternary\"}],\"surface\":[{\"colorbar\":{\"outlinewidth\":0,\"ticks\":\"\"},\"colorscale\":[[0.0,\"#0d0887\"],[0.1111111111111111,\"#46039f\"],[0.2222222222222222,\"#7201a8\"],[0.3333333333333333,\"#9c179e\"],[0.4444444444444444,\"#bd3786\"],[0.5555555555555556,\"#d8576b\"],[0.6666666666666666,\"#ed7953\"],[0.7777777777777778,\"#fb9f3a\"],[0.8888888888888888,\"#fdca26\"],[1.0,\"#f0f921\"]],\"type\":\"surface\"}],\"table\":[{\"cells\":{\"fill\":{\"color\":\"#EBF0F8\"},\"line\":{\"color\":\"white\"}},\"header\":{\"fill\":{\"color\":\"#C8D4E3\"},\"line\":{\"color\":\"white\"}},\"type\":\"table\"}]},\"layout\":{\"annotationdefaults\":{\"arrowcolor\":\"#2a3f5f\",\"arrowhead\":0,\"arrowwidth\":1},\"autotypenumbers\":\"strict\",\"coloraxis\":{\"colorbar\":{\"outlinewidth\":0,\"ticks\":\"\"}},\"colorscale\":{\"diverging\":[[0,\"#8e0152\"],[0.1,\"#c51b7d\"],[0.2,\"#de77ae\"],[0.3,\"#f1b6da\"],[0.4,\"#fde0ef\"],[0.5,\"#f7f7f7\"],[0.6,\"#e6f5d0\"],[0.7,\"#b8e186\"],[0.8,\"#7fbc41\"],[0.9,\"#4d9221\"],[1,\"#276419\"]],\"sequential\":[[0.0,\"#0d0887\"],[0.1111111111111111,\"#46039f\"],[0.2222222222222222,\"#7201a8\"],[0.3333333333333333,\"#9c179e\"],[0.4444444444444444,\"#bd3786\"],[0.5555555555555556,\"#d8576b\"],[0.6666666666666666,\"#ed7953\"],[0.7777777777777778,\"#fb9f3a\"],[0.8888888888888888,\"#fdca26\"],[1.0,\"#f0f921\"]],\"sequentialminus\":[[0.0,\"#0d0887\"],[0.1111111111111111,\"#46039f\"],[0.2222222222222222,\"#7201a8\"],[0.3333333333333333,\"#9c179e\"],[0.4444444444444444,\"#bd3786\"],[0.5555555555555556,\"#d8576b\"],[0.6666666666666666,\"#ed7953\"],[0.7777777777777778,\"#fb9f3a\"],[0.8888888888888888,\"#fdca26\"],[1.0,\"#f0f921\"]]},\"colorway\":[\"#636efa\",\"#EF553B\",\"#00cc96\",\"#ab63fa\",\"#FFA15A\",\"#19d3f3\",\"#FF6692\",\"#B6E880\",\"#FF97FF\",\"#FECB52\"],\"font\":{\"color\":\"#2a3f5f\"},\"geo\":{\"bgcolor\":\"white\",\"lakecolor\":\"white\",\"landcolor\":\"#E5ECF6\",\"showlakes\":true,\"showland\":true,\"subunitcolor\":\"white\"},\"hoverlabel\":{\"align\":\"left\"},\"hovermode\":\"closest\",\"mapbox\":{\"style\":\"light\"},\"paper_bgcolor\":\"white\",\"plot_bgcolor\":\"#E5ECF6\",\"polar\":{\"angularaxis\":{\"gridcolor\":\"white\",\"linecolor\":\"white\",\"ticks\":\"\"},\"bgcolor\":\"#E5ECF6\",\"radialaxis\":{\"gridcolor\":\"white\",\"linecolor\":\"white\",\"ticks\":\"\"}},\"scene\":{\"xaxis\":{\"backgroundcolor\":\"#E5ECF6\",\"gridcolor\":\"white\",\"gridwidth\":2,\"linecolor\":\"white\",\"showbackground\":true,\"ticks\":\"\",\"zerolinecolor\":\"white\"},\"yaxis\":{\"backgroundcolor\":\"#E5ECF6\",\"gridcolor\":\"white\",\"gridwidth\":2,\"linecolor\":\"white\",\"showbackground\":true,\"ticks\":\"\",\"zerolinecolor\":\"white\"},\"zaxis\":{\"backgroundcolor\":\"#E5ECF6\",\"gridcolor\":\"white\",\"gridwidth\":2,\"linecolor\":\"white\",\"showbackground\":true,\"ticks\":\"\",\"zerolinecolor\":\"white\"}},\"shapedefaults\":{\"line\":{\"color\":\"#2a3f5f\"}},\"ternary\":{\"aaxis\":{\"gridcolor\":\"white\",\"linecolor\":\"white\",\"ticks\":\"\"},\"baxis\":{\"gridcolor\":\"white\",\"linecolor\":\"white\",\"ticks\":\"\"},\"bgcolor\":\"#E5ECF6\",\"caxis\":{\"gridcolor\":\"white\",\"linecolor\":\"white\",\"ticks\":\"\"}},\"title\":{\"x\":0.05},\"xaxis\":{\"automargin\":true,\"gridcolor\":\"white\",\"linecolor\":\"white\",\"ticks\":\"\",\"title\":{\"standoff\":15},\"zerolinecolor\":\"white\",\"zerolinewidth\":2},\"yaxis\":{\"automargin\":true,\"gridcolor\":\"white\",\"linecolor\":\"white\",\"ticks\":\"\",\"title\":{\"standoff\":15},\"zerolinecolor\":\"white\",\"zerolinewidth\":2}}}},                        {\"responsive\": true}                    ).then(function(){\n",
       "                            \n",
       "var gd = document.getElementById('21fb415d-8e01-41de-999e-a5739019b3c6');\n",
       "var x = new MutationObserver(function (mutations, observer) {{\n",
       "        var display = window.getComputedStyle(gd).display;\n",
       "        if (!display || display === 'none') {{\n",
       "            console.log([gd, 'removed!']);\n",
       "            Plotly.purge(gd);\n",
       "            observer.disconnect();\n",
       "        }}\n",
       "}});\n",
       "\n",
       "// Listen for the removal of the full notebook cells\n",
       "var notebookContainer = gd.closest('#notebook-container');\n",
       "if (notebookContainer) {{\n",
       "    x.observe(notebookContainer, {childList: true});\n",
       "}}\n",
       "\n",
       "// Listen for the clearing of the current output cell\n",
       "var outputEl = gd.closest('.output');\n",
       "if (outputEl) {{\n",
       "    x.observe(outputEl, {childList: true});\n",
       "}}\n",
       "\n",
       "                        })                };                });            </script>        </div>"
      ]
     },
     "metadata": {},
     "output_type": "display_data"
    }
   ],
   "source": [
    "import pandas as pd\n",
    "import numpy as np\n",
    "import plotly.graph_objects as go\n",
    "\n",
    "categories = ['cat', 'domain_name', 'organization', 'ATSes']\n",
    "\n",
    "newDf = pd.DataFrame()\n",
    "for i in range(len(categories)-1):\n",
    "    tempDf = df[[categories[i],categories[i+1],'count']]\n",
    "    tempDf.columns = ['source','target','count']\n",
    "    newDf = pd.concat([newDf,tempDf])    \n",
    "newDf = newDf.groupby(['source','target']).agg({'count':'sum'}).reset_index()\n",
    "\n",
    "\n",
    "label_list = list(np.unique(df[categories].values.astype('str')))\n",
    "source = newDf['source'].apply(lambda x: label_list.index(x))\n",
    "target = newDf['target'].apply(lambda x: label_list.index(x))\n",
    "count = newDf['count']\n",
    "\n",
    "fig = go.Figure(data=[go.Sankey(\n",
    "    node = {\"label\": label_list},\n",
    "    link = {\"source\": source, \"target\": target, \"value\": count}\n",
    "    )])\n",
    "fig.show()"
   ]
  },
  {
   "cell_type": "code",
   "execution_count": 159,
   "id": "dd4d670a",
   "metadata": {},
   "outputs": [
    {
     "data": {
      "text/html": [
       "<div>\n",
       "<style scoped>\n",
       "    .dataframe tbody tr th:only-of-type {\n",
       "        vertical-align: middle;\n",
       "    }\n",
       "\n",
       "    .dataframe tbody tr th {\n",
       "        vertical-align: top;\n",
       "    }\n",
       "\n",
       "    .dataframe thead th {\n",
       "        text-align: right;\n",
       "    }\n",
       "</style>\n",
       "<table border=\"1\" class=\"dataframe\">\n",
       "  <thead>\n",
       "    <tr style=\"text-align: right;\">\n",
       "      <th></th>\n",
       "      <th>source</th>\n",
       "      <th>target</th>\n",
       "      <th>count</th>\n",
       "    </tr>\n",
       "  </thead>\n",
       "  <tbody>\n",
       "    <tr>\n",
       "      <th>0</th>\n",
       "      <td>Amazon Technologies, Inc.</td>\n",
       "      <td>Ad</td>\n",
       "      <td>338</td>\n",
       "    </tr>\n",
       "    <tr>\n",
       "      <th>1</th>\n",
       "      <td>Amazon Technologies, Inc.</td>\n",
       "      <td>others</td>\n",
       "      <td>2144</td>\n",
       "    </tr>\n",
       "    <tr>\n",
       "      <th>2</th>\n",
       "      <td>Chartable Holding Inc</td>\n",
       "      <td>others</td>\n",
       "      <td>20</td>\n",
       "    </tr>\n",
       "    <tr>\n",
       "      <th>3</th>\n",
       "      <td>ConnectedCar</td>\n",
       "      <td>acsechocaptiveportal.com</td>\n",
       "      <td>7</td>\n",
       "    </tr>\n",
       "    <tr>\n",
       "      <th>4</th>\n",
       "      <td>ConnectedCar</td>\n",
       "      <td>amazon.com</td>\n",
       "      <td>290</td>\n",
       "    </tr>\n",
       "    <tr>\n",
       "      <th>...</th>\n",
       "      <td>...</td>\n",
       "      <td>...</td>\n",
       "      <td>...</td>\n",
       "    </tr>\n",
       "    <tr>\n",
       "      <th>98</th>\n",
       "      <td>libsyn.com</td>\n",
       "      <td>Liberated Syndication</td>\n",
       "      <td>2</td>\n",
       "    </tr>\n",
       "    <tr>\n",
       "      <th>99</th>\n",
       "      <td>omny.fm</td>\n",
       "      <td>Triton Digital, Inc.</td>\n",
       "      <td>17</td>\n",
       "    </tr>\n",
       "    <tr>\n",
       "      <th>100</th>\n",
       "      <td>podtrac.com</td>\n",
       "      <td>Domains By Proxy, LLC</td>\n",
       "      <td>21</td>\n",
       "    </tr>\n",
       "    <tr>\n",
       "      <th>101</th>\n",
       "      <td>stackpathcdn.com</td>\n",
       "      <td>StackPath, LLC</td>\n",
       "      <td>5</td>\n",
       "    </tr>\n",
       "    <tr>\n",
       "      <th>102</th>\n",
       "      <td>tritondigital.com</td>\n",
       "      <td>Triton Digital, Inc.</td>\n",
       "      <td>18</td>\n",
       "    </tr>\n",
       "  </tbody>\n",
       "</table>\n",
       "<p>103 rows × 3 columns</p>\n",
       "</div>"
      ],
      "text/plain": [
       "                        source                    target  count\n",
       "0    Amazon Technologies, Inc.                        Ad    338\n",
       "1    Amazon Technologies, Inc.                    others   2144\n",
       "2        Chartable Holding Inc                    others     20\n",
       "3                 ConnectedCar  acsechocaptiveportal.com      7\n",
       "4                 ConnectedCar                amazon.com    290\n",
       "..                         ...                       ...    ...\n",
       "98                  libsyn.com     Liberated Syndication      2\n",
       "99                     omny.fm      Triton Digital, Inc.     17\n",
       "100                podtrac.com    Domains By Proxy, LLC      21\n",
       "101           stackpathcdn.com            StackPath, LLC      5\n",
       "102          tritondigital.com      Triton Digital, Inc.     18\n",
       "\n",
       "[103 rows x 3 columns]"
      ]
     },
     "execution_count": 159,
     "metadata": {},
     "output_type": "execute_result"
    }
   ],
   "source": [
    "newDf"
   ]
  }
 ],
 "metadata": {
  "kernelspec": {
   "display_name": "Python 3 (ipykernel)",
   "language": "python",
   "name": "python3"
  },
  "language_info": {
   "codemirror_mode": {
    "name": "ipython",
    "version": 3
   },
   "file_extension": ".py",
   "mimetype": "text/x-python",
   "name": "python",
   "nbconvert_exporter": "python",
   "pygments_lexer": "ipython3",
   "version": "3.9.7"
  }
 },
 "nbformat": 4,
 "nbformat_minor": 5
}
