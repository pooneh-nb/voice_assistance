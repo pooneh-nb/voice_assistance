{
 "cells": [
  {
   "cell_type": "code",
   "execution_count": 54,
   "id": "684f6e3c",
   "metadata": {},
   "outputs": [],
   "source": [
    "# !pip3 install prettytable\n",
    "# !pip3 install tqdm\n",
    "# !pip3 install ipywidgets \n",
    "# !jupyter nbextension enable --py widgetsnbextension"
   ]
  },
  {
   "cell_type": "code",
   "execution_count": 1,
   "id": "9242c4d6",
   "metadata": {},
   "outputs": [],
   "source": [
    "import utilities\n",
    "import os\n",
    "import json\n",
    "from collections import OrderedDict\n",
    "from prettytable import PrettyTable\n",
    "from tqdm.notebook import tqdm"
   ]
  },
  {
   "cell_type": "markdown",
   "id": "6556a4f1",
   "metadata": {},
   "source": [
    "### Directory/file addresses & file read/writes"
   ]
  },
  {
   "cell_type": "code",
   "execution_count": 2,
   "id": "6aeb1a10",
   "metadata": {},
   "outputs": [],
   "source": [
    "data_dir = 'data/'\n",
    "skills_addr = os.path.join(data_dir,'us_skills_raw.json')\n",
    "\n",
    "grouped_skills_addr = os.path.join(data_dir,'grouped_skills.json')\n",
    "subgrouped_skills_addr = os.path.join(data_dir,'subgrouped_skills.json')\n",
    "ungrouped_skills_addr = os.path.join(data_dir,'ungrouped_skills.json')"
   ]
  },
  {
   "cell_type": "code",
   "execution_count": 3,
   "id": "9662ad41",
   "metadata": {},
   "outputs": [],
   "source": [
    "all_skills_raw = utilities.read_file(skills_addr)"
   ]
  },
  {
   "cell_type": "markdown",
   "id": "a11670bd",
   "metadata": {},
   "source": [
    "### Processing raw skills"
   ]
  },
  {
   "cell_type": "markdown",
   "id": "89ed858c",
   "metadata": {},
   "source": [
    "### Sorting skills based on number of ratings"
   ]
  },
  {
   "cell_type": "code",
   "execution_count": 4,
   "id": "46751058",
   "metadata": {},
   "outputs": [],
   "source": [
    "def convert_to_json(all_skills_raw):\n",
    "    for i in range(len(all_skills_raw)):\n",
    "        all_skills_raw[i] = json.loads(all_skills_raw[i])\n",
    "        if all_skills_raw[i]['Total_customer_that_rate_the_skill'] == '':\n",
    "            all_skills_raw[i]['Total_customer_that_rate_the_skill'] = 0\n",
    "        else:\n",
    "            all_skills_raw[i]['Total_customer_that_rate_the_skill'] = int(all_skills_raw[i]['Total_customer_that_rate_the_skill'].replace(',',''))\n",
    "\n",
    "    return all_skills_raw\n",
    "\n",
    "\n",
    "def partition(arr, l, h):\n",
    "    i = ( l - 1 )\n",
    "    x = arr[h]['Total_customer_that_rate_the_skill']\n",
    "    \n",
    "    for j in range(l , h):\n",
    "        if arr[j]['Total_customer_that_rate_the_skill'] <= x:\n",
    "\n",
    "            # increment index of smaller element\n",
    "            i = i+1\n",
    "            arr[i], arr[j] = arr[j], arr[i]\n",
    "\n",
    "    arr[i+1], arr[h] = arr[h], arr[i+1]\n",
    "    return (i+1)\n",
    "\n",
    "\n",
    "# Function to do Quick sort\n",
    "# arr[] --> Array to be sorted,\n",
    "# l --> Starting index,\n",
    "# h --> Ending index\n",
    "def quickSortIterative(arr, l, h):\n",
    "    pbar = tqdm(total=h, position=0, leave=True)\n",
    "    \n",
    "    # Create an auxiliary stack\n",
    "    size = h - l + 1\n",
    "    stack = [0] * (size)\n",
    "\n",
    "    # initialize top of stack\n",
    "    top = -1\n",
    "\n",
    "    # push initial values of l and h to stack\n",
    "    top = top + 1\n",
    "    stack[top] = l\n",
    "    top = top + 1\n",
    "    stack[top] = h\n",
    "\n",
    "    # Keep popping from stack while is not empty\n",
    "    while top >= 0:\n",
    "        pbar.update(1)\n",
    "\n",
    "        # Pop h and l\n",
    "        h = stack[top]\n",
    "        top = top - 1\n",
    "        l = stack[top]\n",
    "        top = top - 1\n",
    "\n",
    "        # Set pivot element at its correct position in\n",
    "        # sorted array\n",
    "        p = partition(arr, l, h)\n",
    "\n",
    "        # If there are elements on left side of pivot,\n",
    "        # then push left side to stack\n",
    "        if p-1 > l:\n",
    "            top = top + 1\n",
    "            stack[top] = l\n",
    "            top = top + 1\n",
    "            stack[top] = p - 1\n",
    "\n",
    "        # If there are elements on right side of pivot,\n",
    "        # then push right side to stack\n",
    "        if p+1 < h:\n",
    "            top = top + 1\n",
    "            stack[top] = p + 1\n",
    "            top = top + 1\n",
    "            stack[top] = h"
   ]
  },
  {
   "cell_type": "code",
   "execution_count": 5,
   "id": "d29a8c1e",
   "metadata": {},
   "outputs": [
    {
     "data": {
      "application/vnd.jupyter.widget-view+json": {
       "model_id": "b3bfeeb966514828b414647f2e0e72ce",
       "version_major": 2,
       "version_minor": 0
      },
      "text/plain": [
       "  0%|          | 0/88419 [00:00<?, ?it/s]"
      ]
     },
     "metadata": {},
     "output_type": "display_data"
    }
   ],
   "source": [
    "all_skills_raw = convert_to_json(all_skills_raw)\n",
    "\n",
    "# Driver code to test above\n",
    "len_skills = len(all_skills_raw)\n",
    "quickSortIterative(all_skills_raw, 0, len_skills-1)"
   ]
  },
  {
   "cell_type": "markdown",
   "id": "181dac5d",
   "metadata": {},
   "source": [
    "### Group skills by category/sub-category"
   ]
  },
  {
   "cell_type": "markdown",
   "id": "5553e0f5",
   "metadata": {},
   "source": [
    "### Skill json structure\n",
    "\n",
    "    'Main Category': 'Business & Finance',\n",
    "    'SubCategory': 'Business & Finance',\n",
    "    'Sample_Invocation_Utterances': ['“Alexa, ask PayPal to check my balance”', ... ],\n",
    "    'Name': 'PayPal',\n",
    "    'Developer': 'by PayPal',\n",
    "    'Skill_permission': [],\n",
    "    'Account_linking': 'Account linking required',\n",
    "    'Review_Count': None,\n",
    "    'Rating': '4.4 out of 5 stars',\n",
    "    'Total_customer_that_rate_the_skill': '217',\n",
    "    'Total_Customers_Reviews': '',\n",
    "    'Cost': 'Free to Enable',\n",
    "    'In_skill_purchase': None,\n",
    "    'Skill_description': 'Description\\nWant to send or request m...',\n",
    "    'Skill_link': 'https://www.amazon.com/PayPal/dp/B075764QCX/ref=lp_14284819011_1_1?s=digital-skills&ie=UTF8&qid=1602769443&sr=1-1',\n",
    "    'privacy_policy': 'https://www.paypal.com/us/webapps/mpp/ua/privacy-full',\n",
    "    'Terms_of_use': 'https://www.paypal.com/us/webapps/mpp/ua/useragreement-full'}"
   ]
  },
  {
   "cell_type": "code",
   "execution_count": 6,
   "id": "bc22b30d",
   "metadata": {},
   "outputs": [],
   "source": [
    "def group_skills(all_skills):\n",
    "    grouped_skills = {}\n",
    "    sub_grouped_skills = {}\n",
    "    ungrouped_skills = {}\n",
    "    \n",
    "    pbar = tqdm(total=len(all_skills), position=0, leave=True)\n",
    "    \n",
    "    for skill in reversed(all_skills):\n",
    "        pbar.update(1)\n",
    "        try:\n",
    "            skill_id = skill['Skill_link'].split('/')[-2]\n",
    "            skill_cat = skill['Main Category'].replace(' ','').replace('&','-')\n",
    "            skill_subcat = skill['SubCategory'].replace(' ','').replace('&','-')\n",
    "\n",
    "            if skill_cat not in grouped_skills:\n",
    "                grouped_skills[skill_cat] = {}\n",
    "            \n",
    "            if skill_subcat not in sub_grouped_skills:\n",
    "                sub_grouped_skills[skill_subcat] = {}\n",
    "            \n",
    "            grouped_skills[skill_cat][skill_id] = {}\n",
    "            grouped_skills[skill_cat][skill_id] = skill\n",
    "            \n",
    "            sub_grouped_skills[skill_subcat][skill_id] = {}\n",
    "            sub_grouped_skills[skill_subcat][skill_id] = skill\n",
    "            \n",
    "            ungrouped_skills[skill_id] = {}\n",
    "            ungrouped_skills[skill_id] = skill\n",
    "        \n",
    "        except Exception as ex:\n",
    "            print('Encountered an error while processing:', str(ex))\n",
    "            print(skill)\n",
    "            break\n",
    "            \n",
    "    return grouped_skills, sub_grouped_skills, ungrouped_skills"
   ]
  },
  {
   "cell_type": "code",
   "execution_count": 7,
   "id": "1e4aaa86",
   "metadata": {},
   "outputs": [
    {
     "data": {
      "application/vnd.jupyter.widget-view+json": {
       "model_id": "bf4cb1543f1e46069c86e480f819fde6",
       "version_major": 2,
       "version_minor": 0
      },
      "text/plain": [
       "  0%|          | 0/88420 [00:00<?, ?it/s]"
      ]
     },
     "metadata": {},
     "output_type": "display_data"
    }
   ],
   "source": [
    "grouped_skills, sub_grouped_skills, ungrouped_skills = group_skills(all_skills_raw)"
   ]
  },
  {
   "cell_type": "code",
   "execution_count": 86,
   "id": "11ea507d",
   "metadata": {},
   "outputs": [],
   "source": [
    "utilities.write_json(grouped_skills_addr, grouped_skills)\n",
    "utilities.write_json(subgrouped_skills_addr, sub_grouped_skills)\n",
    "utilities.write_json(ungrouped_skills_addr, ungrouped_skills)"
   ]
  },
  {
   "cell_type": "markdown",
   "id": "392f8340",
   "metadata": {},
   "source": [
    "### List skill categories and sub categories "
   ]
  },
  {
   "cell_type": "code",
   "execution_count": 8,
   "id": "1e563ed7",
   "metadata": {},
   "outputs": [],
   "source": [
    "def get_skill_categories(all_skills):\n",
    "    categories = {}\n",
    "    sub_categories = {}\n",
    "\n",
    "    for key in all_skills:\n",
    "        category = all_skills[key]['Main Category']\n",
    "        sub_category = all_skills[key]['SubCategory']\n",
    "\n",
    "        if category not in categories:\n",
    "            categories[category] = 0\n",
    "\n",
    "        if sub_category not in sub_categories:\n",
    "            sub_categories[sub_category] = 0\n",
    "\n",
    "        categories[category] += 1\n",
    "        sub_categories[sub_category] += 1\n",
    "    return categories, sub_categories"
   ]
  },
  {
   "cell_type": "code",
   "execution_count": 9,
   "id": "05aea353",
   "metadata": {},
   "outputs": [],
   "source": [
    "categories, sub_categories = get_skill_categories(ungrouped_skills)\n",
    "\n",
    "ordered_categories = OrderedDict(sorted(categories.items(), key=lambda k: k[1], reverse=True))\n",
    "ordered_sub_categories = OrderedDict(sorted(sub_categories.items(), key=lambda k: k[1], reverse=True))"
   ]
  },
  {
   "cell_type": "code",
   "execution_count": 10,
   "id": "fb69b726",
   "metadata": {},
   "outputs": [],
   "source": [
    "def print_table(ordered_dict, count_limit = 20):\n",
    "    count = 0\n",
    "    t = PrettyTable(['Skill category', '# of skills'])\n",
    "    for item in ordered_dict:\n",
    "        t.add_row([item, ordered_dict[item]])\n",
    "    print(t)"
   ]
  },
  {
   "cell_type": "code",
   "execution_count": 11,
   "id": "26124b3e",
   "metadata": {},
   "outputs": [
    {
     "name": "stdout",
     "output_type": "stream",
     "text": [
      "+-------------------------+-------------+\n",
      "|      Skill category     | # of skills |\n",
      "+-------------------------+-------------+\n",
      "|      Games & Trivia     |    12114    |\n",
      "|      Music & Audio      |     8328    |\n",
      "|        Lifestyle        |     7340    |\n",
      "|  Education & Reference  |     5115    |\n",
      "|           News          |     5025    |\n",
      "|    Business & Finance   |     3672    |\n",
      "|     Novelty & Humor     |     2920    |\n",
      "|        Smart Home       |     2417    |\n",
      "|           Kids          |     2270    |\n",
      "|     Health & Fitness    |     2166    |\n",
      "|          Social         |     1749    |\n",
      "|       Productivity      |     1362    |\n",
      "|       Food & Drink      |     1356    |\n",
      "|          Sports         |     1300    |\n",
      "|        Utilities        |     1226    |\n",
      "| Travel & Transportation |     1205    |\n",
      "|         Weather         |     715     |\n",
      "|         Shopping        |     390     |\n",
      "|       Movies & TV       |     381     |\n",
      "|          Local          |     181     |\n",
      "|      Connected Car      |     132     |\n",
      "+-------------------------+-------------+\n",
      "+--------------------------------------------+-------------+\n",
      "|               Skill category               | # of skills |\n",
      "+--------------------------------------------+-------------+\n",
      "|           Education & Reference            |     6673    |\n",
      "|             Knowledge & Trivia             |     6625    |\n",
      "|             Streaming Services             |     5901    |\n",
      "|                    News                    |     5859    |\n",
      "|                   Games                    |     4459    |\n",
      "|          Religion & Spirituality           |     4120    |\n",
      "|             Business & Finance             |     3672    |\n",
      "|              Novelty & Humor               |     3329    |\n",
      "|                 Smart Home                 |     2417    |\n",
      "|              Health & Fitness              |     2166    |\n",
      "|              Self Improvement              |     1846    |\n",
      "|                  Podcasts                  |     1483    |\n",
      "|          Organizers & Assistants           |     1162    |\n",
      "|          Game Info & Accessories           |     1042    |\n",
      "|              Friends & Family              |     954     |\n",
      "|         Navigation & Trip Planners         |     794     |\n",
      "|                  Weather                   |     715     |\n",
      "|             Cooking & Recipes              |     646     |\n",
      "|               Communication                |     551     |\n",
      "|              Alarms & Clocks               |     493     |\n",
      "|                Accessories                 |     486     |\n",
      "| Music Info, Reviews & Recognition Services |     457     |\n",
      "|           Calendars & Reminders            |     416     |\n",
      "|                  Shopping                  |     390     |\n",
      "|               Pets & Animals               |     346     |\n",
      "|               Home Services                |     325     |\n",
      "|               Event Finders                |     319     |\n",
      "|     Restaurant Booking, Info & Reviews     |     314     |\n",
      "|             Exercise & Workout             |     309     |\n",
      "|              Wine & Beverages              |     289     |\n",
      "|           Public Transportation            |     275     |\n",
      "|            Movie Info & Reviews            |     270     |\n",
      "|               Music & Audio                |     230     |\n",
      "|              Fashion & Style               |     230     |\n",
      "|            To-Do Lists & Notes             |     194     |\n",
      "|                  Schools                   |     171     |\n",
      "|                Calculators                 |     167     |\n",
      "|                 Astrology                  |     154     |\n",
      "|             Social Networking              |     149     |\n",
      "|               Score Keeping                |     137     |\n",
      "|               Connected Car                |     132     |\n",
      "|                   Dating                   |      92     |\n",
      "|             Delivery & Takeout             |      91     |\n",
      "|                 TV Guides                  |      79     |\n",
      "|              Unit Converters               |      54     |\n",
      "|              Device Tracking               |      52     |\n",
      "|               Flight Finders               |      39     |\n",
      "|              Movie Showtimes               |      29     |\n",
      "|        Currency Guides & Converters        |      28     |\n",
      "|                 Utilities                  |      28     |\n",
      "|                    Kids                    |      26     |\n",
      "|             Taxi & Ridesharing             |      23     |\n",
      "|               Hotel Finders                |      23     |\n",
      "|                  Stories                   |      22     |\n",
      "|                   Sports                   |      20     |\n",
      "|                Translators                 |      17     |\n",
      "|              Zip Code Lookup               |      16     |\n",
      "|                Food & Drink                |      16     |\n",
      "|                  Holidays                  |      11     |\n",
      "|                   Local                    |      10     |\n",
      "|          Travel & Transportation           |      6      |\n",
      "|                Productivity                |      6      |\n",
      "|                   Social                   |      3      |\n",
      "|                Movies & TV                 |      3      |\n",
      "|             Health & Wellness              |      2      |\n",
      "|               Games & Trivia               |      1      |\n",
      "+--------------------------------------------+-------------+\n"
     ]
    }
   ],
   "source": [
    "print_table(ordered_categories)\n",
    "print_table(ordered_sub_categories)"
   ]
  },
  {
   "cell_type": "code",
   "execution_count": 92,
   "id": "4e058bd1",
   "metadata": {},
   "outputs": [],
   "source": [
    "# for skill in ungrouped_skills:\n",
    "#     print(ungrouped_skills[skill])\n",
    "#     break\n",
    "    \n",
    "#     ID, NAME (' ', ',', replace with '-'), PERM (1/0), skill_link"
   ]
  },
  {
   "cell_type": "code",
   "execution_count": 13,
   "id": "90d39b88",
   "metadata": {},
   "outputs": [
    {
     "name": "stdout",
     "output_type": "stream",
     "text": [
      "Novelty-Humor\n"
     ]
    }
   ],
   "source": [
    "for key in grouped_skills:\n",
    "    print(key)\n",
    "    break"
   ]
  },
  {
   "cell_type": "code",
   "execution_count": 61,
   "id": "d365b1b1",
   "metadata": {},
   "outputs": [
    {
     "name": "stdout",
     "output_type": "stream",
     "text": [
      "The SpongeBob Challenge\n",
      "Poop Poems\n",
      "Amazon: Call Santa\n",
      "Animal Sounds\n",
      "The Name Game (banana-fana)\n",
      "Santa Claus Poops\n",
      "Scooby Doo! Mystery Inc. Theater\n",
      "KidsBrushYourTeethSong\n",
      "Baby-Shark Sing and Dance\n",
      "Math Facts - Math Practice for Kids\n",
      "Amazon Storytime\n",
      "Choose Your Own Adventure\n",
      "Santa Claus\n",
      "Bedtime stories\n",
      "Math Facts\n",
      "Short Bedtime Stories\n",
      "Kids Court\n",
      "Animal Rescue\n",
      "Wheels On The Bus\n",
      "My Kids Are Animals!\n",
      "Unicorns Rock\n",
      "NORAD Tracks Santa\n",
      "Amazon Math\n",
      "Amazon: Call Easter Bunny\n",
      "Disney Trivia\n",
      "Alphabet Song\n",
      "Santa Tracker\n",
      "Dog Translator\n",
      "Bruh Sound Effect #2\n",
      "Disney Stories\n",
      "The Story of Lucky Charms\n",
      "Kids Animal Sounds\n",
      "Zoo Walk\n",
      "Chompers\n",
      "Old MacDonald\n",
      "Baby Dragon\n",
      "Animal Game for Kids - Play and Learn\n",
      "Pinkfong Baby Shark\n",
      "ABC\n",
      "You Choose Batman Adventures\n",
      "Kids Sing Along\n",
      "Multiplication Dojo\n",
      "Bedtime Prayers\n",
      "Nursery Rhymes\n",
      "Tale of Peter Rabbit\n",
      "Music Bop Adventures\n",
      "Star Wars: Choose Your Destiny\n",
      "Story Time\n",
      "Bamboo Math\n",
      "Let's Count\n",
      "Dear Santa\n"
     ]
    }
   ],
   "source": [
    "count = 0\n",
    "key = 'Kids'\n",
    "for skill in grouped_skills[key]:\n",
    "    print(grouped_skills[key][skill]['Name'])\n",
    "    count += 1\n",
    "    if count > 50:\n",
    "        break\n",
    "#     break\n",
    "    "
   ]
  },
  {
   "cell_type": "code",
   "execution_count": null,
   "id": "bdd536a2",
   "metadata": {},
   "outputs": [],
   "source": []
  }
 ],
 "metadata": {
  "kernelspec": {
   "display_name": "Python 3 (ipykernel)",
   "language": "python",
   "name": "python3"
  },
  "language_info": {
   "codemirror_mode": {
    "name": "ipython",
    "version": 3
   },
   "file_extension": ".py",
   "mimetype": "text/x-python",
   "name": "python",
   "nbconvert_exporter": "python",
   "pygments_lexer": "ipython3",
   "version": "3.9.7"
  }
 },
 "nbformat": 4,
 "nbformat_minor": 5
}
